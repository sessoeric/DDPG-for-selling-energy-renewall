{
  "cells": [
    {
      "cell_type": "markdown",
      "metadata": {
        "id": "tCjHIT11ALn1"
      },
      "source": [
        "# **Course: Data Science for Decision Support**\n",
        "**Assignment 2** (Submission deadline 21.06.2022, 16:00), \n",
        "\n",
        "**Executor:** Eric Dietriche, Sesso Domtchoueng: 504999.\n",
        "\n",
        "---\n",
        "Your individual data for assignment 2:\n",
        "\n",
        "| Last digit of Matr.Nr. | Task1, Q3 | Task 3 Q2a | Task 3 Q2b    | Task 3 Q2c    | Task 3 Q3bc |Task 4 Q2|\n",
        "| ----------- | ----------- | ----------- | ----------- | ----------- | ----------- | ----------- |\n",
        "| 9      |90:10        |RadioButton      | MultipleSelect  | Dropbox    | Page 3 –Hyperparameters Page 2 - forecasts     |  MSE      |\n",
        "\n",
        "\n",
        "\n",
        "\n",
        "\n"
      ]
    },
    {
      "cell_type": "markdown",
      "metadata": {
        "id": "-7gSS1NBA3Hz"
      },
      "source": [
        "# Problem: **Regression** (Total score 50) "
      ]
    },
    {
      "cell_type": "markdown",
      "metadata": {
        "id": "R2y3CQGlBbDF"
      },
      "source": [
        "# **`Task 1 “Data Analysis” (10 Scores)`**"
      ]
    },
    {
      "cell_type": "markdown",
      "metadata": {
        "id": "gHgKrVp0Be12"
      },
      "source": [
        "1)\tRead the data from your individual variant into Python notebook"
      ]
    },
    {
      "cell_type": "code",
      "execution_count": 1,
      "metadata": {
        "id": "MQzN3X-qAK04",
        "colab": {
          "resources": {
            "http://localhost:8080/nbextensions/google.colab/files.js": {
              "data": "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",
              "ok": true,
              "headers": [
                [
                  "content-type",
                  "application/javascript"
                ]
              ],
              "status": 200,
              "status_text": ""
            }
          },
          "base_uri": "https://localhost:8080/",
          "height": 73
        },
        "outputId": "3279d71d-759f-46b1-f19b-8f597c296e67"
      },
      "outputs": [
        {
          "output_type": "display_data",
          "data": {
            "text/plain": [
              "<IPython.core.display.HTML object>"
            ],
            "text/html": [
              "\n",
              "     <input type=\"file\" id=\"files-d6073047-6b6c-42d2-ac54-1eb3052e5de4\" name=\"files[]\" multiple disabled\n",
              "        style=\"border:none\" />\n",
              "     <output id=\"result-d6073047-6b6c-42d2-ac54-1eb3052e5de4\">\n",
              "      Upload widget is only available when the cell has been executed in the\n",
              "      current browser session. Please rerun this cell to enable.\n",
              "      </output>\n",
              "      <script src=\"/nbextensions/google.colab/files.js\"></script> "
            ]
          },
          "metadata": {}
        },
        {
          "output_type": "stream",
          "name": "stdout",
          "text": [
            "Saving HousingData.csv to HousingData.csv\n"
          ]
        }
      ],
      "source": [
        "\n",
        "from google.colab import files\n",
        "uploaded = files.upload()\n"
      ]
    },
    {
      "cell_type": "code",
      "execution_count": 2,
      "metadata": {
        "id": "97IkbkkUD6py"
      },
      "outputs": [],
      "source": [
        "#add more cell if needed to each code cell\n",
        "import pandas as pd\n",
        "df = pd.read_csv(\"HousingData.csv\")"
      ]
    },
    {
      "cell_type": "markdown",
      "metadata": {
        "id": "2nVs-nLPCv-J"
      },
      "source": [
        "2) Copy all necessary pre-processing steps from assignment 1.2. Scale your whole dataset.  Scale your whole dataset. with Standard Scaler. "
      ]
    },
    {
      "cell_type": "code",
      "source": [
        "df.describe(include=\"all\")"
      ],
      "metadata": {
        "colab": {
          "base_uri": "https://localhost:8080/",
          "height": 364
        },
        "id": "2giTp3Z4Zjx9",
        "outputId": "d68798e5-fd28-4d25-d1bc-f701d924645a"
      },
      "execution_count": 6,
      "outputs": [
        {
          "output_type": "execute_result",
          "data": {
            "text/plain": [
              "             CRIM          ZN       INDUS        CHAS         NOX          RM  \\\n",
              "count  506.000000  506.000000  506.000000  506.000000  506.000000  506.000000   \n",
              "mean     3.611874   11.211934   11.083992    0.069959    0.554695    6.284634   \n",
              "std      8.545770   22.921051    6.699165    0.250233    0.115878    0.702617   \n",
              "min      0.006320    0.000000    0.460000    0.000000    0.385000    3.561000   \n",
              "25%      0.083235    0.000000    5.190000    0.000000    0.449000    5.885500   \n",
              "50%      0.290250    0.000000    9.900000    0.000000    0.538000    6.208500   \n",
              "75%      3.611874   11.211934   18.100000    0.000000    0.624000    6.623500   \n",
              "max     88.976200  100.000000   27.740000    1.000000    0.871000    8.780000   \n",
              "\n",
              "              AGE         DIS         RAD         TAX     PTRATIO           B  \\\n",
              "count  506.000000  506.000000  506.000000  506.000000  506.000000  506.000000   \n",
              "mean    68.518519    3.795043    9.549407  408.237154   18.455534  356.674032   \n",
              "std     27.439466    2.105710    8.707259  168.537116    2.164946   91.294864   \n",
              "min      2.900000    1.129600    1.000000  187.000000   12.600000    0.320000   \n",
              "25%     45.925000    2.100175    4.000000  279.000000   17.400000  375.377500   \n",
              "50%     74.450000    3.207450    5.000000  330.000000   19.050000  391.440000   \n",
              "75%     93.575000    5.188425   24.000000  666.000000   20.200000  396.225000   \n",
              "max    100.000000   12.126500   24.000000  711.000000   22.000000  396.900000   \n",
              "\n",
              "            LSTAT        MEDV  \n",
              "count  506.000000  506.000000  \n",
              "mean    12.715432   22.532806  \n",
              "std      7.012739    9.197104  \n",
              "min      1.730000    5.000000  \n",
              "25%      7.230000   17.025000  \n",
              "50%     11.995000   21.200000  \n",
              "75%     16.570000   25.000000  \n",
              "max     37.970000   50.000000  "
            ],
            "text/html": [
              "\n",
              "  <div id=\"df-ff04df12-6b48-46b7-b4e4-25afd64f1fc9\">\n",
              "    <div class=\"colab-df-container\">\n",
              "      <div>\n",
              "<style scoped>\n",
              "    .dataframe tbody tr th:only-of-type {\n",
              "        vertical-align: middle;\n",
              "    }\n",
              "\n",
              "    .dataframe tbody tr th {\n",
              "        vertical-align: top;\n",
              "    }\n",
              "\n",
              "    .dataframe thead th {\n",
              "        text-align: right;\n",
              "    }\n",
              "</style>\n",
              "<table border=\"1\" class=\"dataframe\">\n",
              "  <thead>\n",
              "    <tr style=\"text-align: right;\">\n",
              "      <th></th>\n",
              "      <th>CRIM</th>\n",
              "      <th>ZN</th>\n",
              "      <th>INDUS</th>\n",
              "      <th>CHAS</th>\n",
              "      <th>NOX</th>\n",
              "      <th>RM</th>\n",
              "      <th>AGE</th>\n",
              "      <th>DIS</th>\n",
              "      <th>RAD</th>\n",
              "      <th>TAX</th>\n",
              "      <th>PTRATIO</th>\n",
              "      <th>B</th>\n",
              "      <th>LSTAT</th>\n",
              "      <th>MEDV</th>\n",
              "    </tr>\n",
              "  </thead>\n",
              "  <tbody>\n",
              "    <tr>\n",
              "      <th>count</th>\n",
              "      <td>506.000000</td>\n",
              "      <td>506.000000</td>\n",
              "      <td>506.000000</td>\n",
              "      <td>506.000000</td>\n",
              "      <td>506.000000</td>\n",
              "      <td>506.000000</td>\n",
              "      <td>506.000000</td>\n",
              "      <td>506.000000</td>\n",
              "      <td>506.000000</td>\n",
              "      <td>506.000000</td>\n",
              "      <td>506.000000</td>\n",
              "      <td>506.000000</td>\n",
              "      <td>506.000000</td>\n",
              "      <td>506.000000</td>\n",
              "    </tr>\n",
              "    <tr>\n",
              "      <th>mean</th>\n",
              "      <td>3.611874</td>\n",
              "      <td>11.211934</td>\n",
              "      <td>11.083992</td>\n",
              "      <td>0.069959</td>\n",
              "      <td>0.554695</td>\n",
              "      <td>6.284634</td>\n",
              "      <td>68.518519</td>\n",
              "      <td>3.795043</td>\n",
              "      <td>9.549407</td>\n",
              "      <td>408.237154</td>\n",
              "      <td>18.455534</td>\n",
              "      <td>356.674032</td>\n",
              "      <td>12.715432</td>\n",
              "      <td>22.532806</td>\n",
              "    </tr>\n",
              "    <tr>\n",
              "      <th>std</th>\n",
              "      <td>8.545770</td>\n",
              "      <td>22.921051</td>\n",
              "      <td>6.699165</td>\n",
              "      <td>0.250233</td>\n",
              "      <td>0.115878</td>\n",
              "      <td>0.702617</td>\n",
              "      <td>27.439466</td>\n",
              "      <td>2.105710</td>\n",
              "      <td>8.707259</td>\n",
              "      <td>168.537116</td>\n",
              "      <td>2.164946</td>\n",
              "      <td>91.294864</td>\n",
              "      <td>7.012739</td>\n",
              "      <td>9.197104</td>\n",
              "    </tr>\n",
              "    <tr>\n",
              "      <th>min</th>\n",
              "      <td>0.006320</td>\n",
              "      <td>0.000000</td>\n",
              "      <td>0.460000</td>\n",
              "      <td>0.000000</td>\n",
              "      <td>0.385000</td>\n",
              "      <td>3.561000</td>\n",
              "      <td>2.900000</td>\n",
              "      <td>1.129600</td>\n",
              "      <td>1.000000</td>\n",
              "      <td>187.000000</td>\n",
              "      <td>12.600000</td>\n",
              "      <td>0.320000</td>\n",
              "      <td>1.730000</td>\n",
              "      <td>5.000000</td>\n",
              "    </tr>\n",
              "    <tr>\n",
              "      <th>25%</th>\n",
              "      <td>0.083235</td>\n",
              "      <td>0.000000</td>\n",
              "      <td>5.190000</td>\n",
              "      <td>0.000000</td>\n",
              "      <td>0.449000</td>\n",
              "      <td>5.885500</td>\n",
              "      <td>45.925000</td>\n",
              "      <td>2.100175</td>\n",
              "      <td>4.000000</td>\n",
              "      <td>279.000000</td>\n",
              "      <td>17.400000</td>\n",
              "      <td>375.377500</td>\n",
              "      <td>7.230000</td>\n",
              "      <td>17.025000</td>\n",
              "    </tr>\n",
              "    <tr>\n",
              "      <th>50%</th>\n",
              "      <td>0.290250</td>\n",
              "      <td>0.000000</td>\n",
              "      <td>9.900000</td>\n",
              "      <td>0.000000</td>\n",
              "      <td>0.538000</td>\n",
              "      <td>6.208500</td>\n",
              "      <td>74.450000</td>\n",
              "      <td>3.207450</td>\n",
              "      <td>5.000000</td>\n",
              "      <td>330.000000</td>\n",
              "      <td>19.050000</td>\n",
              "      <td>391.440000</td>\n",
              "      <td>11.995000</td>\n",
              "      <td>21.200000</td>\n",
              "    </tr>\n",
              "    <tr>\n",
              "      <th>75%</th>\n",
              "      <td>3.611874</td>\n",
              "      <td>11.211934</td>\n",
              "      <td>18.100000</td>\n",
              "      <td>0.000000</td>\n",
              "      <td>0.624000</td>\n",
              "      <td>6.623500</td>\n",
              "      <td>93.575000</td>\n",
              "      <td>5.188425</td>\n",
              "      <td>24.000000</td>\n",
              "      <td>666.000000</td>\n",
              "      <td>20.200000</td>\n",
              "      <td>396.225000</td>\n",
              "      <td>16.570000</td>\n",
              "      <td>25.000000</td>\n",
              "    </tr>\n",
              "    <tr>\n",
              "      <th>max</th>\n",
              "      <td>88.976200</td>\n",
              "      <td>100.000000</td>\n",
              "      <td>27.740000</td>\n",
              "      <td>1.000000</td>\n",
              "      <td>0.871000</td>\n",
              "      <td>8.780000</td>\n",
              "      <td>100.000000</td>\n",
              "      <td>12.126500</td>\n",
              "      <td>24.000000</td>\n",
              "      <td>711.000000</td>\n",
              "      <td>22.000000</td>\n",
              "      <td>396.900000</td>\n",
              "      <td>37.970000</td>\n",
              "      <td>50.000000</td>\n",
              "    </tr>\n",
              "  </tbody>\n",
              "</table>\n",
              "</div>\n",
              "      <button class=\"colab-df-convert\" onclick=\"convertToInteractive('df-ff04df12-6b48-46b7-b4e4-25afd64f1fc9')\"\n",
              "              title=\"Convert this dataframe to an interactive table.\"\n",
              "              style=\"display:none;\">\n",
              "        \n",
              "  <svg xmlns=\"http://www.w3.org/2000/svg\" height=\"24px\"viewBox=\"0 0 24 24\"\n",
              "       width=\"24px\">\n",
              "    <path d=\"M0 0h24v24H0V0z\" fill=\"none\"/>\n",
              "    <path d=\"M18.56 5.44l.94 2.06.94-2.06 2.06-.94-2.06-.94-.94-2.06-.94 2.06-2.06.94zm-11 1L8.5 8.5l.94-2.06 2.06-.94-2.06-.94L8.5 2.5l-.94 2.06-2.06.94zm10 10l.94 2.06.94-2.06 2.06-.94-2.06-.94-.94-2.06-.94 2.06-2.06.94z\"/><path d=\"M17.41 7.96l-1.37-1.37c-.4-.4-.92-.59-1.43-.59-.52 0-1.04.2-1.43.59L10.3 9.45l-7.72 7.72c-.78.78-.78 2.05 0 2.83L4 21.41c.39.39.9.59 1.41.59.51 0 1.02-.2 1.41-.59l7.78-7.78 2.81-2.81c.8-.78.8-2.07 0-2.86zM5.41 20L4 18.59l7.72-7.72 1.47 1.35L5.41 20z\"/>\n",
              "  </svg>\n",
              "      </button>\n",
              "      \n",
              "  <style>\n",
              "    .colab-df-container {\n",
              "      display:flex;\n",
              "      flex-wrap:wrap;\n",
              "      gap: 12px;\n",
              "    }\n",
              "\n",
              "    .colab-df-convert {\n",
              "      background-color: #E8F0FE;\n",
              "      border: none;\n",
              "      border-radius: 50%;\n",
              "      cursor: pointer;\n",
              "      display: none;\n",
              "      fill: #1967D2;\n",
              "      height: 32px;\n",
              "      padding: 0 0 0 0;\n",
              "      width: 32px;\n",
              "    }\n",
              "\n",
              "    .colab-df-convert:hover {\n",
              "      background-color: #E2EBFA;\n",
              "      box-shadow: 0px 1px 2px rgba(60, 64, 67, 0.3), 0px 1px 3px 1px rgba(60, 64, 67, 0.15);\n",
              "      fill: #174EA6;\n",
              "    }\n",
              "\n",
              "    [theme=dark] .colab-df-convert {\n",
              "      background-color: #3B4455;\n",
              "      fill: #D2E3FC;\n",
              "    }\n",
              "\n",
              "    [theme=dark] .colab-df-convert:hover {\n",
              "      background-color: #434B5C;\n",
              "      box-shadow: 0px 1px 3px 1px rgba(0, 0, 0, 0.15);\n",
              "      filter: drop-shadow(0px 1px 2px rgba(0, 0, 0, 0.3));\n",
              "      fill: #FFFFFF;\n",
              "    }\n",
              "  </style>\n",
              "\n",
              "      <script>\n",
              "        const buttonEl =\n",
              "          document.querySelector('#df-ff04df12-6b48-46b7-b4e4-25afd64f1fc9 button.colab-df-convert');\n",
              "        buttonEl.style.display =\n",
              "          google.colab.kernel.accessAllowed ? 'block' : 'none';\n",
              "\n",
              "        async function convertToInteractive(key) {\n",
              "          const element = document.querySelector('#df-ff04df12-6b48-46b7-b4e4-25afd64f1fc9');\n",
              "          const dataTable =\n",
              "            await google.colab.kernel.invokeFunction('convertToInteractive',\n",
              "                                                     [key], {});\n",
              "          if (!dataTable) return;\n",
              "\n",
              "          const docLinkHtml = 'Like what you see? Visit the ' +\n",
              "            '<a target=\"_blank\" href=https://colab.research.google.com/notebooks/data_table.ipynb>data table notebook</a>'\n",
              "            + ' to learn more about interactive tables.';\n",
              "          element.innerHTML = '';\n",
              "          dataTable['output_type'] = 'display_data';\n",
              "          await google.colab.output.renderOutput(dataTable, element);\n",
              "          const docLink = document.createElement('div');\n",
              "          docLink.innerHTML = docLinkHtml;\n",
              "          element.appendChild(docLink);\n",
              "        }\n",
              "      </script>\n",
              "    </div>\n",
              "  </div>\n",
              "  "
            ]
          },
          "metadata": {},
          "execution_count": 6
        }
      ]
    },
    {
      "cell_type": "code",
      "source": [
        "#use value_count() for count unique value in column\n",
        "count=0\n",
        "for column in df:\n",
        "        count +=  len(df[column].value_counts(dropna=False))\n",
        "print(\"number of Instance:\",count)\n",
        "print(\"number of variable:\",len(df.columns))"
      ],
      "metadata": {
        "colab": {
          "base_uri": "https://localhost:8080/"
        },
        "id": "rSN2z1PMZeY4",
        "outputId": "7dc03006-4403-4217-c5be-a0260ed68e69"
      },
      "execution_count": 5,
      "outputs": [
        {
          "output_type": "stream",
          "name": "stdout",
          "text": [
            "number of Instance: 3026\n",
            "number of variable: 14\n"
          ]
        }
      ]
    },
    {
      "cell_type": "code",
      "source": [
        "#Write your code here \n",
        "Y = df['MEDV']\n",
        "X = df.drop(['MEDV'],axis='columns')\n",
        "print('Shape of X:', X.shape)\n",
        "print('Shape of Y:', Y.shape)"
      ],
      "metadata": {
        "colab": {
          "base_uri": "https://localhost:8080/"
        },
        "id": "OknQbJajZW5h",
        "outputId": "801e9300-3934-40c9-e865-bcb06333ad80"
      },
      "execution_count": 4,
      "outputs": [
        {
          "output_type": "stream",
          "name": "stdout",
          "text": [
            "Shape of X: (506, 13)\n",
            "Shape of Y: (506,)\n"
          ]
        }
      ]
    },
    {
      "cell_type": "code",
      "execution_count": 7,
      "metadata": {
        "id": "arzsIeMJCScj",
        "colab": {
          "base_uri": "https://localhost:8080/",
          "height": 485
        },
        "outputId": "fb485eb2-312e-493f-f576-7dd67d44680d"
      },
      "outputs": [
        {
          "output_type": "stream",
          "name": "stdout",
          "text": [
            "There are no NAN values\n"
          ]
        },
        {
          "output_type": "execute_result",
          "data": {
            "text/plain": [
              "         CRIM        ZN     INDUS      CHAS       NOX        RM           AGE  \\\n",
              "0   -0.422328  0.296443 -1.311010 -0.279851 -0.144217  0.413672 -1.210593e-01   \n",
              "1   -0.419870 -0.489639 -0.599771 -0.279851 -0.740262  0.194274  3.787156e-01   \n",
              "2   -0.419872 -0.489639 -0.599771 -0.279851 -0.740262  1.282714 -2.706270e-01   \n",
              "3   -0.419277 -0.489639 -1.330435 -0.279851 -0.835284  1.016303 -8.287698e-01   \n",
              "4   -0.414981 -0.489639 -1.330435 -0.279851 -0.835284  1.228577 -5.223385e-01   \n",
              "..        ...       ...       ...       ...       ...       ...           ...   \n",
              "501 -0.415733 -0.489639  0.126411 -0.279851  0.158124  0.439316  2.121240e-02   \n",
              "502 -0.417766 -0.489639  0.126411 -0.279851  0.158124 -0.234548  2.984598e-01   \n",
              "503 -0.415952 -0.489639  0.126411 -0.279851  0.158124  0.984960  8.201227e-01   \n",
              "504 -0.410232 -0.489639  0.126411 -0.279851  0.158124  0.725672  7.581068e-01   \n",
              "505 -0.417515 -0.489639  0.126411 -0.279851  0.158124 -0.362767  5.184109e-16   \n",
              "\n",
              "          DIS       RAD       TAX   PTRATIO         B     LSTAT      MEDV  \n",
              "0    0.140214 -0.982843 -0.666608 -1.459000  0.441052 -1.104146  0.159686  \n",
              "1    0.557160 -0.867883 -0.987329 -0.303094  0.441052 -0.510353 -0.101524  \n",
              "2    0.557160 -0.867883 -0.987329 -0.303094  0.396427 -1.239748  1.324247  \n",
              "3    1.077737 -0.752922 -1.106115  0.113032  0.416163 -1.395333  1.182758  \n",
              "4    1.077737 -0.752922 -1.106115  0.113032  0.441052  0.000000  1.487503  \n",
              "..        ...       ...       ...       ...       ...       ...       ...  \n",
              "501 -0.625796 -0.982843 -0.803212  1.176466  0.387217  0.000000 -0.014454  \n",
              "502 -0.716639 -0.982843 -0.803212  1.176466  0.441052 -0.518917 -0.210362  \n",
              "503 -0.773684 -0.982843 -0.803212  1.176466  0.441052 -1.009938  0.148802  \n",
              "504 -0.668437 -0.982843 -0.803212  1.176466  0.403225 -0.890038 -0.057989  \n",
              "505 -0.613246 -0.982843 -0.803212  1.176466  0.441052 -0.690204 -1.157248  \n",
              "\n",
              "[506 rows x 14 columns]"
            ],
            "text/html": [
              "\n",
              "  <div id=\"df-b07a6241-0534-476b-b49c-17d0db051a4e\">\n",
              "    <div class=\"colab-df-container\">\n",
              "      <div>\n",
              "<style scoped>\n",
              "    .dataframe tbody tr th:only-of-type {\n",
              "        vertical-align: middle;\n",
              "    }\n",
              "\n",
              "    .dataframe tbody tr th {\n",
              "        vertical-align: top;\n",
              "    }\n",
              "\n",
              "    .dataframe thead th {\n",
              "        text-align: right;\n",
              "    }\n",
              "</style>\n",
              "<table border=\"1\" class=\"dataframe\">\n",
              "  <thead>\n",
              "    <tr style=\"text-align: right;\">\n",
              "      <th></th>\n",
              "      <th>CRIM</th>\n",
              "      <th>ZN</th>\n",
              "      <th>INDUS</th>\n",
              "      <th>CHAS</th>\n",
              "      <th>NOX</th>\n",
              "      <th>RM</th>\n",
              "      <th>AGE</th>\n",
              "      <th>DIS</th>\n",
              "      <th>RAD</th>\n",
              "      <th>TAX</th>\n",
              "      <th>PTRATIO</th>\n",
              "      <th>B</th>\n",
              "      <th>LSTAT</th>\n",
              "      <th>MEDV</th>\n",
              "    </tr>\n",
              "  </thead>\n",
              "  <tbody>\n",
              "    <tr>\n",
              "      <th>0</th>\n",
              "      <td>-0.422328</td>\n",
              "      <td>0.296443</td>\n",
              "      <td>-1.311010</td>\n",
              "      <td>-0.279851</td>\n",
              "      <td>-0.144217</td>\n",
              "      <td>0.413672</td>\n",
              "      <td>-1.210593e-01</td>\n",
              "      <td>0.140214</td>\n",
              "      <td>-0.982843</td>\n",
              "      <td>-0.666608</td>\n",
              "      <td>-1.459000</td>\n",
              "      <td>0.441052</td>\n",
              "      <td>-1.104146</td>\n",
              "      <td>0.159686</td>\n",
              "    </tr>\n",
              "    <tr>\n",
              "      <th>1</th>\n",
              "      <td>-0.419870</td>\n",
              "      <td>-0.489639</td>\n",
              "      <td>-0.599771</td>\n",
              "      <td>-0.279851</td>\n",
              "      <td>-0.740262</td>\n",
              "      <td>0.194274</td>\n",
              "      <td>3.787156e-01</td>\n",
              "      <td>0.557160</td>\n",
              "      <td>-0.867883</td>\n",
              "      <td>-0.987329</td>\n",
              "      <td>-0.303094</td>\n",
              "      <td>0.441052</td>\n",
              "      <td>-0.510353</td>\n",
              "      <td>-0.101524</td>\n",
              "    </tr>\n",
              "    <tr>\n",
              "      <th>2</th>\n",
              "      <td>-0.419872</td>\n",
              "      <td>-0.489639</td>\n",
              "      <td>-0.599771</td>\n",
              "      <td>-0.279851</td>\n",
              "      <td>-0.740262</td>\n",
              "      <td>1.282714</td>\n",
              "      <td>-2.706270e-01</td>\n",
              "      <td>0.557160</td>\n",
              "      <td>-0.867883</td>\n",
              "      <td>-0.987329</td>\n",
              "      <td>-0.303094</td>\n",
              "      <td>0.396427</td>\n",
              "      <td>-1.239748</td>\n",
              "      <td>1.324247</td>\n",
              "    </tr>\n",
              "    <tr>\n",
              "      <th>3</th>\n",
              "      <td>-0.419277</td>\n",
              "      <td>-0.489639</td>\n",
              "      <td>-1.330435</td>\n",
              "      <td>-0.279851</td>\n",
              "      <td>-0.835284</td>\n",
              "      <td>1.016303</td>\n",
              "      <td>-8.287698e-01</td>\n",
              "      <td>1.077737</td>\n",
              "      <td>-0.752922</td>\n",
              "      <td>-1.106115</td>\n",
              "      <td>0.113032</td>\n",
              "      <td>0.416163</td>\n",
              "      <td>-1.395333</td>\n",
              "      <td>1.182758</td>\n",
              "    </tr>\n",
              "    <tr>\n",
              "      <th>4</th>\n",
              "      <td>-0.414981</td>\n",
              "      <td>-0.489639</td>\n",
              "      <td>-1.330435</td>\n",
              "      <td>-0.279851</td>\n",
              "      <td>-0.835284</td>\n",
              "      <td>1.228577</td>\n",
              "      <td>-5.223385e-01</td>\n",
              "      <td>1.077737</td>\n",
              "      <td>-0.752922</td>\n",
              "      <td>-1.106115</td>\n",
              "      <td>0.113032</td>\n",
              "      <td>0.441052</td>\n",
              "      <td>0.000000</td>\n",
              "      <td>1.487503</td>\n",
              "    </tr>\n",
              "    <tr>\n",
              "      <th>...</th>\n",
              "      <td>...</td>\n",
              "      <td>...</td>\n",
              "      <td>...</td>\n",
              "      <td>...</td>\n",
              "      <td>...</td>\n",
              "      <td>...</td>\n",
              "      <td>...</td>\n",
              "      <td>...</td>\n",
              "      <td>...</td>\n",
              "      <td>...</td>\n",
              "      <td>...</td>\n",
              "      <td>...</td>\n",
              "      <td>...</td>\n",
              "      <td>...</td>\n",
              "    </tr>\n",
              "    <tr>\n",
              "      <th>501</th>\n",
              "      <td>-0.415733</td>\n",
              "      <td>-0.489639</td>\n",
              "      <td>0.126411</td>\n",
              "      <td>-0.279851</td>\n",
              "      <td>0.158124</td>\n",
              "      <td>0.439316</td>\n",
              "      <td>2.121240e-02</td>\n",
              "      <td>-0.625796</td>\n",
              "      <td>-0.982843</td>\n",
              "      <td>-0.803212</td>\n",
              "      <td>1.176466</td>\n",
              "      <td>0.387217</td>\n",
              "      <td>0.000000</td>\n",
              "      <td>-0.014454</td>\n",
              "    </tr>\n",
              "    <tr>\n",
              "      <th>502</th>\n",
              "      <td>-0.417766</td>\n",
              "      <td>-0.489639</td>\n",
              "      <td>0.126411</td>\n",
              "      <td>-0.279851</td>\n",
              "      <td>0.158124</td>\n",
              "      <td>-0.234548</td>\n",
              "      <td>2.984598e-01</td>\n",
              "      <td>-0.716639</td>\n",
              "      <td>-0.982843</td>\n",
              "      <td>-0.803212</td>\n",
              "      <td>1.176466</td>\n",
              "      <td>0.441052</td>\n",
              "      <td>-0.518917</td>\n",
              "      <td>-0.210362</td>\n",
              "    </tr>\n",
              "    <tr>\n",
              "      <th>503</th>\n",
              "      <td>-0.415952</td>\n",
              "      <td>-0.489639</td>\n",
              "      <td>0.126411</td>\n",
              "      <td>-0.279851</td>\n",
              "      <td>0.158124</td>\n",
              "      <td>0.984960</td>\n",
              "      <td>8.201227e-01</td>\n",
              "      <td>-0.773684</td>\n",
              "      <td>-0.982843</td>\n",
              "      <td>-0.803212</td>\n",
              "      <td>1.176466</td>\n",
              "      <td>0.441052</td>\n",
              "      <td>-1.009938</td>\n",
              "      <td>0.148802</td>\n",
              "    </tr>\n",
              "    <tr>\n",
              "      <th>504</th>\n",
              "      <td>-0.410232</td>\n",
              "      <td>-0.489639</td>\n",
              "      <td>0.126411</td>\n",
              "      <td>-0.279851</td>\n",
              "      <td>0.158124</td>\n",
              "      <td>0.725672</td>\n",
              "      <td>7.581068e-01</td>\n",
              "      <td>-0.668437</td>\n",
              "      <td>-0.982843</td>\n",
              "      <td>-0.803212</td>\n",
              "      <td>1.176466</td>\n",
              "      <td>0.403225</td>\n",
              "      <td>-0.890038</td>\n",
              "      <td>-0.057989</td>\n",
              "    </tr>\n",
              "    <tr>\n",
              "      <th>505</th>\n",
              "      <td>-0.417515</td>\n",
              "      <td>-0.489639</td>\n",
              "      <td>0.126411</td>\n",
              "      <td>-0.279851</td>\n",
              "      <td>0.158124</td>\n",
              "      <td>-0.362767</td>\n",
              "      <td>5.184109e-16</td>\n",
              "      <td>-0.613246</td>\n",
              "      <td>-0.982843</td>\n",
              "      <td>-0.803212</td>\n",
              "      <td>1.176466</td>\n",
              "      <td>0.441052</td>\n",
              "      <td>-0.690204</td>\n",
              "      <td>-1.157248</td>\n",
              "    </tr>\n",
              "  </tbody>\n",
              "</table>\n",
              "<p>506 rows × 14 columns</p>\n",
              "</div>\n",
              "      <button class=\"colab-df-convert\" onclick=\"convertToInteractive('df-b07a6241-0534-476b-b49c-17d0db051a4e')\"\n",
              "              title=\"Convert this dataframe to an interactive table.\"\n",
              "              style=\"display:none;\">\n",
              "        \n",
              "  <svg xmlns=\"http://www.w3.org/2000/svg\" height=\"24px\"viewBox=\"0 0 24 24\"\n",
              "       width=\"24px\">\n",
              "    <path d=\"M0 0h24v24H0V0z\" fill=\"none\"/>\n",
              "    <path d=\"M18.56 5.44l.94 2.06.94-2.06 2.06-.94-2.06-.94-.94-2.06-.94 2.06-2.06.94zm-11 1L8.5 8.5l.94-2.06 2.06-.94-2.06-.94L8.5 2.5l-.94 2.06-2.06.94zm10 10l.94 2.06.94-2.06 2.06-.94-2.06-.94-.94-2.06-.94 2.06-2.06.94z\"/><path d=\"M17.41 7.96l-1.37-1.37c-.4-.4-.92-.59-1.43-.59-.52 0-1.04.2-1.43.59L10.3 9.45l-7.72 7.72c-.78.78-.78 2.05 0 2.83L4 21.41c.39.39.9.59 1.41.59.51 0 1.02-.2 1.41-.59l7.78-7.78 2.81-2.81c.8-.78.8-2.07 0-2.86zM5.41 20L4 18.59l7.72-7.72 1.47 1.35L5.41 20z\"/>\n",
              "  </svg>\n",
              "      </button>\n",
              "      \n",
              "  <style>\n",
              "    .colab-df-container {\n",
              "      display:flex;\n",
              "      flex-wrap:wrap;\n",
              "      gap: 12px;\n",
              "    }\n",
              "\n",
              "    .colab-df-convert {\n",
              "      background-color: #E8F0FE;\n",
              "      border: none;\n",
              "      border-radius: 50%;\n",
              "      cursor: pointer;\n",
              "      display: none;\n",
              "      fill: #1967D2;\n",
              "      height: 32px;\n",
              "      padding: 0 0 0 0;\n",
              "      width: 32px;\n",
              "    }\n",
              "\n",
              "    .colab-df-convert:hover {\n",
              "      background-color: #E2EBFA;\n",
              "      box-shadow: 0px 1px 2px rgba(60, 64, 67, 0.3), 0px 1px 3px 1px rgba(60, 64, 67, 0.15);\n",
              "      fill: #174EA6;\n",
              "    }\n",
              "\n",
              "    [theme=dark] .colab-df-convert {\n",
              "      background-color: #3B4455;\n",
              "      fill: #D2E3FC;\n",
              "    }\n",
              "\n",
              "    [theme=dark] .colab-df-convert:hover {\n",
              "      background-color: #434B5C;\n",
              "      box-shadow: 0px 1px 3px 1px rgba(0, 0, 0, 0.15);\n",
              "      filter: drop-shadow(0px 1px 2px rgba(0, 0, 0, 0.3));\n",
              "      fill: #FFFFFF;\n",
              "    }\n",
              "  </style>\n",
              "\n",
              "      <script>\n",
              "        const buttonEl =\n",
              "          document.querySelector('#df-b07a6241-0534-476b-b49c-17d0db051a4e button.colab-df-convert');\n",
              "        buttonEl.style.display =\n",
              "          google.colab.kernel.accessAllowed ? 'block' : 'none';\n",
              "\n",
              "        async function convertToInteractive(key) {\n",
              "          const element = document.querySelector('#df-b07a6241-0534-476b-b49c-17d0db051a4e');\n",
              "          const dataTable =\n",
              "            await google.colab.kernel.invokeFunction('convertToInteractive',\n",
              "                                                     [key], {});\n",
              "          if (!dataTable) return;\n",
              "\n",
              "          const docLinkHtml = 'Like what you see? Visit the ' +\n",
              "            '<a target=\"_blank\" href=https://colab.research.google.com/notebooks/data_table.ipynb>data table notebook</a>'\n",
              "            + ' to learn more about interactive tables.';\n",
              "          element.innerHTML = '';\n",
              "          dataTable['output_type'] = 'display_data';\n",
              "          await google.colab.output.renderOutput(dataTable, element);\n",
              "          const docLink = document.createElement('div');\n",
              "          docLink.innerHTML = docLinkHtml;\n",
              "          element.appendChild(docLink);\n",
              "        }\n",
              "      </script>\n",
              "    </div>\n",
              "  </div>\n",
              "  "
            ]
          },
          "metadata": {},
          "execution_count": 7
        }
      ],
      "source": [
        "#Write your code here \n",
        "#fill Nan Values with the mean values , if at least one value is nan-value. \n",
        "if (not (df.isnull().values.any())):\n",
        "      print(\"There are no NAN values\")\n",
        "else:\n",
        "  for column in df:\n",
        "    if df[column].isnull().values.any(): \n",
        "              df[column] = df[column].fillna(df[column].mean())\n",
        " #Write your code here. \n",
        "from sklearn.preprocessing import StandardScaler\n",
        "standard_scaler = pd.DataFrame(\n",
        "    StandardScaler().fit_transform(df),\n",
        "    columns = df.columns)\n",
        "\n",
        "Y = standard_scaler['MEDV']\n",
        "X = standard_scaler.drop(['MEDV'],axis='columns')\n",
        "standard_scaler"
      ]
    },
    {
      "cell_type": "markdown",
      "metadata": {
        "id": "-ovknY38CjX7"
      },
      "source": [
        "3) Divide your dataset into 2 parts: training set and test set **(take the propostion from individual variant)**. Output the dimension of the resulting datasets.\n"
      ]
    },
    {
      "cell_type": "code",
      "execution_count": 8,
      "metadata": {
        "id": "dEJ2OA2dD1ei",
        "colab": {
          "base_uri": "https://localhost:8080/"
        },
        "outputId": "2e84f456-e0e6-4e29-9bc8-d5031cd81ec7"
      },
      "outputs": [
        {
          "output_type": "stream",
          "name": "stdout",
          "text": [
            "len(X_train): 455\n",
            "len(X_test): 51\n",
            "len(y_train): 455\n",
            "len(y_test): 51\n"
          ]
        }
      ],
      "source": [
        "#Write your code here \n",
        "from sklearn.model_selection import train_test_split\n",
        "X_train, X_test, y_train, y_test = train_test_split(X,Y,train_size=0.9,random_state=5)\n",
        "print('len(X_train):',len(X_train))\n",
        "print('len(X_test):',len(X_test))\n",
        "print('len(y_train):',len(y_train))\n",
        "print('len(y_test):',len(y_test))\n"
      ]
    },
    {
      "cell_type": "markdown",
      "metadata": {
        "id": "3EfI5KcbDalO"
      },
      "source": [
        "4) **Preliminary analysis:** For each model: train with training set and output the regression score (R2) of the model using training set. Now test your model with a testset and output the regression score (R2). Compare R2 inside one model for training and testing sets. Calculate other metrics MSE, RMSE, MAE, mentioned in the corresponding lecture. "
      ]
    },
    {
      "cell_type": "markdown",
      "metadata": {
        "id": "DG4WM46syvL_"
      },
      "source": [
        "**Random Forest regression**"
      ]
    },
    {
      "cell_type": "code",
      "execution_count": 9,
      "metadata": {
        "id": "i57tE26FChuG",
        "colab": {
          "base_uri": "https://localhost:8080/"
        },
        "outputId": "cc91bb97-4709-4113-cae7-f5820d2e4b39"
      },
      "outputs": [
        {
          "output_type": "stream",
          "name": "stdout",
          "text": [
            "score R2 for training set: 0.7385907544981858\n",
            "MSE for training set: 0.26228127612463087\n",
            "RMSE for training set: 0.5121340411695271\n",
            "MAE for training set: 0.35078846628189264\n",
            "\n",
            "\n",
            "score R2 for testset: 0.7835643702131196\n",
            "MSE for testset: 0.20938508016625795\n",
            "RMSE for testset: 0.4575861450768128\n",
            "MAE for testset: 0.36340004090377614\n"
          ]
        }
      ],
      "source": [
        "#Write your code for Random forest regression here\n",
        "from sklearn.ensemble import RandomForestRegressor \n",
        "from sklearn import linear_model\n",
        "from sklearn.metrics import r2_score , mean_squared_error, mean_absolute_error\n",
        "import numpy as np\n",
        "RF_rg = RandomForestRegressor(n_estimators=50, max_depth=2)\n",
        "RF_rg.fit(X_train,  y_train)\n",
        "y_predicted = RF_rg.predict(X_train)\n",
        "R2 = r2_score(y_train,y_predicted)\n",
        "print('score R2 for training set:',R2)\n",
        "MSE = mean_squared_error(y_train,y_predicted)\n",
        "print('MSE for training set:',MSE)\n",
        "RMSE = np.sqrt(MSE)\n",
        "print('RMSE for training set:',np.sqrt(MSE))\n",
        "mae = mean_absolute_error(y_train, y_predicted)\n",
        "print('MAE for training set:',mae)\n",
        "print('\\n')\n",
        "y_predicted = RF_rg.predict(X_test)\n",
        "R2 = r2_score(y_test,y_predicted)\n",
        "print('score R2 for testset:',R2)\n",
        "MSE = mean_squared_error(y_test,y_predicted)\n",
        "print('MSE for testset:',MSE)\n",
        "RMSE = np.sqrt(MSE)\n",
        "print('RMSE for testset:',np.sqrt(MSE))\n",
        "mae = mean_absolute_error(y_test, y_predicted)\n",
        "print('MAE for testset:',mae)"
      ]
    },
    {
      "cell_type": "markdown",
      "metadata": {
        "id": "0JlxnWQ4EjxH"
      },
      "source": [
        "*Result of the Test :\n",
        "arround 79% (R2 score) of the variability observed in the target variable is explained by the regression model.\n",
        "the mean-squared-error is very low around 0.21 this means that the predicted values ​​are very close to the current values* "
      ]
    },
    {
      "cell_type": "markdown",
      "metadata": {
        "id": "Lonr-PU5yvMB"
      },
      "source": [
        "**XGBoost regression**"
      ]
    },
    {
      "cell_type": "code",
      "execution_count": 10,
      "metadata": {
        "colab": {
          "base_uri": "https://localhost:8080/"
        },
        "id": "s8crPwJjyvMB",
        "outputId": "95539b8f-ff81-42ee-d0f0-cc11ebfa6b46"
      },
      "outputs": [
        {
          "output_type": "stream",
          "name": "stdout",
          "text": [
            "score R2 for training set: 0.9723416524279778\n",
            "MSE for training set: 0.02775061257976141\n",
            "RMSE for training set: 0.16658515113827346\n",
            "MAE for training set: 0.1266689145382427\n",
            "\n",
            "\n",
            "score R2 for testset: 0.8376078799840876\n",
            "MSE for testset: 0.1571020774231208\n",
            "RMSE for testset: 0.3963610442804903\n",
            "MAE for testset: 0.26845392746847785\n"
          ]
        }
      ],
      "source": [
        "#Write your code for XGBoost regression here \n",
        "from xgboost import XGBRegressor\n",
        "XGB_rg = XGBRegressor(objective='reg:squarederror')\n",
        "XGB_rg.fit(X_train,  y_train)\n",
        "y_predicted = XGB_rg.predict(X_train)\n",
        "R2 = r2_score(y_train,y_predicted)\n",
        "print('score R2 for training set:',R2)\n",
        "MSE = mean_squared_error(y_train,y_predicted)\n",
        "print('MSE for training set:',MSE)\n",
        "RMSE = np.sqrt(MSE)\n",
        "print('RMSE for training set:',np.sqrt(MSE))\n",
        "mae = mean_absolute_error(y_train, y_predicted)\n",
        "print('MAE for training set:',mae)\n",
        "print('\\n')\n",
        "y_predicted = XGB_rg.predict(X_test)\n",
        "R2 = r2_score(y_test,y_predicted)\n",
        "print('score R2 for testset:',R2)\n",
        "MSE = mean_squared_error(y_test,y_predicted)\n",
        "print('MSE for testset:',MSE)\n",
        "RMSE = np.sqrt(MSE)\n",
        "print('RMSE for testset:',np.sqrt(MSE))\n",
        "mae = mean_absolute_error(y_test, y_predicted)\n",
        "print('MAE for testset:',mae)"
      ]
    },
    {
      "cell_type": "markdown",
      "metadata": {
        "id": "VR5TDf3RyvMC"
      },
      "source": [
        "*Result of the Test :\n",
        "arround 84% (R2 score) of the variability observed in the target variable is explained by the regression model.but this score is lower than by the training Set. \n",
        "the mean-squared-error is very low around 0.16 this means that the predicted values ​​are very close to the current values*\n",
        "\n",
        "\n"
      ]
    },
    {
      "cell_type": "markdown",
      "metadata": {
        "id": "RYLdnezDyvMC"
      },
      "source": [
        "**Cat Boost regression**"
      ]
    },
    {
      "cell_type": "code",
      "source": [
        "!pip install catboost "
      ],
      "metadata": {
        "colab": {
          "base_uri": "https://localhost:8080/"
        },
        "id": "S83k0mo0ZqZP",
        "outputId": "e7a990b3-556e-476c-c54a-185d62740a7d"
      },
      "execution_count": 11,
      "outputs": [
        {
          "output_type": "stream",
          "name": "stdout",
          "text": [
            "Looking in indexes: https://pypi.org/simple, https://us-python.pkg.dev/colab-wheels/public/simple/\n",
            "Collecting catboost\n",
            "  Downloading catboost-1.0.6-cp37-none-manylinux1_x86_64.whl (76.6 MB)\n",
            "\u001b[K     |████████████████████████████████| 76.6 MB 92 kB/s \n",
            "\u001b[?25hRequirement already satisfied: pandas>=0.24.0 in /usr/local/lib/python3.7/dist-packages (from catboost) (1.3.5)\n",
            "Requirement already satisfied: graphviz in /usr/local/lib/python3.7/dist-packages (from catboost) (0.10.1)\n",
            "Requirement already satisfied: plotly in /usr/local/lib/python3.7/dist-packages (from catboost) (5.5.0)\n",
            "Requirement already satisfied: numpy>=1.16.0 in /usr/local/lib/python3.7/dist-packages (from catboost) (1.21.6)\n",
            "Requirement already satisfied: matplotlib in /usr/local/lib/python3.7/dist-packages (from catboost) (3.2.2)\n",
            "Requirement already satisfied: scipy in /usr/local/lib/python3.7/dist-packages (from catboost) (1.4.1)\n",
            "Requirement already satisfied: six in /usr/local/lib/python3.7/dist-packages (from catboost) (1.15.0)\n",
            "Requirement already satisfied: python-dateutil>=2.7.3 in /usr/local/lib/python3.7/dist-packages (from pandas>=0.24.0->catboost) (2.8.2)\n",
            "Requirement already satisfied: pytz>=2017.3 in /usr/local/lib/python3.7/dist-packages (from pandas>=0.24.0->catboost) (2022.1)\n",
            "Requirement already satisfied: pyparsing!=2.0.4,!=2.1.2,!=2.1.6,>=2.0.1 in /usr/local/lib/python3.7/dist-packages (from matplotlib->catboost) (3.0.9)\n",
            "Requirement already satisfied: kiwisolver>=1.0.1 in /usr/local/lib/python3.7/dist-packages (from matplotlib->catboost) (1.4.3)\n",
            "Requirement already satisfied: cycler>=0.10 in /usr/local/lib/python3.7/dist-packages (from matplotlib->catboost) (0.11.0)\n",
            "Requirement already satisfied: typing-extensions in /usr/local/lib/python3.7/dist-packages (from kiwisolver>=1.0.1->matplotlib->catboost) (4.1.1)\n",
            "Requirement already satisfied: tenacity>=6.2.0 in /usr/local/lib/python3.7/dist-packages (from plotly->catboost) (8.0.1)\n",
            "Installing collected packages: catboost\n",
            "Successfully installed catboost-1.0.6\n"
          ]
        }
      ]
    },
    {
      "cell_type": "code",
      "execution_count": 12,
      "metadata": {
        "colab": {
          "base_uri": "https://localhost:8080/"
        },
        "id": "803m82w9yvMD",
        "outputId": "9986c59f-e928-4751-de28-3ba15e68439f"
      },
      "outputs": [
        {
          "output_type": "stream",
          "name": "stdout",
          "text": [
            "score R2 for training set: 0.9968257086053818\n",
            "MSE for training set: 0.003184880458890005\n",
            "RMSE for training set: 0.056434745138877036\n",
            "MAE for training set: 0.04457127256571296\n",
            "\n",
            "\n",
            "score R2 for testset: 0.8962958300163876\n",
            "MSE for testset: 0.10032593047168503\n",
            "RMSE for testset: 0.3167426881108466\n",
            "MAE for testset: 0.21828986204977718\n"
          ]
        }
      ],
      "source": [
        "#Write your code for Cast Boost regression here \n",
        "from catboost import CatBoostRegressor\n",
        "CatBoost_rg = CatBoostRegressor(verbose=0)\n",
        "# fit the model on the whole training set\n",
        "CatBoost_rg.fit(X_train,  y_train)\n",
        "y_predicted = CatBoost_rg.predict(X_train)\n",
        "R2 = r2_score(y_train,y_predicted)\n",
        "print('score R2 for training set:',R2)\n",
        "MSE = mean_squared_error(y_train,y_predicted)\n",
        "print('MSE for training set:',MSE)\n",
        "RMSE = np.sqrt(MSE)\n",
        "print('RMSE for training set:',np.sqrt(MSE))\n",
        "mae = mean_absolute_error(y_train, y_predicted)\n",
        "print('MAE for training set:',mae)\n",
        "print('\\n')\n",
        "# Test the Model\n",
        "y_predicted = CatBoost_rg.predict(X_test)\n",
        "R2 = r2_score(y_test,y_predicted)\n",
        "print('score R2 for testset:',R2)\n",
        "MSE = mean_squared_error(y_test,y_predicted)\n",
        "print('MSE for testset:',MSE)\n",
        "RMSE = np.sqrt(MSE)\n",
        "print('RMSE for testset:',np.sqrt(MSE))\n",
        "mae = mean_absolute_error(y_test, y_predicted)\n",
        "print('MAE for testset:',mae)"
      ]
    },
    {
      "cell_type": "markdown",
      "metadata": {
        "id": "A1BoqHhDyvMD"
      },
      "source": [
        "*Result of the Test :\n",
        "arround 87% (R2 score) of the variability observed in the target variable is explained by the regression model.but this score is lower than by the training Set. \n",
        "the mean-squared-error is very low around 0.13 this means that the predicted values ​​are very close to the current values* "
      ]
    },
    {
      "cell_type": "code",
      "source": [
        "from lightgbm import LGBMRegressor\n",
        "LGBM_rg = LGBMRegressor()\n",
        "# fit the model on the whole training set\n",
        "LGBM_rg.fit(X_train,  y_train)\n",
        "y_predicted = LGBM_rg.predict(X_train)\n",
        "R2 = r2_score(y_train,y_predicted)\n",
        "print('score R2 for training set:',R2)\n",
        "MSE = mean_squared_error(y_train,y_predicted)\n",
        "print('MSE for training set:',MSE)\n",
        "RMSE = np.sqrt(MSE)\n",
        "print('RMSE for training set:',np.sqrt(MSE))\n",
        "mae = mean_absolute_error(y_train, y_predicted)\n",
        "print('MAE for training set:',mae)\n",
        "print('\\n')\n",
        "# Test the Model\n",
        "y_predicted = LGBM_rg.predict(X_test)\n",
        "R2 = r2_score(y_test,y_predicted)\n",
        "print('score R2 for testset:',R2)\n",
        "MSE = mean_squared_error(y_test,y_predicted)\n",
        "print('MSE for testset:',MSE)\n",
        "RMSE = np.sqrt(MSE)\n",
        "print('RMSE for testset:',np.sqrt(MSE))\n",
        "mae = mean_absolute_error(y_test, y_predicted)\n",
        "print('MAE for testset:',mae)\n"
      ],
      "metadata": {
        "colab": {
          "base_uri": "https://localhost:8080/"
        },
        "id": "asGJ639IyRrv",
        "outputId": "09ff96b3-ef44-4ef7-ff89-bf62abc07c3a"
      },
      "execution_count": 13,
      "outputs": [
        {
          "output_type": "stream",
          "name": "stdout",
          "text": [
            "score R2 for training set: 0.9767211092175128\n",
            "MSE for training set: 0.023356546435364306\n",
            "RMSE for training set: 0.1528284869890568\n",
            "MAE for training set: 0.09470519104262759\n",
            "\n",
            "\n",
            "score R2 for testset: 0.838522068084874\n",
            "MSE for testset: 0.15621766967122397\n",
            "RMSE for testset: 0.3952438104148172\n",
            "MAE for testset: 0.2836457549369124\n"
          ]
        }
      ]
    },
    {
      "cell_type": "markdown",
      "source": [
        "*Result of the Test :\n",
        "arround 84% (R2 score) of the variability observed in the target variable is explained by the regression model.but this score is lower than by the training Set. \n",
        "the mean-squared-error is very low around 0.15 this means that the predicted values ​​are very close to the current values*"
      ],
      "metadata": {
        "id": "uaHWkNSgy85v"
      }
    },
    {
      "cell_type": "markdown",
      "metadata": {
        "id": "v02qVqtWyvME"
      },
      "source": [
        "*Training set:                                                                       \n",
        "the best R2 score was obtained with Cast Boost Regression                         \n",
        "MSE : the lowest MSE value was observed by the Cast Boost regression.                                                                           \n",
        "Testset:                                                                          \n",
        "the best R2 score was observed with Cast Boost Regression                              \n",
        "the lowest MSE value was observed by the Cast Boost regression.*"
      ]
    },
    {
      "cell_type": "markdown",
      "metadata": {
        "id": "Zy18BoORFX7_"
      },
      "source": [
        "5)\tRecalculate the results of Task 1 using MinMaxScaler (use the same random_state as for Standard Scaler by splitting into trainingset and testset) and compare the results based on metric R2. Use the Scaler, which gives the best results for the next Tasks. "
      ]
    },
    {
      "cell_type": "code",
      "execution_count": 14,
      "metadata": {
        "id": "vRZPwiEBFoX4",
        "colab": {
          "base_uri": "https://localhost:8080/",
          "height": 424
        },
        "outputId": "b7665a2f-9c43-4286-b4a8-9b38295cbb0c"
      },
      "outputs": [
        {
          "output_type": "execute_result",
          "data": {
            "text/plain": [
              "         CRIM    ZN     INDUS  CHAS       NOX        RM       AGE       DIS  \\\n",
              "0    0.000000  0.18  0.067815   0.0  0.314815  0.577505  0.641607  0.269203   \n",
              "1    0.000236  0.00  0.242302   0.0  0.172840  0.547998  0.782698  0.348962   \n",
              "2    0.000236  0.00  0.242302   0.0  0.172840  0.694386  0.599382  0.348962   \n",
              "3    0.000293  0.00  0.063050   0.0  0.150206  0.658555  0.441813  0.448545   \n",
              "4    0.000705  0.00  0.063050   0.0  0.150206  0.687105  0.528321  0.448545   \n",
              "..        ...   ...       ...   ...       ...       ...       ...       ...   \n",
              "501  0.000633  0.00  0.420455   0.0  0.386831  0.580954  0.681771  0.122671   \n",
              "502  0.000438  0.00  0.420455   0.0  0.386831  0.490324  0.760041  0.105293   \n",
              "503  0.000612  0.00  0.420455   0.0  0.386831  0.654340  0.907312  0.094381   \n",
              "504  0.001161  0.00  0.420455   0.0  0.386831  0.619467  0.889804  0.114514   \n",
              "505  0.000462  0.00  0.420455   0.0  0.386831  0.473079  0.675783  0.125072   \n",
              "\n",
              "          RAD       TAX   PTRATIO         B     LSTAT      MEDV  \n",
              "0    0.000000  0.208015  0.287234  1.000000  0.089680  0.422222  \n",
              "1    0.043478  0.104962  0.553191  1.000000  0.204470  0.368889  \n",
              "2    0.043478  0.104962  0.553191  0.989737  0.063466  0.660000  \n",
              "3    0.086957  0.066794  0.648936  0.994276  0.033389  0.631111  \n",
              "4    0.086957  0.066794  0.648936  1.000000  0.303130  0.693333  \n",
              "..        ...       ...       ...       ...       ...       ...  \n",
              "501  0.000000  0.164122  0.893617  0.987619  0.303130  0.386667  \n",
              "502  0.000000  0.164122  0.893617  1.000000  0.202815  0.346667  \n",
              "503  0.000000  0.164122  0.893617  1.000000  0.107892  0.420000  \n",
              "504  0.000000  0.164122  0.893617  0.991301  0.131071  0.377778  \n",
              "505  0.000000  0.164122  0.893617  1.000000  0.169702  0.153333  \n",
              "\n",
              "[506 rows x 14 columns]"
            ],
            "text/html": [
              "\n",
              "  <div id=\"df-b0ad91d8-ee59-4be7-bc77-3096038ca2cf\">\n",
              "    <div class=\"colab-df-container\">\n",
              "      <div>\n",
              "<style scoped>\n",
              "    .dataframe tbody tr th:only-of-type {\n",
              "        vertical-align: middle;\n",
              "    }\n",
              "\n",
              "    .dataframe tbody tr th {\n",
              "        vertical-align: top;\n",
              "    }\n",
              "\n",
              "    .dataframe thead th {\n",
              "        text-align: right;\n",
              "    }\n",
              "</style>\n",
              "<table border=\"1\" class=\"dataframe\">\n",
              "  <thead>\n",
              "    <tr style=\"text-align: right;\">\n",
              "      <th></th>\n",
              "      <th>CRIM</th>\n",
              "      <th>ZN</th>\n",
              "      <th>INDUS</th>\n",
              "      <th>CHAS</th>\n",
              "      <th>NOX</th>\n",
              "      <th>RM</th>\n",
              "      <th>AGE</th>\n",
              "      <th>DIS</th>\n",
              "      <th>RAD</th>\n",
              "      <th>TAX</th>\n",
              "      <th>PTRATIO</th>\n",
              "      <th>B</th>\n",
              "      <th>LSTAT</th>\n",
              "      <th>MEDV</th>\n",
              "    </tr>\n",
              "  </thead>\n",
              "  <tbody>\n",
              "    <tr>\n",
              "      <th>0</th>\n",
              "      <td>0.000000</td>\n",
              "      <td>0.18</td>\n",
              "      <td>0.067815</td>\n",
              "      <td>0.0</td>\n",
              "      <td>0.314815</td>\n",
              "      <td>0.577505</td>\n",
              "      <td>0.641607</td>\n",
              "      <td>0.269203</td>\n",
              "      <td>0.000000</td>\n",
              "      <td>0.208015</td>\n",
              "      <td>0.287234</td>\n",
              "      <td>1.000000</td>\n",
              "      <td>0.089680</td>\n",
              "      <td>0.422222</td>\n",
              "    </tr>\n",
              "    <tr>\n",
              "      <th>1</th>\n",
              "      <td>0.000236</td>\n",
              "      <td>0.00</td>\n",
              "      <td>0.242302</td>\n",
              "      <td>0.0</td>\n",
              "      <td>0.172840</td>\n",
              "      <td>0.547998</td>\n",
              "      <td>0.782698</td>\n",
              "      <td>0.348962</td>\n",
              "      <td>0.043478</td>\n",
              "      <td>0.104962</td>\n",
              "      <td>0.553191</td>\n",
              "      <td>1.000000</td>\n",
              "      <td>0.204470</td>\n",
              "      <td>0.368889</td>\n",
              "    </tr>\n",
              "    <tr>\n",
              "      <th>2</th>\n",
              "      <td>0.000236</td>\n",
              "      <td>0.00</td>\n",
              "      <td>0.242302</td>\n",
              "      <td>0.0</td>\n",
              "      <td>0.172840</td>\n",
              "      <td>0.694386</td>\n",
              "      <td>0.599382</td>\n",
              "      <td>0.348962</td>\n",
              "      <td>0.043478</td>\n",
              "      <td>0.104962</td>\n",
              "      <td>0.553191</td>\n",
              "      <td>0.989737</td>\n",
              "      <td>0.063466</td>\n",
              "      <td>0.660000</td>\n",
              "    </tr>\n",
              "    <tr>\n",
              "      <th>3</th>\n",
              "      <td>0.000293</td>\n",
              "      <td>0.00</td>\n",
              "      <td>0.063050</td>\n",
              "      <td>0.0</td>\n",
              "      <td>0.150206</td>\n",
              "      <td>0.658555</td>\n",
              "      <td>0.441813</td>\n",
              "      <td>0.448545</td>\n",
              "      <td>0.086957</td>\n",
              "      <td>0.066794</td>\n",
              "      <td>0.648936</td>\n",
              "      <td>0.994276</td>\n",
              "      <td>0.033389</td>\n",
              "      <td>0.631111</td>\n",
              "    </tr>\n",
              "    <tr>\n",
              "      <th>4</th>\n",
              "      <td>0.000705</td>\n",
              "      <td>0.00</td>\n",
              "      <td>0.063050</td>\n",
              "      <td>0.0</td>\n",
              "      <td>0.150206</td>\n",
              "      <td>0.687105</td>\n",
              "      <td>0.528321</td>\n",
              "      <td>0.448545</td>\n",
              "      <td>0.086957</td>\n",
              "      <td>0.066794</td>\n",
              "      <td>0.648936</td>\n",
              "      <td>1.000000</td>\n",
              "      <td>0.303130</td>\n",
              "      <td>0.693333</td>\n",
              "    </tr>\n",
              "    <tr>\n",
              "      <th>...</th>\n",
              "      <td>...</td>\n",
              "      <td>...</td>\n",
              "      <td>...</td>\n",
              "      <td>...</td>\n",
              "      <td>...</td>\n",
              "      <td>...</td>\n",
              "      <td>...</td>\n",
              "      <td>...</td>\n",
              "      <td>...</td>\n",
              "      <td>...</td>\n",
              "      <td>...</td>\n",
              "      <td>...</td>\n",
              "      <td>...</td>\n",
              "      <td>...</td>\n",
              "    </tr>\n",
              "    <tr>\n",
              "      <th>501</th>\n",
              "      <td>0.000633</td>\n",
              "      <td>0.00</td>\n",
              "      <td>0.420455</td>\n",
              "      <td>0.0</td>\n",
              "      <td>0.386831</td>\n",
              "      <td>0.580954</td>\n",
              "      <td>0.681771</td>\n",
              "      <td>0.122671</td>\n",
              "      <td>0.000000</td>\n",
              "      <td>0.164122</td>\n",
              "      <td>0.893617</td>\n",
              "      <td>0.987619</td>\n",
              "      <td>0.303130</td>\n",
              "      <td>0.386667</td>\n",
              "    </tr>\n",
              "    <tr>\n",
              "      <th>502</th>\n",
              "      <td>0.000438</td>\n",
              "      <td>0.00</td>\n",
              "      <td>0.420455</td>\n",
              "      <td>0.0</td>\n",
              "      <td>0.386831</td>\n",
              "      <td>0.490324</td>\n",
              "      <td>0.760041</td>\n",
              "      <td>0.105293</td>\n",
              "      <td>0.000000</td>\n",
              "      <td>0.164122</td>\n",
              "      <td>0.893617</td>\n",
              "      <td>1.000000</td>\n",
              "      <td>0.202815</td>\n",
              "      <td>0.346667</td>\n",
              "    </tr>\n",
              "    <tr>\n",
              "      <th>503</th>\n",
              "      <td>0.000612</td>\n",
              "      <td>0.00</td>\n",
              "      <td>0.420455</td>\n",
              "      <td>0.0</td>\n",
              "      <td>0.386831</td>\n",
              "      <td>0.654340</td>\n",
              "      <td>0.907312</td>\n",
              "      <td>0.094381</td>\n",
              "      <td>0.000000</td>\n",
              "      <td>0.164122</td>\n",
              "      <td>0.893617</td>\n",
              "      <td>1.000000</td>\n",
              "      <td>0.107892</td>\n",
              "      <td>0.420000</td>\n",
              "    </tr>\n",
              "    <tr>\n",
              "      <th>504</th>\n",
              "      <td>0.001161</td>\n",
              "      <td>0.00</td>\n",
              "      <td>0.420455</td>\n",
              "      <td>0.0</td>\n",
              "      <td>0.386831</td>\n",
              "      <td>0.619467</td>\n",
              "      <td>0.889804</td>\n",
              "      <td>0.114514</td>\n",
              "      <td>0.000000</td>\n",
              "      <td>0.164122</td>\n",
              "      <td>0.893617</td>\n",
              "      <td>0.991301</td>\n",
              "      <td>0.131071</td>\n",
              "      <td>0.377778</td>\n",
              "    </tr>\n",
              "    <tr>\n",
              "      <th>505</th>\n",
              "      <td>0.000462</td>\n",
              "      <td>0.00</td>\n",
              "      <td>0.420455</td>\n",
              "      <td>0.0</td>\n",
              "      <td>0.386831</td>\n",
              "      <td>0.473079</td>\n",
              "      <td>0.675783</td>\n",
              "      <td>0.125072</td>\n",
              "      <td>0.000000</td>\n",
              "      <td>0.164122</td>\n",
              "      <td>0.893617</td>\n",
              "      <td>1.000000</td>\n",
              "      <td>0.169702</td>\n",
              "      <td>0.153333</td>\n",
              "    </tr>\n",
              "  </tbody>\n",
              "</table>\n",
              "<p>506 rows × 14 columns</p>\n",
              "</div>\n",
              "      <button class=\"colab-df-convert\" onclick=\"convertToInteractive('df-b0ad91d8-ee59-4be7-bc77-3096038ca2cf')\"\n",
              "              title=\"Convert this dataframe to an interactive table.\"\n",
              "              style=\"display:none;\">\n",
              "        \n",
              "  <svg xmlns=\"http://www.w3.org/2000/svg\" height=\"24px\"viewBox=\"0 0 24 24\"\n",
              "       width=\"24px\">\n",
              "    <path d=\"M0 0h24v24H0V0z\" fill=\"none\"/>\n",
              "    <path d=\"M18.56 5.44l.94 2.06.94-2.06 2.06-.94-2.06-.94-.94-2.06-.94 2.06-2.06.94zm-11 1L8.5 8.5l.94-2.06 2.06-.94-2.06-.94L8.5 2.5l-.94 2.06-2.06.94zm10 10l.94 2.06.94-2.06 2.06-.94-2.06-.94-.94-2.06-.94 2.06-2.06.94z\"/><path d=\"M17.41 7.96l-1.37-1.37c-.4-.4-.92-.59-1.43-.59-.52 0-1.04.2-1.43.59L10.3 9.45l-7.72 7.72c-.78.78-.78 2.05 0 2.83L4 21.41c.39.39.9.59 1.41.59.51 0 1.02-.2 1.41-.59l7.78-7.78 2.81-2.81c.8-.78.8-2.07 0-2.86zM5.41 20L4 18.59l7.72-7.72 1.47 1.35L5.41 20z\"/>\n",
              "  </svg>\n",
              "      </button>\n",
              "      \n",
              "  <style>\n",
              "    .colab-df-container {\n",
              "      display:flex;\n",
              "      flex-wrap:wrap;\n",
              "      gap: 12px;\n",
              "    }\n",
              "\n",
              "    .colab-df-convert {\n",
              "      background-color: #E8F0FE;\n",
              "      border: none;\n",
              "      border-radius: 50%;\n",
              "      cursor: pointer;\n",
              "      display: none;\n",
              "      fill: #1967D2;\n",
              "      height: 32px;\n",
              "      padding: 0 0 0 0;\n",
              "      width: 32px;\n",
              "    }\n",
              "\n",
              "    .colab-df-convert:hover {\n",
              "      background-color: #E2EBFA;\n",
              "      box-shadow: 0px 1px 2px rgba(60, 64, 67, 0.3), 0px 1px 3px 1px rgba(60, 64, 67, 0.15);\n",
              "      fill: #174EA6;\n",
              "    }\n",
              "\n",
              "    [theme=dark] .colab-df-convert {\n",
              "      background-color: #3B4455;\n",
              "      fill: #D2E3FC;\n",
              "    }\n",
              "\n",
              "    [theme=dark] .colab-df-convert:hover {\n",
              "      background-color: #434B5C;\n",
              "      box-shadow: 0px 1px 3px 1px rgba(0, 0, 0, 0.15);\n",
              "      filter: drop-shadow(0px 1px 2px rgba(0, 0, 0, 0.3));\n",
              "      fill: #FFFFFF;\n",
              "    }\n",
              "  </style>\n",
              "\n",
              "      <script>\n",
              "        const buttonEl =\n",
              "          document.querySelector('#df-b0ad91d8-ee59-4be7-bc77-3096038ca2cf button.colab-df-convert');\n",
              "        buttonEl.style.display =\n",
              "          google.colab.kernel.accessAllowed ? 'block' : 'none';\n",
              "\n",
              "        async function convertToInteractive(key) {\n",
              "          const element = document.querySelector('#df-b0ad91d8-ee59-4be7-bc77-3096038ca2cf');\n",
              "          const dataTable =\n",
              "            await google.colab.kernel.invokeFunction('convertToInteractive',\n",
              "                                                     [key], {});\n",
              "          if (!dataTable) return;\n",
              "\n",
              "          const docLinkHtml = 'Like what you see? Visit the ' +\n",
              "            '<a target=\"_blank\" href=https://colab.research.google.com/notebooks/data_table.ipynb>data table notebook</a>'\n",
              "            + ' to learn more about interactive tables.';\n",
              "          element.innerHTML = '';\n",
              "          dataTable['output_type'] = 'display_data';\n",
              "          await google.colab.output.renderOutput(dataTable, element);\n",
              "          const docLink = document.createElement('div');\n",
              "          docLink.innerHTML = docLinkHtml;\n",
              "          element.appendChild(docLink);\n",
              "        }\n",
              "      </script>\n",
              "    </div>\n",
              "  </div>\n",
              "  "
            ]
          },
          "metadata": {},
          "execution_count": 14
        }
      ],
      "source": [
        "from sklearn.preprocessing import MinMaxScaler\n",
        "minMax_scaler = pd.DataFrame(\n",
        "    MinMaxScaler().fit_transform(df),\n",
        "    columns = df.columns\n",
        ")\n",
        "Y_minMax_scale = minMax_scaler['MEDV']\n",
        "X_minMax_scale = minMax_scaler.drop(['MEDV'],axis='columns')\n",
        "minMax_scaler"
      ]
    },
    {
      "cell_type": "code",
      "source": [
        "X_train, X_test, y_train, y_test = train_test_split(X_minMax_scale, Y_minMax_scale,train_size=0.9,random_state=1)\n",
        "#Write your code for Random forest regression here\n",
        "RF_rg = RandomForestRegressor(verbose=0,n_estimators=50, max_depth=2)\n",
        "print(type(RF_rg).__name__)\n",
        "RF_rg.fit(X_train,  y_train)\n",
        "y_predicted = RF_rg.predict(X_train)\n",
        "R2 = r2_score(y_train,y_predicted)\n",
        "print('score R2 for training set:',R2)\n",
        "MSE = mean_squared_error(y_train,y_predicted)\n",
        "print('MSE for training set:',MSE)\n",
        "RMSE = np.sqrt(MSE)\n",
        "print('RMSE for training set:',np.sqrt(MSE))\n",
        "mae = mean_absolute_error(y_train, y_predicted)\n",
        "print('MAE for training set:',mae)\n",
        "print('\\n')\n",
        "y_predicted = RF_rg.predict(X_test)\n",
        "R2 = r2_score(y_test,y_predicted)\n",
        "print('score R2 for testset:',R2)\n",
        "MSE = mean_squared_error(y_test,y_predicted)\n",
        "print('MSE for testset:',MSE)\n",
        "RMSE = np.sqrt(MSE)\n",
        "print('RMSE for testset:',np.sqrt(MSE))\n",
        "mae = mean_absolute_error(y_test, y_predicted)\n",
        "print('MAE for testset:',mae)\n",
        "print('\\n')\n",
        "#Write your code for XGBoost regression here\n",
        "print(type(XGB_rg).__name__)\n",
        "XGB_rg = XGBRegressor(objective='reg:squarederror')\n",
        "XGB_rg.fit(X_train,  y_train)\n",
        "y_predicted = XGB_rg.predict(X_train)\n",
        "R2 = r2_score(y_train,y_predicted)\n",
        "print('score R2 for training set:',R2)\n",
        "MSE = mean_squared_error(y_train,y_predicted)\n",
        "print('MSE for training set:',MSE)\n",
        "RMSE = np.sqrt(MSE)\n",
        "print('RMSE for training set:',np.sqrt(MSE))\n",
        "mae = mean_absolute_error(y_train, y_predicted)\n",
        "print('MAE for training set:',mae)\n",
        "print('\\n')\n",
        "y_predicted = XGB_rg.predict(X_test)\n",
        "R2 = r2_score(y_test,y_predicted)\n",
        "print('score R2 for testset:',R2)\n",
        "MSE = mean_squared_error(y_test,y_predicted)\n",
        "print('MSE for testset:',MSE)\n",
        "RMSE = np.sqrt(MSE)\n",
        "print('RMSE for testset:',np.sqrt(MSE))\n",
        "mae = mean_absolute_error(y_test, y_predicted)\n",
        "print('MAE for testset:',mae)\n",
        "print('\\n')\n",
        "#Write your code for CatBoost regression here\n",
        "CatBoost_rg = CatBoostRegressor(verbose =0, n_estimators=100)\n",
        "print(type(CatBoost_rg).__name__)\n",
        "# fit the model on the whole training set\n",
        "CatBoost_rg.fit(X_train,  y_train)\n",
        "y_predicted = CatBoost_rg.predict(X_train)\n",
        "R2 = r2_score(y_train,y_predicted)\n",
        "print('score R2 for training set:',R2)\n",
        "MSE = mean_squared_error(y_train,y_predicted)\n",
        "print('MSE for training set:',MSE)\n",
        "RMSE = np.sqrt(MSE)\n",
        "print('RMSE for training set:',np.sqrt(MSE))\n",
        "mae = mean_absolute_error(y_train, y_predicted)\n",
        "print('MAE for training set:',mae)\n",
        "print('\\n')\n",
        "# Test the Model\n",
        "y_predicted = CatBoost_rg.predict(X_test)\n",
        "R2 = r2_score(y_test,y_predicted)\n",
        "print('score R2 for testset:',R2)\n",
        "MSE = mean_squared_error(y_test,y_predicted)\n",
        "print('MSE for testset:',MSE)\n",
        "RMSE = np.sqrt(MSE)\n",
        "print('RMSE for testset:',np.sqrt(MSE))\n",
        "mae = mean_absolute_error(y_test, y_predicted)\n",
        "print('MAE for testset:',mae)\n",
        "print('\\n')\n",
        "#Write your code for LightGBM regression here\n",
        "LGBM_rg = LGBMRegressor()\n",
        "print(type(LGBM_rg).__name__)\n",
        "# fit the model on the whole training set\n",
        "LGBM_rg.fit(X_train,  y_train)\n",
        "y_predicted = LGBM_rg.predict(X_train)\n",
        "R2 = r2_score(y_train,y_predicted)\n",
        "print('score R2 for training set:',R2)\n",
        "MSE = mean_squared_error(y_train,y_predicted)\n",
        "print('MSE for training set:',MSE)\n",
        "RMSE = np.sqrt(MSE)\n",
        "print('RMSE for training set:',np.sqrt(MSE))\n",
        "mae = mean_absolute_error(y_train, y_predicted)\n",
        "print('MAE for training set:',mae)\n",
        "print('\\n')\n",
        "# Test the Model\n",
        "y_predicted = LGBM_rg.predict(X_test)\n",
        "R2 = r2_score(y_test,y_predicted)\n",
        "print('score R2 for testset:',R2)\n",
        "MSE = mean_squared_error(y_test,y_predicted)\n",
        "print('MSE for testset:',MSE)\n",
        "RMSE = np.sqrt(MSE)\n",
        "print('RMSE for testset:',np.sqrt(MSE))\n",
        "mae = mean_absolute_error(y_test, y_predicted)\n",
        "print('MAE for testset:',mae)\n"
      ],
      "metadata": {
        "colab": {
          "base_uri": "https://localhost:8080/"
        },
        "id": "bRmE7WkA1HIS",
        "outputId": "879574d8-6e78-4fb2-dbca-88d4274b0624"
      },
      "execution_count": 22,
      "outputs": [
        {
          "output_type": "stream",
          "name": "stdout",
          "text": [
            "RandomForestRegressor\n",
            "score R2 for training set: 0.7354096732944538\n",
            "MSE for training set: 0.010907014994705108\n",
            "RMSE for training set: 0.10443665541707618\n",
            "MAE for training set: 0.07258617743925612\n",
            "\n",
            "\n",
            "score R2 for testset: 0.834608397208852\n",
            "MSE for testset: 0.007580144103846648\n",
            "RMSE for testset: 0.08706402301666658\n",
            "MAE for testset: 0.06842800302899743\n",
            "\n",
            "\n",
            "XGBRegressor\n",
            "score R2 for training set: 0.971698233519437\n",
            "MSE for training set: 0.0011666631778404824\n",
            "RMSE for training set: 0.03415645148197456\n",
            "MAE for training set: 0.025900126591415776\n",
            "\n",
            "\n",
            "score R2 for testset: 0.9133290475205441\n",
            "MSE for testset: 0.003972259161437206\n",
            "RMSE for testset: 0.06302586105272348\n",
            "MAE for testset: 0.04791887977284285\n",
            "\n",
            "\n",
            "CatBoostRegressor\n",
            "score R2 for training set: 0.9910954903495155\n",
            "MSE for training set: 0.000367064138313772\n",
            "RMSE for training set: 0.01915891798389909\n",
            "MAE for training set: 0.015005102741934275\n",
            "\n",
            "\n",
            "score R2 for testset: 0.8990364176086294\n",
            "MSE for testset: 0.004627311730775153\n",
            "RMSE for testset: 0.06802434660307406\n",
            "MAE for testset: 0.05027747981557877\n",
            "\n",
            "\n",
            "LGBMRegressor\n",
            "score R2 for training set: 0.9779542230907048\n",
            "MSE for training set: 0.0009087770604221657\n",
            "RMSE for training set: 0.030145929417123064\n",
            "MAE for training set: 0.019210981478990363\n",
            "\n",
            "\n",
            "score R2 for testset: 0.904377873002749\n",
            "MSE for testset: 0.004382504854679851\n",
            "RMSE for testset: 0.06620048983715944\n",
            "MAE for testset: 0.05363322310634387\n"
          ]
        }
      ]
    },
    {
      "cell_type": "markdown",
      "metadata": {
        "id": "e5RLpC06FzUU"
      },
      "source": [
        "*By comparing the R2 scores obtained with the Minmaxscaler and the standard scaler. Dataset should be scaled with Minmaxscaler, then R2 of all models by Testset are higher than with Standard Scaler* "
      ]
    },
    {
      "cell_type": "markdown",
      "metadata": {
        "id": "KW0KVUE_IX1v"
      },
      "source": [
        "# **`Task 2 “Cross validation and grid search of hyperparameter values”  (10 Scores)`**"
      ]
    },
    {
      "cell_type": "markdown",
      "metadata": {
        "id": "R_JD80yQJQW0"
      },
      "source": [
        "1)\tUse the function GridSearchCV() to find the best parameters for each ML method. Use 5 fold cross validation. Use the scaling selected at the previous stage."
      ]
    },
    {
      "cell_type": "markdown",
      "metadata": {
        "id": "6DGp26fbyvMH"
      },
      "source": [
        "**Random Forest regression**"
      ]
    },
    {
      "cell_type": "code",
      "execution_count": 23,
      "metadata": {
        "id": "sdkyabziJqXa",
        "colab": {
          "base_uri": "https://localhost:8080/"
        },
        "outputId": "dd4ba763-2817-42bc-88bd-9db266a60de9"
      },
      "outputs": [
        {
          "output_type": "stream",
          "name": "stdout",
          "text": [
            "Fitting 5 folds for each of 27 candidates, totalling 135 fits\n"
          ]
        },
        {
          "output_type": "execute_result",
          "data": {
            "text/plain": [
              "RandomForestRegressor(max_depth=10, n_estimators=30, random_state=10)"
            ]
          },
          "metadata": {},
          "execution_count": 23
        }
      ],
      "source": [
        "from sklearn.model_selection import GridSearchCV\n",
        "# Parameter Tuning\n",
        "model = RandomForestRegressor()\n",
        "param_dist = {\"max_depth\": [10,30,50],\n",
        "              \"n_estimators\": [10,30,50],\n",
        "               \"random_state\":[5,10,0]\n",
        "              }\n",
        "grid_search = GridSearchCV(model, param_grid=param_dist, cv = 5, verbose=10, n_jobs=-1)\n",
        "grid_search.fit(X_train, y_train)\n",
        "grid_search.best_estimator_\n",
        "model = RandomForestRegressor(verbose=0,max_depth=10, n_estimators=30, random_state=10)\n",
        "model.fit(X_train, y_train)"
      ]
    },
    {
      "cell_type": "markdown",
      "metadata": {
        "id": "GHfbulgDyvMI"
      },
      "source": [
        "*for the given parameter Grid . the GridSearchCV will find the best parameter based on the highest accuracy score.* "
      ]
    },
    {
      "cell_type": "markdown",
      "metadata": {
        "id": "hRnAKGUlyvMI"
      },
      "source": [
        "**XGBoost regression**"
      ]
    },
    {
      "cell_type": "code",
      "execution_count": 24,
      "metadata": {
        "colab": {
          "base_uri": "https://localhost:8080/"
        },
        "id": "eYxw1BcPyvMI",
        "outputId": "2796fefe-5bfd-43ce-95f4-0a315fc6e85d"
      },
      "outputs": [
        {
          "output_type": "stream",
          "name": "stdout",
          "text": [
            "Fitting 5 folds for each of 162 candidates, totalling 810 fits\n"
          ]
        },
        {
          "output_type": "execute_result",
          "data": {
            "text/plain": [
              "XGBRegressor(max_depth=10, min_child_weight=3, n_estimators=50,\n",
              "             objective='reg:squarederror', random_state=5)"
            ]
          },
          "metadata": {},
          "execution_count": 24
        }
      ],
      "source": [
        "#Write your code here. \n",
        "model = XGBRegressor()\n",
        "param_dist = {\"max_depth\": [10,30,50],\n",
        "              \"n_estimators\": [10,30,50],\n",
        "              \"min_child_weight\" : [1,3,6],\n",
        "               \"random_state\":[5,10,0],\n",
        "               \"objective\":['reg:squarederror','reg:linear']\n",
        "              }\n",
        "grid_search = GridSearchCV(model, param_grid=param_dist, cv = 5, \n",
        "                                   verbose=10, n_jobs=-1)\n",
        "grid_search.fit(X_train, y_train)\n",
        "grid_search.best_estimator_"
      ]
    },
    {
      "cell_type": "markdown",
      "metadata": {
        "id": "PcJTeLv7yvMI"
      },
      "source": [
        "*for the given parameter Grid . the GridSearchCV will find the best parameter based on the highest accuracy score.* "
      ]
    },
    {
      "cell_type": "markdown",
      "metadata": {
        "id": "pEPAWcsYyvMJ"
      },
      "source": [
        "**Cat Boost regression**"
      ]
    },
    {
      "cell_type": "code",
      "execution_count": 25,
      "metadata": {
        "colab": {
          "base_uri": "https://localhost:8080/"
        },
        "id": "Hb742Y8oyvMJ",
        "outputId": "21cc5083-9419-4c23-9837-b3415351b599"
      },
      "outputs": [
        {
          "output_type": "stream",
          "name": "stdout",
          "text": [
            "{'depth': 4, 'iterations': 200, 'l2_leaf_reg': 4, 'learning_rate': 0.15, 'verbose': 0}\n"
          ]
        }
      ],
      "source": [
        "model = CatBoostRegressor()\n",
        "param_dist = {'depth': [4, 7, 10],\n",
        "          'learning_rate' : [0.03, 0.1, 0.15],\n",
        "         'l2_leaf_reg': [1,4,9],\n",
        "         'iterations': [200],\n",
        "          'verbose': [0]\n",
        "              }\n",
        "grid_search = GridSearchCV(model, param_grid=param_dist, cv = 5)\n",
        "grid_search.fit(X_train, y_train)\n",
        "print(grid_search.best_params_)"
      ]
    },
    {
      "cell_type": "markdown",
      "metadata": {
        "id": "1AAulWzvyvMJ"
      },
      "source": [
        "*for the given parameter Grid . the GridSearchCV will find the best parameter based on the highest accuracy score.* "
      ]
    },
    {
      "cell_type": "markdown",
      "metadata": {
        "id": "s-KH7E0YyvMK"
      },
      "source": [
        "**Light GBM regression**"
      ]
    },
    {
      "cell_type": "code",
      "execution_count": null,
      "metadata": {
        "colab": {
          "base_uri": "https://localhost:8080/"
        },
        "id": "0sDFLWjTyvMK",
        "outputId": "6e8def2b-0cd9-4b8c-fd85-782724c25d27"
      },
      "outputs": [
        {
          "output_type": "stream",
          "name": "stdout",
          "text": [
            "Fitting 5 folds for each of 81 candidates, totalling 405 fits\n"
          ]
        },
        {
          "output_type": "execute_result",
          "data": {
            "text/plain": [
              "LGBMRegressor(learning_rate=0.16, max_depth=10, min_child_weight=1,\n",
              "              n_estimators=50)"
            ]
          },
          "metadata": {},
          "execution_count": 16
        }
      ],
      "source": [
        "#Write your code here.\n",
        "model = LGBMRegressor() \n",
        "param_dist = {\"max_depth\": [10,30,50],\n",
        "              \"n_estimators\": [10,30,50],\n",
        "              \"min_child_weight\" : [1,3,6],\n",
        "             \"learning_rate\": [0.05, 0.1,0.16],\n",
        "              }\n",
        "grid_search = GridSearchCV(model, param_grid=param_dist, cv = 5, \n",
        "                                   verbose=10, n_jobs=-1)\n",
        "grid_search.fit(X_train, y_train)\n",
        "grid_search.best_estimator_\n"
      ]
    },
    {
      "cell_type": "markdown",
      "metadata": {
        "id": "889D4ZCyyvMK"
      },
      "source": [
        "*for the given parameter Grid . the GridSearchCV will find the best parameter based on the highest accuracy score.* "
      ]
    },
    {
      "cell_type": "markdown",
      "metadata": {
        "id": "VydfI3WvJ1jB"
      },
      "source": [
        "2)\tEvaluate the built models and found best hyper-parameters with the test set data. Compare the results of different models, comment the result and draw the conclusion about the best forecasting model."
      ]
    },
    {
      "cell_type": "code",
      "source": [
        "def run_experiment(model):\n",
        "    model.fit(X_train, y_train)\n",
        "    y_pred = model.predict(X_test)\n",
        "    print(\"R^2 : \", r2_score(y_test, y_pred))\n",
        "    print(\"MSE :\", mean_squared_error(y_test,y_pred))\n",
        "    print(\"RMSE:\",np.sqrt(mean_squared_error(y_test, y_pred)))\n",
        "    print('MAE:',mean_absolute_error(y_test, y_predicted))"
      ],
      "metadata": {
        "id": "CquhvtcEIcEg"
      },
      "execution_count": 26,
      "outputs": []
    },
    {
      "cell_type": "markdown",
      "metadata": {
        "id": "yvKMwIMOyvML"
      },
      "source": [
        "**Random Forest regression**"
      ]
    },
    {
      "cell_type": "code",
      "execution_count": 27,
      "metadata": {
        "id": "3x45WtPZJ0Yw",
        "colab": {
          "base_uri": "https://localhost:8080/"
        },
        "outputId": "f4946981-c908-42fb-df83-c253cd536392"
      },
      "outputs": [
        {
          "output_type": "stream",
          "name": "stdout",
          "text": [
            "R^2 :  0.8143514464920136\n",
            "MSE : 0.008508550401063894\n",
            "RMSE: 0.09224180397771876\n",
            "MAE: 0.05363322310634387\n"
          ]
        }
      ],
      "source": [
        "#Write your code here\n",
        "model = RandomForestRegressor(verbose=0,max_depth=10, n_estimators=30, random_state=10)\n",
        "run_experiment(model)"
      ]
    },
    {
      "cell_type": "markdown",
      "metadata": {
        "id": "lHPH4ftHyvML"
      },
      "source": [
        "*the metrics score have been upgraded after using the best hyperparameters of the built model* "
      ]
    },
    {
      "cell_type": "markdown",
      "metadata": {
        "id": "JGdwT_OQyvML"
      },
      "source": [
        "**XGBoost regression**"
      ]
    },
    {
      "cell_type": "code",
      "execution_count": 28,
      "metadata": {
        "colab": {
          "base_uri": "https://localhost:8080/"
        },
        "id": "Vm1J-jBayvMM",
        "outputId": "15281a39-a2cc-4ab4-852a-2e446cc0cc2b"
      },
      "outputs": [
        {
          "output_type": "stream",
          "name": "stdout",
          "text": [
            "R^2 :  0.7766070846440344\n",
            "MSE : 0.010238430861057399\n",
            "RMSE: 0.10118513162049748\n",
            "MAE: 0.05363322310634387\n"
          ]
        }
      ],
      "source": [
        "#Write your code here \n",
        "run_experiment(XGBRegressor(max_depth=10, min_child_weight=3, n_estimators=50,\n",
        "             objective='reg:squarederror', random_state=5))"
      ]
    },
    {
      "cell_type": "markdown",
      "metadata": {
        "id": "-TPCu-YyyvMM"
      },
      "source": [
        "*the metrics score have been upgraded after using the best hyperparameters of the built model* "
      ]
    },
    {
      "cell_type": "markdown",
      "metadata": {
        "id": "UU3AEEbpyvMM"
      },
      "source": [
        "**Cat Boost regression**"
      ]
    },
    {
      "cell_type": "code",
      "execution_count": 29,
      "metadata": {
        "colab": {
          "base_uri": "https://localhost:8080/"
        },
        "id": "9UUCsWCayvMM",
        "outputId": "373b4a09-b24b-4812-9dfe-a4c66128fb13"
      },
      "outputs": [
        {
          "output_type": "stream",
          "name": "stdout",
          "text": [
            "R^2 :  0.9198984773778822\n",
            "MSE : 0.003671172382191113\n",
            "RMSE: 0.060590200380846344\n",
            "MAE: 0.05363322310634387\n"
          ]
        }
      ],
      "source": [
        "\n",
        "run_experiment(CatBoostRegressor(verbose=0,depth= 4, iterations= 300, l2_leaf_reg=4, learning_rate=0.15))"
      ]
    },
    {
      "cell_type": "markdown",
      "metadata": {
        "id": "3MO1H1R3yvMN"
      },
      "source": [
        "*the metrics score have been upgraded after using the best hyperparameters of the built model* "
      ]
    },
    {
      "cell_type": "markdown",
      "metadata": {
        "id": "QIxEULiQyvMN"
      },
      "source": [
        "**Light GBM regression**"
      ]
    },
    {
      "cell_type": "code",
      "execution_count": 30,
      "metadata": {
        "colab": {
          "base_uri": "https://localhost:8080/"
        },
        "id": "q33f8XEGyvMN",
        "outputId": "e8aabbb9-1813-4848-d500-819002b64e79"
      },
      "outputs": [
        {
          "output_type": "stream",
          "name": "stdout",
          "text": [
            "R^2 :  0.9064798974631221\n",
            "MSE : 0.004286165935106291\n",
            "RMSE: 0.06546881650913121\n",
            "MAE: 0.05363322310634387\n"
          ]
        }
      ],
      "source": [
        "#Write your code here \n",
        "run_experiment(LGBMRegressor(learning_rate=0.16, max_depth=10, min_child_weight=1,\n",
        "              n_estimators=50))"
      ]
    },
    {
      "cell_type": "markdown",
      "metadata": {
        "id": "K9COOe7NyvMN"
      },
      "source": [
        "*the metrics score have been upgraded after using the best hyperparameters of the built model* "
      ]
    },
    {
      "cell_type": "markdown",
      "metadata": {
        "id": "arJOTCORyvMO"
      },
      "source": [
        "Which model shows the best performance? Cast Boost Regressor."
      ]
    },
    {
      "cell_type": "markdown",
      "metadata": {
        "id": "EM0DBYdbdxrW"
      },
      "source": [
        "# **`Task 3 “Regression dashboard” (20 Scores)`**"
      ]
    },
    {
      "cell_type": "markdown",
      "metadata": {
        "id": "81vsX-Z6eCGe"
      },
      "source": [
        "1)\tCreate a dashboard, in which you use 8 models from assignment 1.2 (4 models) and newly built in this assignment (4 models). The title of the dashboard should include your name and surname.\n",
        "\n"
      ]
    },
    {
      "cell_type": "code",
      "execution_count": 31,
      "metadata": {
        "id": "Txo_t7h7h9LY"
      },
      "outputs": [],
      "source": [
        "from xgboost.compat import DataTable\n",
        "from sklearn import linear_model\n",
        "from sklearn.tree import DecisionTreeRegressor\n",
        "from sklearn.neighbors import KNeighborsRegressor\n",
        "from sklearn.svm import SVR\n",
        "from ipywidgets import widgets \n",
        "from sklearn.preprocessing import StandardScaler\n",
        "from sklearn.preprocessing import MinMaxScaler\n",
        "import pandas as pd\n",
        "from IPython.display import display, clear_output\n",
        "def model_LM():\n",
        "   lm = linear_model.LinearRegression()\n",
        "   return lm\n",
        "def model_DT():\n",
        "  dt = DecisionTreeRegressor()\n",
        "  return dt\n",
        "def model_KNN():\n",
        "  knn = KNeighborsRegressor()\n",
        "  return knn\n",
        "def model_SVR():\n",
        "  svr = SVR()\n",
        "  return svr\n",
        "\n",
        "def model_LGBMR():\n",
        "   lgbmr = LGBMRegressor()\n",
        "   return lgbmr\n",
        "def model_CatBoot():\n",
        "  cat =CatBoostRegressor(verbose=0)\n",
        "  return cat\n",
        "def model_XGBR():\n",
        "  xgrb = XGBRegressor()\n",
        "  xgrb.fit(X_train,y_train)\n",
        "  return xgrb\n",
        "def model_RandomFR():\n",
        "  rfr =  RandomForestRegressor()\n",
        "  return rfr\n",
        "\n",
        "def r2_model_fun(y_true,y_pred):\n",
        "    return  r2_score(y_true, y_pred)\n",
        "def mse_model_fun(y_true,y_pred):\n",
        "    return mean_squared_error(y_true,y_pred)\n",
        "def rmse_model_fun(y_true,y_pred):\n",
        "     return np.sqrt(mean_absolute_error(y_true,y_pred))\n",
        "def mae_model_fun(y_true,y_pred):\n",
        "    return mean_absolute_error(y_true, y_pred)\n",
        "def standard_scale():\n",
        "    standard_scaler = pd.DataFrame(\n",
        "    StandardScaler().fit_transform(df),\n",
        "    columns = df.columns)\n",
        "    return standard_scaler\n",
        "def minMax_scale():\n",
        "    minMax_scaler = pd.DataFrame(\n",
        "    MinMaxScaler().fit_transform(df),\n",
        "    columns = df.columns)\n",
        "    return minMax_scaler\n"
      ]
    },
    {
      "cell_type": "markdown",
      "metadata": {
        "id": "s8XEAuWTiAfb"
      },
      "source": [
        "2)\tThe dashboard should contain the following control elements: \n",
        "- a)  **(Dropdown/Radio Button/Select)** widget to select a model (one of 8 models). \n",
        "- b)   A list of **(Checkbox/Multiple select)** widgets to choose the performance metrics to be calculated for each model (R2, MSE, RMSE, MAE).\n",
        "- c)   **(A Dropdown/Radio Button/Select)** widget to select a scaler (Standard Scaler, MinMax Scaler)\n"
      ]
    },
    {
      "cell_type": "code",
      "execution_count": 32,
      "metadata": {
        "id": "kgD20IZek1TZ"
      },
      "outputs": [],
      "source": [
        "from ipywidgets.widgets import widget\n",
        "rd8 = widgets.RadioButtons(options=['SVR', 'DT', 'LM','KNN','LGBMR','RandomFR','CatBoot','XGBR'],\n",
        "    description='Model:',\n",
        "    disabled=False)\n",
        "select4 = widgets.SelectMultiple(\n",
        "    options=['R2', 'MSE', 'RMSE','MAE'],\n",
        "    value=['R2'],\n",
        "    description='Performance_metrics',\n",
        "    disabled=False\n",
        ")\n",
        "dd2 = widgets.Dropdown(options=['Standard Scaler','MinMax Scaler'],description='Scaler')\n"
      ]
    },
    {
      "cell_type": "markdown",
      "metadata": {
        "id": "NmOHZvYFyvMP"
      },
      "source": [
        "3)\tA dashboard should contain a Tab widget with 3 pages.\n",
        "- a.\tPage 1: contains data pre-processing information you got in assignment 1.2. (training set and test set sizes, three 2D plots, which show dependences between independent variables (your choice) and dependent variable,  a correlation matrix) \n",
        "- b.\t**(Page 2/Page3)** contains the information about the hyperparameters of the selected model and a table with performance metrics for both training and test sets.\n",
        "- c.\t**(Page3/Page2)** the forecasting results by the selected dataset for the test set. A dataFrame with three columns: True value, forecasted value and an absolute error. The dataframe should be ordered in decreasing order of errors. Indices should correspond to the data IDs in the dataset.\n"
      ]
    },
    {
      "cell_type": "code",
      "execution_count": 34,
      "metadata": {
        "id": "bKkTduu5yvMQ"
      },
      "outputs": [],
      "source": [
        "tab = widgets.Tab()\n",
        "data_pre = widgets.Output()\n",
        "forcasting = widgets.Output()\n",
        "hyperparameters = widgets.Output()\n",
        "tab.titles=['data pre-processing','Prediction','hyperparameters']\n",
        "tab.children = [data_pre,forcasting,hyperparameters]\n",
        "for i , title in enumerate(['data pre-processing','Prediction','hyperparameters']):\n",
        "    tab.set_title(i,title)\n"
      ]
    },
    {
      "cell_type": "code",
      "source": [
        "from pandas.core.frame import DataFrame\n",
        "import xgboost\n",
        "import seaborn as sns\n",
        "from ipywidgets.widgets.interaction import show_inline_matplotlib_plots\n",
        "\n",
        "def bandwidth_widget(model='SVR',Performance_metrics=['R2'],Scaler ='Standard Scaler'):\n",
        "  if(model=='KNN'):\n",
        "     ccc = model_KNN()\n",
        "  elif(model=='SVR'):\n",
        "     ccc = model_SVR()\n",
        "  elif(model=='LM'):\n",
        "    ccc= model_LM()\n",
        "  elif(model=='LGBMR'):\n",
        "    ccc = model_LGBMR()\n",
        "  elif (model=='RandomFR'):\n",
        "    ccc = model_RandomFR()\n",
        "  elif(model=='CatBoot'):\n",
        "    ccc = model_CatBoot()\n",
        "  elif (model =='XGBR'):\n",
        "    ccc = model_XGBR()\n",
        "  elif (model =='DT'):\n",
        "    ccc = model_DT()\n",
        "  if(Scaler =='MinMax Scaler'):\n",
        "     minMax_scaler =  minMax_scale()\n",
        "     Y = minMax_scaler['MEDV']\n",
        "     x = minMax_scaler.drop(['MEDV'],axis='columns')\n",
        "  elif(Scaler == 'Standard Scaler'):\n",
        "     standard_scaler =  standard_scale()\n",
        "     Y =  standard_scaler['MEDV']\n",
        "     x =  standard_scaler.drop(['MEDV'],axis='columns') \n",
        "  X_train, X_test, y_train, y_test = train_test_split(x, Y,train_size=0.9,random_state=1)\n",
        "  ccc.fit(X_train,y_train)\n",
        "  y_pred =  ccc.predict(X_test)\n",
        "  y_pred_train = ccc.predict(X_train)\n",
        "  dd = pd.DataFrame()\n",
        "  #correlation Matrix \n",
        "  correlation = df.corr() \n",
        "\n",
        "  dd['True values'] = y_test\n",
        "  dd['predictions'] = y_pred\n",
        "  dd['absolute error']= (y_test - y_pred).abs()\n",
        "  dd = dd.sort_values(by=['absolute error'],ascending=False)\n",
        "  score_test = []\n",
        "  score_train = []\n",
        "  if ('R2' in Performance_metrics):\n",
        "    score_test.append(r2_model_fun( y_test,y_pred))\n",
        "    score_train.append(r2_model_fun( y_train, y_pred_train))\n",
        "  if ('MSE' in Performance_metrics):\n",
        "    score_test.append(mse_model_fun(y_test,y_pred) ) \n",
        "    score_train.append(mse_model_fun( y_train, y_pred_train))  \n",
        "  if ('RMSE' in Performance_metrics):\n",
        "    score_test.append(rmse_model_fun(y_test,y_pred) ) \n",
        "    score_train.append( rmse_model_fun( y_train, y_pred_train)) \n",
        "  if( 'MAE' in Performance_metrics ):\n",
        "   score_test.append(mae_model_fun(y_test,y_pred) )\n",
        "   score_train.append(mae_model_fun( y_train, y_pred_train))\n",
        "  with data_pre:\n",
        "      sns.set(rc = {'figure.figsize':(12,8)})\n",
        "      g = sns.PairGrid(df[['INDUS','MEDV']])\n",
        "      g  = g.map_upper(sns.kdeplot)\n",
        "      g = g.map_lower(sns.kdeplot)\n",
        "      g = g.map_diag(sns.kdeplot, shade=True)   \n",
        "\n",
        "      h = sns.PairGrid(df[['CHAS','MEDV']])\n",
        "      h  = h.map_upper(sns.kdeplot)\n",
        "      h = h.map_lower(sns.kdeplot)\n",
        "      h = h.map_diag(sns.kdeplot, shade=True) \n",
        "\n",
        "      j = sns.PairGrid(df[['AGE','MEDV']])\n",
        "      j = j.map_upper(sns.kdeplot)\n",
        "      j = j.map_lower(sns.kdeplot)\n",
        "      j = j.map_diag(sns.kdeplot, shade=True)    \n",
        "      clear_output()\n",
        "      display('Training size: '+str(len(X_train)),'Test size: '+str(len(X_test)),'corelation Matrix:',correlation)\n",
        "      show_inline_matplotlib_plots()\n",
        "  with forcasting :\n",
        "    clear_output()\n",
        "    display(dd)\n",
        "  with hyperparameters:\n",
        "    index = [metric for metric in Performance_metrics] \n",
        "    clear_output()\n",
        "    display(ccc.get_params(),pd.DataFrame(list(zip(score_train,score_test)),columns=['Training Set','Test Set'],index=index))\n"
      ],
      "metadata": {
        "id": "BXzuw2-1bEhE"
      },
      "execution_count": 35,
      "outputs": []
    },
    {
      "cell_type": "markdown",
      "metadata": {
        "id": "m-pvbmW5yvMQ"
      },
      "source": [
        "4)\tThe dashboard should make interactive changes in the Tabs, depending on the values of control elements"
      ]
    },
    {
      "cell_type": "code",
      "source": [
        "out2 = widgets.interactive_output(bandwidth_widget,{'model':rd8,'Performance_metrics':select4,'Scaler':dd2})\n",
        "display(widgets.HTML('<br><b><center><font size=\"5\">Eric Dietriche Sesso Domtchoueng</font></center></b>'))\n",
        "display(rd8)\n",
        "display(select4)\n",
        "display(dd2)\n",
        "display(tab)"
      ],
      "metadata": {
        "id": "xncrFWIP8pvv",
        "colab": {
          "base_uri": "https://localhost:8080/",
          "height": 738,
          "referenced_widgets": [
            "dcb4db95c54b4a64b5955e0c51370248",
            "4fa3279ad0bb4662bfd092e46df8a2d7",
            "e2ae345800914ffba2caefa63724f22a",
            "b496516bb5b54267b9e3e586c27156fb",
            "4576730477fc42f9a6630bd8bbadd544",
            "a0af23cdfddf41899dcf0d7155c0f6e6",
            "2881563fbed142679a209c881ccc32da",
            "0238b0ce752740e1b70aadcacdd7dc3b",
            "5c5166062c92438081b40127cf60eee3",
            "76fb8941867c4d8e86c9645a07de58a6",
            "fbb50220c8524bcca6f95889d2cadf3f",
            "58208b366a5049be8cba70525174bc7d",
            "9a3d436d2efb42c186d72d61580b598f",
            "88850532796046e680e80d6de73d3de4",
            "0ab510c0151446ed91634d4d42e0e297",
            "467b1d57a2624612a9ece342ab6786e3",
            "ef5e816ecffb454481f67750f757ae31",
            "43b6dc5936ea451b99ced043c942a28a",
            "52f9da17f97540578d0914db06315100",
            "df241bd5001e4f65a3bba31d8a8f169e"
          ]
        },
        "outputId": "5b5988a4-88c2-4e37-8aab-35a157bb770b"
      },
      "execution_count": 36,
      "outputs": [
        {
          "output_type": "display_data",
          "data": {
            "text/plain": [
              "HTML(value='<br><b><center><font size=\"5\">Eric Dietriche Sesso Domtchoueng</font></center></b>')"
            ],
            "application/vnd.jupyter.widget-view+json": {
              "version_major": 2,
              "version_minor": 0,
              "model_id": "dcb4db95c54b4a64b5955e0c51370248"
            }
          },
          "metadata": {}
        },
        {
          "output_type": "display_data",
          "data": {
            "text/plain": [
              "RadioButtons(description='Model:', options=('SVR', 'DT', 'LM', 'KNN', 'LGBMR', 'RandomFR', 'CatBoot', 'XGBR'),…"
            ],
            "application/vnd.jupyter.widget-view+json": {
              "version_major": 2,
              "version_minor": 0,
              "model_id": "b496516bb5b54267b9e3e586c27156fb"
            }
          },
          "metadata": {}
        },
        {
          "output_type": "display_data",
          "data": {
            "text/plain": [
              "SelectMultiple(description='Performance_metrics', index=(0,), options=('R2', 'MSE', 'RMSE', 'MAE'), value=('R2…"
            ],
            "application/vnd.jupyter.widget-view+json": {
              "version_major": 2,
              "version_minor": 0,
              "model_id": "2881563fbed142679a209c881ccc32da"
            }
          },
          "metadata": {}
        },
        {
          "output_type": "display_data",
          "data": {
            "text/plain": [
              "Dropdown(description='Scaler', options=('Standard Scaler', 'MinMax Scaler'), value='Standard Scaler')"
            ],
            "application/vnd.jupyter.widget-view+json": {
              "version_major": 2,
              "version_minor": 0,
              "model_id": "76fb8941867c4d8e86c9645a07de58a6"
            }
          },
          "metadata": {}
        },
        {
          "output_type": "display_data",
          "data": {
            "text/plain": [
              "Tab(children=(Output(), Output(), Output()), _titles={'0': 'data pre-processing', '1': 'Prediction', '2': 'hyp…"
            ],
            "application/vnd.jupyter.widget-view+json": {
              "version_major": 2,
              "version_minor": 0,
              "model_id": "9a3d436d2efb42c186d72d61580b598f"
            }
          },
          "metadata": {}
        }
      ]
    },
    {
      "cell_type": "markdown",
      "metadata": {
        "id": "fz4NDboGm6zD"
      },
      "source": [
        "# **`Task 4 “Model Performance evaluation”  (10 Scores)`**"
      ]
    },
    {
      "cell_type": "markdown",
      "metadata": {
        "id": "zb8x6aklnDoB"
      },
      "source": [
        "1) Use Plotly library to output the results of all 8 models built based on test dataset. "
      ]
    },
    {
      "cell_type": "code",
      "execution_count": 37,
      "metadata": {
        "id": "QJ5pmxBinZB0",
        "colab": {
          "base_uri": "https://localhost:8080/",
          "height": 1000
        },
        "outputId": "a465b2bd-3288-4089-828b-4782cac69e0b"
      },
      "outputs": [
        {
          "output_type": "stream",
          "name": "stdout",
          "text": [
            "[13:40:55] WARNING: /workspace/src/objective/regression_obj.cu:152: reg:linear is now deprecated in favor of reg:squarederror.\n"
          ]
        },
        {
          "output_type": "display_data",
          "data": {
            "text/html": [
              "<html>\n",
              "<head><meta charset=\"utf-8\" /></head>\n",
              "<body>\n",
              "    <div>            <script src=\"https://cdnjs.cloudflare.com/ajax/libs/mathjax/2.7.5/MathJax.js?config=TeX-AMS-MML_SVG\"></script><script type=\"text/javascript\">if (window.MathJax) {MathJax.Hub.Config({SVG: {font: \"STIX-Web\"}});}</script>                <script type=\"text/javascript\">window.PlotlyConfig = {MathJaxConfig: 'local'};</script>\n",
              "        <script src=\"https://cdn.plot.ly/plotly-2.8.3.min.js\"></script>                <div id=\"93bdeff9-f319-4abd-b65d-c1e62e8bf0c0\" class=\"plotly-graph-div\" style=\"height:600px; width:600px;\"></div>            <script type=\"text/javascript\">                                    window.PLOTLYENV=window.PLOTLYENV || {};                                    if (document.getElementById(\"93bdeff9-f319-4abd-b65d-c1e62e8bf0c0\")) {                    Plotly.newPlot(                        \"93bdeff9-f319-4abd-b65d-c1e62e8bf0c0\",                        [{\"hovertemplate\":\"True Values=%{x}<br>Predictions=%{y}<extra></extra>\",\"legendgroup\":\"\",\"marker\":{\"color\":\"#636efa\",\"symbol\":\"circle\"},\"mode\":\"markers\",\"name\":\"\",\"orientation\":\"v\",\"showlegend\":false,\"x\":[0.5155555555555555,0.42,0.25777777777777783,0.3777777777777778,0.35111111111111115,0.4000000000000001,0.5088888888888888,0.21111111111111114,0.3666666666666667,0.39111111111111113,0.4155555555555555,0.5822222222222222,0.3177777777777778,0.32,0.32,0.5088888888888888,0.19777777777777783,1.0,0.42444444444444446,0.21333333333333332,0.24888888888888888,0.23555555555555557,0.41777777777777786,0.4444444444444445,0.41111111111111115,0.07333333333333335,0.18888888888888888,0.2777777777777778,0.8466666666666667,0.1444444444444445,0.42444444444444446,0.30000000000000004,1.0,0.16888888888888892,0.32888888888888895,0.4333333333333334,0.22000000000000003,0.6933333333333334,0.15333333333333338,0.3133333333333334,0.39111111111111113,0.3488888888888889,0.5577777777777778,0.18444444444444447,0.21333333333333332,0.07555555555555556,1.0,0.1711111111111111,0.4444444444444445,0.3022222222222223,0.5511111111111111],\"xaxis\":\"x\",\"y\":[0.5250917306938873,0.4809947079158214,0.2981918364423828,0.3377122736903069,0.3194377208525406,0.33650690745291095,0.509910648243969,0.28355203621465264,0.37622663454706756,0.40618969721675857,0.4739946962348887,0.5517935628015266,0.3484265709016518,0.33359305314301557,0.3218181455590482,0.49616101020754194,0.39634606357499225,0.851206588623065,0.3860533609633729,0.21399335556806545,0.324201880991306,0.2804716030653318,0.3964048567960647,0.40703620070882524,0.4564382619569456,0.07029283976661427,0.2248959784038095,0.301791054930852,0.8479533210431449,0.1310802589774484,0.4039612209078834,0.2867623815813164,0.9594176279469464,0.25201364901935985,0.375833182269448,0.335448980836136,0.21362971766835107,0.5895659602480233,0.29487824988538247,0.34509891690188665,0.4027067311088141,0.3693629417004761,0.420423092619419,0.24517774270404083,0.2824726417738826,0.1330132374142658,0.9531550182480315,0.19261659128125816,0.4162228761975873,0.3128566497653481,0.4314581420071547],\"yaxis\":\"y\",\"type\":\"scatter\"}],                        {\"template\":{\"data\":{\"bar\":[{\"error_x\":{\"color\":\"#2a3f5f\"},\"error_y\":{\"color\":\"#2a3f5f\"},\"marker\":{\"line\":{\"color\":\"#E5ECF6\",\"width\":0.5},\"pattern\":{\"fillmode\":\"overlay\",\"size\":10,\"solidity\":0.2}},\"type\":\"bar\"}],\"barpolar\":[{\"marker\":{\"line\":{\"color\":\"#E5ECF6\",\"width\":0.5},\"pattern\":{\"fillmode\":\"overlay\",\"size\":10,\"solidity\":0.2}},\"type\":\"barpolar\"}],\"carpet\":[{\"aaxis\":{\"endlinecolor\":\"#2a3f5f\",\"gridcolor\":\"white\",\"linecolor\":\"white\",\"minorgridcolor\":\"white\",\"startlinecolor\":\"#2a3f5f\"},\"baxis\":{\"endlinecolor\":\"#2a3f5f\",\"gridcolor\":\"white\",\"linecolor\":\"white\",\"minorgridcolor\":\"white\",\"startlinecolor\":\"#2a3f5f\"},\"type\":\"carpet\"}],\"choropleth\":[{\"colorbar\":{\"outlinewidth\":0,\"ticks\":\"\"},\"type\":\"choropleth\"}],\"contour\":[{\"colorbar\":{\"outlinewidth\":0,\"ticks\":\"\"},\"colorscale\":[[0.0,\"#0d0887\"],[0.1111111111111111,\"#46039f\"],[0.2222222222222222,\"#7201a8\"],[0.3333333333333333,\"#9c179e\"],[0.4444444444444444,\"#bd3786\"],[0.5555555555555556,\"#d8576b\"],[0.6666666666666666,\"#ed7953\"],[0.7777777777777778,\"#fb9f3a\"],[0.8888888888888888,\"#fdca26\"],[1.0,\"#f0f921\"]],\"type\":\"contour\"}],\"contourcarpet\":[{\"colorbar\":{\"outlinewidth\":0,\"ticks\":\"\"},\"type\":\"contourcarpet\"}],\"heatmap\":[{\"colorbar\":{\"outlinewidth\":0,\"ticks\":\"\"},\"colorscale\":[[0.0,\"#0d0887\"],[0.1111111111111111,\"#46039f\"],[0.2222222222222222,\"#7201a8\"],[0.3333333333333333,\"#9c179e\"],[0.4444444444444444,\"#bd3786\"],[0.5555555555555556,\"#d8576b\"],[0.6666666666666666,\"#ed7953\"],[0.7777777777777778,\"#fb9f3a\"],[0.8888888888888888,\"#fdca26\"],[1.0,\"#f0f921\"]],\"type\":\"heatmap\"}],\"heatmapgl\":[{\"colorbar\":{\"outlinewidth\":0,\"ticks\":\"\"},\"colorscale\":[[0.0,\"#0d0887\"],[0.1111111111111111,\"#46039f\"],[0.2222222222222222,\"#7201a8\"],[0.3333333333333333,\"#9c179e\"],[0.4444444444444444,\"#bd3786\"],[0.5555555555555556,\"#d8576b\"],[0.6666666666666666,\"#ed7953\"],[0.7777777777777778,\"#fb9f3a\"],[0.8888888888888888,\"#fdca26\"],[1.0,\"#f0f921\"]],\"type\":\"heatmapgl\"}],\"histogram\":[{\"marker\":{\"pattern\":{\"fillmode\":\"overlay\",\"size\":10,\"solidity\":0.2}},\"type\":\"histogram\"}],\"histogram2d\":[{\"colorbar\":{\"outlinewidth\":0,\"ticks\":\"\"},\"colorscale\":[[0.0,\"#0d0887\"],[0.1111111111111111,\"#46039f\"],[0.2222222222222222,\"#7201a8\"],[0.3333333333333333,\"#9c179e\"],[0.4444444444444444,\"#bd3786\"],[0.5555555555555556,\"#d8576b\"],[0.6666666666666666,\"#ed7953\"],[0.7777777777777778,\"#fb9f3a\"],[0.8888888888888888,\"#fdca26\"],[1.0,\"#f0f921\"]],\"type\":\"histogram2d\"}],\"histogram2dcontour\":[{\"colorbar\":{\"outlinewidth\":0,\"ticks\":\"\"},\"colorscale\":[[0.0,\"#0d0887\"],[0.1111111111111111,\"#46039f\"],[0.2222222222222222,\"#7201a8\"],[0.3333333333333333,\"#9c179e\"],[0.4444444444444444,\"#bd3786\"],[0.5555555555555556,\"#d8576b\"],[0.6666666666666666,\"#ed7953\"],[0.7777777777777778,\"#fb9f3a\"],[0.8888888888888888,\"#fdca26\"],[1.0,\"#f0f921\"]],\"type\":\"histogram2dcontour\"}],\"mesh3d\":[{\"colorbar\":{\"outlinewidth\":0,\"ticks\":\"\"},\"type\":\"mesh3d\"}],\"parcoords\":[{\"line\":{\"colorbar\":{\"outlinewidth\":0,\"ticks\":\"\"}},\"type\":\"parcoords\"}],\"pie\":[{\"automargin\":true,\"type\":\"pie\"}],\"scatter\":[{\"marker\":{\"colorbar\":{\"outlinewidth\":0,\"ticks\":\"\"}},\"type\":\"scatter\"}],\"scatter3d\":[{\"line\":{\"colorbar\":{\"outlinewidth\":0,\"ticks\":\"\"}},\"marker\":{\"colorbar\":{\"outlinewidth\":0,\"ticks\":\"\"}},\"type\":\"scatter3d\"}],\"scattercarpet\":[{\"marker\":{\"colorbar\":{\"outlinewidth\":0,\"ticks\":\"\"}},\"type\":\"scattercarpet\"}],\"scattergeo\":[{\"marker\":{\"colorbar\":{\"outlinewidth\":0,\"ticks\":\"\"}},\"type\":\"scattergeo\"}],\"scattergl\":[{\"marker\":{\"colorbar\":{\"outlinewidth\":0,\"ticks\":\"\"}},\"type\":\"scattergl\"}],\"scattermapbox\":[{\"marker\":{\"colorbar\":{\"outlinewidth\":0,\"ticks\":\"\"}},\"type\":\"scattermapbox\"}],\"scatterpolar\":[{\"marker\":{\"colorbar\":{\"outlinewidth\":0,\"ticks\":\"\"}},\"type\":\"scatterpolar\"}],\"scatterpolargl\":[{\"marker\":{\"colorbar\":{\"outlinewidth\":0,\"ticks\":\"\"}},\"type\":\"scatterpolargl\"}],\"scatterternary\":[{\"marker\":{\"colorbar\":{\"outlinewidth\":0,\"ticks\":\"\"}},\"type\":\"scatterternary\"}],\"surface\":[{\"colorbar\":{\"outlinewidth\":0,\"ticks\":\"\"},\"colorscale\":[[0.0,\"#0d0887\"],[0.1111111111111111,\"#46039f\"],[0.2222222222222222,\"#7201a8\"],[0.3333333333333333,\"#9c179e\"],[0.4444444444444444,\"#bd3786\"],[0.5555555555555556,\"#d8576b\"],[0.6666666666666666,\"#ed7953\"],[0.7777777777777778,\"#fb9f3a\"],[0.8888888888888888,\"#fdca26\"],[1.0,\"#f0f921\"]],\"type\":\"surface\"}],\"table\":[{\"cells\":{\"fill\":{\"color\":\"#EBF0F8\"},\"line\":{\"color\":\"white\"}},\"header\":{\"fill\":{\"color\":\"#C8D4E3\"},\"line\":{\"color\":\"white\"}},\"type\":\"table\"}]},\"layout\":{\"annotationdefaults\":{\"arrowcolor\":\"#2a3f5f\",\"arrowhead\":0,\"arrowwidth\":1},\"autotypenumbers\":\"strict\",\"coloraxis\":{\"colorbar\":{\"outlinewidth\":0,\"ticks\":\"\"}},\"colorscale\":{\"diverging\":[[0,\"#8e0152\"],[0.1,\"#c51b7d\"],[0.2,\"#de77ae\"],[0.3,\"#f1b6da\"],[0.4,\"#fde0ef\"],[0.5,\"#f7f7f7\"],[0.6,\"#e6f5d0\"],[0.7,\"#b8e186\"],[0.8,\"#7fbc41\"],[0.9,\"#4d9221\"],[1,\"#276419\"]],\"sequential\":[[0.0,\"#0d0887\"],[0.1111111111111111,\"#46039f\"],[0.2222222222222222,\"#7201a8\"],[0.3333333333333333,\"#9c179e\"],[0.4444444444444444,\"#bd3786\"],[0.5555555555555556,\"#d8576b\"],[0.6666666666666666,\"#ed7953\"],[0.7777777777777778,\"#fb9f3a\"],[0.8888888888888888,\"#fdca26\"],[1.0,\"#f0f921\"]],\"sequentialminus\":[[0.0,\"#0d0887\"],[0.1111111111111111,\"#46039f\"],[0.2222222222222222,\"#7201a8\"],[0.3333333333333333,\"#9c179e\"],[0.4444444444444444,\"#bd3786\"],[0.5555555555555556,\"#d8576b\"],[0.6666666666666666,\"#ed7953\"],[0.7777777777777778,\"#fb9f3a\"],[0.8888888888888888,\"#fdca26\"],[1.0,\"#f0f921\"]]},\"colorway\":[\"#636efa\",\"#EF553B\",\"#00cc96\",\"#ab63fa\",\"#FFA15A\",\"#19d3f3\",\"#FF6692\",\"#B6E880\",\"#FF97FF\",\"#FECB52\"],\"font\":{\"color\":\"#2a3f5f\"},\"geo\":{\"bgcolor\":\"white\",\"lakecolor\":\"white\",\"landcolor\":\"#E5ECF6\",\"showlakes\":true,\"showland\":true,\"subunitcolor\":\"white\"},\"hoverlabel\":{\"align\":\"left\"},\"hovermode\":\"closest\",\"mapbox\":{\"style\":\"light\"},\"paper_bgcolor\":\"white\",\"plot_bgcolor\":\"#E5ECF6\",\"polar\":{\"angularaxis\":{\"gridcolor\":\"white\",\"linecolor\":\"white\",\"ticks\":\"\"},\"bgcolor\":\"#E5ECF6\",\"radialaxis\":{\"gridcolor\":\"white\",\"linecolor\":\"white\",\"ticks\":\"\"}},\"scene\":{\"xaxis\":{\"backgroundcolor\":\"#E5ECF6\",\"gridcolor\":\"white\",\"gridwidth\":2,\"linecolor\":\"white\",\"showbackground\":true,\"ticks\":\"\",\"zerolinecolor\":\"white\"},\"yaxis\":{\"backgroundcolor\":\"#E5ECF6\",\"gridcolor\":\"white\",\"gridwidth\":2,\"linecolor\":\"white\",\"showbackground\":true,\"ticks\":\"\",\"zerolinecolor\":\"white\"},\"zaxis\":{\"backgroundcolor\":\"#E5ECF6\",\"gridcolor\":\"white\",\"gridwidth\":2,\"linecolor\":\"white\",\"showbackground\":true,\"ticks\":\"\",\"zerolinecolor\":\"white\"}},\"shapedefaults\":{\"line\":{\"color\":\"#2a3f5f\"}},\"ternary\":{\"aaxis\":{\"gridcolor\":\"white\",\"linecolor\":\"white\",\"ticks\":\"\"},\"baxis\":{\"gridcolor\":\"white\",\"linecolor\":\"white\",\"ticks\":\"\"},\"bgcolor\":\"#E5ECF6\",\"caxis\":{\"gridcolor\":\"white\",\"linecolor\":\"white\",\"ticks\":\"\"}},\"title\":{\"x\":0.05},\"xaxis\":{\"automargin\":true,\"gridcolor\":\"white\",\"linecolor\":\"white\",\"ticks\":\"\",\"title\":{\"standoff\":15},\"zerolinecolor\":\"white\",\"zerolinewidth\":2},\"yaxis\":{\"automargin\":true,\"gridcolor\":\"white\",\"linecolor\":\"white\",\"ticks\":\"\",\"title\":{\"standoff\":15},\"zerolinecolor\":\"white\",\"zerolinewidth\":2}}},\"xaxis\":{\"anchor\":\"y\",\"domain\":[0.0,1.0],\"title\":{\"text\":\"True Values\"}},\"yaxis\":{\"anchor\":\"x\",\"domain\":[0.0,1.0],\"title\":{\"text\":\"Predictions\"}},\"legend\":{\"tracegroupgap\":0},\"margin\":{\"t\":60},\"shapes\":[{\"line\":{\"dash\":\"dash\"},\"type\":\"line\",\"x0\":0.07333333333333335,\"x1\":1.0,\"y0\":0.07333333333333335,\"y1\":1.0}],\"title\":{\"text\":\"CatBoostRegressor\"},\"height\":600,\"width\":600},                        {\"responsive\": true}                    ).then(function(){\n",
              "                            \n",
              "var gd = document.getElementById('93bdeff9-f319-4abd-b65d-c1e62e8bf0c0');\n",
              "var x = new MutationObserver(function (mutations, observer) {{\n",
              "        var display = window.getComputedStyle(gd).display;\n",
              "        if (!display || display === 'none') {{\n",
              "            console.log([gd, 'removed!']);\n",
              "            Plotly.purge(gd);\n",
              "            observer.disconnect();\n",
              "        }}\n",
              "}});\n",
              "\n",
              "// Listen for the removal of the full notebook cells\n",
              "var notebookContainer = gd.closest('#notebook-container');\n",
              "if (notebookContainer) {{\n",
              "    x.observe(notebookContainer, {childList: true});\n",
              "}}\n",
              "\n",
              "// Listen for the clearing of the current output cell\n",
              "var outputEl = gd.closest('.output');\n",
              "if (outputEl) {{\n",
              "    x.observe(outputEl, {childList: true});\n",
              "}}\n",
              "\n",
              "                        })                };                            </script>        </div>\n",
              "</body>\n",
              "</html>"
            ]
          },
          "metadata": {}
        },
        {
          "output_type": "display_data",
          "data": {
            "text/html": [
              "<html>\n",
              "<head><meta charset=\"utf-8\" /></head>\n",
              "<body>\n",
              "    <div>            <script src=\"https://cdnjs.cloudflare.com/ajax/libs/mathjax/2.7.5/MathJax.js?config=TeX-AMS-MML_SVG\"></script><script type=\"text/javascript\">if (window.MathJax) {MathJax.Hub.Config({SVG: {font: \"STIX-Web\"}});}</script>                <script type=\"text/javascript\">window.PlotlyConfig = {MathJaxConfig: 'local'};</script>\n",
              "        <script src=\"https://cdn.plot.ly/plotly-2.8.3.min.js\"></script>                <div id=\"a0ae32b7-0f66-4aa2-9dc4-2289615f8609\" class=\"plotly-graph-div\" style=\"height:600px; width:600px;\"></div>            <script type=\"text/javascript\">                                    window.PLOTLYENV=window.PLOTLYENV || {};                                    if (document.getElementById(\"a0ae32b7-0f66-4aa2-9dc4-2289615f8609\")) {                    Plotly.newPlot(                        \"a0ae32b7-0f66-4aa2-9dc4-2289615f8609\",                        [{\"hovertemplate\":\"True Values=%{x}<br>Predictions=%{y}<extra></extra>\",\"legendgroup\":\"\",\"marker\":{\"color\":\"#636efa\",\"symbol\":\"circle\"},\"mode\":\"markers\",\"name\":\"\",\"orientation\":\"v\",\"showlegend\":false,\"x\":[0.5155555555555555,0.42,0.25777777777777783,0.3777777777777778,0.35111111111111115,0.4000000000000001,0.5088888888888888,0.21111111111111114,0.3666666666666667,0.39111111111111113,0.4155555555555555,0.5822222222222222,0.3177777777777778,0.32,0.32,0.5088888888888888,0.19777777777777783,1.0,0.42444444444444446,0.21333333333333332,0.24888888888888888,0.23555555555555557,0.41777777777777786,0.4444444444444445,0.41111111111111115,0.07333333333333335,0.18888888888888888,0.2777777777777778,0.8466666666666667,0.1444444444444445,0.42444444444444446,0.30000000000000004,1.0,0.16888888888888892,0.32888888888888895,0.4333333333333334,0.22000000000000003,0.6933333333333334,0.15333333333333338,0.3133333333333334,0.39111111111111113,0.3488888888888889,0.5577777777777778,0.18444444444444447,0.21333333333333332,0.07555555555555556,1.0,0.1711111111111111,0.4444444444444445,0.3022222222222223,0.5511111111111111],\"xaxis\":\"x\",\"y\":[0.6244444444444445,0.4911111111111112,0.2088888888888889,0.35333333333333333,0.22888888888888892,0.30000000000000004,0.5577777777777778,0.3422222222222222,0.34444444444444444,0.3777777777777778,0.5266666666666666,0.5222222222222221,0.39111111111111113,0.32666666666666666,0.3888888888888889,1.0,1.0,0.8844444444444444,0.3888888888888889,0.15111111111111114,0.30000000000000004,0.18,0.35555555555555557,0.4000000000000001,0.3777777777777778,0.08444444444444445,0.1955555555555556,0.3888888888888889,1.0,0.07777777777777777,0.5111111111111111,0.34,0.9666666666666666,0.2844444444444445,0.3777777777777778,0.37333333333333335,0.22666666666666668,0.6222222222222222,0.1955555555555556,0.33333333333333337,0.3777777777777778,0.38222222222222224,0.5333333333333333,0.3133333333333334,0.18,0.2844444444444445,1.0,0.23555555555555557,0.42888888888888893,0.2466666666666667,0.5],\"yaxis\":\"y\",\"type\":\"scatter\"}],                        {\"template\":{\"data\":{\"bar\":[{\"error_x\":{\"color\":\"#2a3f5f\"},\"error_y\":{\"color\":\"#2a3f5f\"},\"marker\":{\"line\":{\"color\":\"#E5ECF6\",\"width\":0.5},\"pattern\":{\"fillmode\":\"overlay\",\"size\":10,\"solidity\":0.2}},\"type\":\"bar\"}],\"barpolar\":[{\"marker\":{\"line\":{\"color\":\"#E5ECF6\",\"width\":0.5},\"pattern\":{\"fillmode\":\"overlay\",\"size\":10,\"solidity\":0.2}},\"type\":\"barpolar\"}],\"carpet\":[{\"aaxis\":{\"endlinecolor\":\"#2a3f5f\",\"gridcolor\":\"white\",\"linecolor\":\"white\",\"minorgridcolor\":\"white\",\"startlinecolor\":\"#2a3f5f\"},\"baxis\":{\"endlinecolor\":\"#2a3f5f\",\"gridcolor\":\"white\",\"linecolor\":\"white\",\"minorgridcolor\":\"white\",\"startlinecolor\":\"#2a3f5f\"},\"type\":\"carpet\"}],\"choropleth\":[{\"colorbar\":{\"outlinewidth\":0,\"ticks\":\"\"},\"type\":\"choropleth\"}],\"contour\":[{\"colorbar\":{\"outlinewidth\":0,\"ticks\":\"\"},\"colorscale\":[[0.0,\"#0d0887\"],[0.1111111111111111,\"#46039f\"],[0.2222222222222222,\"#7201a8\"],[0.3333333333333333,\"#9c179e\"],[0.4444444444444444,\"#bd3786\"],[0.5555555555555556,\"#d8576b\"],[0.6666666666666666,\"#ed7953\"],[0.7777777777777778,\"#fb9f3a\"],[0.8888888888888888,\"#fdca26\"],[1.0,\"#f0f921\"]],\"type\":\"contour\"}],\"contourcarpet\":[{\"colorbar\":{\"outlinewidth\":0,\"ticks\":\"\"},\"type\":\"contourcarpet\"}],\"heatmap\":[{\"colorbar\":{\"outlinewidth\":0,\"ticks\":\"\"},\"colorscale\":[[0.0,\"#0d0887\"],[0.1111111111111111,\"#46039f\"],[0.2222222222222222,\"#7201a8\"],[0.3333333333333333,\"#9c179e\"],[0.4444444444444444,\"#bd3786\"],[0.5555555555555556,\"#d8576b\"],[0.6666666666666666,\"#ed7953\"],[0.7777777777777778,\"#fb9f3a\"],[0.8888888888888888,\"#fdca26\"],[1.0,\"#f0f921\"]],\"type\":\"heatmap\"}],\"heatmapgl\":[{\"colorbar\":{\"outlinewidth\":0,\"ticks\":\"\"},\"colorscale\":[[0.0,\"#0d0887\"],[0.1111111111111111,\"#46039f\"],[0.2222222222222222,\"#7201a8\"],[0.3333333333333333,\"#9c179e\"],[0.4444444444444444,\"#bd3786\"],[0.5555555555555556,\"#d8576b\"],[0.6666666666666666,\"#ed7953\"],[0.7777777777777778,\"#fb9f3a\"],[0.8888888888888888,\"#fdca26\"],[1.0,\"#f0f921\"]],\"type\":\"heatmapgl\"}],\"histogram\":[{\"marker\":{\"pattern\":{\"fillmode\":\"overlay\",\"size\":10,\"solidity\":0.2}},\"type\":\"histogram\"}],\"histogram2d\":[{\"colorbar\":{\"outlinewidth\":0,\"ticks\":\"\"},\"colorscale\":[[0.0,\"#0d0887\"],[0.1111111111111111,\"#46039f\"],[0.2222222222222222,\"#7201a8\"],[0.3333333333333333,\"#9c179e\"],[0.4444444444444444,\"#bd3786\"],[0.5555555555555556,\"#d8576b\"],[0.6666666666666666,\"#ed7953\"],[0.7777777777777778,\"#fb9f3a\"],[0.8888888888888888,\"#fdca26\"],[1.0,\"#f0f921\"]],\"type\":\"histogram2d\"}],\"histogram2dcontour\":[{\"colorbar\":{\"outlinewidth\":0,\"ticks\":\"\"},\"colorscale\":[[0.0,\"#0d0887\"],[0.1111111111111111,\"#46039f\"],[0.2222222222222222,\"#7201a8\"],[0.3333333333333333,\"#9c179e\"],[0.4444444444444444,\"#bd3786\"],[0.5555555555555556,\"#d8576b\"],[0.6666666666666666,\"#ed7953\"],[0.7777777777777778,\"#fb9f3a\"],[0.8888888888888888,\"#fdca26\"],[1.0,\"#f0f921\"]],\"type\":\"histogram2dcontour\"}],\"mesh3d\":[{\"colorbar\":{\"outlinewidth\":0,\"ticks\":\"\"},\"type\":\"mesh3d\"}],\"parcoords\":[{\"line\":{\"colorbar\":{\"outlinewidth\":0,\"ticks\":\"\"}},\"type\":\"parcoords\"}],\"pie\":[{\"automargin\":true,\"type\":\"pie\"}],\"scatter\":[{\"marker\":{\"colorbar\":{\"outlinewidth\":0,\"ticks\":\"\"}},\"type\":\"scatter\"}],\"scatter3d\":[{\"line\":{\"colorbar\":{\"outlinewidth\":0,\"ticks\":\"\"}},\"marker\":{\"colorbar\":{\"outlinewidth\":0,\"ticks\":\"\"}},\"type\":\"scatter3d\"}],\"scattercarpet\":[{\"marker\":{\"colorbar\":{\"outlinewidth\":0,\"ticks\":\"\"}},\"type\":\"scattercarpet\"}],\"scattergeo\":[{\"marker\":{\"colorbar\":{\"outlinewidth\":0,\"ticks\":\"\"}},\"type\":\"scattergeo\"}],\"scattergl\":[{\"marker\":{\"colorbar\":{\"outlinewidth\":0,\"ticks\":\"\"}},\"type\":\"scattergl\"}],\"scattermapbox\":[{\"marker\":{\"colorbar\":{\"outlinewidth\":0,\"ticks\":\"\"}},\"type\":\"scattermapbox\"}],\"scatterpolar\":[{\"marker\":{\"colorbar\":{\"outlinewidth\":0,\"ticks\":\"\"}},\"type\":\"scatterpolar\"}],\"scatterpolargl\":[{\"marker\":{\"colorbar\":{\"outlinewidth\":0,\"ticks\":\"\"}},\"type\":\"scatterpolargl\"}],\"scatterternary\":[{\"marker\":{\"colorbar\":{\"outlinewidth\":0,\"ticks\":\"\"}},\"type\":\"scatterternary\"}],\"surface\":[{\"colorbar\":{\"outlinewidth\":0,\"ticks\":\"\"},\"colorscale\":[[0.0,\"#0d0887\"],[0.1111111111111111,\"#46039f\"],[0.2222222222222222,\"#7201a8\"],[0.3333333333333333,\"#9c179e\"],[0.4444444444444444,\"#bd3786\"],[0.5555555555555556,\"#d8576b\"],[0.6666666666666666,\"#ed7953\"],[0.7777777777777778,\"#fb9f3a\"],[0.8888888888888888,\"#fdca26\"],[1.0,\"#f0f921\"]],\"type\":\"surface\"}],\"table\":[{\"cells\":{\"fill\":{\"color\":\"#EBF0F8\"},\"line\":{\"color\":\"white\"}},\"header\":{\"fill\":{\"color\":\"#C8D4E3\"},\"line\":{\"color\":\"white\"}},\"type\":\"table\"}]},\"layout\":{\"annotationdefaults\":{\"arrowcolor\":\"#2a3f5f\",\"arrowhead\":0,\"arrowwidth\":1},\"autotypenumbers\":\"strict\",\"coloraxis\":{\"colorbar\":{\"outlinewidth\":0,\"ticks\":\"\"}},\"colorscale\":{\"diverging\":[[0,\"#8e0152\"],[0.1,\"#c51b7d\"],[0.2,\"#de77ae\"],[0.3,\"#f1b6da\"],[0.4,\"#fde0ef\"],[0.5,\"#f7f7f7\"],[0.6,\"#e6f5d0\"],[0.7,\"#b8e186\"],[0.8,\"#7fbc41\"],[0.9,\"#4d9221\"],[1,\"#276419\"]],\"sequential\":[[0.0,\"#0d0887\"],[0.1111111111111111,\"#46039f\"],[0.2222222222222222,\"#7201a8\"],[0.3333333333333333,\"#9c179e\"],[0.4444444444444444,\"#bd3786\"],[0.5555555555555556,\"#d8576b\"],[0.6666666666666666,\"#ed7953\"],[0.7777777777777778,\"#fb9f3a\"],[0.8888888888888888,\"#fdca26\"],[1.0,\"#f0f921\"]],\"sequentialminus\":[[0.0,\"#0d0887\"],[0.1111111111111111,\"#46039f\"],[0.2222222222222222,\"#7201a8\"],[0.3333333333333333,\"#9c179e\"],[0.4444444444444444,\"#bd3786\"],[0.5555555555555556,\"#d8576b\"],[0.6666666666666666,\"#ed7953\"],[0.7777777777777778,\"#fb9f3a\"],[0.8888888888888888,\"#fdca26\"],[1.0,\"#f0f921\"]]},\"colorway\":[\"#636efa\",\"#EF553B\",\"#00cc96\",\"#ab63fa\",\"#FFA15A\",\"#19d3f3\",\"#FF6692\",\"#B6E880\",\"#FF97FF\",\"#FECB52\"],\"font\":{\"color\":\"#2a3f5f\"},\"geo\":{\"bgcolor\":\"white\",\"lakecolor\":\"white\",\"landcolor\":\"#E5ECF6\",\"showlakes\":true,\"showland\":true,\"subunitcolor\":\"white\"},\"hoverlabel\":{\"align\":\"left\"},\"hovermode\":\"closest\",\"mapbox\":{\"style\":\"light\"},\"paper_bgcolor\":\"white\",\"plot_bgcolor\":\"#E5ECF6\",\"polar\":{\"angularaxis\":{\"gridcolor\":\"white\",\"linecolor\":\"white\",\"ticks\":\"\"},\"bgcolor\":\"#E5ECF6\",\"radialaxis\":{\"gridcolor\":\"white\",\"linecolor\":\"white\",\"ticks\":\"\"}},\"scene\":{\"xaxis\":{\"backgroundcolor\":\"#E5ECF6\",\"gridcolor\":\"white\",\"gridwidth\":2,\"linecolor\":\"white\",\"showbackground\":true,\"ticks\":\"\",\"zerolinecolor\":\"white\"},\"yaxis\":{\"backgroundcolor\":\"#E5ECF6\",\"gridcolor\":\"white\",\"gridwidth\":2,\"linecolor\":\"white\",\"showbackground\":true,\"ticks\":\"\",\"zerolinecolor\":\"white\"},\"zaxis\":{\"backgroundcolor\":\"#E5ECF6\",\"gridcolor\":\"white\",\"gridwidth\":2,\"linecolor\":\"white\",\"showbackground\":true,\"ticks\":\"\",\"zerolinecolor\":\"white\"}},\"shapedefaults\":{\"line\":{\"color\":\"#2a3f5f\"}},\"ternary\":{\"aaxis\":{\"gridcolor\":\"white\",\"linecolor\":\"white\",\"ticks\":\"\"},\"baxis\":{\"gridcolor\":\"white\",\"linecolor\":\"white\",\"ticks\":\"\"},\"bgcolor\":\"#E5ECF6\",\"caxis\":{\"gridcolor\":\"white\",\"linecolor\":\"white\",\"ticks\":\"\"}},\"title\":{\"x\":0.05},\"xaxis\":{\"automargin\":true,\"gridcolor\":\"white\",\"linecolor\":\"white\",\"ticks\":\"\",\"title\":{\"standoff\":15},\"zerolinecolor\":\"white\",\"zerolinewidth\":2},\"yaxis\":{\"automargin\":true,\"gridcolor\":\"white\",\"linecolor\":\"white\",\"ticks\":\"\",\"title\":{\"standoff\":15},\"zerolinecolor\":\"white\",\"zerolinewidth\":2}}},\"xaxis\":{\"anchor\":\"y\",\"domain\":[0.0,1.0],\"title\":{\"text\":\"True Values\"}},\"yaxis\":{\"anchor\":\"x\",\"domain\":[0.0,1.0],\"title\":{\"text\":\"Predictions\"}},\"legend\":{\"tracegroupgap\":0},\"margin\":{\"t\":60},\"shapes\":[{\"line\":{\"dash\":\"dash\"},\"type\":\"line\",\"x0\":0.07333333333333335,\"x1\":1.0,\"y0\":0.07333333333333335,\"y1\":1.0}],\"title\":{\"text\":\"DecisionTreeRegressor\"},\"height\":600,\"width\":600},                        {\"responsive\": true}                    ).then(function(){\n",
              "                            \n",
              "var gd = document.getElementById('a0ae32b7-0f66-4aa2-9dc4-2289615f8609');\n",
              "var x = new MutationObserver(function (mutations, observer) {{\n",
              "        var display = window.getComputedStyle(gd).display;\n",
              "        if (!display || display === 'none') {{\n",
              "            console.log([gd, 'removed!']);\n",
              "            Plotly.purge(gd);\n",
              "            observer.disconnect();\n",
              "        }}\n",
              "}});\n",
              "\n",
              "// Listen for the removal of the full notebook cells\n",
              "var notebookContainer = gd.closest('#notebook-container');\n",
              "if (notebookContainer) {{\n",
              "    x.observe(notebookContainer, {childList: true});\n",
              "}}\n",
              "\n",
              "// Listen for the clearing of the current output cell\n",
              "var outputEl = gd.closest('.output');\n",
              "if (outputEl) {{\n",
              "    x.observe(outputEl, {childList: true});\n",
              "}}\n",
              "\n",
              "                        })                };                            </script>        </div>\n",
              "</body>\n",
              "</html>"
            ]
          },
          "metadata": {}
        },
        {
          "output_type": "display_data",
          "data": {
            "text/html": [
              "<html>\n",
              "<head><meta charset=\"utf-8\" /></head>\n",
              "<body>\n",
              "    <div>            <script src=\"https://cdnjs.cloudflare.com/ajax/libs/mathjax/2.7.5/MathJax.js?config=TeX-AMS-MML_SVG\"></script><script type=\"text/javascript\">if (window.MathJax) {MathJax.Hub.Config({SVG: {font: \"STIX-Web\"}});}</script>                <script type=\"text/javascript\">window.PlotlyConfig = {MathJaxConfig: 'local'};</script>\n",
              "        <script src=\"https://cdn.plot.ly/plotly-2.8.3.min.js\"></script>                <div id=\"37d7086d-1f3f-4d2c-8fc3-93d7f7451050\" class=\"plotly-graph-div\" style=\"height:600px; width:600px;\"></div>            <script type=\"text/javascript\">                                    window.PLOTLYENV=window.PLOTLYENV || {};                                    if (document.getElementById(\"37d7086d-1f3f-4d2c-8fc3-93d7f7451050\")) {                    Plotly.newPlot(                        \"37d7086d-1f3f-4d2c-8fc3-93d7f7451050\",                        [{\"hovertemplate\":\"True Values=%{x}<br>Predictions=%{y}<extra></extra>\",\"legendgroup\":\"\",\"marker\":{\"color\":\"#636efa\",\"symbol\":\"circle\"},\"mode\":\"markers\",\"name\":\"\",\"orientation\":\"v\",\"showlegend\":false,\"x\":[0.5155555555555555,0.42,0.25777777777777783,0.3777777777777778,0.35111111111111115,0.4000000000000001,0.5088888888888888,0.21111111111111114,0.3666666666666667,0.39111111111111113,0.4155555555555555,0.5822222222222222,0.3177777777777778,0.32,0.32,0.5088888888888888,0.19777777777777783,1.0,0.42444444444444446,0.21333333333333332,0.24888888888888888,0.23555555555555557,0.41777777777777786,0.4444444444444445,0.41111111111111115,0.07333333333333335,0.18888888888888888,0.2777777777777778,0.8466666666666667,0.1444444444444445,0.42444444444444446,0.30000000000000004,1.0,0.16888888888888892,0.32888888888888895,0.4333333333333334,0.22000000000000003,0.6933333333333334,0.15333333333333338,0.3133333333333334,0.39111111111111113,0.3488888888888889,0.5577777777777778,0.18444444444444447,0.21333333333333332,0.07555555555555556,1.0,0.1711111111111111,0.4444444444444445,0.3022222222222223,0.5511111111111111],\"xaxis\":\"x\",\"y\":[0.5386666666666666,0.4866666666666667,0.3382222222222223,0.3742222222222222,0.3164444444444444,0.2977777777777778,0.576,0.2942222222222223,0.3586666666666667,0.4964444444444444,0.3866666666666667,0.44800000000000006,0.33466666666666667,0.39066666666666666,0.36711111111111117,0.39555555555555555,0.41466666666666663,0.7959999999999999,0.5306666666666666,0.24533333333333335,0.3657777777777778,0.25022222222222223,0.39022222222222225,0.3835555555555556,0.5248888888888888,0.10177777777777779,0.1897777777777778,0.3462222222222222,0.6328888888888888,0.14400000000000002,0.39022222222222225,0.32133333333333336,0.8533333333333333,0.24933333333333335,0.3568888888888889,0.36044444444444446,0.24088888888888887,0.4893333333333333,0.11422222222222222,0.35466666666666674,0.44399999999999995,0.34400000000000003,0.5511111111111111,0.23911111111111114,0.2626666666666667,0.12844444444444444,0.5742222222222223,0.18933333333333335,0.36177777777777786,0.23422222222222225,0.3511111111111111],\"yaxis\":\"y\",\"type\":\"scatter\"}],                        {\"template\":{\"data\":{\"bar\":[{\"error_x\":{\"color\":\"#2a3f5f\"},\"error_y\":{\"color\":\"#2a3f5f\"},\"marker\":{\"line\":{\"color\":\"#E5ECF6\",\"width\":0.5},\"pattern\":{\"fillmode\":\"overlay\",\"size\":10,\"solidity\":0.2}},\"type\":\"bar\"}],\"barpolar\":[{\"marker\":{\"line\":{\"color\":\"#E5ECF6\",\"width\":0.5},\"pattern\":{\"fillmode\":\"overlay\",\"size\":10,\"solidity\":0.2}},\"type\":\"barpolar\"}],\"carpet\":[{\"aaxis\":{\"endlinecolor\":\"#2a3f5f\",\"gridcolor\":\"white\",\"linecolor\":\"white\",\"minorgridcolor\":\"white\",\"startlinecolor\":\"#2a3f5f\"},\"baxis\":{\"endlinecolor\":\"#2a3f5f\",\"gridcolor\":\"white\",\"linecolor\":\"white\",\"minorgridcolor\":\"white\",\"startlinecolor\":\"#2a3f5f\"},\"type\":\"carpet\"}],\"choropleth\":[{\"colorbar\":{\"outlinewidth\":0,\"ticks\":\"\"},\"type\":\"choropleth\"}],\"contour\":[{\"colorbar\":{\"outlinewidth\":0,\"ticks\":\"\"},\"colorscale\":[[0.0,\"#0d0887\"],[0.1111111111111111,\"#46039f\"],[0.2222222222222222,\"#7201a8\"],[0.3333333333333333,\"#9c179e\"],[0.4444444444444444,\"#bd3786\"],[0.5555555555555556,\"#d8576b\"],[0.6666666666666666,\"#ed7953\"],[0.7777777777777778,\"#fb9f3a\"],[0.8888888888888888,\"#fdca26\"],[1.0,\"#f0f921\"]],\"type\":\"contour\"}],\"contourcarpet\":[{\"colorbar\":{\"outlinewidth\":0,\"ticks\":\"\"},\"type\":\"contourcarpet\"}],\"heatmap\":[{\"colorbar\":{\"outlinewidth\":0,\"ticks\":\"\"},\"colorscale\":[[0.0,\"#0d0887\"],[0.1111111111111111,\"#46039f\"],[0.2222222222222222,\"#7201a8\"],[0.3333333333333333,\"#9c179e\"],[0.4444444444444444,\"#bd3786\"],[0.5555555555555556,\"#d8576b\"],[0.6666666666666666,\"#ed7953\"],[0.7777777777777778,\"#fb9f3a\"],[0.8888888888888888,\"#fdca26\"],[1.0,\"#f0f921\"]],\"type\":\"heatmap\"}],\"heatmapgl\":[{\"colorbar\":{\"outlinewidth\":0,\"ticks\":\"\"},\"colorscale\":[[0.0,\"#0d0887\"],[0.1111111111111111,\"#46039f\"],[0.2222222222222222,\"#7201a8\"],[0.3333333333333333,\"#9c179e\"],[0.4444444444444444,\"#bd3786\"],[0.5555555555555556,\"#d8576b\"],[0.6666666666666666,\"#ed7953\"],[0.7777777777777778,\"#fb9f3a\"],[0.8888888888888888,\"#fdca26\"],[1.0,\"#f0f921\"]],\"type\":\"heatmapgl\"}],\"histogram\":[{\"marker\":{\"pattern\":{\"fillmode\":\"overlay\",\"size\":10,\"solidity\":0.2}},\"type\":\"histogram\"}],\"histogram2d\":[{\"colorbar\":{\"outlinewidth\":0,\"ticks\":\"\"},\"colorscale\":[[0.0,\"#0d0887\"],[0.1111111111111111,\"#46039f\"],[0.2222222222222222,\"#7201a8\"],[0.3333333333333333,\"#9c179e\"],[0.4444444444444444,\"#bd3786\"],[0.5555555555555556,\"#d8576b\"],[0.6666666666666666,\"#ed7953\"],[0.7777777777777778,\"#fb9f3a\"],[0.8888888888888888,\"#fdca26\"],[1.0,\"#f0f921\"]],\"type\":\"histogram2d\"}],\"histogram2dcontour\":[{\"colorbar\":{\"outlinewidth\":0,\"ticks\":\"\"},\"colorscale\":[[0.0,\"#0d0887\"],[0.1111111111111111,\"#46039f\"],[0.2222222222222222,\"#7201a8\"],[0.3333333333333333,\"#9c179e\"],[0.4444444444444444,\"#bd3786\"],[0.5555555555555556,\"#d8576b\"],[0.6666666666666666,\"#ed7953\"],[0.7777777777777778,\"#fb9f3a\"],[0.8888888888888888,\"#fdca26\"],[1.0,\"#f0f921\"]],\"type\":\"histogram2dcontour\"}],\"mesh3d\":[{\"colorbar\":{\"outlinewidth\":0,\"ticks\":\"\"},\"type\":\"mesh3d\"}],\"parcoords\":[{\"line\":{\"colorbar\":{\"outlinewidth\":0,\"ticks\":\"\"}},\"type\":\"parcoords\"}],\"pie\":[{\"automargin\":true,\"type\":\"pie\"}],\"scatter\":[{\"marker\":{\"colorbar\":{\"outlinewidth\":0,\"ticks\":\"\"}},\"type\":\"scatter\"}],\"scatter3d\":[{\"line\":{\"colorbar\":{\"outlinewidth\":0,\"ticks\":\"\"}},\"marker\":{\"colorbar\":{\"outlinewidth\":0,\"ticks\":\"\"}},\"type\":\"scatter3d\"}],\"scattercarpet\":[{\"marker\":{\"colorbar\":{\"outlinewidth\":0,\"ticks\":\"\"}},\"type\":\"scattercarpet\"}],\"scattergeo\":[{\"marker\":{\"colorbar\":{\"outlinewidth\":0,\"ticks\":\"\"}},\"type\":\"scattergeo\"}],\"scattergl\":[{\"marker\":{\"colorbar\":{\"outlinewidth\":0,\"ticks\":\"\"}},\"type\":\"scattergl\"}],\"scattermapbox\":[{\"marker\":{\"colorbar\":{\"outlinewidth\":0,\"ticks\":\"\"}},\"type\":\"scattermapbox\"}],\"scatterpolar\":[{\"marker\":{\"colorbar\":{\"outlinewidth\":0,\"ticks\":\"\"}},\"type\":\"scatterpolar\"}],\"scatterpolargl\":[{\"marker\":{\"colorbar\":{\"outlinewidth\":0,\"ticks\":\"\"}},\"type\":\"scatterpolargl\"}],\"scatterternary\":[{\"marker\":{\"colorbar\":{\"outlinewidth\":0,\"ticks\":\"\"}},\"type\":\"scatterternary\"}],\"surface\":[{\"colorbar\":{\"outlinewidth\":0,\"ticks\":\"\"},\"colorscale\":[[0.0,\"#0d0887\"],[0.1111111111111111,\"#46039f\"],[0.2222222222222222,\"#7201a8\"],[0.3333333333333333,\"#9c179e\"],[0.4444444444444444,\"#bd3786\"],[0.5555555555555556,\"#d8576b\"],[0.6666666666666666,\"#ed7953\"],[0.7777777777777778,\"#fb9f3a\"],[0.8888888888888888,\"#fdca26\"],[1.0,\"#f0f921\"]],\"type\":\"surface\"}],\"table\":[{\"cells\":{\"fill\":{\"color\":\"#EBF0F8\"},\"line\":{\"color\":\"white\"}},\"header\":{\"fill\":{\"color\":\"#C8D4E3\"},\"line\":{\"color\":\"white\"}},\"type\":\"table\"}]},\"layout\":{\"annotationdefaults\":{\"arrowcolor\":\"#2a3f5f\",\"arrowhead\":0,\"arrowwidth\":1},\"autotypenumbers\":\"strict\",\"coloraxis\":{\"colorbar\":{\"outlinewidth\":0,\"ticks\":\"\"}},\"colorscale\":{\"diverging\":[[0,\"#8e0152\"],[0.1,\"#c51b7d\"],[0.2,\"#de77ae\"],[0.3,\"#f1b6da\"],[0.4,\"#fde0ef\"],[0.5,\"#f7f7f7\"],[0.6,\"#e6f5d0\"],[0.7,\"#b8e186\"],[0.8,\"#7fbc41\"],[0.9,\"#4d9221\"],[1,\"#276419\"]],\"sequential\":[[0.0,\"#0d0887\"],[0.1111111111111111,\"#46039f\"],[0.2222222222222222,\"#7201a8\"],[0.3333333333333333,\"#9c179e\"],[0.4444444444444444,\"#bd3786\"],[0.5555555555555556,\"#d8576b\"],[0.6666666666666666,\"#ed7953\"],[0.7777777777777778,\"#fb9f3a\"],[0.8888888888888888,\"#fdca26\"],[1.0,\"#f0f921\"]],\"sequentialminus\":[[0.0,\"#0d0887\"],[0.1111111111111111,\"#46039f\"],[0.2222222222222222,\"#7201a8\"],[0.3333333333333333,\"#9c179e\"],[0.4444444444444444,\"#bd3786\"],[0.5555555555555556,\"#d8576b\"],[0.6666666666666666,\"#ed7953\"],[0.7777777777777778,\"#fb9f3a\"],[0.8888888888888888,\"#fdca26\"],[1.0,\"#f0f921\"]]},\"colorway\":[\"#636efa\",\"#EF553B\",\"#00cc96\",\"#ab63fa\",\"#FFA15A\",\"#19d3f3\",\"#FF6692\",\"#B6E880\",\"#FF97FF\",\"#FECB52\"],\"font\":{\"color\":\"#2a3f5f\"},\"geo\":{\"bgcolor\":\"white\",\"lakecolor\":\"white\",\"landcolor\":\"#E5ECF6\",\"showlakes\":true,\"showland\":true,\"subunitcolor\":\"white\"},\"hoverlabel\":{\"align\":\"left\"},\"hovermode\":\"closest\",\"mapbox\":{\"style\":\"light\"},\"paper_bgcolor\":\"white\",\"plot_bgcolor\":\"#E5ECF6\",\"polar\":{\"angularaxis\":{\"gridcolor\":\"white\",\"linecolor\":\"white\",\"ticks\":\"\"},\"bgcolor\":\"#E5ECF6\",\"radialaxis\":{\"gridcolor\":\"white\",\"linecolor\":\"white\",\"ticks\":\"\"}},\"scene\":{\"xaxis\":{\"backgroundcolor\":\"#E5ECF6\",\"gridcolor\":\"white\",\"gridwidth\":2,\"linecolor\":\"white\",\"showbackground\":true,\"ticks\":\"\",\"zerolinecolor\":\"white\"},\"yaxis\":{\"backgroundcolor\":\"#E5ECF6\",\"gridcolor\":\"white\",\"gridwidth\":2,\"linecolor\":\"white\",\"showbackground\":true,\"ticks\":\"\",\"zerolinecolor\":\"white\"},\"zaxis\":{\"backgroundcolor\":\"#E5ECF6\",\"gridcolor\":\"white\",\"gridwidth\":2,\"linecolor\":\"white\",\"showbackground\":true,\"ticks\":\"\",\"zerolinecolor\":\"white\"}},\"shapedefaults\":{\"line\":{\"color\":\"#2a3f5f\"}},\"ternary\":{\"aaxis\":{\"gridcolor\":\"white\",\"linecolor\":\"white\",\"ticks\":\"\"},\"baxis\":{\"gridcolor\":\"white\",\"linecolor\":\"white\",\"ticks\":\"\"},\"bgcolor\":\"#E5ECF6\",\"caxis\":{\"gridcolor\":\"white\",\"linecolor\":\"white\",\"ticks\":\"\"}},\"title\":{\"x\":0.05},\"xaxis\":{\"automargin\":true,\"gridcolor\":\"white\",\"linecolor\":\"white\",\"ticks\":\"\",\"title\":{\"standoff\":15},\"zerolinecolor\":\"white\",\"zerolinewidth\":2},\"yaxis\":{\"automargin\":true,\"gridcolor\":\"white\",\"linecolor\":\"white\",\"ticks\":\"\",\"title\":{\"standoff\":15},\"zerolinecolor\":\"white\",\"zerolinewidth\":2}}},\"xaxis\":{\"anchor\":\"y\",\"domain\":[0.0,1.0],\"title\":{\"text\":\"True Values\"}},\"yaxis\":{\"anchor\":\"x\",\"domain\":[0.0,1.0],\"title\":{\"text\":\"Predictions\"}},\"legend\":{\"tracegroupgap\":0},\"margin\":{\"t\":60},\"shapes\":[{\"line\":{\"dash\":\"dash\"},\"type\":\"line\",\"x0\":0.07333333333333335,\"x1\":1.0,\"y0\":0.07333333333333335,\"y1\":1.0}],\"title\":{\"text\":\"KNeighborsRegressor\"},\"height\":600,\"width\":600},                        {\"responsive\": true}                    ).then(function(){\n",
              "                            \n",
              "var gd = document.getElementById('37d7086d-1f3f-4d2c-8fc3-93d7f7451050');\n",
              "var x = new MutationObserver(function (mutations, observer) {{\n",
              "        var display = window.getComputedStyle(gd).display;\n",
              "        if (!display || display === 'none') {{\n",
              "            console.log([gd, 'removed!']);\n",
              "            Plotly.purge(gd);\n",
              "            observer.disconnect();\n",
              "        }}\n",
              "}});\n",
              "\n",
              "// Listen for the removal of the full notebook cells\n",
              "var notebookContainer = gd.closest('#notebook-container');\n",
              "if (notebookContainer) {{\n",
              "    x.observe(notebookContainer, {childList: true});\n",
              "}}\n",
              "\n",
              "// Listen for the clearing of the current output cell\n",
              "var outputEl = gd.closest('.output');\n",
              "if (outputEl) {{\n",
              "    x.observe(outputEl, {childList: true});\n",
              "}}\n",
              "\n",
              "                        })                };                            </script>        </div>\n",
              "</body>\n",
              "</html>"
            ]
          },
          "metadata": {}
        },
        {
          "output_type": "display_data",
          "data": {
            "text/html": [
              "<html>\n",
              "<head><meta charset=\"utf-8\" /></head>\n",
              "<body>\n",
              "    <div>            <script src=\"https://cdnjs.cloudflare.com/ajax/libs/mathjax/2.7.5/MathJax.js?config=TeX-AMS-MML_SVG\"></script><script type=\"text/javascript\">if (window.MathJax) {MathJax.Hub.Config({SVG: {font: \"STIX-Web\"}});}</script>                <script type=\"text/javascript\">window.PlotlyConfig = {MathJaxConfig: 'local'};</script>\n",
              "        <script src=\"https://cdn.plot.ly/plotly-2.8.3.min.js\"></script>                <div id=\"9cefb754-aea5-4e5b-9b6f-eccceb285735\" class=\"plotly-graph-div\" style=\"height:600px; width:600px;\"></div>            <script type=\"text/javascript\">                                    window.PLOTLYENV=window.PLOTLYENV || {};                                    if (document.getElementById(\"9cefb754-aea5-4e5b-9b6f-eccceb285735\")) {                    Plotly.newPlot(                        \"9cefb754-aea5-4e5b-9b6f-eccceb285735\",                        [{\"hovertemplate\":\"True Values=%{x}<br>Predictions=%{y}<extra></extra>\",\"legendgroup\":\"\",\"marker\":{\"color\":\"#636efa\",\"symbol\":\"circle\"},\"mode\":\"markers\",\"name\":\"\",\"orientation\":\"v\",\"showlegend\":false,\"x\":[0.5155555555555555,0.42,0.25777777777777783,0.3777777777777778,0.35111111111111115,0.4000000000000001,0.5088888888888888,0.21111111111111114,0.3666666666666667,0.39111111111111113,0.4155555555555555,0.5822222222222222,0.3177777777777778,0.32,0.32,0.5088888888888888,0.19777777777777783,1.0,0.42444444444444446,0.21333333333333332,0.24888888888888888,0.23555555555555557,0.41777777777777786,0.4444444444444445,0.41111111111111115,0.07333333333333335,0.18888888888888888,0.2777777777777778,0.8466666666666667,0.1444444444444445,0.42444444444444446,0.30000000000000004,1.0,0.16888888888888892,0.32888888888888895,0.4333333333333334,0.22000000000000003,0.6933333333333334,0.15333333333333338,0.3133333333333334,0.39111111111111113,0.3488888888888889,0.5577777777777778,0.18444444444444447,0.21333333333333332,0.07555555555555556,1.0,0.1711111111111111,0.4444444444444445,0.3022222222222223,0.5511111111111111],\"xaxis\":\"x\",\"y\":[0.5758266104666725,0.5099655780537846,0.32097406432749537,0.3105516559305995,0.28285589981605447,0.34092508324471854,0.5120077461569913,0.2919859735892113,0.3507715450056258,0.4198305085949419,0.4900713045452814,0.5369374708802505,0.3408104700409424,0.31942742919106165,0.3212274799902183,0.44806821580974104,0.3009635262688431,0.8332205517176428,0.3947192796657816,0.2198792741494094,0.30398941842105515,0.26840492829626195,0.4007183415765413,0.4169502125393333,0.4679650488726758,0.05930611312553516,0.22971026106201511,0.28787816346026196,0.8888743647906503,0.10785130319397167,0.4547507614566181,0.3259064381359163,0.9404789877463968,0.25963084983068013,0.4310123167330316,0.3436446104589005,0.2610771649581913,0.6096232882398318,0.2931852904908753,0.31975114378005887,0.4592536502821088,0.37031238243656794,0.43838777079425334,0.2481787603335057,0.2901264327848482,0.21877311154582713,0.9792947659235004,0.17746106146846338,0.37914943446370736,0.2921163786593566,0.46171359113928523],\"yaxis\":\"y\",\"type\":\"scatter\"}],                        {\"template\":{\"data\":{\"bar\":[{\"error_x\":{\"color\":\"#2a3f5f\"},\"error_y\":{\"color\":\"#2a3f5f\"},\"marker\":{\"line\":{\"color\":\"#E5ECF6\",\"width\":0.5},\"pattern\":{\"fillmode\":\"overlay\",\"size\":10,\"solidity\":0.2}},\"type\":\"bar\"}],\"barpolar\":[{\"marker\":{\"line\":{\"color\":\"#E5ECF6\",\"width\":0.5},\"pattern\":{\"fillmode\":\"overlay\",\"size\":10,\"solidity\":0.2}},\"type\":\"barpolar\"}],\"carpet\":[{\"aaxis\":{\"endlinecolor\":\"#2a3f5f\",\"gridcolor\":\"white\",\"linecolor\":\"white\",\"minorgridcolor\":\"white\",\"startlinecolor\":\"#2a3f5f\"},\"baxis\":{\"endlinecolor\":\"#2a3f5f\",\"gridcolor\":\"white\",\"linecolor\":\"white\",\"minorgridcolor\":\"white\",\"startlinecolor\":\"#2a3f5f\"},\"type\":\"carpet\"}],\"choropleth\":[{\"colorbar\":{\"outlinewidth\":0,\"ticks\":\"\"},\"type\":\"choropleth\"}],\"contour\":[{\"colorbar\":{\"outlinewidth\":0,\"ticks\":\"\"},\"colorscale\":[[0.0,\"#0d0887\"],[0.1111111111111111,\"#46039f\"],[0.2222222222222222,\"#7201a8\"],[0.3333333333333333,\"#9c179e\"],[0.4444444444444444,\"#bd3786\"],[0.5555555555555556,\"#d8576b\"],[0.6666666666666666,\"#ed7953\"],[0.7777777777777778,\"#fb9f3a\"],[0.8888888888888888,\"#fdca26\"],[1.0,\"#f0f921\"]],\"type\":\"contour\"}],\"contourcarpet\":[{\"colorbar\":{\"outlinewidth\":0,\"ticks\":\"\"},\"type\":\"contourcarpet\"}],\"heatmap\":[{\"colorbar\":{\"outlinewidth\":0,\"ticks\":\"\"},\"colorscale\":[[0.0,\"#0d0887\"],[0.1111111111111111,\"#46039f\"],[0.2222222222222222,\"#7201a8\"],[0.3333333333333333,\"#9c179e\"],[0.4444444444444444,\"#bd3786\"],[0.5555555555555556,\"#d8576b\"],[0.6666666666666666,\"#ed7953\"],[0.7777777777777778,\"#fb9f3a\"],[0.8888888888888888,\"#fdca26\"],[1.0,\"#f0f921\"]],\"type\":\"heatmap\"}],\"heatmapgl\":[{\"colorbar\":{\"outlinewidth\":0,\"ticks\":\"\"},\"colorscale\":[[0.0,\"#0d0887\"],[0.1111111111111111,\"#46039f\"],[0.2222222222222222,\"#7201a8\"],[0.3333333333333333,\"#9c179e\"],[0.4444444444444444,\"#bd3786\"],[0.5555555555555556,\"#d8576b\"],[0.6666666666666666,\"#ed7953\"],[0.7777777777777778,\"#fb9f3a\"],[0.8888888888888888,\"#fdca26\"],[1.0,\"#f0f921\"]],\"type\":\"heatmapgl\"}],\"histogram\":[{\"marker\":{\"pattern\":{\"fillmode\":\"overlay\",\"size\":10,\"solidity\":0.2}},\"type\":\"histogram\"}],\"histogram2d\":[{\"colorbar\":{\"outlinewidth\":0,\"ticks\":\"\"},\"colorscale\":[[0.0,\"#0d0887\"],[0.1111111111111111,\"#46039f\"],[0.2222222222222222,\"#7201a8\"],[0.3333333333333333,\"#9c179e\"],[0.4444444444444444,\"#bd3786\"],[0.5555555555555556,\"#d8576b\"],[0.6666666666666666,\"#ed7953\"],[0.7777777777777778,\"#fb9f3a\"],[0.8888888888888888,\"#fdca26\"],[1.0,\"#f0f921\"]],\"type\":\"histogram2d\"}],\"histogram2dcontour\":[{\"colorbar\":{\"outlinewidth\":0,\"ticks\":\"\"},\"colorscale\":[[0.0,\"#0d0887\"],[0.1111111111111111,\"#46039f\"],[0.2222222222222222,\"#7201a8\"],[0.3333333333333333,\"#9c179e\"],[0.4444444444444444,\"#bd3786\"],[0.5555555555555556,\"#d8576b\"],[0.6666666666666666,\"#ed7953\"],[0.7777777777777778,\"#fb9f3a\"],[0.8888888888888888,\"#fdca26\"],[1.0,\"#f0f921\"]],\"type\":\"histogram2dcontour\"}],\"mesh3d\":[{\"colorbar\":{\"outlinewidth\":0,\"ticks\":\"\"},\"type\":\"mesh3d\"}],\"parcoords\":[{\"line\":{\"colorbar\":{\"outlinewidth\":0,\"ticks\":\"\"}},\"type\":\"parcoords\"}],\"pie\":[{\"automargin\":true,\"type\":\"pie\"}],\"scatter\":[{\"marker\":{\"colorbar\":{\"outlinewidth\":0,\"ticks\":\"\"}},\"type\":\"scatter\"}],\"scatter3d\":[{\"line\":{\"colorbar\":{\"outlinewidth\":0,\"ticks\":\"\"}},\"marker\":{\"colorbar\":{\"outlinewidth\":0,\"ticks\":\"\"}},\"type\":\"scatter3d\"}],\"scattercarpet\":[{\"marker\":{\"colorbar\":{\"outlinewidth\":0,\"ticks\":\"\"}},\"type\":\"scattercarpet\"}],\"scattergeo\":[{\"marker\":{\"colorbar\":{\"outlinewidth\":0,\"ticks\":\"\"}},\"type\":\"scattergeo\"}],\"scattergl\":[{\"marker\":{\"colorbar\":{\"outlinewidth\":0,\"ticks\":\"\"}},\"type\":\"scattergl\"}],\"scattermapbox\":[{\"marker\":{\"colorbar\":{\"outlinewidth\":0,\"ticks\":\"\"}},\"type\":\"scattermapbox\"}],\"scatterpolar\":[{\"marker\":{\"colorbar\":{\"outlinewidth\":0,\"ticks\":\"\"}},\"type\":\"scatterpolar\"}],\"scatterpolargl\":[{\"marker\":{\"colorbar\":{\"outlinewidth\":0,\"ticks\":\"\"}},\"type\":\"scatterpolargl\"}],\"scatterternary\":[{\"marker\":{\"colorbar\":{\"outlinewidth\":0,\"ticks\":\"\"}},\"type\":\"scatterternary\"}],\"surface\":[{\"colorbar\":{\"outlinewidth\":0,\"ticks\":\"\"},\"colorscale\":[[0.0,\"#0d0887\"],[0.1111111111111111,\"#46039f\"],[0.2222222222222222,\"#7201a8\"],[0.3333333333333333,\"#9c179e\"],[0.4444444444444444,\"#bd3786\"],[0.5555555555555556,\"#d8576b\"],[0.6666666666666666,\"#ed7953\"],[0.7777777777777778,\"#fb9f3a\"],[0.8888888888888888,\"#fdca26\"],[1.0,\"#f0f921\"]],\"type\":\"surface\"}],\"table\":[{\"cells\":{\"fill\":{\"color\":\"#EBF0F8\"},\"line\":{\"color\":\"white\"}},\"header\":{\"fill\":{\"color\":\"#C8D4E3\"},\"line\":{\"color\":\"white\"}},\"type\":\"table\"}]},\"layout\":{\"annotationdefaults\":{\"arrowcolor\":\"#2a3f5f\",\"arrowhead\":0,\"arrowwidth\":1},\"autotypenumbers\":\"strict\",\"coloraxis\":{\"colorbar\":{\"outlinewidth\":0,\"ticks\":\"\"}},\"colorscale\":{\"diverging\":[[0,\"#8e0152\"],[0.1,\"#c51b7d\"],[0.2,\"#de77ae\"],[0.3,\"#f1b6da\"],[0.4,\"#fde0ef\"],[0.5,\"#f7f7f7\"],[0.6,\"#e6f5d0\"],[0.7,\"#b8e186\"],[0.8,\"#7fbc41\"],[0.9,\"#4d9221\"],[1,\"#276419\"]],\"sequential\":[[0.0,\"#0d0887\"],[0.1111111111111111,\"#46039f\"],[0.2222222222222222,\"#7201a8\"],[0.3333333333333333,\"#9c179e\"],[0.4444444444444444,\"#bd3786\"],[0.5555555555555556,\"#d8576b\"],[0.6666666666666666,\"#ed7953\"],[0.7777777777777778,\"#fb9f3a\"],[0.8888888888888888,\"#fdca26\"],[1.0,\"#f0f921\"]],\"sequentialminus\":[[0.0,\"#0d0887\"],[0.1111111111111111,\"#46039f\"],[0.2222222222222222,\"#7201a8\"],[0.3333333333333333,\"#9c179e\"],[0.4444444444444444,\"#bd3786\"],[0.5555555555555556,\"#d8576b\"],[0.6666666666666666,\"#ed7953\"],[0.7777777777777778,\"#fb9f3a\"],[0.8888888888888888,\"#fdca26\"],[1.0,\"#f0f921\"]]},\"colorway\":[\"#636efa\",\"#EF553B\",\"#00cc96\",\"#ab63fa\",\"#FFA15A\",\"#19d3f3\",\"#FF6692\",\"#B6E880\",\"#FF97FF\",\"#FECB52\"],\"font\":{\"color\":\"#2a3f5f\"},\"geo\":{\"bgcolor\":\"white\",\"lakecolor\":\"white\",\"landcolor\":\"#E5ECF6\",\"showlakes\":true,\"showland\":true,\"subunitcolor\":\"white\"},\"hoverlabel\":{\"align\":\"left\"},\"hovermode\":\"closest\",\"mapbox\":{\"style\":\"light\"},\"paper_bgcolor\":\"white\",\"plot_bgcolor\":\"#E5ECF6\",\"polar\":{\"angularaxis\":{\"gridcolor\":\"white\",\"linecolor\":\"white\",\"ticks\":\"\"},\"bgcolor\":\"#E5ECF6\",\"radialaxis\":{\"gridcolor\":\"white\",\"linecolor\":\"white\",\"ticks\":\"\"}},\"scene\":{\"xaxis\":{\"backgroundcolor\":\"#E5ECF6\",\"gridcolor\":\"white\",\"gridwidth\":2,\"linecolor\":\"white\",\"showbackground\":true,\"ticks\":\"\",\"zerolinecolor\":\"white\"},\"yaxis\":{\"backgroundcolor\":\"#E5ECF6\",\"gridcolor\":\"white\",\"gridwidth\":2,\"linecolor\":\"white\",\"showbackground\":true,\"ticks\":\"\",\"zerolinecolor\":\"white\"},\"zaxis\":{\"backgroundcolor\":\"#E5ECF6\",\"gridcolor\":\"white\",\"gridwidth\":2,\"linecolor\":\"white\",\"showbackground\":true,\"ticks\":\"\",\"zerolinecolor\":\"white\"}},\"shapedefaults\":{\"line\":{\"color\":\"#2a3f5f\"}},\"ternary\":{\"aaxis\":{\"gridcolor\":\"white\",\"linecolor\":\"white\",\"ticks\":\"\"},\"baxis\":{\"gridcolor\":\"white\",\"linecolor\":\"white\",\"ticks\":\"\"},\"bgcolor\":\"#E5ECF6\",\"caxis\":{\"gridcolor\":\"white\",\"linecolor\":\"white\",\"ticks\":\"\"}},\"title\":{\"x\":0.05},\"xaxis\":{\"automargin\":true,\"gridcolor\":\"white\",\"linecolor\":\"white\",\"ticks\":\"\",\"title\":{\"standoff\":15},\"zerolinecolor\":\"white\",\"zerolinewidth\":2},\"yaxis\":{\"automargin\":true,\"gridcolor\":\"white\",\"linecolor\":\"white\",\"ticks\":\"\",\"title\":{\"standoff\":15},\"zerolinecolor\":\"white\",\"zerolinewidth\":2}}},\"xaxis\":{\"anchor\":\"y\",\"domain\":[0.0,1.0],\"title\":{\"text\":\"True Values\"}},\"yaxis\":{\"anchor\":\"x\",\"domain\":[0.0,1.0],\"title\":{\"text\":\"Predictions\"}},\"legend\":{\"tracegroupgap\":0},\"margin\":{\"t\":60},\"shapes\":[{\"line\":{\"dash\":\"dash\"},\"type\":\"line\",\"x0\":0.07333333333333335,\"x1\":1.0,\"y0\":0.07333333333333335,\"y1\":1.0}],\"title\":{\"text\":\"LGBMRegressor\"},\"height\":600,\"width\":600},                        {\"responsive\": true}                    ).then(function(){\n",
              "                            \n",
              "var gd = document.getElementById('9cefb754-aea5-4e5b-9b6f-eccceb285735');\n",
              "var x = new MutationObserver(function (mutations, observer) {{\n",
              "        var display = window.getComputedStyle(gd).display;\n",
              "        if (!display || display === 'none') {{\n",
              "            console.log([gd, 'removed!']);\n",
              "            Plotly.purge(gd);\n",
              "            observer.disconnect();\n",
              "        }}\n",
              "}});\n",
              "\n",
              "// Listen for the removal of the full notebook cells\n",
              "var notebookContainer = gd.closest('#notebook-container');\n",
              "if (notebookContainer) {{\n",
              "    x.observe(notebookContainer, {childList: true});\n",
              "}}\n",
              "\n",
              "// Listen for the clearing of the current output cell\n",
              "var outputEl = gd.closest('.output');\n",
              "if (outputEl) {{\n",
              "    x.observe(outputEl, {childList: true});\n",
              "}}\n",
              "\n",
              "                        })                };                            </script>        </div>\n",
              "</body>\n",
              "</html>"
            ]
          },
          "metadata": {}
        },
        {
          "output_type": "display_data",
          "data": {
            "text/html": [
              "<html>\n",
              "<head><meta charset=\"utf-8\" /></head>\n",
              "<body>\n",
              "    <div>            <script src=\"https://cdnjs.cloudflare.com/ajax/libs/mathjax/2.7.5/MathJax.js?config=TeX-AMS-MML_SVG\"></script><script type=\"text/javascript\">if (window.MathJax) {MathJax.Hub.Config({SVG: {font: \"STIX-Web\"}});}</script>                <script type=\"text/javascript\">window.PlotlyConfig = {MathJaxConfig: 'local'};</script>\n",
              "        <script src=\"https://cdn.plot.ly/plotly-2.8.3.min.js\"></script>                <div id=\"7adf896d-312f-4ae8-81cb-54c0952e4066\" class=\"plotly-graph-div\" style=\"height:600px; width:600px;\"></div>            <script type=\"text/javascript\">                                    window.PLOTLYENV=window.PLOTLYENV || {};                                    if (document.getElementById(\"7adf896d-312f-4ae8-81cb-54c0952e4066\")) {                    Plotly.newPlot(                        \"7adf896d-312f-4ae8-81cb-54c0952e4066\",                        [{\"hovertemplate\":\"True Values=%{x}<br>Predictions=%{y}<extra></extra>\",\"legendgroup\":\"\",\"marker\":{\"color\":\"#636efa\",\"symbol\":\"circle\"},\"mode\":\"markers\",\"name\":\"\",\"orientation\":\"v\",\"showlegend\":false,\"x\":[0.5155555555555555,0.42,0.25777777777777783,0.3777777777777778,0.35111111111111115,0.4000000000000001,0.5088888888888888,0.21111111111111114,0.3666666666666667,0.39111111111111113,0.4155555555555555,0.5822222222222222,0.3177777777777778,0.32,0.32,0.5088888888888888,0.19777777777777783,1.0,0.42444444444444446,0.21333333333333332,0.24888888888888888,0.23555555555555557,0.41777777777777786,0.4444444444444445,0.41111111111111115,0.07333333333333335,0.18888888888888888,0.2777777777777778,0.8466666666666667,0.1444444444444445,0.42444444444444446,0.30000000000000004,1.0,0.16888888888888892,0.32888888888888895,0.4333333333333334,0.22000000000000003,0.6933333333333334,0.15333333333333338,0.3133333333333334,0.39111111111111113,0.3488888888888889,0.5577777777777778,0.18444444444444447,0.21333333333333332,0.07555555555555556,1.0,0.1711111111111111,0.4444444444444445,0.3022222222222223,0.5511111111111111],\"xaxis\":\"x\",\"y\":[0.6216373801297721,0.5130387235546212,0.28553715158501974,0.3701990261724434,0.2807238521332626,0.3198270935399761,0.6029476080662475,0.2882251852199978,0.43997157955600985,0.5007152889005363,0.4779436175840825,0.5260962040942941,0.36591763869625876,0.47369530439181384,0.4030003398782899,0.31670053899212347,0.4011396286540473,0.765669539664795,0.5549363666674061,0.09032815577974918,0.3422924390159148,0.241041907899483,0.4474133939788561,0.4501803484018735,0.577917603879198,0.11695631761074488,0.20411358587718081,0.262067747352541,0.7092681123619763,0.20386462126165927,0.3514368141187376,0.19041557030678424,0.8557346676333941,0.2840971980966047,0.3983609577081299,0.36476182783008193,0.27804591449757804,0.43258206606320165,0.07803858474863035,0.31917842264111684,0.4489249747439573,0.3685734525878106,0.5454404309437181,0.25138535102497955,0.31094956826102044,0.22454044483997132,0.7628530437036258,0.30674014605600036,0.4330046422129205,0.33874634995776853,0.44212779455320095],\"yaxis\":\"y\",\"type\":\"scatter\"}],                        {\"template\":{\"data\":{\"bar\":[{\"error_x\":{\"color\":\"#2a3f5f\"},\"error_y\":{\"color\":\"#2a3f5f\"},\"marker\":{\"line\":{\"color\":\"#E5ECF6\",\"width\":0.5},\"pattern\":{\"fillmode\":\"overlay\",\"size\":10,\"solidity\":0.2}},\"type\":\"bar\"}],\"barpolar\":[{\"marker\":{\"line\":{\"color\":\"#E5ECF6\",\"width\":0.5},\"pattern\":{\"fillmode\":\"overlay\",\"size\":10,\"solidity\":0.2}},\"type\":\"barpolar\"}],\"carpet\":[{\"aaxis\":{\"endlinecolor\":\"#2a3f5f\",\"gridcolor\":\"white\",\"linecolor\":\"white\",\"minorgridcolor\":\"white\",\"startlinecolor\":\"#2a3f5f\"},\"baxis\":{\"endlinecolor\":\"#2a3f5f\",\"gridcolor\":\"white\",\"linecolor\":\"white\",\"minorgridcolor\":\"white\",\"startlinecolor\":\"#2a3f5f\"},\"type\":\"carpet\"}],\"choropleth\":[{\"colorbar\":{\"outlinewidth\":0,\"ticks\":\"\"},\"type\":\"choropleth\"}],\"contour\":[{\"colorbar\":{\"outlinewidth\":0,\"ticks\":\"\"},\"colorscale\":[[0.0,\"#0d0887\"],[0.1111111111111111,\"#46039f\"],[0.2222222222222222,\"#7201a8\"],[0.3333333333333333,\"#9c179e\"],[0.4444444444444444,\"#bd3786\"],[0.5555555555555556,\"#d8576b\"],[0.6666666666666666,\"#ed7953\"],[0.7777777777777778,\"#fb9f3a\"],[0.8888888888888888,\"#fdca26\"],[1.0,\"#f0f921\"]],\"type\":\"contour\"}],\"contourcarpet\":[{\"colorbar\":{\"outlinewidth\":0,\"ticks\":\"\"},\"type\":\"contourcarpet\"}],\"heatmap\":[{\"colorbar\":{\"outlinewidth\":0,\"ticks\":\"\"},\"colorscale\":[[0.0,\"#0d0887\"],[0.1111111111111111,\"#46039f\"],[0.2222222222222222,\"#7201a8\"],[0.3333333333333333,\"#9c179e\"],[0.4444444444444444,\"#bd3786\"],[0.5555555555555556,\"#d8576b\"],[0.6666666666666666,\"#ed7953\"],[0.7777777777777778,\"#fb9f3a\"],[0.8888888888888888,\"#fdca26\"],[1.0,\"#f0f921\"]],\"type\":\"heatmap\"}],\"heatmapgl\":[{\"colorbar\":{\"outlinewidth\":0,\"ticks\":\"\"},\"colorscale\":[[0.0,\"#0d0887\"],[0.1111111111111111,\"#46039f\"],[0.2222222222222222,\"#7201a8\"],[0.3333333333333333,\"#9c179e\"],[0.4444444444444444,\"#bd3786\"],[0.5555555555555556,\"#d8576b\"],[0.6666666666666666,\"#ed7953\"],[0.7777777777777778,\"#fb9f3a\"],[0.8888888888888888,\"#fdca26\"],[1.0,\"#f0f921\"]],\"type\":\"heatmapgl\"}],\"histogram\":[{\"marker\":{\"pattern\":{\"fillmode\":\"overlay\",\"size\":10,\"solidity\":0.2}},\"type\":\"histogram\"}],\"histogram2d\":[{\"colorbar\":{\"outlinewidth\":0,\"ticks\":\"\"},\"colorscale\":[[0.0,\"#0d0887\"],[0.1111111111111111,\"#46039f\"],[0.2222222222222222,\"#7201a8\"],[0.3333333333333333,\"#9c179e\"],[0.4444444444444444,\"#bd3786\"],[0.5555555555555556,\"#d8576b\"],[0.6666666666666666,\"#ed7953\"],[0.7777777777777778,\"#fb9f3a\"],[0.8888888888888888,\"#fdca26\"],[1.0,\"#f0f921\"]],\"type\":\"histogram2d\"}],\"histogram2dcontour\":[{\"colorbar\":{\"outlinewidth\":0,\"ticks\":\"\"},\"colorscale\":[[0.0,\"#0d0887\"],[0.1111111111111111,\"#46039f\"],[0.2222222222222222,\"#7201a8\"],[0.3333333333333333,\"#9c179e\"],[0.4444444444444444,\"#bd3786\"],[0.5555555555555556,\"#d8576b\"],[0.6666666666666666,\"#ed7953\"],[0.7777777777777778,\"#fb9f3a\"],[0.8888888888888888,\"#fdca26\"],[1.0,\"#f0f921\"]],\"type\":\"histogram2dcontour\"}],\"mesh3d\":[{\"colorbar\":{\"outlinewidth\":0,\"ticks\":\"\"},\"type\":\"mesh3d\"}],\"parcoords\":[{\"line\":{\"colorbar\":{\"outlinewidth\":0,\"ticks\":\"\"}},\"type\":\"parcoords\"}],\"pie\":[{\"automargin\":true,\"type\":\"pie\"}],\"scatter\":[{\"marker\":{\"colorbar\":{\"outlinewidth\":0,\"ticks\":\"\"}},\"type\":\"scatter\"}],\"scatter3d\":[{\"line\":{\"colorbar\":{\"outlinewidth\":0,\"ticks\":\"\"}},\"marker\":{\"colorbar\":{\"outlinewidth\":0,\"ticks\":\"\"}},\"type\":\"scatter3d\"}],\"scattercarpet\":[{\"marker\":{\"colorbar\":{\"outlinewidth\":0,\"ticks\":\"\"}},\"type\":\"scattercarpet\"}],\"scattergeo\":[{\"marker\":{\"colorbar\":{\"outlinewidth\":0,\"ticks\":\"\"}},\"type\":\"scattergeo\"}],\"scattergl\":[{\"marker\":{\"colorbar\":{\"outlinewidth\":0,\"ticks\":\"\"}},\"type\":\"scattergl\"}],\"scattermapbox\":[{\"marker\":{\"colorbar\":{\"outlinewidth\":0,\"ticks\":\"\"}},\"type\":\"scattermapbox\"}],\"scatterpolar\":[{\"marker\":{\"colorbar\":{\"outlinewidth\":0,\"ticks\":\"\"}},\"type\":\"scatterpolar\"}],\"scatterpolargl\":[{\"marker\":{\"colorbar\":{\"outlinewidth\":0,\"ticks\":\"\"}},\"type\":\"scatterpolargl\"}],\"scatterternary\":[{\"marker\":{\"colorbar\":{\"outlinewidth\":0,\"ticks\":\"\"}},\"type\":\"scatterternary\"}],\"surface\":[{\"colorbar\":{\"outlinewidth\":0,\"ticks\":\"\"},\"colorscale\":[[0.0,\"#0d0887\"],[0.1111111111111111,\"#46039f\"],[0.2222222222222222,\"#7201a8\"],[0.3333333333333333,\"#9c179e\"],[0.4444444444444444,\"#bd3786\"],[0.5555555555555556,\"#d8576b\"],[0.6666666666666666,\"#ed7953\"],[0.7777777777777778,\"#fb9f3a\"],[0.8888888888888888,\"#fdca26\"],[1.0,\"#f0f921\"]],\"type\":\"surface\"}],\"table\":[{\"cells\":{\"fill\":{\"color\":\"#EBF0F8\"},\"line\":{\"color\":\"white\"}},\"header\":{\"fill\":{\"color\":\"#C8D4E3\"},\"line\":{\"color\":\"white\"}},\"type\":\"table\"}]},\"layout\":{\"annotationdefaults\":{\"arrowcolor\":\"#2a3f5f\",\"arrowhead\":0,\"arrowwidth\":1},\"autotypenumbers\":\"strict\",\"coloraxis\":{\"colorbar\":{\"outlinewidth\":0,\"ticks\":\"\"}},\"colorscale\":{\"diverging\":[[0,\"#8e0152\"],[0.1,\"#c51b7d\"],[0.2,\"#de77ae\"],[0.3,\"#f1b6da\"],[0.4,\"#fde0ef\"],[0.5,\"#f7f7f7\"],[0.6,\"#e6f5d0\"],[0.7,\"#b8e186\"],[0.8,\"#7fbc41\"],[0.9,\"#4d9221\"],[1,\"#276419\"]],\"sequential\":[[0.0,\"#0d0887\"],[0.1111111111111111,\"#46039f\"],[0.2222222222222222,\"#7201a8\"],[0.3333333333333333,\"#9c179e\"],[0.4444444444444444,\"#bd3786\"],[0.5555555555555556,\"#d8576b\"],[0.6666666666666666,\"#ed7953\"],[0.7777777777777778,\"#fb9f3a\"],[0.8888888888888888,\"#fdca26\"],[1.0,\"#f0f921\"]],\"sequentialminus\":[[0.0,\"#0d0887\"],[0.1111111111111111,\"#46039f\"],[0.2222222222222222,\"#7201a8\"],[0.3333333333333333,\"#9c179e\"],[0.4444444444444444,\"#bd3786\"],[0.5555555555555556,\"#d8576b\"],[0.6666666666666666,\"#ed7953\"],[0.7777777777777778,\"#fb9f3a\"],[0.8888888888888888,\"#fdca26\"],[1.0,\"#f0f921\"]]},\"colorway\":[\"#636efa\",\"#EF553B\",\"#00cc96\",\"#ab63fa\",\"#FFA15A\",\"#19d3f3\",\"#FF6692\",\"#B6E880\",\"#FF97FF\",\"#FECB52\"],\"font\":{\"color\":\"#2a3f5f\"},\"geo\":{\"bgcolor\":\"white\",\"lakecolor\":\"white\",\"landcolor\":\"#E5ECF6\",\"showlakes\":true,\"showland\":true,\"subunitcolor\":\"white\"},\"hoverlabel\":{\"align\":\"left\"},\"hovermode\":\"closest\",\"mapbox\":{\"style\":\"light\"},\"paper_bgcolor\":\"white\",\"plot_bgcolor\":\"#E5ECF6\",\"polar\":{\"angularaxis\":{\"gridcolor\":\"white\",\"linecolor\":\"white\",\"ticks\":\"\"},\"bgcolor\":\"#E5ECF6\",\"radialaxis\":{\"gridcolor\":\"white\",\"linecolor\":\"white\",\"ticks\":\"\"}},\"scene\":{\"xaxis\":{\"backgroundcolor\":\"#E5ECF6\",\"gridcolor\":\"white\",\"gridwidth\":2,\"linecolor\":\"white\",\"showbackground\":true,\"ticks\":\"\",\"zerolinecolor\":\"white\"},\"yaxis\":{\"backgroundcolor\":\"#E5ECF6\",\"gridcolor\":\"white\",\"gridwidth\":2,\"linecolor\":\"white\",\"showbackground\":true,\"ticks\":\"\",\"zerolinecolor\":\"white\"},\"zaxis\":{\"backgroundcolor\":\"#E5ECF6\",\"gridcolor\":\"white\",\"gridwidth\":2,\"linecolor\":\"white\",\"showbackground\":true,\"ticks\":\"\",\"zerolinecolor\":\"white\"}},\"shapedefaults\":{\"line\":{\"color\":\"#2a3f5f\"}},\"ternary\":{\"aaxis\":{\"gridcolor\":\"white\",\"linecolor\":\"white\",\"ticks\":\"\"},\"baxis\":{\"gridcolor\":\"white\",\"linecolor\":\"white\",\"ticks\":\"\"},\"bgcolor\":\"#E5ECF6\",\"caxis\":{\"gridcolor\":\"white\",\"linecolor\":\"white\",\"ticks\":\"\"}},\"title\":{\"x\":0.05},\"xaxis\":{\"automargin\":true,\"gridcolor\":\"white\",\"linecolor\":\"white\",\"ticks\":\"\",\"title\":{\"standoff\":15},\"zerolinecolor\":\"white\",\"zerolinewidth\":2},\"yaxis\":{\"automargin\":true,\"gridcolor\":\"white\",\"linecolor\":\"white\",\"ticks\":\"\",\"title\":{\"standoff\":15},\"zerolinecolor\":\"white\",\"zerolinewidth\":2}}},\"xaxis\":{\"anchor\":\"y\",\"domain\":[0.0,1.0],\"title\":{\"text\":\"True Values\"}},\"yaxis\":{\"anchor\":\"x\",\"domain\":[0.0,1.0],\"title\":{\"text\":\"Predictions\"}},\"legend\":{\"tracegroupgap\":0},\"margin\":{\"t\":60},\"shapes\":[{\"line\":{\"dash\":\"dash\"},\"type\":\"line\",\"x0\":0.07333333333333335,\"x1\":1.0,\"y0\":0.07333333333333335,\"y1\":1.0}],\"title\":{\"text\":\"LinearRegression\"},\"height\":600,\"width\":600},                        {\"responsive\": true}                    ).then(function(){\n",
              "                            \n",
              "var gd = document.getElementById('7adf896d-312f-4ae8-81cb-54c0952e4066');\n",
              "var x = new MutationObserver(function (mutations, observer) {{\n",
              "        var display = window.getComputedStyle(gd).display;\n",
              "        if (!display || display === 'none') {{\n",
              "            console.log([gd, 'removed!']);\n",
              "            Plotly.purge(gd);\n",
              "            observer.disconnect();\n",
              "        }}\n",
              "}});\n",
              "\n",
              "// Listen for the removal of the full notebook cells\n",
              "var notebookContainer = gd.closest('#notebook-container');\n",
              "if (notebookContainer) {{\n",
              "    x.observe(notebookContainer, {childList: true});\n",
              "}}\n",
              "\n",
              "// Listen for the clearing of the current output cell\n",
              "var outputEl = gd.closest('.output');\n",
              "if (outputEl) {{\n",
              "    x.observe(outputEl, {childList: true});\n",
              "}}\n",
              "\n",
              "                        })                };                            </script>        </div>\n",
              "</body>\n",
              "</html>"
            ]
          },
          "metadata": {}
        },
        {
          "output_type": "display_data",
          "data": {
            "text/html": [
              "<html>\n",
              "<head><meta charset=\"utf-8\" /></head>\n",
              "<body>\n",
              "    <div>            <script src=\"https://cdnjs.cloudflare.com/ajax/libs/mathjax/2.7.5/MathJax.js?config=TeX-AMS-MML_SVG\"></script><script type=\"text/javascript\">if (window.MathJax) {MathJax.Hub.Config({SVG: {font: \"STIX-Web\"}});}</script>                <script type=\"text/javascript\">window.PlotlyConfig = {MathJaxConfig: 'local'};</script>\n",
              "        <script src=\"https://cdn.plot.ly/plotly-2.8.3.min.js\"></script>                <div id=\"137a8654-1b8d-4819-ba30-834e5612f6aa\" class=\"plotly-graph-div\" style=\"height:600px; width:600px;\"></div>            <script type=\"text/javascript\">                                    window.PLOTLYENV=window.PLOTLYENV || {};                                    if (document.getElementById(\"137a8654-1b8d-4819-ba30-834e5612f6aa\")) {                    Plotly.newPlot(                        \"137a8654-1b8d-4819-ba30-834e5612f6aa\",                        [{\"hovertemplate\":\"True Values=%{x}<br>Predictions=%{y}<extra></extra>\",\"legendgroup\":\"\",\"marker\":{\"color\":\"#636efa\",\"symbol\":\"circle\"},\"mode\":\"markers\",\"name\":\"\",\"orientation\":\"v\",\"showlegend\":false,\"x\":[0.5155555555555555,0.42,0.25777777777777783,0.3777777777777778,0.35111111111111115,0.4000000000000001,0.5088888888888888,0.21111111111111114,0.3666666666666667,0.39111111111111113,0.4155555555555555,0.5822222222222222,0.3177777777777778,0.32,0.32,0.5088888888888888,0.19777777777777783,1.0,0.42444444444444446,0.21333333333333332,0.24888888888888888,0.23555555555555557,0.41777777777777786,0.4444444444444445,0.41111111111111115,0.07333333333333335,0.18888888888888888,0.2777777777777778,0.8466666666666667,0.1444444444444445,0.42444444444444446,0.30000000000000004,1.0,0.16888888888888892,0.32888888888888895,0.4333333333333334,0.22000000000000003,0.6933333333333334,0.15333333333333338,0.3133333333333334,0.39111111111111113,0.3488888888888889,0.5577777777777778,0.18444444444444447,0.21333333333333332,0.07555555555555556,1.0,0.1711111111111111,0.4444444444444445,0.3022222222222223,0.5511111111111111],\"xaxis\":\"x\",\"y\":[0.5495555555555556,0.5064222222222226,0.3260000000000003,0.33991111111111083,0.31073333333333325,0.33077777777777784,0.5102888888888887,0.3190888888888889,0.3314666666666669,0.3997555555555554,0.5011555555555549,0.5405111111111107,0.34120000000000006,0.3369999999999998,0.34171111111111097,0.6835333333333332,0.6116444444444441,0.8575333333333335,0.4052666666666665,0.21191111111111127,0.3332,0.2523333333333334,0.4282444444444443,0.41391111111111106,0.4288666666666665,0.09351111111111113,0.21533333333333327,0.32886666666666664,0.8532,0.13597777777777778,0.4792222222222221,0.3243777777777778,0.9500444444444446,0.2280444444444445,0.37562222222222225,0.3477555555555555,0.229288888888889,0.6009999999999995,0.17153333333333343,0.31486666666666663,0.4146666666666664,0.40511111111111087,0.4649333333333331,0.2409333333333332,0.21919999999999998,0.15884444444444445,0.9608888888888889,0.22022222222222218,0.3853333333333337,0.31266666666666654,0.4983333333333331],\"yaxis\":\"y\",\"type\":\"scatter\"}],                        {\"template\":{\"data\":{\"bar\":[{\"error_x\":{\"color\":\"#2a3f5f\"},\"error_y\":{\"color\":\"#2a3f5f\"},\"marker\":{\"line\":{\"color\":\"#E5ECF6\",\"width\":0.5},\"pattern\":{\"fillmode\":\"overlay\",\"size\":10,\"solidity\":0.2}},\"type\":\"bar\"}],\"barpolar\":[{\"marker\":{\"line\":{\"color\":\"#E5ECF6\",\"width\":0.5},\"pattern\":{\"fillmode\":\"overlay\",\"size\":10,\"solidity\":0.2}},\"type\":\"barpolar\"}],\"carpet\":[{\"aaxis\":{\"endlinecolor\":\"#2a3f5f\",\"gridcolor\":\"white\",\"linecolor\":\"white\",\"minorgridcolor\":\"white\",\"startlinecolor\":\"#2a3f5f\"},\"baxis\":{\"endlinecolor\":\"#2a3f5f\",\"gridcolor\":\"white\",\"linecolor\":\"white\",\"minorgridcolor\":\"white\",\"startlinecolor\":\"#2a3f5f\"},\"type\":\"carpet\"}],\"choropleth\":[{\"colorbar\":{\"outlinewidth\":0,\"ticks\":\"\"},\"type\":\"choropleth\"}],\"contour\":[{\"colorbar\":{\"outlinewidth\":0,\"ticks\":\"\"},\"colorscale\":[[0.0,\"#0d0887\"],[0.1111111111111111,\"#46039f\"],[0.2222222222222222,\"#7201a8\"],[0.3333333333333333,\"#9c179e\"],[0.4444444444444444,\"#bd3786\"],[0.5555555555555556,\"#d8576b\"],[0.6666666666666666,\"#ed7953\"],[0.7777777777777778,\"#fb9f3a\"],[0.8888888888888888,\"#fdca26\"],[1.0,\"#f0f921\"]],\"type\":\"contour\"}],\"contourcarpet\":[{\"colorbar\":{\"outlinewidth\":0,\"ticks\":\"\"},\"type\":\"contourcarpet\"}],\"heatmap\":[{\"colorbar\":{\"outlinewidth\":0,\"ticks\":\"\"},\"colorscale\":[[0.0,\"#0d0887\"],[0.1111111111111111,\"#46039f\"],[0.2222222222222222,\"#7201a8\"],[0.3333333333333333,\"#9c179e\"],[0.4444444444444444,\"#bd3786\"],[0.5555555555555556,\"#d8576b\"],[0.6666666666666666,\"#ed7953\"],[0.7777777777777778,\"#fb9f3a\"],[0.8888888888888888,\"#fdca26\"],[1.0,\"#f0f921\"]],\"type\":\"heatmap\"}],\"heatmapgl\":[{\"colorbar\":{\"outlinewidth\":0,\"ticks\":\"\"},\"colorscale\":[[0.0,\"#0d0887\"],[0.1111111111111111,\"#46039f\"],[0.2222222222222222,\"#7201a8\"],[0.3333333333333333,\"#9c179e\"],[0.4444444444444444,\"#bd3786\"],[0.5555555555555556,\"#d8576b\"],[0.6666666666666666,\"#ed7953\"],[0.7777777777777778,\"#fb9f3a\"],[0.8888888888888888,\"#fdca26\"],[1.0,\"#f0f921\"]],\"type\":\"heatmapgl\"}],\"histogram\":[{\"marker\":{\"pattern\":{\"fillmode\":\"overlay\",\"size\":10,\"solidity\":0.2}},\"type\":\"histogram\"}],\"histogram2d\":[{\"colorbar\":{\"outlinewidth\":0,\"ticks\":\"\"},\"colorscale\":[[0.0,\"#0d0887\"],[0.1111111111111111,\"#46039f\"],[0.2222222222222222,\"#7201a8\"],[0.3333333333333333,\"#9c179e\"],[0.4444444444444444,\"#bd3786\"],[0.5555555555555556,\"#d8576b\"],[0.6666666666666666,\"#ed7953\"],[0.7777777777777778,\"#fb9f3a\"],[0.8888888888888888,\"#fdca26\"],[1.0,\"#f0f921\"]],\"type\":\"histogram2d\"}],\"histogram2dcontour\":[{\"colorbar\":{\"outlinewidth\":0,\"ticks\":\"\"},\"colorscale\":[[0.0,\"#0d0887\"],[0.1111111111111111,\"#46039f\"],[0.2222222222222222,\"#7201a8\"],[0.3333333333333333,\"#9c179e\"],[0.4444444444444444,\"#bd3786\"],[0.5555555555555556,\"#d8576b\"],[0.6666666666666666,\"#ed7953\"],[0.7777777777777778,\"#fb9f3a\"],[0.8888888888888888,\"#fdca26\"],[1.0,\"#f0f921\"]],\"type\":\"histogram2dcontour\"}],\"mesh3d\":[{\"colorbar\":{\"outlinewidth\":0,\"ticks\":\"\"},\"type\":\"mesh3d\"}],\"parcoords\":[{\"line\":{\"colorbar\":{\"outlinewidth\":0,\"ticks\":\"\"}},\"type\":\"parcoords\"}],\"pie\":[{\"automargin\":true,\"type\":\"pie\"}],\"scatter\":[{\"marker\":{\"colorbar\":{\"outlinewidth\":0,\"ticks\":\"\"}},\"type\":\"scatter\"}],\"scatter3d\":[{\"line\":{\"colorbar\":{\"outlinewidth\":0,\"ticks\":\"\"}},\"marker\":{\"colorbar\":{\"outlinewidth\":0,\"ticks\":\"\"}},\"type\":\"scatter3d\"}],\"scattercarpet\":[{\"marker\":{\"colorbar\":{\"outlinewidth\":0,\"ticks\":\"\"}},\"type\":\"scattercarpet\"}],\"scattergeo\":[{\"marker\":{\"colorbar\":{\"outlinewidth\":0,\"ticks\":\"\"}},\"type\":\"scattergeo\"}],\"scattergl\":[{\"marker\":{\"colorbar\":{\"outlinewidth\":0,\"ticks\":\"\"}},\"type\":\"scattergl\"}],\"scattermapbox\":[{\"marker\":{\"colorbar\":{\"outlinewidth\":0,\"ticks\":\"\"}},\"type\":\"scattermapbox\"}],\"scatterpolar\":[{\"marker\":{\"colorbar\":{\"outlinewidth\":0,\"ticks\":\"\"}},\"type\":\"scatterpolar\"}],\"scatterpolargl\":[{\"marker\":{\"colorbar\":{\"outlinewidth\":0,\"ticks\":\"\"}},\"type\":\"scatterpolargl\"}],\"scatterternary\":[{\"marker\":{\"colorbar\":{\"outlinewidth\":0,\"ticks\":\"\"}},\"type\":\"scatterternary\"}],\"surface\":[{\"colorbar\":{\"outlinewidth\":0,\"ticks\":\"\"},\"colorscale\":[[0.0,\"#0d0887\"],[0.1111111111111111,\"#46039f\"],[0.2222222222222222,\"#7201a8\"],[0.3333333333333333,\"#9c179e\"],[0.4444444444444444,\"#bd3786\"],[0.5555555555555556,\"#d8576b\"],[0.6666666666666666,\"#ed7953\"],[0.7777777777777778,\"#fb9f3a\"],[0.8888888888888888,\"#fdca26\"],[1.0,\"#f0f921\"]],\"type\":\"surface\"}],\"table\":[{\"cells\":{\"fill\":{\"color\":\"#EBF0F8\"},\"line\":{\"color\":\"white\"}},\"header\":{\"fill\":{\"color\":\"#C8D4E3\"},\"line\":{\"color\":\"white\"}},\"type\":\"table\"}]},\"layout\":{\"annotationdefaults\":{\"arrowcolor\":\"#2a3f5f\",\"arrowhead\":0,\"arrowwidth\":1},\"autotypenumbers\":\"strict\",\"coloraxis\":{\"colorbar\":{\"outlinewidth\":0,\"ticks\":\"\"}},\"colorscale\":{\"diverging\":[[0,\"#8e0152\"],[0.1,\"#c51b7d\"],[0.2,\"#de77ae\"],[0.3,\"#f1b6da\"],[0.4,\"#fde0ef\"],[0.5,\"#f7f7f7\"],[0.6,\"#e6f5d0\"],[0.7,\"#b8e186\"],[0.8,\"#7fbc41\"],[0.9,\"#4d9221\"],[1,\"#276419\"]],\"sequential\":[[0.0,\"#0d0887\"],[0.1111111111111111,\"#46039f\"],[0.2222222222222222,\"#7201a8\"],[0.3333333333333333,\"#9c179e\"],[0.4444444444444444,\"#bd3786\"],[0.5555555555555556,\"#d8576b\"],[0.6666666666666666,\"#ed7953\"],[0.7777777777777778,\"#fb9f3a\"],[0.8888888888888888,\"#fdca26\"],[1.0,\"#f0f921\"]],\"sequentialminus\":[[0.0,\"#0d0887\"],[0.1111111111111111,\"#46039f\"],[0.2222222222222222,\"#7201a8\"],[0.3333333333333333,\"#9c179e\"],[0.4444444444444444,\"#bd3786\"],[0.5555555555555556,\"#d8576b\"],[0.6666666666666666,\"#ed7953\"],[0.7777777777777778,\"#fb9f3a\"],[0.8888888888888888,\"#fdca26\"],[1.0,\"#f0f921\"]]},\"colorway\":[\"#636efa\",\"#EF553B\",\"#00cc96\",\"#ab63fa\",\"#FFA15A\",\"#19d3f3\",\"#FF6692\",\"#B6E880\",\"#FF97FF\",\"#FECB52\"],\"font\":{\"color\":\"#2a3f5f\"},\"geo\":{\"bgcolor\":\"white\",\"lakecolor\":\"white\",\"landcolor\":\"#E5ECF6\",\"showlakes\":true,\"showland\":true,\"subunitcolor\":\"white\"},\"hoverlabel\":{\"align\":\"left\"},\"hovermode\":\"closest\",\"mapbox\":{\"style\":\"light\"},\"paper_bgcolor\":\"white\",\"plot_bgcolor\":\"#E5ECF6\",\"polar\":{\"angularaxis\":{\"gridcolor\":\"white\",\"linecolor\":\"white\",\"ticks\":\"\"},\"bgcolor\":\"#E5ECF6\",\"radialaxis\":{\"gridcolor\":\"white\",\"linecolor\":\"white\",\"ticks\":\"\"}},\"scene\":{\"xaxis\":{\"backgroundcolor\":\"#E5ECF6\",\"gridcolor\":\"white\",\"gridwidth\":2,\"linecolor\":\"white\",\"showbackground\":true,\"ticks\":\"\",\"zerolinecolor\":\"white\"},\"yaxis\":{\"backgroundcolor\":\"#E5ECF6\",\"gridcolor\":\"white\",\"gridwidth\":2,\"linecolor\":\"white\",\"showbackground\":true,\"ticks\":\"\",\"zerolinecolor\":\"white\"},\"zaxis\":{\"backgroundcolor\":\"#E5ECF6\",\"gridcolor\":\"white\",\"gridwidth\":2,\"linecolor\":\"white\",\"showbackground\":true,\"ticks\":\"\",\"zerolinecolor\":\"white\"}},\"shapedefaults\":{\"line\":{\"color\":\"#2a3f5f\"}},\"ternary\":{\"aaxis\":{\"gridcolor\":\"white\",\"linecolor\":\"white\",\"ticks\":\"\"},\"baxis\":{\"gridcolor\":\"white\",\"linecolor\":\"white\",\"ticks\":\"\"},\"bgcolor\":\"#E5ECF6\",\"caxis\":{\"gridcolor\":\"white\",\"linecolor\":\"white\",\"ticks\":\"\"}},\"title\":{\"x\":0.05},\"xaxis\":{\"automargin\":true,\"gridcolor\":\"white\",\"linecolor\":\"white\",\"ticks\":\"\",\"title\":{\"standoff\":15},\"zerolinecolor\":\"white\",\"zerolinewidth\":2},\"yaxis\":{\"automargin\":true,\"gridcolor\":\"white\",\"linecolor\":\"white\",\"ticks\":\"\",\"title\":{\"standoff\":15},\"zerolinecolor\":\"white\",\"zerolinewidth\":2}}},\"xaxis\":{\"anchor\":\"y\",\"domain\":[0.0,1.0],\"title\":{\"text\":\"True Values\"}},\"yaxis\":{\"anchor\":\"x\",\"domain\":[0.0,1.0],\"title\":{\"text\":\"Predictions\"}},\"legend\":{\"tracegroupgap\":0},\"margin\":{\"t\":60},\"shapes\":[{\"line\":{\"dash\":\"dash\"},\"type\":\"line\",\"x0\":0.07333333333333335,\"x1\":1.0,\"y0\":0.07333333333333335,\"y1\":1.0}],\"title\":{\"text\":\"RandomForestRegressor\"},\"height\":600,\"width\":600},                        {\"responsive\": true}                    ).then(function(){\n",
              "                            \n",
              "var gd = document.getElementById('137a8654-1b8d-4819-ba30-834e5612f6aa');\n",
              "var x = new MutationObserver(function (mutations, observer) {{\n",
              "        var display = window.getComputedStyle(gd).display;\n",
              "        if (!display || display === 'none') {{\n",
              "            console.log([gd, 'removed!']);\n",
              "            Plotly.purge(gd);\n",
              "            observer.disconnect();\n",
              "        }}\n",
              "}});\n",
              "\n",
              "// Listen for the removal of the full notebook cells\n",
              "var notebookContainer = gd.closest('#notebook-container');\n",
              "if (notebookContainer) {{\n",
              "    x.observe(notebookContainer, {childList: true});\n",
              "}}\n",
              "\n",
              "// Listen for the clearing of the current output cell\n",
              "var outputEl = gd.closest('.output');\n",
              "if (outputEl) {{\n",
              "    x.observe(outputEl, {childList: true});\n",
              "}}\n",
              "\n",
              "                        })                };                            </script>        </div>\n",
              "</body>\n",
              "</html>"
            ]
          },
          "metadata": {}
        },
        {
          "output_type": "display_data",
          "data": {
            "text/html": [
              "<html>\n",
              "<head><meta charset=\"utf-8\" /></head>\n",
              "<body>\n",
              "    <div>            <script src=\"https://cdnjs.cloudflare.com/ajax/libs/mathjax/2.7.5/MathJax.js?config=TeX-AMS-MML_SVG\"></script><script type=\"text/javascript\">if (window.MathJax) {MathJax.Hub.Config({SVG: {font: \"STIX-Web\"}});}</script>                <script type=\"text/javascript\">window.PlotlyConfig = {MathJaxConfig: 'local'};</script>\n",
              "        <script src=\"https://cdn.plot.ly/plotly-2.8.3.min.js\"></script>                <div id=\"95db5934-e3f6-440d-82f6-673c1741de13\" class=\"plotly-graph-div\" style=\"height:600px; width:600px;\"></div>            <script type=\"text/javascript\">                                    window.PLOTLYENV=window.PLOTLYENV || {};                                    if (document.getElementById(\"95db5934-e3f6-440d-82f6-673c1741de13\")) {                    Plotly.newPlot(                        \"95db5934-e3f6-440d-82f6-673c1741de13\",                        [{\"hovertemplate\":\"True Values=%{x}<br>Predictions=%{y}<extra></extra>\",\"legendgroup\":\"\",\"marker\":{\"color\":\"#636efa\",\"symbol\":\"circle\"},\"mode\":\"markers\",\"name\":\"\",\"orientation\":\"v\",\"showlegend\":false,\"x\":[0.5155555555555555,0.42,0.25777777777777783,0.3777777777777778,0.35111111111111115,0.4000000000000001,0.5088888888888888,0.21111111111111114,0.3666666666666667,0.39111111111111113,0.4155555555555555,0.5822222222222222,0.3177777777777778,0.32,0.32,0.5088888888888888,0.19777777777777783,1.0,0.42444444444444446,0.21333333333333332,0.24888888888888888,0.23555555555555557,0.41777777777777786,0.4444444444444445,0.41111111111111115,0.07333333333333335,0.18888888888888888,0.2777777777777778,0.8466666666666667,0.1444444444444445,0.42444444444444446,0.30000000000000004,1.0,0.16888888888888892,0.32888888888888895,0.4333333333333334,0.22000000000000003,0.6933333333333334,0.15333333333333338,0.3133333333333334,0.39111111111111113,0.3488888888888889,0.5577777777777778,0.18444444444444447,0.21333333333333332,0.07555555555555556,1.0,0.1711111111111111,0.4444444444444445,0.3022222222222223,0.5511111111111111],\"xaxis\":\"x\",\"y\":[0.6277800546514615,0.4776800279269252,0.3063586986650594,0.32741279306854487,0.289513417698812,0.2960273853522746,0.546587132848548,0.28038995137121747,0.38171831652950305,0.4739589475239271,0.5123442551296375,0.5312592186707278,0.30363156698731064,0.3898904697441332,0.34465879503682184,0.33030511473813323,0.34298602458986616,0.917469379211179,0.48666280787684546,0.22374883405386992,0.2770195414956663,0.27821236892210577,0.4239697186075292,0.46221779401810315,0.518885657166084,0.13979405464885064,0.27591017866209555,0.26647431470243677,0.7562132787047033,0.1538007897032907,0.3789168510743994,0.17797431308228484,0.9330679037539615,0.18426087408658248,0.35392260176756896,0.3949102111111348,0.19029186110619895,0.5680592849698479,0.19593730370120882,0.32212575496967266,0.45183622231321563,0.44021196500308923,0.5328572563014652,0.2260413012548666,0.2601431131926096,0.13906411584353945,0.8134112528138288,0.2511255104521279,0.43365277931794466,0.32235510182136257,0.42166950832636463],\"yaxis\":\"y\",\"type\":\"scatter\"}],                        {\"template\":{\"data\":{\"bar\":[{\"error_x\":{\"color\":\"#2a3f5f\"},\"error_y\":{\"color\":\"#2a3f5f\"},\"marker\":{\"line\":{\"color\":\"#E5ECF6\",\"width\":0.5},\"pattern\":{\"fillmode\":\"overlay\",\"size\":10,\"solidity\":0.2}},\"type\":\"bar\"}],\"barpolar\":[{\"marker\":{\"line\":{\"color\":\"#E5ECF6\",\"width\":0.5},\"pattern\":{\"fillmode\":\"overlay\",\"size\":10,\"solidity\":0.2}},\"type\":\"barpolar\"}],\"carpet\":[{\"aaxis\":{\"endlinecolor\":\"#2a3f5f\",\"gridcolor\":\"white\",\"linecolor\":\"white\",\"minorgridcolor\":\"white\",\"startlinecolor\":\"#2a3f5f\"},\"baxis\":{\"endlinecolor\":\"#2a3f5f\",\"gridcolor\":\"white\",\"linecolor\":\"white\",\"minorgridcolor\":\"white\",\"startlinecolor\":\"#2a3f5f\"},\"type\":\"carpet\"}],\"choropleth\":[{\"colorbar\":{\"outlinewidth\":0,\"ticks\":\"\"},\"type\":\"choropleth\"}],\"contour\":[{\"colorbar\":{\"outlinewidth\":0,\"ticks\":\"\"},\"colorscale\":[[0.0,\"#0d0887\"],[0.1111111111111111,\"#46039f\"],[0.2222222222222222,\"#7201a8\"],[0.3333333333333333,\"#9c179e\"],[0.4444444444444444,\"#bd3786\"],[0.5555555555555556,\"#d8576b\"],[0.6666666666666666,\"#ed7953\"],[0.7777777777777778,\"#fb9f3a\"],[0.8888888888888888,\"#fdca26\"],[1.0,\"#f0f921\"]],\"type\":\"contour\"}],\"contourcarpet\":[{\"colorbar\":{\"outlinewidth\":0,\"ticks\":\"\"},\"type\":\"contourcarpet\"}],\"heatmap\":[{\"colorbar\":{\"outlinewidth\":0,\"ticks\":\"\"},\"colorscale\":[[0.0,\"#0d0887\"],[0.1111111111111111,\"#46039f\"],[0.2222222222222222,\"#7201a8\"],[0.3333333333333333,\"#9c179e\"],[0.4444444444444444,\"#bd3786\"],[0.5555555555555556,\"#d8576b\"],[0.6666666666666666,\"#ed7953\"],[0.7777777777777778,\"#fb9f3a\"],[0.8888888888888888,\"#fdca26\"],[1.0,\"#f0f921\"]],\"type\":\"heatmap\"}],\"heatmapgl\":[{\"colorbar\":{\"outlinewidth\":0,\"ticks\":\"\"},\"colorscale\":[[0.0,\"#0d0887\"],[0.1111111111111111,\"#46039f\"],[0.2222222222222222,\"#7201a8\"],[0.3333333333333333,\"#9c179e\"],[0.4444444444444444,\"#bd3786\"],[0.5555555555555556,\"#d8576b\"],[0.6666666666666666,\"#ed7953\"],[0.7777777777777778,\"#fb9f3a\"],[0.8888888888888888,\"#fdca26\"],[1.0,\"#f0f921\"]],\"type\":\"heatmapgl\"}],\"histogram\":[{\"marker\":{\"pattern\":{\"fillmode\":\"overlay\",\"size\":10,\"solidity\":0.2}},\"type\":\"histogram\"}],\"histogram2d\":[{\"colorbar\":{\"outlinewidth\":0,\"ticks\":\"\"},\"colorscale\":[[0.0,\"#0d0887\"],[0.1111111111111111,\"#46039f\"],[0.2222222222222222,\"#7201a8\"],[0.3333333333333333,\"#9c179e\"],[0.4444444444444444,\"#bd3786\"],[0.5555555555555556,\"#d8576b\"],[0.6666666666666666,\"#ed7953\"],[0.7777777777777778,\"#fb9f3a\"],[0.8888888888888888,\"#fdca26\"],[1.0,\"#f0f921\"]],\"type\":\"histogram2d\"}],\"histogram2dcontour\":[{\"colorbar\":{\"outlinewidth\":0,\"ticks\":\"\"},\"colorscale\":[[0.0,\"#0d0887\"],[0.1111111111111111,\"#46039f\"],[0.2222222222222222,\"#7201a8\"],[0.3333333333333333,\"#9c179e\"],[0.4444444444444444,\"#bd3786\"],[0.5555555555555556,\"#d8576b\"],[0.6666666666666666,\"#ed7953\"],[0.7777777777777778,\"#fb9f3a\"],[0.8888888888888888,\"#fdca26\"],[1.0,\"#f0f921\"]],\"type\":\"histogram2dcontour\"}],\"mesh3d\":[{\"colorbar\":{\"outlinewidth\":0,\"ticks\":\"\"},\"type\":\"mesh3d\"}],\"parcoords\":[{\"line\":{\"colorbar\":{\"outlinewidth\":0,\"ticks\":\"\"}},\"type\":\"parcoords\"}],\"pie\":[{\"automargin\":true,\"type\":\"pie\"}],\"scatter\":[{\"marker\":{\"colorbar\":{\"outlinewidth\":0,\"ticks\":\"\"}},\"type\":\"scatter\"}],\"scatter3d\":[{\"line\":{\"colorbar\":{\"outlinewidth\":0,\"ticks\":\"\"}},\"marker\":{\"colorbar\":{\"outlinewidth\":0,\"ticks\":\"\"}},\"type\":\"scatter3d\"}],\"scattercarpet\":[{\"marker\":{\"colorbar\":{\"outlinewidth\":0,\"ticks\":\"\"}},\"type\":\"scattercarpet\"}],\"scattergeo\":[{\"marker\":{\"colorbar\":{\"outlinewidth\":0,\"ticks\":\"\"}},\"type\":\"scattergeo\"}],\"scattergl\":[{\"marker\":{\"colorbar\":{\"outlinewidth\":0,\"ticks\":\"\"}},\"type\":\"scattergl\"}],\"scattermapbox\":[{\"marker\":{\"colorbar\":{\"outlinewidth\":0,\"ticks\":\"\"}},\"type\":\"scattermapbox\"}],\"scatterpolar\":[{\"marker\":{\"colorbar\":{\"outlinewidth\":0,\"ticks\":\"\"}},\"type\":\"scatterpolar\"}],\"scatterpolargl\":[{\"marker\":{\"colorbar\":{\"outlinewidth\":0,\"ticks\":\"\"}},\"type\":\"scatterpolargl\"}],\"scatterternary\":[{\"marker\":{\"colorbar\":{\"outlinewidth\":0,\"ticks\":\"\"}},\"type\":\"scatterternary\"}],\"surface\":[{\"colorbar\":{\"outlinewidth\":0,\"ticks\":\"\"},\"colorscale\":[[0.0,\"#0d0887\"],[0.1111111111111111,\"#46039f\"],[0.2222222222222222,\"#7201a8\"],[0.3333333333333333,\"#9c179e\"],[0.4444444444444444,\"#bd3786\"],[0.5555555555555556,\"#d8576b\"],[0.6666666666666666,\"#ed7953\"],[0.7777777777777778,\"#fb9f3a\"],[0.8888888888888888,\"#fdca26\"],[1.0,\"#f0f921\"]],\"type\":\"surface\"}],\"table\":[{\"cells\":{\"fill\":{\"color\":\"#EBF0F8\"},\"line\":{\"color\":\"white\"}},\"header\":{\"fill\":{\"color\":\"#C8D4E3\"},\"line\":{\"color\":\"white\"}},\"type\":\"table\"}]},\"layout\":{\"annotationdefaults\":{\"arrowcolor\":\"#2a3f5f\",\"arrowhead\":0,\"arrowwidth\":1},\"autotypenumbers\":\"strict\",\"coloraxis\":{\"colorbar\":{\"outlinewidth\":0,\"ticks\":\"\"}},\"colorscale\":{\"diverging\":[[0,\"#8e0152\"],[0.1,\"#c51b7d\"],[0.2,\"#de77ae\"],[0.3,\"#f1b6da\"],[0.4,\"#fde0ef\"],[0.5,\"#f7f7f7\"],[0.6,\"#e6f5d0\"],[0.7,\"#b8e186\"],[0.8,\"#7fbc41\"],[0.9,\"#4d9221\"],[1,\"#276419\"]],\"sequential\":[[0.0,\"#0d0887\"],[0.1111111111111111,\"#46039f\"],[0.2222222222222222,\"#7201a8\"],[0.3333333333333333,\"#9c179e\"],[0.4444444444444444,\"#bd3786\"],[0.5555555555555556,\"#d8576b\"],[0.6666666666666666,\"#ed7953\"],[0.7777777777777778,\"#fb9f3a\"],[0.8888888888888888,\"#fdca26\"],[1.0,\"#f0f921\"]],\"sequentialminus\":[[0.0,\"#0d0887\"],[0.1111111111111111,\"#46039f\"],[0.2222222222222222,\"#7201a8\"],[0.3333333333333333,\"#9c179e\"],[0.4444444444444444,\"#bd3786\"],[0.5555555555555556,\"#d8576b\"],[0.6666666666666666,\"#ed7953\"],[0.7777777777777778,\"#fb9f3a\"],[0.8888888888888888,\"#fdca26\"],[1.0,\"#f0f921\"]]},\"colorway\":[\"#636efa\",\"#EF553B\",\"#00cc96\",\"#ab63fa\",\"#FFA15A\",\"#19d3f3\",\"#FF6692\",\"#B6E880\",\"#FF97FF\",\"#FECB52\"],\"font\":{\"color\":\"#2a3f5f\"},\"geo\":{\"bgcolor\":\"white\",\"lakecolor\":\"white\",\"landcolor\":\"#E5ECF6\",\"showlakes\":true,\"showland\":true,\"subunitcolor\":\"white\"},\"hoverlabel\":{\"align\":\"left\"},\"hovermode\":\"closest\",\"mapbox\":{\"style\":\"light\"},\"paper_bgcolor\":\"white\",\"plot_bgcolor\":\"#E5ECF6\",\"polar\":{\"angularaxis\":{\"gridcolor\":\"white\",\"linecolor\":\"white\",\"ticks\":\"\"},\"bgcolor\":\"#E5ECF6\",\"radialaxis\":{\"gridcolor\":\"white\",\"linecolor\":\"white\",\"ticks\":\"\"}},\"scene\":{\"xaxis\":{\"backgroundcolor\":\"#E5ECF6\",\"gridcolor\":\"white\",\"gridwidth\":2,\"linecolor\":\"white\",\"showbackground\":true,\"ticks\":\"\",\"zerolinecolor\":\"white\"},\"yaxis\":{\"backgroundcolor\":\"#E5ECF6\",\"gridcolor\":\"white\",\"gridwidth\":2,\"linecolor\":\"white\",\"showbackground\":true,\"ticks\":\"\",\"zerolinecolor\":\"white\"},\"zaxis\":{\"backgroundcolor\":\"#E5ECF6\",\"gridcolor\":\"white\",\"gridwidth\":2,\"linecolor\":\"white\",\"showbackground\":true,\"ticks\":\"\",\"zerolinecolor\":\"white\"}},\"shapedefaults\":{\"line\":{\"color\":\"#2a3f5f\"}},\"ternary\":{\"aaxis\":{\"gridcolor\":\"white\",\"linecolor\":\"white\",\"ticks\":\"\"},\"baxis\":{\"gridcolor\":\"white\",\"linecolor\":\"white\",\"ticks\":\"\"},\"bgcolor\":\"#E5ECF6\",\"caxis\":{\"gridcolor\":\"white\",\"linecolor\":\"white\",\"ticks\":\"\"}},\"title\":{\"x\":0.05},\"xaxis\":{\"automargin\":true,\"gridcolor\":\"white\",\"linecolor\":\"white\",\"ticks\":\"\",\"title\":{\"standoff\":15},\"zerolinecolor\":\"white\",\"zerolinewidth\":2},\"yaxis\":{\"automargin\":true,\"gridcolor\":\"white\",\"linecolor\":\"white\",\"ticks\":\"\",\"title\":{\"standoff\":15},\"zerolinecolor\":\"white\",\"zerolinewidth\":2}}},\"xaxis\":{\"anchor\":\"y\",\"domain\":[0.0,1.0],\"title\":{\"text\":\"True Values\"}},\"yaxis\":{\"anchor\":\"x\",\"domain\":[0.0,1.0],\"title\":{\"text\":\"Predictions\"}},\"legend\":{\"tracegroupgap\":0},\"margin\":{\"t\":60},\"shapes\":[{\"line\":{\"dash\":\"dash\"},\"type\":\"line\",\"x0\":0.07333333333333335,\"x1\":1.0,\"y0\":0.07333333333333335,\"y1\":1.0}],\"title\":{\"text\":\"SVR\"},\"height\":600,\"width\":600},                        {\"responsive\": true}                    ).then(function(){\n",
              "                            \n",
              "var gd = document.getElementById('95db5934-e3f6-440d-82f6-673c1741de13');\n",
              "var x = new MutationObserver(function (mutations, observer) {{\n",
              "        var display = window.getComputedStyle(gd).display;\n",
              "        if (!display || display === 'none') {{\n",
              "            console.log([gd, 'removed!']);\n",
              "            Plotly.purge(gd);\n",
              "            observer.disconnect();\n",
              "        }}\n",
              "}});\n",
              "\n",
              "// Listen for the removal of the full notebook cells\n",
              "var notebookContainer = gd.closest('#notebook-container');\n",
              "if (notebookContainer) {{\n",
              "    x.observe(notebookContainer, {childList: true});\n",
              "}}\n",
              "\n",
              "// Listen for the clearing of the current output cell\n",
              "var outputEl = gd.closest('.output');\n",
              "if (outputEl) {{\n",
              "    x.observe(outputEl, {childList: true});\n",
              "}}\n",
              "\n",
              "                        })                };                            </script>        </div>\n",
              "</body>\n",
              "</html>"
            ]
          },
          "metadata": {}
        },
        {
          "output_type": "stream",
          "name": "stdout",
          "text": [
            "[13:40:59] WARNING: /workspace/src/objective/regression_obj.cu:152: reg:linear is now deprecated in favor of reg:squarederror.\n"
          ]
        },
        {
          "output_type": "display_data",
          "data": {
            "text/html": [
              "<html>\n",
              "<head><meta charset=\"utf-8\" /></head>\n",
              "<body>\n",
              "    <div>            <script src=\"https://cdnjs.cloudflare.com/ajax/libs/mathjax/2.7.5/MathJax.js?config=TeX-AMS-MML_SVG\"></script><script type=\"text/javascript\">if (window.MathJax) {MathJax.Hub.Config({SVG: {font: \"STIX-Web\"}});}</script>                <script type=\"text/javascript\">window.PlotlyConfig = {MathJaxConfig: 'local'};</script>\n",
              "        <script src=\"https://cdn.plot.ly/plotly-2.8.3.min.js\"></script>                <div id=\"190a81e3-ad06-49a4-b557-9a5b97780202\" class=\"plotly-graph-div\" style=\"height:600px; width:600px;\"></div>            <script type=\"text/javascript\">                                    window.PLOTLYENV=window.PLOTLYENV || {};                                    if (document.getElementById(\"190a81e3-ad06-49a4-b557-9a5b97780202\")) {                    Plotly.newPlot(                        \"190a81e3-ad06-49a4-b557-9a5b97780202\",                        [{\"hovertemplate\":\"True Values=%{x}<br>Predictions=%{y}<extra></extra>\",\"legendgroup\":\"\",\"marker\":{\"color\":\"#636efa\",\"symbol\":\"circle\"},\"mode\":\"markers\",\"name\":\"\",\"orientation\":\"v\",\"showlegend\":false,\"x\":[0.5155555555555555,0.42,0.25777777777777783,0.3777777777777778,0.35111111111111115,0.4000000000000001,0.5088888888888888,0.21111111111111114,0.3666666666666667,0.39111111111111113,0.4155555555555555,0.5822222222222222,0.3177777777777778,0.32,0.32,0.5088888888888888,0.19777777777777783,1.0,0.42444444444444446,0.21333333333333332,0.24888888888888888,0.23555555555555557,0.41777777777777786,0.4444444444444445,0.41111111111111115,0.07333333333333335,0.18888888888888888,0.2777777777777778,0.8466666666666667,0.1444444444444445,0.42444444444444446,0.30000000000000004,1.0,0.16888888888888892,0.32888888888888895,0.4333333333333334,0.22000000000000003,0.6933333333333334,0.15333333333333338,0.3133333333333334,0.39111111111111113,0.3488888888888889,0.5577777777777778,0.18444444444444447,0.21333333333333332,0.07555555555555556,1.0,0.1711111111111111,0.4444444444444445,0.3022222222222223,0.5511111111111111],\"xaxis\":\"x\",\"y\":[0.5667418837547302,0.47737863659858704,0.30455482006073,0.3553782105445862,0.3175811767578125,0.3397650122642517,0.5355064272880554,0.3163967728614807,0.3361145257949829,0.39517849683761597,0.435524046421051,0.5823253393173218,0.3684976100921631,0.328451544046402,0.33054715394973755,0.5433168411254883,0.45400184392929077,0.8949631452560425,0.37889301776885986,0.21084466576576233,0.3236196041107178,0.2640784978866577,0.4250481128692627,0.4021538197994232,0.48861128091812134,0.0598127543926239,0.24312058091163635,0.31661301851272583,0.8662221431732178,0.12583917379379272,0.4427887797355652,0.2903376519680023,0.9572458267211914,0.23783868551254272,0.42886149883270264,0.3492787480354309,0.2514585852622986,0.5983158349990845,0.1947873830795288,0.27794262766838074,0.4517862796783447,0.38885557651519775,0.4500941038131714,0.2647256553173065,0.25359469652175903,0.12265235185623169,0.9902538657188416,0.2107175886631012,0.38205063343048096,0.2782900929450989,0.4925617575645447],\"yaxis\":\"y\",\"type\":\"scatter\"}],                        {\"template\":{\"data\":{\"bar\":[{\"error_x\":{\"color\":\"#2a3f5f\"},\"error_y\":{\"color\":\"#2a3f5f\"},\"marker\":{\"line\":{\"color\":\"#E5ECF6\",\"width\":0.5},\"pattern\":{\"fillmode\":\"overlay\",\"size\":10,\"solidity\":0.2}},\"type\":\"bar\"}],\"barpolar\":[{\"marker\":{\"line\":{\"color\":\"#E5ECF6\",\"width\":0.5},\"pattern\":{\"fillmode\":\"overlay\",\"size\":10,\"solidity\":0.2}},\"type\":\"barpolar\"}],\"carpet\":[{\"aaxis\":{\"endlinecolor\":\"#2a3f5f\",\"gridcolor\":\"white\",\"linecolor\":\"white\",\"minorgridcolor\":\"white\",\"startlinecolor\":\"#2a3f5f\"},\"baxis\":{\"endlinecolor\":\"#2a3f5f\",\"gridcolor\":\"white\",\"linecolor\":\"white\",\"minorgridcolor\":\"white\",\"startlinecolor\":\"#2a3f5f\"},\"type\":\"carpet\"}],\"choropleth\":[{\"colorbar\":{\"outlinewidth\":0,\"ticks\":\"\"},\"type\":\"choropleth\"}],\"contour\":[{\"colorbar\":{\"outlinewidth\":0,\"ticks\":\"\"},\"colorscale\":[[0.0,\"#0d0887\"],[0.1111111111111111,\"#46039f\"],[0.2222222222222222,\"#7201a8\"],[0.3333333333333333,\"#9c179e\"],[0.4444444444444444,\"#bd3786\"],[0.5555555555555556,\"#d8576b\"],[0.6666666666666666,\"#ed7953\"],[0.7777777777777778,\"#fb9f3a\"],[0.8888888888888888,\"#fdca26\"],[1.0,\"#f0f921\"]],\"type\":\"contour\"}],\"contourcarpet\":[{\"colorbar\":{\"outlinewidth\":0,\"ticks\":\"\"},\"type\":\"contourcarpet\"}],\"heatmap\":[{\"colorbar\":{\"outlinewidth\":0,\"ticks\":\"\"},\"colorscale\":[[0.0,\"#0d0887\"],[0.1111111111111111,\"#46039f\"],[0.2222222222222222,\"#7201a8\"],[0.3333333333333333,\"#9c179e\"],[0.4444444444444444,\"#bd3786\"],[0.5555555555555556,\"#d8576b\"],[0.6666666666666666,\"#ed7953\"],[0.7777777777777778,\"#fb9f3a\"],[0.8888888888888888,\"#fdca26\"],[1.0,\"#f0f921\"]],\"type\":\"heatmap\"}],\"heatmapgl\":[{\"colorbar\":{\"outlinewidth\":0,\"ticks\":\"\"},\"colorscale\":[[0.0,\"#0d0887\"],[0.1111111111111111,\"#46039f\"],[0.2222222222222222,\"#7201a8\"],[0.3333333333333333,\"#9c179e\"],[0.4444444444444444,\"#bd3786\"],[0.5555555555555556,\"#d8576b\"],[0.6666666666666666,\"#ed7953\"],[0.7777777777777778,\"#fb9f3a\"],[0.8888888888888888,\"#fdca26\"],[1.0,\"#f0f921\"]],\"type\":\"heatmapgl\"}],\"histogram\":[{\"marker\":{\"pattern\":{\"fillmode\":\"overlay\",\"size\":10,\"solidity\":0.2}},\"type\":\"histogram\"}],\"histogram2d\":[{\"colorbar\":{\"outlinewidth\":0,\"ticks\":\"\"},\"colorscale\":[[0.0,\"#0d0887\"],[0.1111111111111111,\"#46039f\"],[0.2222222222222222,\"#7201a8\"],[0.3333333333333333,\"#9c179e\"],[0.4444444444444444,\"#bd3786\"],[0.5555555555555556,\"#d8576b\"],[0.6666666666666666,\"#ed7953\"],[0.7777777777777778,\"#fb9f3a\"],[0.8888888888888888,\"#fdca26\"],[1.0,\"#f0f921\"]],\"type\":\"histogram2d\"}],\"histogram2dcontour\":[{\"colorbar\":{\"outlinewidth\":0,\"ticks\":\"\"},\"colorscale\":[[0.0,\"#0d0887\"],[0.1111111111111111,\"#46039f\"],[0.2222222222222222,\"#7201a8\"],[0.3333333333333333,\"#9c179e\"],[0.4444444444444444,\"#bd3786\"],[0.5555555555555556,\"#d8576b\"],[0.6666666666666666,\"#ed7953\"],[0.7777777777777778,\"#fb9f3a\"],[0.8888888888888888,\"#fdca26\"],[1.0,\"#f0f921\"]],\"type\":\"histogram2dcontour\"}],\"mesh3d\":[{\"colorbar\":{\"outlinewidth\":0,\"ticks\":\"\"},\"type\":\"mesh3d\"}],\"parcoords\":[{\"line\":{\"colorbar\":{\"outlinewidth\":0,\"ticks\":\"\"}},\"type\":\"parcoords\"}],\"pie\":[{\"automargin\":true,\"type\":\"pie\"}],\"scatter\":[{\"marker\":{\"colorbar\":{\"outlinewidth\":0,\"ticks\":\"\"}},\"type\":\"scatter\"}],\"scatter3d\":[{\"line\":{\"colorbar\":{\"outlinewidth\":0,\"ticks\":\"\"}},\"marker\":{\"colorbar\":{\"outlinewidth\":0,\"ticks\":\"\"}},\"type\":\"scatter3d\"}],\"scattercarpet\":[{\"marker\":{\"colorbar\":{\"outlinewidth\":0,\"ticks\":\"\"}},\"type\":\"scattercarpet\"}],\"scattergeo\":[{\"marker\":{\"colorbar\":{\"outlinewidth\":0,\"ticks\":\"\"}},\"type\":\"scattergeo\"}],\"scattergl\":[{\"marker\":{\"colorbar\":{\"outlinewidth\":0,\"ticks\":\"\"}},\"type\":\"scattergl\"}],\"scattermapbox\":[{\"marker\":{\"colorbar\":{\"outlinewidth\":0,\"ticks\":\"\"}},\"type\":\"scattermapbox\"}],\"scatterpolar\":[{\"marker\":{\"colorbar\":{\"outlinewidth\":0,\"ticks\":\"\"}},\"type\":\"scatterpolar\"}],\"scatterpolargl\":[{\"marker\":{\"colorbar\":{\"outlinewidth\":0,\"ticks\":\"\"}},\"type\":\"scatterpolargl\"}],\"scatterternary\":[{\"marker\":{\"colorbar\":{\"outlinewidth\":0,\"ticks\":\"\"}},\"type\":\"scatterternary\"}],\"surface\":[{\"colorbar\":{\"outlinewidth\":0,\"ticks\":\"\"},\"colorscale\":[[0.0,\"#0d0887\"],[0.1111111111111111,\"#46039f\"],[0.2222222222222222,\"#7201a8\"],[0.3333333333333333,\"#9c179e\"],[0.4444444444444444,\"#bd3786\"],[0.5555555555555556,\"#d8576b\"],[0.6666666666666666,\"#ed7953\"],[0.7777777777777778,\"#fb9f3a\"],[0.8888888888888888,\"#fdca26\"],[1.0,\"#f0f921\"]],\"type\":\"surface\"}],\"table\":[{\"cells\":{\"fill\":{\"color\":\"#EBF0F8\"},\"line\":{\"color\":\"white\"}},\"header\":{\"fill\":{\"color\":\"#C8D4E3\"},\"line\":{\"color\":\"white\"}},\"type\":\"table\"}]},\"layout\":{\"annotationdefaults\":{\"arrowcolor\":\"#2a3f5f\",\"arrowhead\":0,\"arrowwidth\":1},\"autotypenumbers\":\"strict\",\"coloraxis\":{\"colorbar\":{\"outlinewidth\":0,\"ticks\":\"\"}},\"colorscale\":{\"diverging\":[[0,\"#8e0152\"],[0.1,\"#c51b7d\"],[0.2,\"#de77ae\"],[0.3,\"#f1b6da\"],[0.4,\"#fde0ef\"],[0.5,\"#f7f7f7\"],[0.6,\"#e6f5d0\"],[0.7,\"#b8e186\"],[0.8,\"#7fbc41\"],[0.9,\"#4d9221\"],[1,\"#276419\"]],\"sequential\":[[0.0,\"#0d0887\"],[0.1111111111111111,\"#46039f\"],[0.2222222222222222,\"#7201a8\"],[0.3333333333333333,\"#9c179e\"],[0.4444444444444444,\"#bd3786\"],[0.5555555555555556,\"#d8576b\"],[0.6666666666666666,\"#ed7953\"],[0.7777777777777778,\"#fb9f3a\"],[0.8888888888888888,\"#fdca26\"],[1.0,\"#f0f921\"]],\"sequentialminus\":[[0.0,\"#0d0887\"],[0.1111111111111111,\"#46039f\"],[0.2222222222222222,\"#7201a8\"],[0.3333333333333333,\"#9c179e\"],[0.4444444444444444,\"#bd3786\"],[0.5555555555555556,\"#d8576b\"],[0.6666666666666666,\"#ed7953\"],[0.7777777777777778,\"#fb9f3a\"],[0.8888888888888888,\"#fdca26\"],[1.0,\"#f0f921\"]]},\"colorway\":[\"#636efa\",\"#EF553B\",\"#00cc96\",\"#ab63fa\",\"#FFA15A\",\"#19d3f3\",\"#FF6692\",\"#B6E880\",\"#FF97FF\",\"#FECB52\"],\"font\":{\"color\":\"#2a3f5f\"},\"geo\":{\"bgcolor\":\"white\",\"lakecolor\":\"white\",\"landcolor\":\"#E5ECF6\",\"showlakes\":true,\"showland\":true,\"subunitcolor\":\"white\"},\"hoverlabel\":{\"align\":\"left\"},\"hovermode\":\"closest\",\"mapbox\":{\"style\":\"light\"},\"paper_bgcolor\":\"white\",\"plot_bgcolor\":\"#E5ECF6\",\"polar\":{\"angularaxis\":{\"gridcolor\":\"white\",\"linecolor\":\"white\",\"ticks\":\"\"},\"bgcolor\":\"#E5ECF6\",\"radialaxis\":{\"gridcolor\":\"white\",\"linecolor\":\"white\",\"ticks\":\"\"}},\"scene\":{\"xaxis\":{\"backgroundcolor\":\"#E5ECF6\",\"gridcolor\":\"white\",\"gridwidth\":2,\"linecolor\":\"white\",\"showbackground\":true,\"ticks\":\"\",\"zerolinecolor\":\"white\"},\"yaxis\":{\"backgroundcolor\":\"#E5ECF6\",\"gridcolor\":\"white\",\"gridwidth\":2,\"linecolor\":\"white\",\"showbackground\":true,\"ticks\":\"\",\"zerolinecolor\":\"white\"},\"zaxis\":{\"backgroundcolor\":\"#E5ECF6\",\"gridcolor\":\"white\",\"gridwidth\":2,\"linecolor\":\"white\",\"showbackground\":true,\"ticks\":\"\",\"zerolinecolor\":\"white\"}},\"shapedefaults\":{\"line\":{\"color\":\"#2a3f5f\"}},\"ternary\":{\"aaxis\":{\"gridcolor\":\"white\",\"linecolor\":\"white\",\"ticks\":\"\"},\"baxis\":{\"gridcolor\":\"white\",\"linecolor\":\"white\",\"ticks\":\"\"},\"bgcolor\":\"#E5ECF6\",\"caxis\":{\"gridcolor\":\"white\",\"linecolor\":\"white\",\"ticks\":\"\"}},\"title\":{\"x\":0.05},\"xaxis\":{\"automargin\":true,\"gridcolor\":\"white\",\"linecolor\":\"white\",\"ticks\":\"\",\"title\":{\"standoff\":15},\"zerolinecolor\":\"white\",\"zerolinewidth\":2},\"yaxis\":{\"automargin\":true,\"gridcolor\":\"white\",\"linecolor\":\"white\",\"ticks\":\"\",\"title\":{\"standoff\":15},\"zerolinecolor\":\"white\",\"zerolinewidth\":2}}},\"xaxis\":{\"anchor\":\"y\",\"domain\":[0.0,1.0],\"title\":{\"text\":\"True Values\"}},\"yaxis\":{\"anchor\":\"x\",\"domain\":[0.0,1.0],\"title\":{\"text\":\"Predictions\"}},\"legend\":{\"tracegroupgap\":0},\"margin\":{\"t\":60},\"shapes\":[{\"line\":{\"dash\":\"dash\"},\"type\":\"line\",\"x0\":0.07333333333333335,\"x1\":1.0,\"y0\":0.07333333333333335,\"y1\":1.0}],\"title\":{\"text\":\"XGBRegressor\"},\"height\":600,\"width\":600},                        {\"responsive\": true}                    ).then(function(){\n",
              "                            \n",
              "var gd = document.getElementById('190a81e3-ad06-49a4-b557-9a5b97780202');\n",
              "var x = new MutationObserver(function (mutations, observer) {{\n",
              "        var display = window.getComputedStyle(gd).display;\n",
              "        if (!display || display === 'none') {{\n",
              "            console.log([gd, 'removed!']);\n",
              "            Plotly.purge(gd);\n",
              "            observer.disconnect();\n",
              "        }}\n",
              "}});\n",
              "\n",
              "// Listen for the removal of the full notebook cells\n",
              "var notebookContainer = gd.closest('#notebook-container');\n",
              "if (notebookContainer) {{\n",
              "    x.observe(notebookContainer, {childList: true});\n",
              "}}\n",
              "\n",
              "// Listen for the clearing of the current output cell\n",
              "var outputEl = gd.closest('.output');\n",
              "if (outputEl) {{\n",
              "    x.observe(outputEl, {childList: true});\n",
              "}}\n",
              "\n",
              "                        })                };                            </script>        </div>\n",
              "</body>\n",
              "</html>"
            ]
          },
          "metadata": {}
        }
      ],
      "source": [
        "#Write your code here \n",
        "import numpy as np\n",
        "import plotly.express as px\n",
        "import plotly.subplots as sp\n",
        "list_models = [model_CatBoot(),model_DT(),model_KNN(),model_LGBMR(),model_LM(),model_RandomFR(),model_SVR(),model_XGBR()]\n",
        "for model in list_models:\n",
        "  model.fit(X_train, y_train)\n",
        "  y_pred= model.predict(X_test)\n",
        "  fig = px.scatter(x=y_test, y=y_pred, labels={'x': 'True Values', 'y': 'Predictions'})\n",
        "  fig.add_shape(\n",
        "      type=\"line\", line=dict(dash='dash'),\n",
        "      x0=y_test.min(), y0=y_test.min(),\n",
        "      x1=y_test.max(), y1=y_test.max()\n",
        "  )\n",
        "  fig.update_layout(height=600, width=600, title_text=str(type(model).__name__))\n",
        "  fig.show()"
      ]
    },
    {
      "cell_type": "markdown",
      "metadata": {
        "id": "DKp-qlVSyvMR"
      },
      "source": [
        "2)\tConstruct a bar diagram for (**R2/ MSE/RMSE/MAE**) of the obtained models"
      ]
    },
    {
      "cell_type": "code",
      "execution_count": 38,
      "metadata": {
        "colab": {
          "base_uri": "https://localhost:8080/",
          "height": 553
        },
        "id": "59kGWcEpyvMR",
        "outputId": "56342495-11aa-4c69-b0cd-15aa91433f8f"
      },
      "outputs": [
        {
          "output_type": "stream",
          "name": "stdout",
          "text": [
            "[13:41:32] WARNING: /workspace/src/objective/regression_obj.cu:152: reg:linear is now deprecated in favor of reg:squarederror.\n",
            "[13:41:34] WARNING: /workspace/src/objective/regression_obj.cu:152: reg:linear is now deprecated in favor of reg:squarederror.\n"
          ]
        },
        {
          "output_type": "display_data",
          "data": {
            "text/plain": [
              "<Figure size 864x576 with 1 Axes>"
            ],
            "image/png": "[encoded data removed]"
          },
          "metadata": {}
        }
      ],
      "source": [
        "#Write your code here \n",
        "import matplotlib.pyplot as plt\n",
        "index = np.arange(0,160,20)\n",
        "bar_width = 5\n",
        "list_models = [model_CatBoot(),model_DT(),model_KNN(),model_LGBMR(),model_LM(),model_RandomFR(),model_SVR(),model_XGBR()]\n",
        "score_test = []\n",
        "score_train = []\n",
        "model_name = []\n",
        "for model in list_models:\n",
        "  model.fit(X_train, y_train)\n",
        "  y_pred= model.predict(X_test)\n",
        "  y_pred_train = model.predict(X_train)\n",
        "  score_test.append(mse_model_fun(y_test,y_pred) )\n",
        "  score_train.append(mse_model_fun( y_train, y_pred_train))\n",
        "  model_name.append(str(type(model).__name__))\n",
        "fig, ax = plt.subplots()\n",
        "summer = ax.bar(index, score_train, bar_width,\n",
        "                label=\"MSE Training set\")\n",
        "\n",
        "winter = ax.bar(index + bar_width,  score_test,\n",
        "                 bar_width, label=\"MSE Test Set\")\n",
        "\n",
        "ax.set_xlabel('Models')\n",
        "ax.set_ylabel('MSE')\n",
        "ax.set_title('MSE by Dataset (Training / Tests set)')\n",
        "ax.set_xticks(index)\n",
        "ax.set_xticklabels(['CATBoot','DT','KNN','LGBMR','LM','RDFR','SVR','XGBR'])\n",
        "ax.legend()\n",
        "plt.rcParams[\"figure.figsize\"] = (800,800)\n",
        "plt.show()\n"
      ]
    },
    {
      "cell_type": "markdown",
      "metadata": {
        "id": "_Y-tnS5uyvMR"
      },
      "source": [
        "3)\tDraw a conclusion about the best model taken into account this criterion."
      ]
    },
    {
      "cell_type": "markdown",
      "source": [
        "CatBoot is the best regression model based on MSE"
      ],
      "metadata": {
        "id": "Iit66lRkdcI-"
      }
    }
  ],
  "metadata": {
    "colab": {
      "collapsed_sections": [
        "-7gSS1NBA3Hz"
      ],
      "name": "Regression_Sheet2.ipynb",
      "provenance": []
    },
    "kernelspec": {
      "display_name": "Python 3 (ipykernel)",
      "language": "python",
      "name": "python3"
    },
    "language_info": {
      "codemirror_mode": {
        "name": "ipython",
        "version": 3
      },
      "file_extension": ".py",
      "mimetype": "text/x-python",
      "name": "python",
      "nbconvert_exporter": "python",
      "pygments_lexer": "ipython3",
      "version": "3.9.7"
    },
    "widgets": {
      "application/vnd.jupyter.widget-state+json": {
        "dcb4db95c54b4a64b5955e0c51370248": {
          "model_module": "@jupyter-widgets/controls",
          "model_name": "HTMLModel",
          "model_module_version": "1.5.0",
          "state": {
            "_dom_classes": [],
            "_model_module": "@jupyter-widgets/controls",
            "_model_module_version": "1.5.0",
            "_model_name": "HTMLModel",
            "_view_count": null,
            "_view_module": "@jupyter-widgets/controls",
            "_view_module_version": "1.5.0",
            "_view_name": "HTMLView",
            "description": "",
            "description_tooltip": null,
            "layout": "IPY_MODEL_4fa3279ad0bb4662bfd092e46df8a2d7",
            "placeholder": "​",
            "style": "IPY_MODEL_e2ae345800914ffba2caefa63724f22a",
            "value": "<br><b><center><font size=\"5\">Eric Dietriche Sesso Domtchoueng</font></center></b>"
          }
        },
        "4fa3279ad0bb4662bfd092e46df8a2d7": {
          "model_module": "@jupyter-widgets/base",
          "model_name": "LayoutModel",
          "model_module_version": "1.2.0",
          "state": {
            "_model_module": "@jupyter-widgets/base",
            "_model_module_version": "1.2.0",
            "_model_name": "LayoutModel",
            "_view_count": null,
            "_view_module": "@jupyter-widgets/base",
            "_view_module_version": "1.2.0",
            "_view_name": "LayoutView",
            "align_content": null,
            "align_items": null,
            "align_self": null,
            "border": null,
            "bottom": null,
            "display": null,
            "flex": null,
            "flex_flow": null,
            "grid_area": null,
            "grid_auto_columns": null,
            "grid_auto_flow": null,
            "grid_auto_rows": null,
            "grid_column": null,
            "grid_gap": null,
            "grid_row": null,
            "grid_template_areas": null,
            "grid_template_columns": null,
            "grid_template_rows": null,
            "height": null,
            "justify_content": null,
            "justify_items": null,
            "left": null,
            "margin": null,
            "max_height": null,
            "max_width": null,
            "min_height": null,
            "min_width": null,
            "object_fit": null,
            "object_position": null,
            "order": null,
            "overflow": null,
            "overflow_x": null,
            "overflow_y": null,
            "padding": null,
            "right": null,
            "top": null,
            "visibility": null,
            "width": null
          }
        },
        "e2ae345800914ffba2caefa63724f22a": {
          "model_module": "@jupyter-widgets/controls",
          "model_name": "DescriptionStyleModel",
          "model_module_version": "1.5.0",
          "state": {
            "_model_module": "@jupyter-widgets/controls",
            "_model_module_version": "1.5.0",
            "_model_name": "DescriptionStyleModel",
            "_view_count": null,
            "_view_module": "@jupyter-widgets/base",
            "_view_module_version": "1.2.0",
            "_view_name": "StyleView",
            "description_width": ""
          }
        },
        "b496516bb5b54267b9e3e586c27156fb": {
          "model_module": "@jupyter-widgets/controls",
          "model_name": "RadioButtonsModel",
          "model_module_version": "1.5.0",
          "state": {
            "_dom_classes": [],
            "_model_module": "@jupyter-widgets/controls",
            "_model_module_version": "1.5.0",
            "_model_name": "RadioButtonsModel",
            "_options_labels": [
              "SVR",
              "DT",
              "LM",
              "KNN",
              "LGBMR",
              "RandomFR",
              "CatBoot",
              "XGBR"
            ],
            "_view_count": null,
            "_view_module": "@jupyter-widgets/controls",
            "_view_module_version": "1.5.0",
            "_view_name": "RadioButtonsView",
            "description": "Model:",
            "description_tooltip": null,
            "disabled": false,
            "index": 0,
            "layout": "IPY_MODEL_4576730477fc42f9a6630bd8bbadd544",
            "style": "IPY_MODEL_a0af23cdfddf41899dcf0d7155c0f6e6"
          }
        },
        "4576730477fc42f9a6630bd8bbadd544": {
          "model_module": "@jupyter-widgets/base",
          "model_name": "LayoutModel",
          "model_module_version": "1.2.0",
          "state": {
            "_model_module": "@jupyter-widgets/base",
            "_model_module_version": "1.2.0",
            "_model_name": "LayoutModel",
            "_view_count": null,
            "_view_module": "@jupyter-widgets/base",
            "_view_module_version": "1.2.0",
            "_view_name": "LayoutView",
            "align_content": null,
            "align_items": null,
            "align_self": null,
            "border": null,
            "bottom": null,
            "display": null,
            "flex": null,
            "flex_flow": null,
            "grid_area": null,
            "grid_auto_columns": null,
            "grid_auto_flow": null,
            "grid_auto_rows": null,
            "grid_column": null,
            "grid_gap": null,
            "grid_row": null,
            "grid_template_areas": null,
            "grid_template_columns": null,
            "grid_template_rows": null,
            "height": null,
            "justify_content": null,
            "justify_items": null,
            "left": null,
            "margin": null,
            "max_height": null,
            "max_width": null,
            "min_height": null,
            "min_width": null,
            "object_fit": null,
            "object_position": null,
            "order": null,
            "overflow": null,
            "overflow_x": null,
            "overflow_y": null,
            "padding": null,
            "right": null,
            "top": null,
            "visibility": null,
            "width": null
          }
        },
        "a0af23cdfddf41899dcf0d7155c0f6e6": {
          "model_module": "@jupyter-widgets/controls",
          "model_name": "DescriptionStyleModel",
          "model_module_version": "1.5.0",
          "state": {
            "_model_module": "@jupyter-widgets/controls",
            "_model_module_version": "1.5.0",
            "_model_name": "DescriptionStyleModel",
            "_view_count": null,
            "_view_module": "@jupyter-widgets/base",
            "_view_module_version": "1.2.0",
            "_view_name": "StyleView",
            "description_width": ""
          }
        },
        "2881563fbed142679a209c881ccc32da": {
          "model_module": "@jupyter-widgets/controls",
          "model_name": "SelectMultipleModel",
          "model_module_version": "1.5.0",
          "state": {
            "_dom_classes": [],
            "_model_module": "@jupyter-widgets/controls",
            "_model_module_version": "1.5.0",
            "_model_name": "SelectMultipleModel",
            "_options_labels": [
              "R2",
              "MSE",
              "RMSE",
              "MAE"
            ],
            "_view_count": null,
            "_view_module": "@jupyter-widgets/controls",
            "_view_module_version": "1.5.0",
            "_view_name": "SelectMultipleView",
            "description": "Performance_metrics",
            "description_tooltip": null,
            "disabled": false,
            "index": [
              2,
              3
            ],
            "layout": "IPY_MODEL_0238b0ce752740e1b70aadcacdd7dc3b",
            "rows": 5,
            "style": "IPY_MODEL_5c5166062c92438081b40127cf60eee3"
          }
        },
        "0238b0ce752740e1b70aadcacdd7dc3b": {
          "model_module": "@jupyter-widgets/base",
          "model_name": "LayoutModel",
          "model_module_version": "1.2.0",
          "state": {
            "_model_module": "@jupyter-widgets/base",
            "_model_module_version": "1.2.0",
            "_model_name": "LayoutModel",
            "_view_count": null,
            "_view_module": "@jupyter-widgets/base",
            "_view_module_version": "1.2.0",
            "_view_name": "LayoutView",
            "align_content": null,
            "align_items": null,
            "align_self": null,
            "border": null,
            "bottom": null,
            "display": null,
            "flex": null,
            "flex_flow": null,
            "grid_area": null,
            "grid_auto_columns": null,
            "grid_auto_flow": null,
            "grid_auto_rows": null,
            "grid_column": null,
            "grid_gap": null,
            "grid_row": null,
            "grid_template_areas": null,
            "grid_template_columns": null,
            "grid_template_rows": null,
            "height": null,
            "justify_content": null,
            "justify_items": null,
            "left": null,
            "margin": null,
            "max_height": null,
            "max_width": null,
            "min_height": null,
            "min_width": null,
            "object_fit": null,
            "object_position": null,
            "order": null,
            "overflow": null,
            "overflow_x": null,
            "overflow_y": null,
            "padding": null,
            "right": null,
            "top": null,
            "visibility": null,
            "width": null
          }
        },
        "5c5166062c92438081b40127cf60eee3": {
          "model_module": "@jupyter-widgets/controls",
          "model_name": "DescriptionStyleModel",
          "model_module_version": "1.5.0",
          "state": {
            "_model_module": "@jupyter-widgets/controls",
            "_model_module_version": "1.5.0",
            "_model_name": "DescriptionStyleModel",
            "_view_count": null,
            "_view_module": "@jupyter-widgets/base",
            "_view_module_version": "1.2.0",
            "_view_name": "StyleView",
            "description_width": ""
          }
        },
        "76fb8941867c4d8e86c9645a07de58a6": {
          "model_module": "@jupyter-widgets/controls",
          "model_name": "DropdownModel",
          "model_module_version": "1.5.0",
          "state": {
            "_dom_classes": [],
            "_model_module": "@jupyter-widgets/controls",
            "_model_module_version": "1.5.0",
            "_model_name": "DropdownModel",
            "_options_labels": [
              "Standard Scaler",
              "MinMax Scaler"
            ],
            "_view_count": null,
            "_view_module": "@jupyter-widgets/controls",
            "_view_module_version": "1.5.0",
            "_view_name": "DropdownView",
            "description": "Scaler",
            "description_tooltip": null,
            "disabled": false,
            "index": 0,
            "layout": "IPY_MODEL_fbb50220c8524bcca6f95889d2cadf3f",
            "style": "IPY_MODEL_58208b366a5049be8cba70525174bc7d"
          }
        },
        "fbb50220c8524bcca6f95889d2cadf3f": {
          "model_module": "@jupyter-widgets/base",
          "model_name": "LayoutModel",
          "model_module_version": "1.2.0",
          "state": {
            "_model_module": "@jupyter-widgets/base",
            "_model_module_version": "1.2.0",
            "_model_name": "LayoutModel",
            "_view_count": null,
            "_view_module": "@jupyter-widgets/base",
            "_view_module_version": "1.2.0",
            "_view_name": "LayoutView",
            "align_content": null,
            "align_items": null,
            "align_self": null,
            "border": null,
            "bottom": null,
            "display": null,
            "flex": null,
            "flex_flow": null,
            "grid_area": null,
            "grid_auto_columns": null,
            "grid_auto_flow": null,
            "grid_auto_rows": null,
            "grid_column": null,
            "grid_gap": null,
            "grid_row": null,
            "grid_template_areas": null,
            "grid_template_columns": null,
            "grid_template_rows": null,
            "height": null,
            "justify_content": null,
            "justify_items": null,
            "left": null,
            "margin": null,
            "max_height": null,
            "max_width": null,
            "min_height": null,
            "min_width": null,
            "object_fit": null,
            "object_position": null,
            "order": null,
            "overflow": null,
            "overflow_x": null,
            "overflow_y": null,
            "padding": null,
            "right": null,
            "top": null,
            "visibility": null,
            "width": null
          }
        },
        "58208b366a5049be8cba70525174bc7d": {
          "model_module": "@jupyter-widgets/controls",
          "model_name": "DescriptionStyleModel",
          "model_module_version": "1.5.0",
          "state": {
            "_model_module": "@jupyter-widgets/controls",
            "_model_module_version": "1.5.0",
            "_model_name": "DescriptionStyleModel",
            "_view_count": null,
            "_view_module": "@jupyter-widgets/base",
            "_view_module_version": "1.2.0",
            "_view_name": "StyleView",
            "description_width": ""
          }
        },
        "9a3d436d2efb42c186d72d61580b598f": {
          "model_module": "@jupyter-widgets/controls",
          "model_name": "TabModel",
          "model_module_version": "1.5.0",
          "state": {
            "_dom_classes": [],
            "_model_module": "@jupyter-widgets/controls",
            "_model_module_version": "1.5.0",
            "_model_name": "TabModel",
            "_titles": {
              "0": "data pre-processing",
              "1": "Prediction",
              "2": "hyperparameters"
            },
            "_view_count": null,
            "_view_module": "@jupyter-widgets/controls",
            "_view_module_version": "1.5.0",
            "_view_name": "TabView",
            "box_style": "",
            "children": [
              "IPY_MODEL_88850532796046e680e80d6de73d3de4",
              "IPY_MODEL_0ab510c0151446ed91634d4d42e0e297",
              "IPY_MODEL_467b1d57a2624612a9ece342ab6786e3"
            ],
            "layout": "IPY_MODEL_ef5e816ecffb454481f67750f757ae31",
            "selected_index": 2
          }
        },
        "88850532796046e680e80d6de73d3de4": {
          "model_module": "@jupyter-widgets/output",
          "model_name": "OutputModel",
          "model_module_version": "1.0.0",
          "state": {
            "_dom_classes": [],
            "_model_module": "@jupyter-widgets/output",
            "_model_module_version": "1.0.0",
            "_model_name": "OutputModel",
            "_view_count": null,
            "_view_module": "@jupyter-widgets/output",
            "_view_module_version": "1.0.0",
            "_view_name": "OutputView",
            "layout": "IPY_MODEL_43b6dc5936ea451b99ced043c942a28a",
            "msg_id": "",
            "outputs": [
              {
                "output_type": "display_data",
                "data": {
                  "text/plain": "'Training size: 455'",
                  "application/vnd.google.colaboratory.intrinsic+json": {
                    "type": "string"
                  }
                },
                "metadata": {}
              },
              {
                "output_type": "display_data",
                "data": {
                  "text/plain": "'Test size: 51'",
                  "application/vnd.google.colaboratory.intrinsic+json": {
                    "type": "string"
                  }
                },
                "metadata": {}
              },
              {
                "output_type": "display_data",
                "data": {
                  "text/plain": "'corelation Matrix:'",
                  "application/vnd.google.colaboratory.intrinsic+json": {
                    "type": "string"
                  }
                },
                "metadata": {}
              },
              {
                "output_type": "display_data",
                "data": {
                  "text/plain": "             CRIM        ZN     INDUS      CHAS       NOX        RM       AGE  \\\nCRIM     1.000000 -0.182930  0.391161 -0.052223  0.410377 -0.215434  0.344934   \nZN      -0.182930  1.000000 -0.513336 -0.036147 -0.502287  0.316550 -0.541274   \nINDUS    0.391161 -0.513336  1.000000  0.058035  0.740965 -0.381457  0.614592   \nCHAS    -0.052223 -0.036147  0.058035  1.000000  0.073286  0.102284  0.075206   \nNOX      0.410377 -0.502287  0.740965  0.073286  1.000000 -0.302188  0.711461   \nRM      -0.215434  0.316550 -0.381457  0.102284 -0.302188  1.000000 -0.241351   \nAGE      0.344934 -0.541274  0.614592  0.075206  0.711461 -0.241351  1.000000   \nDIS     -0.366523  0.638388 -0.699639 -0.091680 -0.769230  0.205246 -0.724353   \nRAD      0.608886 -0.306316  0.593176  0.001425  0.611441 -0.209847  0.449989   \nTAX      0.566528 -0.308334  0.716062 -0.031483  0.668023 -0.292048  0.500589   \nPTRATIO  0.273384 -0.403085  0.384806 -0.109310  0.188933 -0.355501  0.262723   \nB       -0.370163  0.167431 -0.354597  0.050055 -0.380051  0.128069 -0.265282   \nLSTAT    0.434044 -0.407549  0.567354 -0.046166  0.572379 -0.602962  0.574893   \nMEDV    -0.379695  0.365943 -0.478657  0.179882 -0.427321  0.695360 -0.380223   \n\n              DIS       RAD       TAX   PTRATIO         B     LSTAT      MEDV  \nCRIM    -0.366523  0.608886  0.566528  0.273384 -0.370163  0.434044 -0.379695  \nZN       0.638388 -0.306316 -0.308334 -0.403085  0.167431 -0.407549  0.365943  \nINDUS   -0.699639  0.593176  0.716062  0.384806 -0.354597  0.567354 -0.478657  \nCHAS    -0.091680  0.001425 -0.031483 -0.109310  0.050055 -0.046166  0.179882  \nNOX     -0.769230  0.611441  0.668023  0.188933 -0.380051  0.572379 -0.427321  \nRM       0.205246 -0.209847 -0.292048 -0.355501  0.128069 -0.602962  0.695360  \nAGE     -0.724353  0.449989  0.500589  0.262723 -0.265282  0.574893 -0.380223  \nDIS      1.000000 -0.494588 -0.534432 -0.232471  0.291512 -0.483429  0.249929  \nRAD     -0.494588  1.000000  0.910228  0.464741 -0.444413  0.468440 -0.381626  \nTAX     -0.534432  0.910228  1.000000  0.460853 -0.441808  0.524545 -0.468536  \nPTRATIO -0.232471  0.464741  0.460853  1.000000 -0.177383  0.373343 -0.507787  \nB        0.291512 -0.444413 -0.441808 -0.177383  1.000000 -0.368886  0.333461  \nLSTAT   -0.483429  0.468440  0.524545  0.373343 -0.368886  1.000000 -0.721975  \nMEDV     0.249929 -0.381626 -0.468536 -0.507787  0.333461 -0.721975  1.000000  ",
                  "text/html": "\n  <div id=\"df-e92cf25b-b04e-4a7d-8174-f8eec8d4b1b5\">\n    <div class=\"colab-df-container\">\n      <div>\n<style scoped>\n    .dataframe tbody tr th:only-of-type {\n        vertical-align: middle;\n    }\n\n    .dataframe tbody tr th {\n        vertical-align: top;\n    }\n\n    .dataframe thead th {\n        text-align: right;\n    }\n</style>\n<table border=\"1\" class=\"dataframe\">\n  <thead>\n    <tr style=\"text-align: right;\">\n      <th></th>\n      <th>CRIM</th>\n      <th>ZN</th>\n      <th>INDUS</th>\n      <th>CHAS</th>\n      <th>NOX</th>\n      <th>RM</th>\n      <th>AGE</th>\n      <th>DIS</th>\n      <th>RAD</th>\n      <th>TAX</th>\n      <th>PTRATIO</th>\n      <th>B</th>\n      <th>LSTAT</th>\n      <th>MEDV</th>\n    </tr>\n  </thead>\n  <tbody>\n    <tr>\n      <th>CRIM</th>\n      <td>1.000000</td>\n      <td>-0.182930</td>\n      <td>0.391161</td>\n      <td>-0.052223</td>\n      <td>0.410377</td>\n      <td>-0.215434</td>\n      <td>0.344934</td>\n      <td>-0.366523</td>\n      <td>0.608886</td>\n      <td>0.566528</td>\n      <td>0.273384</td>\n      <td>-0.370163</td>\n      <td>0.434044</td>\n      <td>-0.379695</td>\n    </tr>\n    <tr>\n      <th>ZN</th>\n      <td>-0.182930</td>\n      <td>1.000000</td>\n      <td>-0.513336</td>\n      <td>-0.036147</td>\n      <td>-0.502287</td>\n      <td>0.316550</td>\n      <td>-0.541274</td>\n      <td>0.638388</td>\n      <td>-0.306316</td>\n      <td>-0.308334</td>\n      <td>-0.403085</td>\n      <td>0.167431</td>\n      <td>-0.407549</td>\n      <td>0.365943</td>\n    </tr>\n    <tr>\n      <th>INDUS</th>\n      <td>0.391161</td>\n      <td>-0.513336</td>\n      <td>1.000000</td>\n      <td>0.058035</td>\n      <td>0.740965</td>\n      <td>-0.381457</td>\n      <td>0.614592</td>\n      <td>-0.699639</td>\n      <td>0.593176</td>\n      <td>0.716062</td>\n      <td>0.384806</td>\n      <td>-0.354597</td>\n      <td>0.567354</td>\n      <td>-0.478657</td>\n    </tr>\n    <tr>\n      <th>CHAS</th>\n      <td>-0.052223</td>\n      <td>-0.036147</td>\n      <td>0.058035</td>\n      <td>1.000000</td>\n      <td>0.073286</td>\n      <td>0.102284</td>\n      <td>0.075206</td>\n      <td>-0.091680</td>\n      <td>0.001425</td>\n      <td>-0.031483</td>\n      <td>-0.109310</td>\n      <td>0.050055</td>\n      <td>-0.046166</td>\n      <td>0.179882</td>\n    </tr>\n    <tr>\n      <th>NOX</th>\n      <td>0.410377</td>\n      <td>-0.502287</td>\n      <td>0.740965</td>\n      <td>0.073286</td>\n      <td>1.000000</td>\n      <td>-0.302188</td>\n      <td>0.711461</td>\n      <td>-0.769230</td>\n      <td>0.611441</td>\n      <td>0.668023</td>\n      <td>0.188933</td>\n      <td>-0.380051</td>\n      <td>0.572379</td>\n      <td>-0.427321</td>\n    </tr>\n    <tr>\n      <th>RM</th>\n      <td>-0.215434</td>\n      <td>0.316550</td>\n      <td>-0.381457</td>\n      <td>0.102284</td>\n      <td>-0.302188</td>\n      <td>1.000000</td>\n      <td>-0.241351</td>\n      <td>0.205246</td>\n      <td>-0.209847</td>\n      <td>-0.292048</td>\n      <td>-0.355501</td>\n      <td>0.128069</td>\n      <td>-0.602962</td>\n      <td>0.695360</td>\n    </tr>\n    <tr>\n      <th>AGE</th>\n      <td>0.344934</td>\n      <td>-0.541274</td>\n      <td>0.614592</td>\n      <td>0.075206</td>\n      <td>0.711461</td>\n      <td>-0.241351</td>\n      <td>1.000000</td>\n      <td>-0.724353</td>\n      <td>0.449989</td>\n      <td>0.500589</td>\n      <td>0.262723</td>\n      <td>-0.265282</td>\n      <td>0.574893</td>\n      <td>-0.380223</td>\n    </tr>\n    <tr>\n      <th>DIS</th>\n      <td>-0.366523</td>\n      <td>0.638388</td>\n      <td>-0.699639</td>\n      <td>-0.091680</td>\n      <td>-0.769230</td>\n      <td>0.205246</td>\n      <td>-0.724353</td>\n      <td>1.000000</td>\n      <td>-0.494588</td>\n      <td>-0.534432</td>\n      <td>-0.232471</td>\n      <td>0.291512</td>\n      <td>-0.483429</td>\n      <td>0.249929</td>\n    </tr>\n    <tr>\n      <th>RAD</th>\n      <td>0.608886</td>\n      <td>-0.306316</td>\n      <td>0.593176</td>\n      <td>0.001425</td>\n      <td>0.611441</td>\n      <td>-0.209847</td>\n      <td>0.449989</td>\n      <td>-0.494588</td>\n      <td>1.000000</td>\n      <td>0.910228</td>\n      <td>0.464741</td>\n      <td>-0.444413</td>\n      <td>0.468440</td>\n      <td>-0.381626</td>\n    </tr>\n    <tr>\n      <th>TAX</th>\n      <td>0.566528</td>\n      <td>-0.308334</td>\n      <td>0.716062</td>\n      <td>-0.031483</td>\n      <td>0.668023</td>\n      <td>-0.292048</td>\n      <td>0.500589</td>\n      <td>-0.534432</td>\n      <td>0.910228</td>\n      <td>1.000000</td>\n      <td>0.460853</td>\n      <td>-0.441808</td>\n      <td>0.524545</td>\n      <td>-0.468536</td>\n    </tr>\n    <tr>\n      <th>PTRATIO</th>\n      <td>0.273384</td>\n      <td>-0.403085</td>\n      <td>0.384806</td>\n      <td>-0.109310</td>\n      <td>0.188933</td>\n      <td>-0.355501</td>\n      <td>0.262723</td>\n      <td>-0.232471</td>\n      <td>0.464741</td>\n      <td>0.460853</td>\n      <td>1.000000</td>\n      <td>-0.177383</td>\n      <td>0.373343</td>\n      <td>-0.507787</td>\n    </tr>\n    <tr>\n      <th>B</th>\n      <td>-0.370163</td>\n      <td>0.167431</td>\n      <td>-0.354597</td>\n      <td>0.050055</td>\n      <td>-0.380051</td>\n      <td>0.128069</td>\n      <td>-0.265282</td>\n      <td>0.291512</td>\n      <td>-0.444413</td>\n      <td>-0.441808</td>\n      <td>-0.177383</td>\n      <td>1.000000</td>\n      <td>-0.368886</td>\n      <td>0.333461</td>\n    </tr>\n    <tr>\n      <th>LSTAT</th>\n      <td>0.434044</td>\n      <td>-0.407549</td>\n      <td>0.567354</td>\n      <td>-0.046166</td>\n      <td>0.572379</td>\n      <td>-0.602962</td>\n      <td>0.574893</td>\n      <td>-0.483429</td>\n      <td>0.468440</td>\n      <td>0.524545</td>\n      <td>0.373343</td>\n      <td>-0.368886</td>\n      <td>1.000000</td>\n      <td>-0.721975</td>\n    </tr>\n    <tr>\n      <th>MEDV</th>\n      <td>-0.379695</td>\n      <td>0.365943</td>\n      <td>-0.478657</td>\n      <td>0.179882</td>\n      <td>-0.427321</td>\n      <td>0.695360</td>\n      <td>-0.380223</td>\n      <td>0.249929</td>\n      <td>-0.381626</td>\n      <td>-0.468536</td>\n      <td>-0.507787</td>\n      <td>0.333461</td>\n      <td>-0.721975</td>\n      <td>1.000000</td>\n    </tr>\n  </tbody>\n</table>\n</div>\n      <button class=\"colab-df-convert\" onclick=\"convertToInteractive('df-e92cf25b-b04e-4a7d-8174-f8eec8d4b1b5')\"\n              title=\"Convert this dataframe to an interactive table.\"\n              style=\"display:none;\">\n        \n  <svg xmlns=\"http://www.w3.org/2000/svg\" height=\"24px\"viewBox=\"0 0 24 24\"\n       width=\"24px\">\n    <path d=\"M0 0h24v24H0V0z\" fill=\"none\"/>\n    <path d=\"M18.56 5.44l.94 2.06.94-2.06 2.06-.94-2.06-.94-.94-2.06-.94 2.06-2.06.94zm-11 1L8.5 8.5l.94-2.06 2.06-.94-2.06-.94L8.5 2.5l-.94 2.06-2.06.94zm10 10l.94 2.06.94-2.06 2.06-.94-2.06-.94-.94-2.06-.94 2.06-2.06.94z\"/><path d=\"M17.41 7.96l-1.37-1.37c-.4-.4-.92-.59-1.43-.59-.52 0-1.04.2-1.43.59L10.3 9.45l-7.72 7.72c-.78.78-.78 2.05 0 2.83L4 21.41c.39.39.9.59 1.41.59.51 0 1.02-.2 1.41-.59l7.78-7.78 2.81-2.81c.8-.78.8-2.07 0-2.86zM5.41 20L4 18.59l7.72-7.72 1.47 1.35L5.41 20z\"/>\n  </svg>\n      </button>\n      \n  <style>\n    .colab-df-container {\n      display:flex;\n      flex-wrap:wrap;\n      gap: 12px;\n    }\n\n    .colab-df-convert {\n      background-color: #E8F0FE;\n      border: none;\n      border-radius: 50%;\n      cursor: pointer;\n      display: none;\n      fill: #1967D2;\n      height: 32px;\n      padding: 0 0 0 0;\n      width: 32px;\n    }\n\n    .colab-df-convert:hover {\n      background-color: #E2EBFA;\n      box-shadow: 0px 1px 2px rgba(60, 64, 67, 0.3), 0px 1px 3px 1px rgba(60, 64, 67, 0.15);\n      fill: #174EA6;\n    }\n\n    [theme=dark] .colab-df-convert {\n      background-color: #3B4455;\n      fill: #D2E3FC;\n    }\n\n    [theme=dark] .colab-df-convert:hover {\n      background-color: #434B5C;\n      box-shadow: 0px 1px 3px 1px rgba(0, 0, 0, 0.15);\n      filter: drop-shadow(0px 1px 2px rgba(0, 0, 0, 0.3));\n      fill: #FFFFFF;\n    }\n  </style>\n\n      <script>\n        const buttonEl =\n          document.querySelector('#df-e92cf25b-b04e-4a7d-8174-f8eec8d4b1b5 button.colab-df-convert');\n        buttonEl.style.display =\n          google.colab.kernel.accessAllowed ? 'block' : 'none';\n\n        async function convertToInteractive(key) {\n          const element = document.querySelector('#df-e92cf25b-b04e-4a7d-8174-f8eec8d4b1b5');\n          const dataTable =\n            await google.colab.kernel.invokeFunction('convertToInteractive',\n                                                     [key], {});\n          if (!dataTable) return;\n\n          const docLinkHtml = 'Like what you see? Visit the ' +\n            '<a target=\"_blank\" href=https://colab.research.google.com/notebooks/data_table.ipynb>data table notebook</a>'\n            + ' to learn more about interactive tables.';\n          element.innerHTML = '';\n          dataTable['output_type'] = 'display_data';\n          await google.colab.output.renderOutput(dataTable, element);\n          const docLink = document.createElement('div');\n          docLink.innerHTML = docLinkHtml;\n          element.appendChild(docLink);\n        }\n      </script>\n    </div>\n  </div>\n  "
                },
                "metadata": {}
              },
              {
                "output_type": "display_data",
                "data": {
                  "text/plain": "<Figure size 360x360 with 6 Axes>",
                  "image/png": "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\n"
                },
                "metadata": {}
              },
              {
                "output_type": "display_data",
                "data": {
                  "text/plain": "<Figure size 360x360 with 6 Axes>",
                  "image/png": "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\n"
                },
                "metadata": {}
              },
              {
                "output_type": "display_data",
                "data": {
                  "text/plain": "<Figure size 360x360 with 6 Axes>",
                  "image/png": "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\n"
                },
                "metadata": {}
              }
            ]
          }
        },
        "0ab510c0151446ed91634d4d42e0e297": {
          "model_module": "@jupyter-widgets/output",
          "model_name": "OutputModel",
          "model_module_version": "1.0.0",
          "state": {
            "_dom_classes": [],
            "_model_module": "@jupyter-widgets/output",
            "_model_module_version": "1.0.0",
            "_model_name": "OutputModel",
            "_view_count": null,
            "_view_module": "@jupyter-widgets/output",
            "_view_module_version": "1.0.0",
            "_view_name": "OutputView",
            "layout": "IPY_MODEL_52f9da17f97540578d0914db06315100",
            "msg_id": "",
            "outputs": [
              {
                "output_type": "display_data",
                "data": {
                  "text/plain": "     True values  predictions  absolute error\n162     2.989460     1.472860        1.516600\n407     0.584152    -0.364585        0.948736\n473     0.790943    -0.058948        0.849891\n4       1.487503     0.718441        0.769062\n394    -1.070178    -0.521606        0.548572\n225     2.989460     2.449840        0.539620\n406    -1.157248    -0.670384        0.486864\n261     2.238481     1.790592        0.447890\n376    -0.939573    -0.516772        0.422801\n223     0.823594     0.452617        0.370977\n204     2.989460     2.665219        0.324242\n132     0.050848    -0.258896        0.309744\n147    -0.863387    -0.569994        0.293392\n165     0.268523    -0.024338        0.292861\n90      0.007313     0.289981        0.282667\n334    -0.199478     0.054506        0.253984\n315    -0.689247    -0.436590        0.252656\n419    -1.538179    -1.286201        0.251978\n494     0.214104    -0.033976        0.248080\n31     -0.874270    -0.630019        0.244252\n65      0.105267     0.342083        0.236816\n343     0.148802     0.383522        0.234720\n447    -1.081062    -0.849940        0.231122\n425    -1.549063    -1.324500        0.224563\n389    -1.200783    -0.981476        0.219306\n362    -0.188594     0.010933        0.199527\n307     0.616803     0.814993        0.198190\n245    -0.438920    -0.628096        0.189176\n67     -0.057989    -0.246251        0.188262\n345    -0.547758    -0.362507        0.185251\n344     0.943315     0.782788        0.160528\n47     -0.645712    -0.496445        0.149266\n34     -0.983108    -0.845896        0.137211\n478    -0.863387    -0.751423        0.111964\n475    -1.004875    -0.894742        0.110134\n218    -0.112408    -0.215511        0.103103\n481     0.127034     0.224889        0.097854\n314     0.137918     0.043035        0.094883\n329     0.007313     0.100109        0.092796\n102    -0.428037    -0.337800        0.090237\n66     -0.340967    -0.275854        0.065112\n330    -0.297432    -0.232582        0.064850\n292     0.584152     0.643743        0.059591\n312    -0.340967    -0.282603        0.058363\n119    -0.351850    -0.298920        0.052930\n486    -0.373618    -0.326763        0.046855\n324     0.268523     0.224467        0.044056\n146    -0.754549    -0.787536        0.032987\n446    -0.830735    -0.803506        0.027230\n201     0.170569     0.155941        0.014629\n351     0.170569     0.164285        0.006284",
                  "text/html": "\n  <div id=\"df-13775b42-0dd1-4196-8b04-7ecd5d402ba4\">\n    <div class=\"colab-df-container\">\n      <div>\n<style scoped>\n    .dataframe tbody tr th:only-of-type {\n        vertical-align: middle;\n    }\n\n    .dataframe tbody tr th {\n        vertical-align: top;\n    }\n\n    .dataframe thead th {\n        text-align: right;\n    }\n</style>\n<table border=\"1\" class=\"dataframe\">\n  <thead>\n    <tr style=\"text-align: right;\">\n      <th></th>\n      <th>True values</th>\n      <th>predictions</th>\n      <th>absolute error</th>\n    </tr>\n  </thead>\n  <tbody>\n    <tr>\n      <th>162</th>\n      <td>2.989460</td>\n      <td>1.472860</td>\n      <td>1.516600</td>\n    </tr>\n    <tr>\n      <th>407</th>\n      <td>0.584152</td>\n      <td>-0.364585</td>\n      <td>0.948736</td>\n    </tr>\n    <tr>\n      <th>473</th>\n      <td>0.790943</td>\n      <td>-0.058948</td>\n      <td>0.849891</td>\n    </tr>\n    <tr>\n      <th>4</th>\n      <td>1.487503</td>\n      <td>0.718441</td>\n      <td>0.769062</td>\n    </tr>\n    <tr>\n      <th>394</th>\n      <td>-1.070178</td>\n      <td>-0.521606</td>\n      <td>0.548572</td>\n    </tr>\n    <tr>\n      <th>225</th>\n      <td>2.989460</td>\n      <td>2.449840</td>\n      <td>0.539620</td>\n    </tr>\n    <tr>\n      <th>406</th>\n      <td>-1.157248</td>\n      <td>-0.670384</td>\n      <td>0.486864</td>\n    </tr>\n    <tr>\n      <th>261</th>\n      <td>2.238481</td>\n      <td>1.790592</td>\n      <td>0.447890</td>\n    </tr>\n    <tr>\n      <th>376</th>\n      <td>-0.939573</td>\n      <td>-0.516772</td>\n      <td>0.422801</td>\n    </tr>\n    <tr>\n      <th>223</th>\n      <td>0.823594</td>\n      <td>0.452617</td>\n      <td>0.370977</td>\n    </tr>\n    <tr>\n      <th>204</th>\n      <td>2.989460</td>\n      <td>2.665219</td>\n      <td>0.324242</td>\n    </tr>\n    <tr>\n      <th>132</th>\n      <td>0.050848</td>\n      <td>-0.258896</td>\n      <td>0.309744</td>\n    </tr>\n    <tr>\n      <th>147</th>\n      <td>-0.863387</td>\n      <td>-0.569994</td>\n      <td>0.293392</td>\n    </tr>\n    <tr>\n      <th>165</th>\n      <td>0.268523</td>\n      <td>-0.024338</td>\n      <td>0.292861</td>\n    </tr>\n    <tr>\n      <th>90</th>\n      <td>0.007313</td>\n      <td>0.289981</td>\n      <td>0.282667</td>\n    </tr>\n    <tr>\n      <th>334</th>\n      <td>-0.199478</td>\n      <td>0.054506</td>\n      <td>0.253984</td>\n    </tr>\n    <tr>\n      <th>315</th>\n      <td>-0.689247</td>\n      <td>-0.436590</td>\n      <td>0.252656</td>\n    </tr>\n    <tr>\n      <th>419</th>\n      <td>-1.538179</td>\n      <td>-1.286201</td>\n      <td>0.251978</td>\n    </tr>\n    <tr>\n      <th>494</th>\n      <td>0.214104</td>\n      <td>-0.033976</td>\n      <td>0.248080</td>\n    </tr>\n    <tr>\n      <th>31</th>\n      <td>-0.874270</td>\n      <td>-0.630019</td>\n      <td>0.244252</td>\n    </tr>\n    <tr>\n      <th>65</th>\n      <td>0.105267</td>\n      <td>0.342083</td>\n      <td>0.236816</td>\n    </tr>\n    <tr>\n      <th>343</th>\n      <td>0.148802</td>\n      <td>0.383522</td>\n      <td>0.234720</td>\n    </tr>\n    <tr>\n      <th>447</th>\n      <td>-1.081062</td>\n      <td>-0.849940</td>\n      <td>0.231122</td>\n    </tr>\n    <tr>\n      <th>425</th>\n      <td>-1.549063</td>\n      <td>-1.324500</td>\n      <td>0.224563</td>\n    </tr>\n    <tr>\n      <th>389</th>\n      <td>-1.200783</td>\n      <td>-0.981476</td>\n      <td>0.219306</td>\n    </tr>\n    <tr>\n      <th>362</th>\n      <td>-0.188594</td>\n      <td>0.010933</td>\n      <td>0.199527</td>\n    </tr>\n    <tr>\n      <th>307</th>\n      <td>0.616803</td>\n      <td>0.814993</td>\n      <td>0.198190</td>\n    </tr>\n    <tr>\n      <th>245</th>\n      <td>-0.438920</td>\n      <td>-0.628096</td>\n      <td>0.189176</td>\n    </tr>\n    <tr>\n      <th>67</th>\n      <td>-0.057989</td>\n      <td>-0.246251</td>\n      <td>0.188262</td>\n    </tr>\n    <tr>\n      <th>345</th>\n      <td>-0.547758</td>\n      <td>-0.362507</td>\n      <td>0.185251</td>\n    </tr>\n    <tr>\n      <th>344</th>\n      <td>0.943315</td>\n      <td>0.782788</td>\n      <td>0.160528</td>\n    </tr>\n    <tr>\n      <th>47</th>\n      <td>-0.645712</td>\n      <td>-0.496445</td>\n      <td>0.149266</td>\n    </tr>\n    <tr>\n      <th>34</th>\n      <td>-0.983108</td>\n      <td>-0.845896</td>\n      <td>0.137211</td>\n    </tr>\n    <tr>\n      <th>478</th>\n      <td>-0.863387</td>\n      <td>-0.751423</td>\n      <td>0.111964</td>\n    </tr>\n    <tr>\n      <th>475</th>\n      <td>-1.004875</td>\n      <td>-0.894742</td>\n      <td>0.110134</td>\n    </tr>\n    <tr>\n      <th>218</th>\n      <td>-0.112408</td>\n      <td>-0.215511</td>\n      <td>0.103103</td>\n    </tr>\n    <tr>\n      <th>481</th>\n      <td>0.127034</td>\n      <td>0.224889</td>\n      <td>0.097854</td>\n    </tr>\n    <tr>\n      <th>314</th>\n      <td>0.137918</td>\n      <td>0.043035</td>\n      <td>0.094883</td>\n    </tr>\n    <tr>\n      <th>329</th>\n      <td>0.007313</td>\n      <td>0.100109</td>\n      <td>0.092796</td>\n    </tr>\n    <tr>\n      <th>102</th>\n      <td>-0.428037</td>\n      <td>-0.337800</td>\n      <td>0.090237</td>\n    </tr>\n    <tr>\n      <th>66</th>\n      <td>-0.340967</td>\n      <td>-0.275854</td>\n      <td>0.065112</td>\n    </tr>\n    <tr>\n      <th>330</th>\n      <td>-0.297432</td>\n      <td>-0.232582</td>\n      <td>0.064850</td>\n    </tr>\n    <tr>\n      <th>292</th>\n      <td>0.584152</td>\n      <td>0.643743</td>\n      <td>0.059591</td>\n    </tr>\n    <tr>\n      <th>312</th>\n      <td>-0.340967</td>\n      <td>-0.282603</td>\n      <td>0.058363</td>\n    </tr>\n    <tr>\n      <th>119</th>\n      <td>-0.351850</td>\n      <td>-0.298920</td>\n      <td>0.052930</td>\n    </tr>\n    <tr>\n      <th>486</th>\n      <td>-0.373618</td>\n      <td>-0.326763</td>\n      <td>0.046855</td>\n    </tr>\n    <tr>\n      <th>324</th>\n      <td>0.268523</td>\n      <td>0.224467</td>\n      <td>0.044056</td>\n    </tr>\n    <tr>\n      <th>146</th>\n      <td>-0.754549</td>\n      <td>-0.787536</td>\n      <td>0.032987</td>\n    </tr>\n    <tr>\n      <th>446</th>\n      <td>-0.830735</td>\n      <td>-0.803506</td>\n      <td>0.027230</td>\n    </tr>\n    <tr>\n      <th>201</th>\n      <td>0.170569</td>\n      <td>0.155941</td>\n      <td>0.014629</td>\n    </tr>\n    <tr>\n      <th>351</th>\n      <td>0.170569</td>\n      <td>0.164285</td>\n      <td>0.006284</td>\n    </tr>\n  </tbody>\n</table>\n</div>\n      <button class=\"colab-df-convert\" onclick=\"convertToInteractive('df-13775b42-0dd1-4196-8b04-7ecd5d402ba4')\"\n              title=\"Convert this dataframe to an interactive table.\"\n              style=\"display:none;\">\n        \n  <svg xmlns=\"http://www.w3.org/2000/svg\" height=\"24px\"viewBox=\"0 0 24 24\"\n       width=\"24px\">\n    <path d=\"M0 0h24v24H0V0z\" fill=\"none\"/>\n    <path d=\"M18.56 5.44l.94 2.06.94-2.06 2.06-.94-2.06-.94-.94-2.06-.94 2.06-2.06.94zm-11 1L8.5 8.5l.94-2.06 2.06-.94-2.06-.94L8.5 2.5l-.94 2.06-2.06.94zm10 10l.94 2.06.94-2.06 2.06-.94-2.06-.94-.94-2.06-.94 2.06-2.06.94z\"/><path d=\"M17.41 7.96l-1.37-1.37c-.4-.4-.92-.59-1.43-.59-.52 0-1.04.2-1.43.59L10.3 9.45l-7.72 7.72c-.78.78-.78 2.05 0 2.83L4 21.41c.39.39.9.59 1.41.59.51 0 1.02-.2 1.41-.59l7.78-7.78 2.81-2.81c.8-.78.8-2.07 0-2.86zM5.41 20L4 18.59l7.72-7.72 1.47 1.35L5.41 20z\"/>\n  </svg>\n      </button>\n      \n  <style>\n    .colab-df-container {\n      display:flex;\n      flex-wrap:wrap;\n      gap: 12px;\n    }\n\n    .colab-df-convert {\n      background-color: #E8F0FE;\n      border: none;\n      border-radius: 50%;\n      cursor: pointer;\n      display: none;\n      fill: #1967D2;\n      height: 32px;\n      padding: 0 0 0 0;\n      width: 32px;\n    }\n\n    .colab-df-convert:hover {\n      background-color: #E2EBFA;\n      box-shadow: 0px 1px 2px rgba(60, 64, 67, 0.3), 0px 1px 3px 1px rgba(60, 64, 67, 0.15);\n      fill: #174EA6;\n    }\n\n    [theme=dark] .colab-df-convert {\n      background-color: #3B4455;\n      fill: #D2E3FC;\n    }\n\n    [theme=dark] .colab-df-convert:hover {\n      background-color: #434B5C;\n      box-shadow: 0px 1px 3px 1px rgba(0, 0, 0, 0.15);\n      filter: drop-shadow(0px 1px 2px rgba(0, 0, 0, 0.3));\n      fill: #FFFFFF;\n    }\n  </style>\n\n      <script>\n        const buttonEl =\n          document.querySelector('#df-13775b42-0dd1-4196-8b04-7ecd5d402ba4 button.colab-df-convert');\n        buttonEl.style.display =\n          google.colab.kernel.accessAllowed ? 'block' : 'none';\n\n        async function convertToInteractive(key) {\n          const element = document.querySelector('#df-13775b42-0dd1-4196-8b04-7ecd5d402ba4');\n          const dataTable =\n            await google.colab.kernel.invokeFunction('convertToInteractive',\n                                                     [key], {});\n          if (!dataTable) return;\n\n          const docLinkHtml = 'Like what you see? Visit the ' +\n            '<a target=\"_blank\" href=https://colab.research.google.com/notebooks/data_table.ipynb>data table notebook</a>'\n            + ' to learn more about interactive tables.';\n          element.innerHTML = '';\n          dataTable['output_type'] = 'display_data';\n          await google.colab.output.renderOutput(dataTable, element);\n          const docLink = document.createElement('div');\n          docLink.innerHTML = docLinkHtml;\n          element.appendChild(docLink);\n        }\n      </script>\n    </div>\n  </div>\n  "
                },
                "metadata": {}
              }
            ]
          }
        },
        "467b1d57a2624612a9ece342ab6786e3": {
          "model_module": "@jupyter-widgets/output",
          "model_name": "OutputModel",
          "model_module_version": "1.0.0",
          "state": {
            "_dom_classes": [],
            "_model_module": "@jupyter-widgets/output",
            "_model_module_version": "1.0.0",
            "_model_name": "OutputModel",
            "_view_count": null,
            "_view_module": "@jupyter-widgets/output",
            "_view_module_version": "1.0.0",
            "_view_name": "OutputView",
            "layout": "IPY_MODEL_df241bd5001e4f65a3bba31d8a8f169e",
            "msg_id": "",
            "outputs": [
              {
                "output_type": "display_data",
                "data": {
                  "text/plain": "{'C': 1.0,\n 'cache_size': 200,\n 'coef0': 0.0,\n 'degree': 3,\n 'epsilon': 0.1,\n 'gamma': 'scale',\n 'kernel': 'rbf',\n 'max_iter': -1,\n 'shrinking': True,\n 'tol': 0.001,\n 'verbose': False}"
                },
                "metadata": {}
              },
              {
                "output_type": "display_data",
                "data": {
                  "text/plain": "      Training Set  Test Set\nRMSE      0.444651  0.512255\nMAE       0.197715  0.262405",
                  "text/html": "\n  <div id=\"df-dfb94e9c-78a7-4e2d-8c9f-2b10183a62f1\">\n    <div class=\"colab-df-container\">\n      <div>\n<style scoped>\n    .dataframe tbody tr th:only-of-type {\n        vertical-align: middle;\n    }\n\n    .dataframe tbody tr th {\n        vertical-align: top;\n    }\n\n    .dataframe thead th {\n        text-align: right;\n    }\n</style>\n<table border=\"1\" class=\"dataframe\">\n  <thead>\n    <tr style=\"text-align: right;\">\n      <th></th>\n      <th>Training Set</th>\n      <th>Test Set</th>\n    </tr>\n  </thead>\n  <tbody>\n    <tr>\n      <th>RMSE</th>\n      <td>0.444651</td>\n      <td>0.512255</td>\n    </tr>\n    <tr>\n      <th>MAE</th>\n      <td>0.197715</td>\n      <td>0.262405</td>\n    </tr>\n  </tbody>\n</table>\n</div>\n      <button class=\"colab-df-convert\" onclick=\"convertToInteractive('df-dfb94e9c-78a7-4e2d-8c9f-2b10183a62f1')\"\n              title=\"Convert this dataframe to an interactive table.\"\n              style=\"display:none;\">\n        \n  <svg xmlns=\"http://www.w3.org/2000/svg\" height=\"24px\"viewBox=\"0 0 24 24\"\n       width=\"24px\">\n    <path d=\"M0 0h24v24H0V0z\" fill=\"none\"/>\n    <path d=\"M18.56 5.44l.94 2.06.94-2.06 2.06-.94-2.06-.94-.94-2.06-.94 2.06-2.06.94zm-11 1L8.5 8.5l.94-2.06 2.06-.94-2.06-.94L8.5 2.5l-.94 2.06-2.06.94zm10 10l.94 2.06.94-2.06 2.06-.94-2.06-.94-.94-2.06-.94 2.06-2.06.94z\"/><path d=\"M17.41 7.96l-1.37-1.37c-.4-.4-.92-.59-1.43-.59-.52 0-1.04.2-1.43.59L10.3 9.45l-7.72 7.72c-.78.78-.78 2.05 0 2.83L4 21.41c.39.39.9.59 1.41.59.51 0 1.02-.2 1.41-.59l7.78-7.78 2.81-2.81c.8-.78.8-2.07 0-2.86zM5.41 20L4 18.59l7.72-7.72 1.47 1.35L5.41 20z\"/>\n  </svg>\n      </button>\n      \n  <style>\n    .colab-df-container {\n      display:flex;\n      flex-wrap:wrap;\n      gap: 12px;\n    }\n\n    .colab-df-convert {\n      background-color: #E8F0FE;\n      border: none;\n      border-radius: 50%;\n      cursor: pointer;\n      display: none;\n      fill: #1967D2;\n      height: 32px;\n      padding: 0 0 0 0;\n      width: 32px;\n    }\n\n    .colab-df-convert:hover {\n      background-color: #E2EBFA;\n      box-shadow: 0px 1px 2px rgba(60, 64, 67, 0.3), 0px 1px 3px 1px rgba(60, 64, 67, 0.15);\n      fill: #174EA6;\n    }\n\n    [theme=dark] .colab-df-convert {\n      background-color: #3B4455;\n      fill: #D2E3FC;\n    }\n\n    [theme=dark] .colab-df-convert:hover {\n      background-color: #434B5C;\n      box-shadow: 0px 1px 3px 1px rgba(0, 0, 0, 0.15);\n      filter: drop-shadow(0px 1px 2px rgba(0, 0, 0, 0.3));\n      fill: #FFFFFF;\n    }\n  </style>\n\n      <script>\n        const buttonEl =\n          document.querySelector('#df-dfb94e9c-78a7-4e2d-8c9f-2b10183a62f1 button.colab-df-convert');\n        buttonEl.style.display =\n          google.colab.kernel.accessAllowed ? 'block' : 'none';\n\n        async function convertToInteractive(key) {\n          const element = document.querySelector('#df-dfb94e9c-78a7-4e2d-8c9f-2b10183a62f1');\n          const dataTable =\n            await google.colab.kernel.invokeFunction('convertToInteractive',\n                                                     [key], {});\n          if (!dataTable) return;\n\n          const docLinkHtml = 'Like what you see? Visit the ' +\n            '<a target=\"_blank\" href=https://colab.research.google.com/notebooks/data_table.ipynb>data table notebook</a>'\n            + ' to learn more about interactive tables.';\n          element.innerHTML = '';\n          dataTable['output_type'] = 'display_data';\n          await google.colab.output.renderOutput(dataTable, element);\n          const docLink = document.createElement('div');\n          docLink.innerHTML = docLinkHtml;\n          element.appendChild(docLink);\n        }\n      </script>\n    </div>\n  </div>\n  "
                },
                "metadata": {}
              }
            ]
          }
        },
        "ef5e816ecffb454481f67750f757ae31": {
          "model_module": "@jupyter-widgets/base",
          "model_name": "LayoutModel",
          "model_module_version": "1.2.0",
          "state": {
            "_model_module": "@jupyter-widgets/base",
            "_model_module_version": "1.2.0",
            "_model_name": "LayoutModel",
            "_view_count": null,
            "_view_module": "@jupyter-widgets/base",
            "_view_module_version": "1.2.0",
            "_view_name": "LayoutView",
            "align_content": null,
            "align_items": null,
            "align_self": null,
            "border": null,
            "bottom": null,
            "display": null,
            "flex": null,
            "flex_flow": null,
            "grid_area": null,
            "grid_auto_columns": null,
            "grid_auto_flow": null,
            "grid_auto_rows": null,
            "grid_column": null,
            "grid_gap": null,
            "grid_row": null,
            "grid_template_areas": null,
            "grid_template_columns": null,
            "grid_template_rows": null,
            "height": null,
            "justify_content": null,
            "justify_items": null,
            "left": null,
            "margin": null,
            "max_height": null,
            "max_width": null,
            "min_height": null,
            "min_width": null,
            "object_fit": null,
            "object_position": null,
            "order": null,
            "overflow": null,
            "overflow_x": null,
            "overflow_y": null,
            "padding": null,
            "right": null,
            "top": null,
            "visibility": null,
            "width": null
          }
        },
        "43b6dc5936ea451b99ced043c942a28a": {
          "model_module": "@jupyter-widgets/base",
          "model_name": "LayoutModel",
          "model_module_version": "1.2.0",
          "state": {
            "_model_module": "@jupyter-widgets/base",
            "_model_module_version": "1.2.0",
            "_model_name": "LayoutModel",
            "_view_count": null,
            "_view_module": "@jupyter-widgets/base",
            "_view_module_version": "1.2.0",
            "_view_name": "LayoutView",
            "align_content": null,
            "align_items": null,
            "align_self": null,
            "border": null,
            "bottom": null,
            "display": null,
            "flex": null,
            "flex_flow": null,
            "grid_area": null,
            "grid_auto_columns": null,
            "grid_auto_flow": null,
            "grid_auto_rows": null,
            "grid_column": null,
            "grid_gap": null,
            "grid_row": null,
            "grid_template_areas": null,
            "grid_template_columns": null,
            "grid_template_rows": null,
            "height": null,
            "justify_content": null,
            "justify_items": null,
            "left": null,
            "margin": null,
            "max_height": null,
            "max_width": null,
            "min_height": null,
            "min_width": null,
            "object_fit": null,
            "object_position": null,
            "order": null,
            "overflow": null,
            "overflow_x": null,
            "overflow_y": null,
            "padding": null,
            "right": null,
            "top": null,
            "visibility": null,
            "width": null
          }
        },
        "52f9da17f97540578d0914db06315100": {
          "model_module": "@jupyter-widgets/base",
          "model_name": "LayoutModel",
          "model_module_version": "1.2.0",
          "state": {
            "_model_module": "@jupyter-widgets/base",
            "_model_module_version": "1.2.0",
            "_model_name": "LayoutModel",
            "_view_count": null,
            "_view_module": "@jupyter-widgets/base",
            "_view_module_version": "1.2.0",
            "_view_name": "LayoutView",
            "align_content": null,
            "align_items": null,
            "align_self": null,
            "border": null,
            "bottom": null,
            "display": null,
            "flex": null,
            "flex_flow": null,
            "grid_area": null,
            "grid_auto_columns": null,
            "grid_auto_flow": null,
            "grid_auto_rows": null,
            "grid_column": null,
            "grid_gap": null,
            "grid_row": null,
            "grid_template_areas": null,
            "grid_template_columns": null,
            "grid_template_rows": null,
            "height": null,
            "justify_content": null,
            "justify_items": null,
            "left": null,
            "margin": null,
            "max_height": null,
            "max_width": null,
            "min_height": null,
            "min_width": null,
            "object_fit": null,
            "object_position": null,
            "order": null,
            "overflow": null,
            "overflow_x": null,
            "overflow_y": null,
            "padding": null,
            "right": null,
            "top": null,
            "visibility": null,
            "width": null
          }
        },
        "df241bd5001e4f65a3bba31d8a8f169e": {
          "model_module": "@jupyter-widgets/base",
          "model_name": "LayoutModel",
          "model_module_version": "1.2.0",
          "state": {
            "_model_module": "@jupyter-widgets/base",
            "_model_module_version": "1.2.0",
            "_model_name": "LayoutModel",
            "_view_count": null,
            "_view_module": "@jupyter-widgets/base",
            "_view_module_version": "1.2.0",
            "_view_name": "LayoutView",
            "align_content": null,
            "align_items": null,
            "align_self": null,
            "border": null,
            "bottom": null,
            "display": null,
            "flex": null,
            "flex_flow": null,
            "grid_area": null,
            "grid_auto_columns": null,
            "grid_auto_flow": null,
            "grid_auto_rows": null,
            "grid_column": null,
            "grid_gap": null,
            "grid_row": null,
            "grid_template_areas": null,
            "grid_template_columns": null,
            "grid_template_rows": null,
            "height": null,
            "justify_content": null,
            "justify_items": null,
            "left": null,
            "margin": null,
            "max_height": null,
            "max_width": null,
            "min_height": null,
            "min_width": null,
            "object_fit": null,
            "object_position": null,
            "order": null,
            "overflow": null,
            "overflow_x": null,
            "overflow_y": null,
            "padding": null,
            "right": null,
            "top": null,
            "visibility": null,
            "width": null
          }
        }
      }
    }
  },
  "nbformat": 4,
  "nbformat_minor": 0
}