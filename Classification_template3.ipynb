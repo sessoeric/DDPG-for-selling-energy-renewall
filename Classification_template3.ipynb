{
  "cells": [
    {
      "cell_type": "markdown",
      "metadata": {
        "id": "tCjHIT11ALn1"
      },
      "source": [
        "# **Course: Data Science for Decision Support**\n",
        "**Assignment 2** (Submission deadline 06.07.2022, 16:00), \n",
        "\n",
        "**Executor:** Eric Dietriche, Sesso Domtchoueng: 504999.\n",
        "\n",
        "---\n",
        "Your individual data for assignment 3:\n",
        "\n",
        "| the second digit from the end of Matr.Nr. | Task2, Q4 | Task 3 Q1 | \n",
        "| ----------- | ----------- | ----------- |\n",
        "| 9       |CatBoost       |   1,2 |\n",
        "\n",
        "\n",
        "\n",
        "\n",
        "\n"
      ]
    },
    {
      "cell_type": "markdown",
      "metadata": {
        "id": "-7gSS1NBA3Hz"
      },
      "source": [
        "# Problem: **Classification** (Total score 50) "
      ]
    },
    {
      "cell_type": "markdown",
      "metadata": {
        "id": "R2y3CQGlBbDF"
      },
      "source": [
        "# **`Task 1 “Prediction with neural networks” (20 Scores)`**"
      ]
    },
    {
      "cell_type": "markdown",
      "metadata": {
        "id": "gHgKrVp0Be12"
      },
      "source": [
        "1) Do all preparation steps as in previous assignments to clean, scale and prepare the dataset\n",
        "for the analysis. Use the best scaler from your previous assignments."
      ]
    },
    {
      "cell_type": "code",
      "execution_count": 1,
      "metadata": {
        "id": "MQzN3X-qAK04",
        "colab": {
          "resources": {
            "http://localhost:8080/nbextensions/google.colab/files.js": {
              "data": "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",
              "ok": true,
              "headers": [
                [
                  "content-type",
                  "application/javascript"
                ]
              ],
              "status": 200,
              "status_text": ""
            }
          },
          "base_uri": "https://localhost:8080/",
          "height": 73
        },
        "outputId": "ffbdd3a3-4e59-4e05-8ff8-38af7eb62c15"
      },
      "outputs": [
        {
          "output_type": "display_data",
          "data": {
            "text/plain": [
              "<IPython.core.display.HTML object>"
            ],
            "text/html": [
              "\n",
              "     <input type=\"file\" id=\"files-5975763e-5e44-4136-80bc-47d4ef2302ba\" name=\"files[]\" multiple disabled\n",
              "        style=\"border:none\" />\n",
              "     <output id=\"result-5975763e-5e44-4136-80bc-47d4ef2302ba\">\n",
              "      Upload widget is only available when the cell has been executed in the\n",
              "      current browser session. Please rerun this cell to enable.\n",
              "      </output>\n",
              "      <script src=\"/nbextensions/google.colab/files.js\"></script> "
            ]
          },
          "metadata": {}
        },
        {
          "output_type": "stream",
          "name": "stdout",
          "text": [
            "Saving data_banknote_authentication.csv to data_banknote_authentication.csv\n"
          ]
        }
      ],
      "source": [
        "#add more cell if needed to each code cell\n",
        "#Write your code here \n",
        "from google.colab import files\n",
        "uploaded = files.upload()"
      ]
    },
    {
      "cell_type": "code",
      "execution_count": 2,
      "metadata": {
        "id": "97IkbkkUD6py"
      },
      "outputs": [],
      "source": [
        "#add more cell if needed to each code cell\n",
        "import pandas as pd\n",
        "df = pd.read_csv(\"data_banknote_authentication.csv\")"
      ]
    },
    {
      "cell_type": "code",
      "source": [
        "#Write your code here \n",
        "y = df['Class']\n",
        "X = df.drop(['Class'],axis='columns')\n",
        "print('Shape of X:', X.shape)\n",
        "print('Shape of Y:', y.shape)"
      ],
      "metadata": {
        "colab": {
          "base_uri": "https://localhost:8080/"
        },
        "id": "DzlAZ_Q7IKkm",
        "outputId": "2ebad26d-26ca-4986-c4ef-8a5b913fc8e1"
      },
      "execution_count": 3,
      "outputs": [
        {
          "output_type": "stream",
          "name": "stdout",
          "text": [
            "Shape of X: (1372, 4)\n",
            "Shape of Y: (1372,)\n"
          ]
        }
      ]
    },
    {
      "cell_type": "code",
      "source": [
        "#use value_count() for count unique value in column\n",
        "count=0\n",
        "for column in df:\n",
        "        count +=  len(df[column].value_counts(dropna=False))\n",
        "print(\"number of Instance:\",count)\n",
        "print(\"number of variable:\",len(df.columns))"
      ],
      "metadata": {
        "colab": {
          "base_uri": "https://localhost:8080/"
        },
        "id": "I8Z4EDz6H4fw",
        "outputId": "117b59d2-817d-4ce8-dbb6-fa62fe8e2f72"
      },
      "execution_count": 4,
      "outputs": [
        {
          "output_type": "stream",
          "name": "stdout",
          "text": [
            "number of Instance: 5023\n",
            "number of variable: 5\n"
          ]
        }
      ]
    },
    {
      "cell_type": "code",
      "source": [
        "df.describe(include=\"all\")"
      ],
      "metadata": {
        "colab": {
          "base_uri": "https://localhost:8080/",
          "height": 300
        },
        "id": "tXSeYP-6Hw5a",
        "outputId": "3b44b0a2-25b3-49cf-8c34-76a25066bf12"
      },
      "execution_count": 5,
      "outputs": [
        {
          "output_type": "execute_result",
          "data": {
            "text/plain": [
              "        VarianceWT   SkewnessWT   CurtosisWT  Image Entropy        Class\n",
              "count  1372.000000  1372.000000  1372.000000    1372.000000  1372.000000\n",
              "mean      0.433735     1.922353     1.397627      -1.191657     0.444606\n",
              "std       2.842763     5.869047     4.310030       2.101013     0.497103\n",
              "min      -7.042100   -13.773100    -5.286100      -8.548200     0.000000\n",
              "25%      -1.773000    -1.708200    -1.574975      -2.413450     0.000000\n",
              "50%       0.496180     2.319650     0.616630      -0.586650     0.000000\n",
              "75%       2.821475     6.814625     3.179250       0.394810     1.000000\n",
              "max       6.824800    12.951600    17.927400       2.449500     1.000000"
            ],
            "text/html": [
              "\n",
              "  <div id=\"df-01b53673-412a-475d-b034-ae2acdb7b205\">\n",
              "    <div class=\"colab-df-container\">\n",
              "      <div>\n",
              "<style scoped>\n",
              "    .dataframe tbody tr th:only-of-type {\n",
              "        vertical-align: middle;\n",
              "    }\n",
              "\n",
              "    .dataframe tbody tr th {\n",
              "        vertical-align: top;\n",
              "    }\n",
              "\n",
              "    .dataframe thead th {\n",
              "        text-align: right;\n",
              "    }\n",
              "</style>\n",
              "<table border=\"1\" class=\"dataframe\">\n",
              "  <thead>\n",
              "    <tr style=\"text-align: right;\">\n",
              "      <th></th>\n",
              "      <th>VarianceWT</th>\n",
              "      <th>SkewnessWT</th>\n",
              "      <th>CurtosisWT</th>\n",
              "      <th>Image Entropy</th>\n",
              "      <th>Class</th>\n",
              "    </tr>\n",
              "  </thead>\n",
              "  <tbody>\n",
              "    <tr>\n",
              "      <th>count</th>\n",
              "      <td>1372.000000</td>\n",
              "      <td>1372.000000</td>\n",
              "      <td>1372.000000</td>\n",
              "      <td>1372.000000</td>\n",
              "      <td>1372.000000</td>\n",
              "    </tr>\n",
              "    <tr>\n",
              "      <th>mean</th>\n",
              "      <td>0.433735</td>\n",
              "      <td>1.922353</td>\n",
              "      <td>1.397627</td>\n",
              "      <td>-1.191657</td>\n",
              "      <td>0.444606</td>\n",
              "    </tr>\n",
              "    <tr>\n",
              "      <th>std</th>\n",
              "      <td>2.842763</td>\n",
              "      <td>5.869047</td>\n",
              "      <td>4.310030</td>\n",
              "      <td>2.101013</td>\n",
              "      <td>0.497103</td>\n",
              "    </tr>\n",
              "    <tr>\n",
              "      <th>min</th>\n",
              "      <td>-7.042100</td>\n",
              "      <td>-13.773100</td>\n",
              "      <td>-5.286100</td>\n",
              "      <td>-8.548200</td>\n",
              "      <td>0.000000</td>\n",
              "    </tr>\n",
              "    <tr>\n",
              "      <th>25%</th>\n",
              "      <td>-1.773000</td>\n",
              "      <td>-1.708200</td>\n",
              "      <td>-1.574975</td>\n",
              "      <td>-2.413450</td>\n",
              "      <td>0.000000</td>\n",
              "    </tr>\n",
              "    <tr>\n",
              "      <th>50%</th>\n",
              "      <td>0.496180</td>\n",
              "      <td>2.319650</td>\n",
              "      <td>0.616630</td>\n",
              "      <td>-0.586650</td>\n",
              "      <td>0.000000</td>\n",
              "    </tr>\n",
              "    <tr>\n",
              "      <th>75%</th>\n",
              "      <td>2.821475</td>\n",
              "      <td>6.814625</td>\n",
              "      <td>3.179250</td>\n",
              "      <td>0.394810</td>\n",
              "      <td>1.000000</td>\n",
              "    </tr>\n",
              "    <tr>\n",
              "      <th>max</th>\n",
              "      <td>6.824800</td>\n",
              "      <td>12.951600</td>\n",
              "      <td>17.927400</td>\n",
              "      <td>2.449500</td>\n",
              "      <td>1.000000</td>\n",
              "    </tr>\n",
              "  </tbody>\n",
              "</table>\n",
              "</div>\n",
              "      <button class=\"colab-df-convert\" onclick=\"convertToInteractive('df-01b53673-412a-475d-b034-ae2acdb7b205')\"\n",
              "              title=\"Convert this dataframe to an interactive table.\"\n",
              "              style=\"display:none;\">\n",
              "        \n",
              "  <svg xmlns=\"http://www.w3.org/2000/svg\" height=\"24px\"viewBox=\"0 0 24 24\"\n",
              "       width=\"24px\">\n",
              "    <path d=\"M0 0h24v24H0V0z\" fill=\"none\"/>\n",
              "    <path d=\"M18.56 5.44l.94 2.06.94-2.06 2.06-.94-2.06-.94-.94-2.06-.94 2.06-2.06.94zm-11 1L8.5 8.5l.94-2.06 2.06-.94-2.06-.94L8.5 2.5l-.94 2.06-2.06.94zm10 10l.94 2.06.94-2.06 2.06-.94-2.06-.94-.94-2.06-.94 2.06-2.06.94z\"/><path d=\"M17.41 7.96l-1.37-1.37c-.4-.4-.92-.59-1.43-.59-.52 0-1.04.2-1.43.59L10.3 9.45l-7.72 7.72c-.78.78-.78 2.05 0 2.83L4 21.41c.39.39.9.59 1.41.59.51 0 1.02-.2 1.41-.59l7.78-7.78 2.81-2.81c.8-.78.8-2.07 0-2.86zM5.41 20L4 18.59l7.72-7.72 1.47 1.35L5.41 20z\"/>\n",
              "  </svg>\n",
              "      </button>\n",
              "      \n",
              "  <style>\n",
              "    .colab-df-container {\n",
              "      display:flex;\n",
              "      flex-wrap:wrap;\n",
              "      gap: 12px;\n",
              "    }\n",
              "\n",
              "    .colab-df-convert {\n",
              "      background-color: #E8F0FE;\n",
              "      border: none;\n",
              "      border-radius: 50%;\n",
              "      cursor: pointer;\n",
              "      display: none;\n",
              "      fill: #1967D2;\n",
              "      height: 32px;\n",
              "      padding: 0 0 0 0;\n",
              "      width: 32px;\n",
              "    }\n",
              "\n",
              "    .colab-df-convert:hover {\n",
              "      background-color: #E2EBFA;\n",
              "      box-shadow: 0px 1px 2px rgba(60, 64, 67, 0.3), 0px 1px 3px 1px rgba(60, 64, 67, 0.15);\n",
              "      fill: #174EA6;\n",
              "    }\n",
              "\n",
              "    [theme=dark] .colab-df-convert {\n",
              "      background-color: #3B4455;\n",
              "      fill: #D2E3FC;\n",
              "    }\n",
              "\n",
              "    [theme=dark] .colab-df-convert:hover {\n",
              "      background-color: #434B5C;\n",
              "      box-shadow: 0px 1px 3px 1px rgba(0, 0, 0, 0.15);\n",
              "      filter: drop-shadow(0px 1px 2px rgba(0, 0, 0, 0.3));\n",
              "      fill: #FFFFFF;\n",
              "    }\n",
              "  </style>\n",
              "\n",
              "      <script>\n",
              "        const buttonEl =\n",
              "          document.querySelector('#df-01b53673-412a-475d-b034-ae2acdb7b205 button.colab-df-convert');\n",
              "        buttonEl.style.display =\n",
              "          google.colab.kernel.accessAllowed ? 'block' : 'none';\n",
              "\n",
              "        async function convertToInteractive(key) {\n",
              "          const element = document.querySelector('#df-01b53673-412a-475d-b034-ae2acdb7b205');\n",
              "          const dataTable =\n",
              "            await google.colab.kernel.invokeFunction('convertToInteractive',\n",
              "                                                     [key], {});\n",
              "          if (!dataTable) return;\n",
              "\n",
              "          const docLinkHtml = 'Like what you see? Visit the ' +\n",
              "            '<a target=\"_blank\" href=https://colab.research.google.com/notebooks/data_table.ipynb>data table notebook</a>'\n",
              "            + ' to learn more about interactive tables.';\n",
              "          element.innerHTML = '';\n",
              "          dataTable['output_type'] = 'display_data';\n",
              "          await google.colab.output.renderOutput(dataTable, element);\n",
              "          const docLink = document.createElement('div');\n",
              "          docLink.innerHTML = docLinkHtml;\n",
              "          element.appendChild(docLink);\n",
              "        }\n",
              "      </script>\n",
              "    </div>\n",
              "  </div>\n",
              "  "
            ]
          },
          "metadata": {},
          "execution_count": 5
        }
      ]
    },
    {
      "cell_type": "code",
      "execution_count": 23,
      "metadata": {
        "id": "arzsIeMJCScj",
        "colab": {
          "base_uri": "https://localhost:8080/",
          "height": 441
        },
        "outputId": "514cfbcd-69c2-4120-94c6-31f73f6fe569"
      },
      "outputs": [
        {
          "output_type": "stream",
          "name": "stdout",
          "text": [
            "There are no NAN values\n"
          ]
        },
        {
          "output_type": "execute_result",
          "data": {
            "text/plain": [
              "      VarianceWT  SkewnessWT  CurtosisWT  Image Entropy  Class\n",
              "0       0.769004    0.839643    0.106783       0.736628    0.0\n",
              "1       0.835659    0.820982    0.121804       0.644326    0.0\n",
              "2       0.786629    0.416648    0.310608       0.786951    0.0\n",
              "3       0.757105    0.871699    0.054921       0.450440    0.0\n",
              "4       0.531578    0.348662    0.424662       0.687362    0.0\n",
              "...          ...         ...         ...            ...    ...\n",
              "1367    0.537124    0.565855    0.165249       0.726398    1.0\n",
              "1368    0.407690    0.332868    0.506753       0.808350    1.0\n",
              "1369    0.237385    0.011768    0.985603       0.524755    1.0\n",
              "1370    0.250842    0.201701    0.761587       0.660675    1.0\n",
              "1371    0.324528    0.490747    0.343348       0.885949    1.0\n",
              "\n",
              "[1372 rows x 5 columns]"
            ],
            "text/html": [
              "\n",
              "  <div id=\"df-6f34c5d1-1f2c-48dd-a42f-947c4110bfe7\">\n",
              "    <div class=\"colab-df-container\">\n",
              "      <div>\n",
              "<style scoped>\n",
              "    .dataframe tbody tr th:only-of-type {\n",
              "        vertical-align: middle;\n",
              "    }\n",
              "\n",
              "    .dataframe tbody tr th {\n",
              "        vertical-align: top;\n",
              "    }\n",
              "\n",
              "    .dataframe thead th {\n",
              "        text-align: right;\n",
              "    }\n",
              "</style>\n",
              "<table border=\"1\" class=\"dataframe\">\n",
              "  <thead>\n",
              "    <tr style=\"text-align: right;\">\n",
              "      <th></th>\n",
              "      <th>VarianceWT</th>\n",
              "      <th>SkewnessWT</th>\n",
              "      <th>CurtosisWT</th>\n",
              "      <th>Image Entropy</th>\n",
              "      <th>Class</th>\n",
              "    </tr>\n",
              "  </thead>\n",
              "  <tbody>\n",
              "    <tr>\n",
              "      <th>0</th>\n",
              "      <td>0.769004</td>\n",
              "      <td>0.839643</td>\n",
              "      <td>0.106783</td>\n",
              "      <td>0.736628</td>\n",
              "      <td>0.0</td>\n",
              "    </tr>\n",
              "    <tr>\n",
              "      <th>1</th>\n",
              "      <td>0.835659</td>\n",
              "      <td>0.820982</td>\n",
              "      <td>0.121804</td>\n",
              "      <td>0.644326</td>\n",
              "      <td>0.0</td>\n",
              "    </tr>\n",
              "    <tr>\n",
              "      <th>2</th>\n",
              "      <td>0.786629</td>\n",
              "      <td>0.416648</td>\n",
              "      <td>0.310608</td>\n",
              "      <td>0.786951</td>\n",
              "      <td>0.0</td>\n",
              "    </tr>\n",
              "    <tr>\n",
              "      <th>3</th>\n",
              "      <td>0.757105</td>\n",
              "      <td>0.871699</td>\n",
              "      <td>0.054921</td>\n",
              "      <td>0.450440</td>\n",
              "      <td>0.0</td>\n",
              "    </tr>\n",
              "    <tr>\n",
              "      <th>4</th>\n",
              "      <td>0.531578</td>\n",
              "      <td>0.348662</td>\n",
              "      <td>0.424662</td>\n",
              "      <td>0.687362</td>\n",
              "      <td>0.0</td>\n",
              "    </tr>\n",
              "    <tr>\n",
              "      <th>...</th>\n",
              "      <td>...</td>\n",
              "      <td>...</td>\n",
              "      <td>...</td>\n",
              "      <td>...</td>\n",
              "      <td>...</td>\n",
              "    </tr>\n",
              "    <tr>\n",
              "      <th>1367</th>\n",
              "      <td>0.537124</td>\n",
              "      <td>0.565855</td>\n",
              "      <td>0.165249</td>\n",
              "      <td>0.726398</td>\n",
              "      <td>1.0</td>\n",
              "    </tr>\n",
              "    <tr>\n",
              "      <th>1368</th>\n",
              "      <td>0.407690</td>\n",
              "      <td>0.332868</td>\n",
              "      <td>0.506753</td>\n",
              "      <td>0.808350</td>\n",
              "      <td>1.0</td>\n",
              "    </tr>\n",
              "    <tr>\n",
              "      <th>1369</th>\n",
              "      <td>0.237385</td>\n",
              "      <td>0.011768</td>\n",
              "      <td>0.985603</td>\n",
              "      <td>0.524755</td>\n",
              "      <td>1.0</td>\n",
              "    </tr>\n",
              "    <tr>\n",
              "      <th>1370</th>\n",
              "      <td>0.250842</td>\n",
              "      <td>0.201701</td>\n",
              "      <td>0.761587</td>\n",
              "      <td>0.660675</td>\n",
              "      <td>1.0</td>\n",
              "    </tr>\n",
              "    <tr>\n",
              "      <th>1371</th>\n",
              "      <td>0.324528</td>\n",
              "      <td>0.490747</td>\n",
              "      <td>0.343348</td>\n",
              "      <td>0.885949</td>\n",
              "      <td>1.0</td>\n",
              "    </tr>\n",
              "  </tbody>\n",
              "</table>\n",
              "<p>1372 rows × 5 columns</p>\n",
              "</div>\n",
              "      <button class=\"colab-df-convert\" onclick=\"convertToInteractive('df-6f34c5d1-1f2c-48dd-a42f-947c4110bfe7')\"\n",
              "              title=\"Convert this dataframe to an interactive table.\"\n",
              "              style=\"display:none;\">\n",
              "        \n",
              "  <svg xmlns=\"http://www.w3.org/2000/svg\" height=\"24px\"viewBox=\"0 0 24 24\"\n",
              "       width=\"24px\">\n",
              "    <path d=\"M0 0h24v24H0V0z\" fill=\"none\"/>\n",
              "    <path d=\"M18.56 5.44l.94 2.06.94-2.06 2.06-.94-2.06-.94-.94-2.06-.94 2.06-2.06.94zm-11 1L8.5 8.5l.94-2.06 2.06-.94-2.06-.94L8.5 2.5l-.94 2.06-2.06.94zm10 10l.94 2.06.94-2.06 2.06-.94-2.06-.94-.94-2.06-.94 2.06-2.06.94z\"/><path d=\"M17.41 7.96l-1.37-1.37c-.4-.4-.92-.59-1.43-.59-.52 0-1.04.2-1.43.59L10.3 9.45l-7.72 7.72c-.78.78-.78 2.05 0 2.83L4 21.41c.39.39.9.59 1.41.59.51 0 1.02-.2 1.41-.59l7.78-7.78 2.81-2.81c.8-.78.8-2.07 0-2.86zM5.41 20L4 18.59l7.72-7.72 1.47 1.35L5.41 20z\"/>\n",
              "  </svg>\n",
              "      </button>\n",
              "      \n",
              "  <style>\n",
              "    .colab-df-container {\n",
              "      display:flex;\n",
              "      flex-wrap:wrap;\n",
              "      gap: 12px;\n",
              "    }\n",
              "\n",
              "    .colab-df-convert {\n",
              "      background-color: #E8F0FE;\n",
              "      border: none;\n",
              "      border-radius: 50%;\n",
              "      cursor: pointer;\n",
              "      display: none;\n",
              "      fill: #1967D2;\n",
              "      height: 32px;\n",
              "      padding: 0 0 0 0;\n",
              "      width: 32px;\n",
              "    }\n",
              "\n",
              "    .colab-df-convert:hover {\n",
              "      background-color: #E2EBFA;\n",
              "      box-shadow: 0px 1px 2px rgba(60, 64, 67, 0.3), 0px 1px 3px 1px rgba(60, 64, 67, 0.15);\n",
              "      fill: #174EA6;\n",
              "    }\n",
              "\n",
              "    [theme=dark] .colab-df-convert {\n",
              "      background-color: #3B4455;\n",
              "      fill: #D2E3FC;\n",
              "    }\n",
              "\n",
              "    [theme=dark] .colab-df-convert:hover {\n",
              "      background-color: #434B5C;\n",
              "      box-shadow: 0px 1px 3px 1px rgba(0, 0, 0, 0.15);\n",
              "      filter: drop-shadow(0px 1px 2px rgba(0, 0, 0, 0.3));\n",
              "      fill: #FFFFFF;\n",
              "    }\n",
              "  </style>\n",
              "\n",
              "      <script>\n",
              "        const buttonEl =\n",
              "          document.querySelector('#df-6f34c5d1-1f2c-48dd-a42f-947c4110bfe7 button.colab-df-convert');\n",
              "        buttonEl.style.display =\n",
              "          google.colab.kernel.accessAllowed ? 'block' : 'none';\n",
              "\n",
              "        async function convertToInteractive(key) {\n",
              "          const element = document.querySelector('#df-6f34c5d1-1f2c-48dd-a42f-947c4110bfe7');\n",
              "          const dataTable =\n",
              "            await google.colab.kernel.invokeFunction('convertToInteractive',\n",
              "                                                     [key], {});\n",
              "          if (!dataTable) return;\n",
              "\n",
              "          const docLinkHtml = 'Like what you see? Visit the ' +\n",
              "            '<a target=\"_blank\" href=https://colab.research.google.com/notebooks/data_table.ipynb>data table notebook</a>'\n",
              "            + ' to learn more about interactive tables.';\n",
              "          element.innerHTML = '';\n",
              "          dataTable['output_type'] = 'display_data';\n",
              "          await google.colab.output.renderOutput(dataTable, element);\n",
              "          const docLink = document.createElement('div');\n",
              "          docLink.innerHTML = docLinkHtml;\n",
              "          element.appendChild(docLink);\n",
              "        }\n",
              "      </script>\n",
              "    </div>\n",
              "  </div>\n",
              "  "
            ]
          },
          "metadata": {},
          "execution_count": 23
        }
      ],
      "source": [
        "#fill Nan Values with the mean values , if at least one value is nan-value. \n",
        "if (not (df.isnull().values.any())):\n",
        "      print(\"There are no NAN values\")\n",
        "else:\n",
        "  for column in df:\n",
        "    if df[column].isnull().values.any(): \n",
        "              df[column] = df[column].fillna(df[column].mean())\n",
        "from sklearn.preprocessing import MinMaxScaler\n",
        "minMax_scaler = pd.DataFrame(\n",
        "    MinMaxScaler().fit_transform(df),\n",
        "    columns = df.columns\n",
        ")\n",
        "Y_minMax_scale = minMax_scaler['Class']\n",
        "X_minMax_scale = minMax_scaler.drop(['Class'],axis='columns')\n",
        "minMax_scaler\n"
      ]
    },
    {
      "cell_type": "markdown",
      "source": [
        "2) Construct a fully connected neural network using keras library. The network should contain\n",
        "1-2 hidden layers. Experiment with different number of neurons for each layer, try several\n",
        "dropout layers between hidden layers. Try to achieve the performance near or better than\n",
        "the best one of your previous methods. Present the performance results (prediction results,\n",
        "accuracy, precision, recall, F1 metrics over training set, ROC-AUC score) for the testset with\n",
        "3 best architectures as a table. Use repeated holdout cross-validation, generating 5 random\n",
        "training sets and test sets with proportion according to your individual variant in\n",
        "assignment 2. "
      ],
      "metadata": {
        "id": "GnOKz_-5BgPs"
      }
    },
    {
      "cell_type": "code",
      "source": [
        "!pip install scikeras"
      ],
      "metadata": {
        "id": "o9iJulsfCEzF"
      },
      "execution_count": null,
      "outputs": []
    },
    {
      "cell_type": "code",
      "source": [
        "import numpy as np\n",
        "import pandas as pd\n",
        "from scikeras.wrappers import KerasClassifier\n",
        "from tensorflow.keras.layers import Dense , Dropout\n",
        "from tensorflow.keras.models import Sequential"
      ],
      "metadata": {
        "id": "Vjnsra-qB_gw"
      },
      "execution_count": 8,
      "outputs": []
    },
    {
      "cell_type": "code",
      "source": [
        "def create_model(inp_s):\n",
        "  network = Sequential()\n",
        "  network.add(Dense(512, activation='relu', input_shape=(inp_s,)))\n",
        "  network.add(Dropout(0.5))\n",
        "  network.add(Dense(12, activation='relu'))\n",
        "  network.add(Dropout(0.5))\n",
        "  network.add(Dense(2, activation='softmax'))\n",
        "  network.compile(optimizer='rmsprop',\n",
        "                loss='categorical_crossentropy',\n",
        "                metrics=['accuracy'])\n",
        "  return network\n",
        "  model = KerasClassifier(model= create_model,inp_s=4, epochs = 20, batch_size=40)"
      ],
      "metadata": {
        "id": "OndrNvOCCk5d"
      },
      "execution_count": 85,
      "outputs": []
    },
    {
      "cell_type": "code",
      "source": [
        "from sklearn.metrics import accuracy_score\n",
        "from sklearn.metrics import roc_auc_score\n",
        "import matplotlib.pyplot as plt\n",
        "from tensorflow.keras.utils import to_categorical\n",
        "import numpy as np\n",
        "from sklearn.metrics import classification_report\n",
        "from sklearn.model_selection import train_test_split\n",
        "models = []\n",
        "for i in range(0,5):\n",
        "  # Create training and test split\n",
        "  X_train, X_test, y_train, y_test = train_test_split(X_minMax_scale, Y_minMax_scale, test_size=0.1)\n",
        "  #\n",
        "  # Create categorical labels\n",
        "  #\n",
        "  train_labels = to_categorical(y_train)\n",
        "  test_labels = to_categorical(y_test)\n",
        "  #\n",
        "  # Fit the neural network\n",
        "  model = KerasClassifier(model= create_model,inp_s=4, epochs = 20, batch_size=40)\n",
        "  model.fit(X_train, train_labels, epochs=20, batch_size=40,verbose=0)\n",
        "  y_pred = model.predict(X_test)\n",
        "  y_pred_train = model.predict(X_train)\n",
        "  y_pred_prob= model.predict_proba(X_test)[:,1]\n",
        "  # we have two classes . we can wompute the mean value for the two classe (0 ,1) for each metric ( F1 ,precsion, recall)\n",
        "  report = classification_report(test_labels, y_pred,output_dict=True)\n",
        "  precision = (report[\"0\"]['precision'] + report[\"1\"]['precision'])/2.0\n",
        "  recall = (report[\"0\"]['recall'] + report[\"1\"]['recall'])/2.0\n",
        "  report = classification_report(train_labels,  y_pred_train,output_dict=True)\n",
        "  F1 = (report[\"0\"]['f1-score'] + report[\"1\"]['f1-score'])/2.0\n",
        "  accuracy = accuracy_score(y_pred,test_labels)\n",
        "  roc_auc = roc_auc_score(test_labels,y_pred_prob.reshape(-1, 1))\n",
        "  models.append((y_pred,accuracy,precision,recall,F1,roc_auc))"
      ],
      "metadata": {
        "id": "QFhDBzkkD0Dh",
        "colab": {
          "base_uri": "https://localhost:8080/"
        },
        "outputId": "03e0e046-281d-4cbb-cee1-e87458afc66f"
      },
      "execution_count": 114,
      "outputs": [
        {
          "output_type": "stream",
          "name": "stdout",
          "text": [
            "4/4 [==============================] - 0s 5ms/step\n",
            "31/31 [==============================] - 0s 3ms/step\n",
            "4/4 [==============================] - 0s 6ms/step\n",
            "4/4 [==============================] - 0s 5ms/step\n",
            "31/31 [==============================] - 0s 3ms/step\n",
            "4/4 [==============================] - 0s 4ms/step\n",
            "4/4 [==============================] - 0s 3ms/step\n",
            "31/31 [==============================] - 0s 1ms/step\n",
            "4/4 [==============================] - 0s 4ms/step\n",
            "4/4 [==============================] - 0s 4ms/step\n",
            "31/31 [==============================] - 0s 2ms/step\n",
            "4/4 [==============================] - 0s 4ms/step\n",
            "4/4 [==============================] - 0s 3ms/step\n",
            "31/31 [==============================] - 0s 1ms/step\n",
            "4/4 [==============================] - 0s 3ms/step\n"
          ]
        }
      ]
    },
    {
      "cell_type": "code",
      "source": [
        "def getKey(item):\n",
        "  return item[1]\n",
        "modelSort = sorted(models, key=getKey,reverse=True)"
      ],
      "metadata": {
        "id": "H28MhlSTGWdX"
      },
      "execution_count": 111,
      "outputs": []
    },
    {
      "cell_type": "code",
      "source": [
        "list_pred = [modelSort[0][0],modelSort[1][0],modelSort[2][0]]\n",
        "accuracy = [modelSort[0][1],modelSort[1][1],modelSort[2][1]]\n",
        "precision =[modelSort[0][2],modelSort[1][2],modelSort[2][2]]\n",
        "recall= [modelSort[0][3],modelSort[1][3],modelSort[2][3]]\n",
        "f1 = [modelSort[0][4],modelSort[1][4],modelSort[2][4]]\n",
        "roc_auc =[modelSort[0][5],modelSort[1][5],modelSort[2][5]]\n",
        "table =pd.DataFrame(list(zip(list_pred,accuracy,precision,recall,f1,roc_auc)),columns=['Prediction (test set)','accuray','precision','recall','F1','ROC AUC'])\n",
        "table"
      ],
      "metadata": {
        "colab": {
          "base_uri": "https://localhost:8080/",
          "height": 143
        },
        "id": "n0R1lzv8LzVh",
        "outputId": "1d8e0a4d-26a3-4d7f-b295-8af823c31e88"
      },
      "execution_count": 112,
      "outputs": [
        {
          "output_type": "execute_result",
          "data": {
            "text/plain": [
              "                               Prediction (test set)  accuray  precision  \\\n",
              "0  [[0, 1], [1, 0], [1, 0], [1, 0], [1, 0], [0, 1...      1.0        1.0   \n",
              "1  [[1, 0], [0, 1], [1, 0], [1, 0], [0, 1], [0, 1...      1.0        1.0   \n",
              "2  [[0, 1], [1, 0], [0, 1], [0, 1], [0, 1], [1, 0...      1.0        1.0   \n",
              "\n",
              "   recall        F1  ROC AUC  \n",
              "0     1.0  0.994267      0.0  \n",
              "1     1.0  0.994261      0.0  \n",
              "2     1.0  0.994261      0.0  "
            ],
            "text/html": [
              "\n",
              "  <div id=\"df-bf0cb92c-a252-4801-9b04-9ceecbb191c9\">\n",
              "    <div class=\"colab-df-container\">\n",
              "      <div>\n",
              "<style scoped>\n",
              "    .dataframe tbody tr th:only-of-type {\n",
              "        vertical-align: middle;\n",
              "    }\n",
              "\n",
              "    .dataframe tbody tr th {\n",
              "        vertical-align: top;\n",
              "    }\n",
              "\n",
              "    .dataframe thead th {\n",
              "        text-align: right;\n",
              "    }\n",
              "</style>\n",
              "<table border=\"1\" class=\"dataframe\">\n",
              "  <thead>\n",
              "    <tr style=\"text-align: right;\">\n",
              "      <th></th>\n",
              "      <th>Prediction (test set)</th>\n",
              "      <th>accuray</th>\n",
              "      <th>precision</th>\n",
              "      <th>recall</th>\n",
              "      <th>F1</th>\n",
              "      <th>ROC AUC</th>\n",
              "    </tr>\n",
              "  </thead>\n",
              "  <tbody>\n",
              "    <tr>\n",
              "      <th>0</th>\n",
              "      <td>[[0, 1], [1, 0], [1, 0], [1, 0], [1, 0], [0, 1...</td>\n",
              "      <td>1.0</td>\n",
              "      <td>1.0</td>\n",
              "      <td>1.0</td>\n",
              "      <td>0.994267</td>\n",
              "      <td>0.0</td>\n",
              "    </tr>\n",
              "    <tr>\n",
              "      <th>1</th>\n",
              "      <td>[[1, 0], [0, 1], [1, 0], [1, 0], [0, 1], [0, 1...</td>\n",
              "      <td>1.0</td>\n",
              "      <td>1.0</td>\n",
              "      <td>1.0</td>\n",
              "      <td>0.994261</td>\n",
              "      <td>0.0</td>\n",
              "    </tr>\n",
              "    <tr>\n",
              "      <th>2</th>\n",
              "      <td>[[0, 1], [1, 0], [0, 1], [0, 1], [0, 1], [1, 0...</td>\n",
              "      <td>1.0</td>\n",
              "      <td>1.0</td>\n",
              "      <td>1.0</td>\n",
              "      <td>0.994261</td>\n",
              "      <td>0.0</td>\n",
              "    </tr>\n",
              "  </tbody>\n",
              "</table>\n",
              "</div>\n",
              "      <button class=\"colab-df-convert\" onclick=\"convertToInteractive('df-bf0cb92c-a252-4801-9b04-9ceecbb191c9')\"\n",
              "              title=\"Convert this dataframe to an interactive table.\"\n",
              "              style=\"display:none;\">\n",
              "        \n",
              "  <svg xmlns=\"http://www.w3.org/2000/svg\" height=\"24px\"viewBox=\"0 0 24 24\"\n",
              "       width=\"24px\">\n",
              "    <path d=\"M0 0h24v24H0V0z\" fill=\"none\"/>\n",
              "    <path d=\"M18.56 5.44l.94 2.06.94-2.06 2.06-.94-2.06-.94-.94-2.06-.94 2.06-2.06.94zm-11 1L8.5 8.5l.94-2.06 2.06-.94-2.06-.94L8.5 2.5l-.94 2.06-2.06.94zm10 10l.94 2.06.94-2.06 2.06-.94-2.06-.94-.94-2.06-.94 2.06-2.06.94z\"/><path d=\"M17.41 7.96l-1.37-1.37c-.4-.4-.92-.59-1.43-.59-.52 0-1.04.2-1.43.59L10.3 9.45l-7.72 7.72c-.78.78-.78 2.05 0 2.83L4 21.41c.39.39.9.59 1.41.59.51 0 1.02-.2 1.41-.59l7.78-7.78 2.81-2.81c.8-.78.8-2.07 0-2.86zM5.41 20L4 18.59l7.72-7.72 1.47 1.35L5.41 20z\"/>\n",
              "  </svg>\n",
              "      </button>\n",
              "      \n",
              "  <style>\n",
              "    .colab-df-container {\n",
              "      display:flex;\n",
              "      flex-wrap:wrap;\n",
              "      gap: 12px;\n",
              "    }\n",
              "\n",
              "    .colab-df-convert {\n",
              "      background-color: #E8F0FE;\n",
              "      border: none;\n",
              "      border-radius: 50%;\n",
              "      cursor: pointer;\n",
              "      display: none;\n",
              "      fill: #1967D2;\n",
              "      height: 32px;\n",
              "      padding: 0 0 0 0;\n",
              "      width: 32px;\n",
              "    }\n",
              "\n",
              "    .colab-df-convert:hover {\n",
              "      background-color: #E2EBFA;\n",
              "      box-shadow: 0px 1px 2px rgba(60, 64, 67, 0.3), 0px 1px 3px 1px rgba(60, 64, 67, 0.15);\n",
              "      fill: #174EA6;\n",
              "    }\n",
              "\n",
              "    [theme=dark] .colab-df-convert {\n",
              "      background-color: #3B4455;\n",
              "      fill: #D2E3FC;\n",
              "    }\n",
              "\n",
              "    [theme=dark] .colab-df-convert:hover {\n",
              "      background-color: #434B5C;\n",
              "      box-shadow: 0px 1px 3px 1px rgba(0, 0, 0, 0.15);\n",
              "      filter: drop-shadow(0px 1px 2px rgba(0, 0, 0, 0.3));\n",
              "      fill: #FFFFFF;\n",
              "    }\n",
              "  </style>\n",
              "\n",
              "      <script>\n",
              "        const buttonEl =\n",
              "          document.querySelector('#df-bf0cb92c-a252-4801-9b04-9ceecbb191c9 button.colab-df-convert');\n",
              "        buttonEl.style.display =\n",
              "          google.colab.kernel.accessAllowed ? 'block' : 'none';\n",
              "\n",
              "        async function convertToInteractive(key) {\n",
              "          const element = document.querySelector('#df-bf0cb92c-a252-4801-9b04-9ceecbb191c9');\n",
              "          const dataTable =\n",
              "            await google.colab.kernel.invokeFunction('convertToInteractive',\n",
              "                                                     [key], {});\n",
              "          if (!dataTable) return;\n",
              "\n",
              "          const docLinkHtml = 'Like what you see? Visit the ' +\n",
              "            '<a target=\"_blank\" href=https://colab.research.google.com/notebooks/data_table.ipynb>data table notebook</a>'\n",
              "            + ' to learn more about interactive tables.';\n",
              "          element.innerHTML = '';\n",
              "          dataTable['output_type'] = 'display_data';\n",
              "          await google.colab.output.renderOutput(dataTable, element);\n",
              "          const docLink = document.createElement('div');\n",
              "          docLink.innerHTML = docLinkHtml;\n",
              "          element.appendChild(docLink);\n",
              "        }\n",
              "      </script>\n",
              "    </div>\n",
              "  </div>\n",
              "  "
            ]
          },
          "metadata": {},
          "execution_count": 112
        }
      ]
    },
    {
      "cell_type": "markdown",
      "metadata": {
        "id": "EM0DBYdbdxrW"
      },
      "source": [
        "# **`Task 2 “Evaluate the variable importance in your built deep neural network” (20 Scores) `**"
      ]
    },
    {
      "cell_type": "markdown",
      "metadata": {
        "id": "81vsX-Z6eCGe"
      },
      "source": [
        "1) Use “Drop column Importance” to calculate the variables importance of your build neural\n",
        "networks. Present the results as a bar plot. (Use the code from the tutorial).\n",
        "\n"
      ]
    },
    {
      "cell_type": "code",
      "execution_count": 108,
      "metadata": {
        "id": "Txo_t7h7h9LY"
      },
      "outputs": [],
      "source": [
        "from sklearn.base import clone\n",
        "def drop_col_feat_imp(model, X_train, y_train,random_state = 30):\n",
        "  model_clone = clone(model)\n",
        "  model_clone.random_state = random_state \n",
        "  model_clone.fit(X_train,y_train)\n",
        "  benschmark_score = model_clone.score(X_train,y_train)\n",
        "  importances = []\n",
        "  for col in X_train.columns:\n",
        "      model_clone  = KerasClassifier(model=create_model,inp_s=3, epochs=20, batch_size=40, verbose=0)  \n",
        "      model_clone.random_state = random_state\n",
        "      model_clone.fit(X_train.drop(col,axis=1),y_train)\n",
        "      drop_col_score = model_clone.score(X_train.drop(col,axis=1),y_train)\n",
        "      importances.append(benschmark_score - drop_col_score)\n",
        "  importances_df = pd.DataFrame(importances,columns=['importances'], index =X_train.columns)\n",
        "  return importances_df"
      ]
    },
    {
      "cell_type": "code",
      "source": [
        "importances_df=drop_col_feat_imp(model, X_train, train_labels)"
      ],
      "metadata": {
        "id": "1uANCv4jy0p1",
        "colab": {
          "base_uri": "https://localhost:8080/"
        },
        "outputId": "142480f0-c1f3-4213-afff-76191328b424"
      },
      "execution_count": 109,
      "outputs": [
        {
          "output_type": "stream",
          "name": "stdout",
          "text": [
            "Epoch 1/20\n",
            "31/31 [==============================] - 1s 3ms/step - loss: 0.6295 - accuracy: 0.6507\n",
            "Epoch 2/20\n",
            "31/31 [==============================] - 0s 3ms/step - loss: 0.5751 - accuracy: 0.7229\n",
            "Epoch 3/20\n",
            "31/31 [==============================] - 0s 3ms/step - loss: 0.5035 - accuracy: 0.7820\n",
            "Epoch 4/20\n",
            "31/31 [==============================] - 0s 3ms/step - loss: 0.4582 - accuracy: 0.8096\n",
            "Epoch 5/20\n",
            "31/31 [==============================] - 0s 3ms/step - loss: 0.4184 - accuracy: 0.8468\n",
            "Epoch 6/20\n",
            "31/31 [==============================] - 0s 3ms/step - loss: 0.3566 - accuracy: 0.8882\n",
            "Epoch 7/20\n",
            "31/31 [==============================] - 0s 3ms/step - loss: 0.3317 - accuracy: 0.8874\n",
            "Epoch 8/20\n",
            "31/31 [==============================] - 0s 3ms/step - loss: 0.2943 - accuracy: 0.9028\n",
            "Epoch 9/20\n",
            "31/31 [==============================] - 0s 3ms/step - loss: 0.2679 - accuracy: 0.9157\n",
            "Epoch 10/20\n",
            "31/31 [==============================] - 0s 3ms/step - loss: 0.2416 - accuracy: 0.9263\n",
            "Epoch 11/20\n",
            "31/31 [==============================] - 0s 3ms/step - loss: 0.2134 - accuracy: 0.9384\n",
            "Epoch 12/20\n",
            "31/31 [==============================] - 0s 3ms/step - loss: 0.1987 - accuracy: 0.9433\n",
            "Epoch 13/20\n",
            "31/31 [==============================] - 0s 3ms/step - loss: 0.1832 - accuracy: 0.9619\n",
            "Epoch 14/20\n",
            "31/31 [==============================] - 0s 3ms/step - loss: 0.1579 - accuracy: 0.9619\n",
            "Epoch 15/20\n",
            "31/31 [==============================] - 0s 3ms/step - loss: 0.1437 - accuracy: 0.9611\n",
            "Epoch 16/20\n",
            "31/31 [==============================] - 0s 3ms/step - loss: 0.1331 - accuracy: 0.9587\n",
            "Epoch 17/20\n",
            "31/31 [==============================] - 0s 3ms/step - loss: 0.1178 - accuracy: 0.9789\n",
            "Epoch 18/20\n",
            "31/31 [==============================] - 0s 3ms/step - loss: 0.1176 - accuracy: 0.9741\n",
            "Epoch 19/20\n",
            "31/31 [==============================] - 0s 3ms/step - loss: 0.0982 - accuracy: 0.9789\n",
            "Epoch 20/20\n",
            "31/31 [==============================] - 0s 3ms/step - loss: 0.1104 - accuracy: 0.9749\n",
            "31/31 [==============================] - 0s 2ms/step\n"
          ]
        }
      ]
    },
    {
      "cell_type": "code",
      "source": [
        "import plotly.express as px\n",
        "fig = px.bar(importances_df, x='importances', y=importances_df.index)\n",
        "fig.show()"
      ],
      "metadata": {
        "id": "VObabH3Iy15-",
        "colab": {
          "base_uri": "https://localhost:8080/",
          "height": 542
        },
        "outputId": "cb0e660b-1429-4e51-c9d7-b80258a1508a"
      },
      "execution_count": 88,
      "outputs": [
        {
          "output_type": "display_data",
          "data": {
            "text/html": [
              "<html>\n",
              "<head><meta charset=\"utf-8\" /></head>\n",
              "<body>\n",
              "    <div>            <script src=\"https://cdnjs.cloudflare.com/ajax/libs/mathjax/2.7.5/MathJax.js?config=TeX-AMS-MML_SVG\"></script><script type=\"text/javascript\">if (window.MathJax) {MathJax.Hub.Config({SVG: {font: \"STIX-Web\"}});}</script>                <script type=\"text/javascript\">window.PlotlyConfig = {MathJaxConfig: 'local'};</script>\n",
              "        <script src=\"https://cdn.plot.ly/plotly-2.8.3.min.js\"></script>                <div id=\"a9f00a4c-aadb-487c-8757-28eb6a7475e6\" class=\"plotly-graph-div\" style=\"height:525px; width:100%;\"></div>            <script type=\"text/javascript\">                                    window.PLOTLYENV=window.PLOTLYENV || {};                                    if (document.getElementById(\"a9f00a4c-aadb-487c-8757-28eb6a7475e6\")) {                    Plotly.newPlot(                        \"a9f00a4c-aadb-487c-8757-28eb6a7475e6\",                        [{\"alignmentgroup\":\"True\",\"hovertemplate\":\"importances=%{x}<br>index=%{y}<extra></extra>\",\"legendgroup\":\"\",\"marker\":{\"color\":\"#636efa\",\"pattern\":{\"shape\":\"\"}},\"name\":\"\",\"offsetgroup\":\"\",\"orientation\":\"h\",\"showlegend\":false,\"textposition\":\"auto\",\"x\":[0.17990275526742305,0.04213938411669371,0.09562398703403563,-0.00648298217179899],\"xaxis\":\"x\",\"y\":[\"VarianceWT\",\"SkewnessWT\",\"CurtosisWT\",\"Image Entropy\"],\"yaxis\":\"y\",\"type\":\"bar\"}],                        {\"template\":{\"data\":{\"bar\":[{\"error_x\":{\"color\":\"#2a3f5f\"},\"error_y\":{\"color\":\"#2a3f5f\"},\"marker\":{\"line\":{\"color\":\"#E5ECF6\",\"width\":0.5},\"pattern\":{\"fillmode\":\"overlay\",\"size\":10,\"solidity\":0.2}},\"type\":\"bar\"}],\"barpolar\":[{\"marker\":{\"line\":{\"color\":\"#E5ECF6\",\"width\":0.5},\"pattern\":{\"fillmode\":\"overlay\",\"size\":10,\"solidity\":0.2}},\"type\":\"barpolar\"}],\"carpet\":[{\"aaxis\":{\"endlinecolor\":\"#2a3f5f\",\"gridcolor\":\"white\",\"linecolor\":\"white\",\"minorgridcolor\":\"white\",\"startlinecolor\":\"#2a3f5f\"},\"baxis\":{\"endlinecolor\":\"#2a3f5f\",\"gridcolor\":\"white\",\"linecolor\":\"white\",\"minorgridcolor\":\"white\",\"startlinecolor\":\"#2a3f5f\"},\"type\":\"carpet\"}],\"choropleth\":[{\"colorbar\":{\"outlinewidth\":0,\"ticks\":\"\"},\"type\":\"choropleth\"}],\"contour\":[{\"colorbar\":{\"outlinewidth\":0,\"ticks\":\"\"},\"colorscale\":[[0.0,\"#0d0887\"],[0.1111111111111111,\"#46039f\"],[0.2222222222222222,\"#7201a8\"],[0.3333333333333333,\"#9c179e\"],[0.4444444444444444,\"#bd3786\"],[0.5555555555555556,\"#d8576b\"],[0.6666666666666666,\"#ed7953\"],[0.7777777777777778,\"#fb9f3a\"],[0.8888888888888888,\"#fdca26\"],[1.0,\"#f0f921\"]],\"type\":\"contour\"}],\"contourcarpet\":[{\"colorbar\":{\"outlinewidth\":0,\"ticks\":\"\"},\"type\":\"contourcarpet\"}],\"heatmap\":[{\"colorbar\":{\"outlinewidth\":0,\"ticks\":\"\"},\"colorscale\":[[0.0,\"#0d0887\"],[0.1111111111111111,\"#46039f\"],[0.2222222222222222,\"#7201a8\"],[0.3333333333333333,\"#9c179e\"],[0.4444444444444444,\"#bd3786\"],[0.5555555555555556,\"#d8576b\"],[0.6666666666666666,\"#ed7953\"],[0.7777777777777778,\"#fb9f3a\"],[0.8888888888888888,\"#fdca26\"],[1.0,\"#f0f921\"]],\"type\":\"heatmap\"}],\"heatmapgl\":[{\"colorbar\":{\"outlinewidth\":0,\"ticks\":\"\"},\"colorscale\":[[0.0,\"#0d0887\"],[0.1111111111111111,\"#46039f\"],[0.2222222222222222,\"#7201a8\"],[0.3333333333333333,\"#9c179e\"],[0.4444444444444444,\"#bd3786\"],[0.5555555555555556,\"#d8576b\"],[0.6666666666666666,\"#ed7953\"],[0.7777777777777778,\"#fb9f3a\"],[0.8888888888888888,\"#fdca26\"],[1.0,\"#f0f921\"]],\"type\":\"heatmapgl\"}],\"histogram\":[{\"marker\":{\"pattern\":{\"fillmode\":\"overlay\",\"size\":10,\"solidity\":0.2}},\"type\":\"histogram\"}],\"histogram2d\":[{\"colorbar\":{\"outlinewidth\":0,\"ticks\":\"\"},\"colorscale\":[[0.0,\"#0d0887\"],[0.1111111111111111,\"#46039f\"],[0.2222222222222222,\"#7201a8\"],[0.3333333333333333,\"#9c179e\"],[0.4444444444444444,\"#bd3786\"],[0.5555555555555556,\"#d8576b\"],[0.6666666666666666,\"#ed7953\"],[0.7777777777777778,\"#fb9f3a\"],[0.8888888888888888,\"#fdca26\"],[1.0,\"#f0f921\"]],\"type\":\"histogram2d\"}],\"histogram2dcontour\":[{\"colorbar\":{\"outlinewidth\":0,\"ticks\":\"\"},\"colorscale\":[[0.0,\"#0d0887\"],[0.1111111111111111,\"#46039f\"],[0.2222222222222222,\"#7201a8\"],[0.3333333333333333,\"#9c179e\"],[0.4444444444444444,\"#bd3786\"],[0.5555555555555556,\"#d8576b\"],[0.6666666666666666,\"#ed7953\"],[0.7777777777777778,\"#fb9f3a\"],[0.8888888888888888,\"#fdca26\"],[1.0,\"#f0f921\"]],\"type\":\"histogram2dcontour\"}],\"mesh3d\":[{\"colorbar\":{\"outlinewidth\":0,\"ticks\":\"\"},\"type\":\"mesh3d\"}],\"parcoords\":[{\"line\":{\"colorbar\":{\"outlinewidth\":0,\"ticks\":\"\"}},\"type\":\"parcoords\"}],\"pie\":[{\"automargin\":true,\"type\":\"pie\"}],\"scatter\":[{\"marker\":{\"colorbar\":{\"outlinewidth\":0,\"ticks\":\"\"}},\"type\":\"scatter\"}],\"scatter3d\":[{\"line\":{\"colorbar\":{\"outlinewidth\":0,\"ticks\":\"\"}},\"marker\":{\"colorbar\":{\"outlinewidth\":0,\"ticks\":\"\"}},\"type\":\"scatter3d\"}],\"scattercarpet\":[{\"marker\":{\"colorbar\":{\"outlinewidth\":0,\"ticks\":\"\"}},\"type\":\"scattercarpet\"}],\"scattergeo\":[{\"marker\":{\"colorbar\":{\"outlinewidth\":0,\"ticks\":\"\"}},\"type\":\"scattergeo\"}],\"scattergl\":[{\"marker\":{\"colorbar\":{\"outlinewidth\":0,\"ticks\":\"\"}},\"type\":\"scattergl\"}],\"scattermapbox\":[{\"marker\":{\"colorbar\":{\"outlinewidth\":0,\"ticks\":\"\"}},\"type\":\"scattermapbox\"}],\"scatterpolar\":[{\"marker\":{\"colorbar\":{\"outlinewidth\":0,\"ticks\":\"\"}},\"type\":\"scatterpolar\"}],\"scatterpolargl\":[{\"marker\":{\"colorbar\":{\"outlinewidth\":0,\"ticks\":\"\"}},\"type\":\"scatterpolargl\"}],\"scatterternary\":[{\"marker\":{\"colorbar\":{\"outlinewidth\":0,\"ticks\":\"\"}},\"type\":\"scatterternary\"}],\"surface\":[{\"colorbar\":{\"outlinewidth\":0,\"ticks\":\"\"},\"colorscale\":[[0.0,\"#0d0887\"],[0.1111111111111111,\"#46039f\"],[0.2222222222222222,\"#7201a8\"],[0.3333333333333333,\"#9c179e\"],[0.4444444444444444,\"#bd3786\"],[0.5555555555555556,\"#d8576b\"],[0.6666666666666666,\"#ed7953\"],[0.7777777777777778,\"#fb9f3a\"],[0.8888888888888888,\"#fdca26\"],[1.0,\"#f0f921\"]],\"type\":\"surface\"}],\"table\":[{\"cells\":{\"fill\":{\"color\":\"#EBF0F8\"},\"line\":{\"color\":\"white\"}},\"header\":{\"fill\":{\"color\":\"#C8D4E3\"},\"line\":{\"color\":\"white\"}},\"type\":\"table\"}]},\"layout\":{\"annotationdefaults\":{\"arrowcolor\":\"#2a3f5f\",\"arrowhead\":0,\"arrowwidth\":1},\"autotypenumbers\":\"strict\",\"coloraxis\":{\"colorbar\":{\"outlinewidth\":0,\"ticks\":\"\"}},\"colorscale\":{\"diverging\":[[0,\"#8e0152\"],[0.1,\"#c51b7d\"],[0.2,\"#de77ae\"],[0.3,\"#f1b6da\"],[0.4,\"#fde0ef\"],[0.5,\"#f7f7f7\"],[0.6,\"#e6f5d0\"],[0.7,\"#b8e186\"],[0.8,\"#7fbc41\"],[0.9,\"#4d9221\"],[1,\"#276419\"]],\"sequential\":[[0.0,\"#0d0887\"],[0.1111111111111111,\"#46039f\"],[0.2222222222222222,\"#7201a8\"],[0.3333333333333333,\"#9c179e\"],[0.4444444444444444,\"#bd3786\"],[0.5555555555555556,\"#d8576b\"],[0.6666666666666666,\"#ed7953\"],[0.7777777777777778,\"#fb9f3a\"],[0.8888888888888888,\"#fdca26\"],[1.0,\"#f0f921\"]],\"sequentialminus\":[[0.0,\"#0d0887\"],[0.1111111111111111,\"#46039f\"],[0.2222222222222222,\"#7201a8\"],[0.3333333333333333,\"#9c179e\"],[0.4444444444444444,\"#bd3786\"],[0.5555555555555556,\"#d8576b\"],[0.6666666666666666,\"#ed7953\"],[0.7777777777777778,\"#fb9f3a\"],[0.8888888888888888,\"#fdca26\"],[1.0,\"#f0f921\"]]},\"colorway\":[\"#636efa\",\"#EF553B\",\"#00cc96\",\"#ab63fa\",\"#FFA15A\",\"#19d3f3\",\"#FF6692\",\"#B6E880\",\"#FF97FF\",\"#FECB52\"],\"font\":{\"color\":\"#2a3f5f\"},\"geo\":{\"bgcolor\":\"white\",\"lakecolor\":\"white\",\"landcolor\":\"#E5ECF6\",\"showlakes\":true,\"showland\":true,\"subunitcolor\":\"white\"},\"hoverlabel\":{\"align\":\"left\"},\"hovermode\":\"closest\",\"mapbox\":{\"style\":\"light\"},\"paper_bgcolor\":\"white\",\"plot_bgcolor\":\"#E5ECF6\",\"polar\":{\"angularaxis\":{\"gridcolor\":\"white\",\"linecolor\":\"white\",\"ticks\":\"\"},\"bgcolor\":\"#E5ECF6\",\"radialaxis\":{\"gridcolor\":\"white\",\"linecolor\":\"white\",\"ticks\":\"\"}},\"scene\":{\"xaxis\":{\"backgroundcolor\":\"#E5ECF6\",\"gridcolor\":\"white\",\"gridwidth\":2,\"linecolor\":\"white\",\"showbackground\":true,\"ticks\":\"\",\"zerolinecolor\":\"white\"},\"yaxis\":{\"backgroundcolor\":\"#E5ECF6\",\"gridcolor\":\"white\",\"gridwidth\":2,\"linecolor\":\"white\",\"showbackground\":true,\"ticks\":\"\",\"zerolinecolor\":\"white\"},\"zaxis\":{\"backgroundcolor\":\"#E5ECF6\",\"gridcolor\":\"white\",\"gridwidth\":2,\"linecolor\":\"white\",\"showbackground\":true,\"ticks\":\"\",\"zerolinecolor\":\"white\"}},\"shapedefaults\":{\"line\":{\"color\":\"#2a3f5f\"}},\"ternary\":{\"aaxis\":{\"gridcolor\":\"white\",\"linecolor\":\"white\",\"ticks\":\"\"},\"baxis\":{\"gridcolor\":\"white\",\"linecolor\":\"white\",\"ticks\":\"\"},\"bgcolor\":\"#E5ECF6\",\"caxis\":{\"gridcolor\":\"white\",\"linecolor\":\"white\",\"ticks\":\"\"}},\"title\":{\"x\":0.05},\"xaxis\":{\"automargin\":true,\"gridcolor\":\"white\",\"linecolor\":\"white\",\"ticks\":\"\",\"title\":{\"standoff\":15},\"zerolinecolor\":\"white\",\"zerolinewidth\":2},\"yaxis\":{\"automargin\":true,\"gridcolor\":\"white\",\"linecolor\":\"white\",\"ticks\":\"\",\"title\":{\"standoff\":15},\"zerolinecolor\":\"white\",\"zerolinewidth\":2}}},\"xaxis\":{\"anchor\":\"y\",\"domain\":[0.0,1.0],\"title\":{\"text\":\"importances\"}},\"yaxis\":{\"anchor\":\"x\",\"domain\":[0.0,1.0],\"title\":{\"text\":\"index\"}},\"legend\":{\"tracegroupgap\":0},\"margin\":{\"t\":60},\"barmode\":\"relative\"},                        {\"responsive\": true}                    ).then(function(){\n",
              "                            \n",
              "var gd = document.getElementById('a9f00a4c-aadb-487c-8757-28eb6a7475e6');\n",
              "var x = new MutationObserver(function (mutations, observer) {{\n",
              "        var display = window.getComputedStyle(gd).display;\n",
              "        if (!display || display === 'none') {{\n",
              "            console.log([gd, 'removed!']);\n",
              "            Plotly.purge(gd);\n",
              "            observer.disconnect();\n",
              "        }}\n",
              "}});\n",
              "\n",
              "// Listen for the removal of the full notebook cells\n",
              "var notebookContainer = gd.closest('#notebook-container');\n",
              "if (notebookContainer) {{\n",
              "    x.observe(notebookContainer, {childList: true});\n",
              "}}\n",
              "\n",
              "// Listen for the clearing of the current output cell\n",
              "var outputEl = gd.closest('.output');\n",
              "if (outputEl) {{\n",
              "    x.observe(outputEl, {childList: true});\n",
              "}}\n",
              "\n",
              "                        })                };                            </script>        </div>\n",
              "</body>\n",
              "</html>"
            ]
          },
          "metadata": {}
        }
      ]
    },
    {
      "cell_type": "markdown",
      "metadata": {
        "id": "s8XEAuWTiAfb"
      },
      "source": [
        "2) Use “Permutation Importance” method to calculate the variables importance of your build\n",
        "neural networks. Present the results as a bar plot. Use from sklearn.inspection import permutation_importance. \n"
      ]
    },
    {
      "cell_type": "code",
      "execution_count": 106,
      "metadata": {
        "id": "kgD20IZek1TZ",
        "colab": {
          "base_uri": "https://localhost:8080/",
          "height": 661
        },
        "outputId": "98781269-ce36-48eb-8b68-39f3fafa72d8"
      },
      "outputs": [
        {
          "output_type": "stream",
          "name": "stdout",
          "text": [
            "4/4 [==============================] - 0s 5ms/step\n",
            "4/4 [==============================] - 0s 6ms/step\n",
            "4/4 [==============================] - 0s 5ms/step\n",
            "4/4 [==============================] - 0s 5ms/step\n",
            "4/4 [==============================] - 0s 5ms/step\n",
            "4/4 [==============================] - 0s 6ms/step\n",
            "4/4 [==============================] - 0s 10ms/step\n",
            "4/4 [==============================] - 0s 5ms/step\n",
            "4/4 [==============================] - 0s 6ms/step\n",
            "4/4 [==============================] - 0s 5ms/step\n",
            "4/4 [==============================] - 0s 4ms/step\n",
            "4/4 [==============================] - 0s 4ms/step\n",
            "4/4 [==============================] - 0s 4ms/step\n",
            "4/4 [==============================] - 0s 6ms/step\n",
            "4/4 [==============================] - 0s 6ms/step\n",
            "4/4 [==============================] - 0s 5ms/step\n",
            "4/4 [==============================] - 0s 4ms/step\n",
            "4/4 [==============================] - 0s 6ms/step\n",
            "4/4 [==============================] - 0s 4ms/step\n",
            "4/4 [==============================] - 0s 4ms/step\n",
            "4/4 [==============================] - 0s 4ms/step\n"
          ]
        },
        {
          "output_type": "display_data",
          "data": {
            "text/plain": [
              "<Figure size 432x288 with 1 Axes>"
            ],
            "image/png": "[encoded data removed]"
          },
          "metadata": {
            "needs_background": "light"
          }
        }
      ],
      "source": [
        "from sklearn.inspection import permutation_importance\n",
        "import plotly.express as px\n",
        "import matplotlib.pyplot as plt\n",
        "import tensorflow as tf\n",
        "np.random.seed(1)\n",
        "tf.random.set_seed(1)\n",
        "result = permutation_importance(model, X_test, test_labels)\n",
        "sorted_idx = result.importances_mean.argsort()\n",
        "fig, ax = plt.subplots()\n",
        "ax.barh(X_test.columns[sorted_idx], result.importances[sorted_idx].mean(axis=1).T)\n",
        "ax.set_title(\"Permutation Importances (test set)\")\n",
        "fig.tight_layout()\n",
        "plt.show()"
      ]
    },
    {
      "cell_type": "markdown",
      "metadata": {
        "id": "BtcCPwRtD6jJ"
      },
      "source": [
        "3) Take linear regression results of interpretability, which correspond to model coefficients\n",
        "from assignment 1. Compare the results of three considered explainability methods with\n",
        "coefficient of linear regression. .\n"
      ]
    },
    {
      "cell_type": "code",
      "execution_count": 92,
      "metadata": {
        "id": "6pL_daTXD6jJ",
        "colab": {
          "base_uri": "https://localhost:8080/"
        },
        "outputId": "2914388e-ca0b-483f-fe9a-5996715fd0a0"
      },
      "outputs": [
        {
          "output_type": "execute_result",
          "data": {
            "text/plain": [
              "array([[-10.60773104,  -7.83099606,  -7.38413279,   0.4501256 ]])"
            ]
          },
          "metadata": {},
          "execution_count": 92
        }
      ],
      "source": [
        "from sklearn.linear_model  import LogisticRegression\n",
        "reg = LogisticRegression()\n",
        "reg = reg.fit(X_train,y_train)\n",
        "reg.coef_"
      ]
    },
    {
      "cell_type": "markdown",
      "source": [
        "The coefficients of the linear regresion model can be explained with the result of the explainability methodes (importances and permutation)"
      ],
      "metadata": {
        "id": "UqVthhUFJ92n"
      }
    },
    {
      "cell_type": "markdown",
      "metadata": {
        "id": "cglGnzHED6jJ"
      },
      "source": [
        "4)\tThe dashboard should make interactive changes in the Tabs, depending on the values of control elements"
      ]
    },
    {
      "cell_type": "code",
      "source": [
        "!pip install catboost"
      ],
      "metadata": {
        "id": "tW3ekQkI7k07"
      },
      "execution_count": null,
      "outputs": []
    },
    {
      "cell_type": "code",
      "source": [
        "from catboost import CatBoostClassifier\n",
        "rf = CatBoostClassifier(verbose=0)\n",
        "rf.fit(X_train, y_train)\n",
        "df_feacture_importances = sorted(zip(map(lambda x: round(x, 4), rf.feature_importances_), X_train.columns),  reverse=True)\n",
        "importances = []\n",
        "features = []\n",
        "for value,feature in df_feacture_importances :\n",
        "    importances.append(value)\n",
        "    features.append(feature)\n",
        "df2 = pd.DataFrame(list(zip(importances,features)),columns=['importances','features'])\n",
        "fig = px.bar(df2, x='importances', y='features')\n",
        "fig.show()"
      ],
      "metadata": {
        "id": "-p0v7OUbDINL",
        "colab": {
          "base_uri": "https://localhost:8080/",
          "height": 542
        },
        "outputId": "75419547-b23f-4ea5-e6ab-fec7b8aa0a01"
      },
      "execution_count": 94,
      "outputs": [
        {
          "output_type": "display_data",
          "data": {
            "text/html": [
              "<html>\n",
              "<head><meta charset=\"utf-8\" /></head>\n",
              "<body>\n",
              "    <div>            <script src=\"https://cdnjs.cloudflare.com/ajax/libs/mathjax/2.7.5/MathJax.js?config=TeX-AMS-MML_SVG\"></script><script type=\"text/javascript\">if (window.MathJax) {MathJax.Hub.Config({SVG: {font: \"STIX-Web\"}});}</script>                <script type=\"text/javascript\">window.PlotlyConfig = {MathJaxConfig: 'local'};</script>\n",
              "        <script src=\"https://cdn.plot.ly/plotly-2.8.3.min.js\"></script>                <div id=\"f990bf6e-d5ed-47e8-9700-701cdda19bd1\" class=\"plotly-graph-div\" style=\"height:525px; width:100%;\"></div>            <script type=\"text/javascript\">                                    window.PLOTLYENV=window.PLOTLYENV || {};                                    if (document.getElementById(\"f990bf6e-d5ed-47e8-9700-701cdda19bd1\")) {                    Plotly.newPlot(                        \"f990bf6e-d5ed-47e8-9700-701cdda19bd1\",                        [{\"alignmentgroup\":\"True\",\"hovertemplate\":\"importances=%{x}<br>features=%{y}<extra></extra>\",\"legendgroup\":\"\",\"marker\":{\"color\":\"#636efa\",\"pattern\":{\"shape\":\"\"}},\"name\":\"\",\"offsetgroup\":\"\",\"orientation\":\"h\",\"showlegend\":false,\"textposition\":\"auto\",\"x\":[40.3611,33.7549,21.1132,4.7709],\"xaxis\":\"x\",\"y\":[\"VarianceWT\",\"SkewnessWT\",\"CurtosisWT\",\"Image Entropy\"],\"yaxis\":\"y\",\"type\":\"bar\"}],                        {\"template\":{\"data\":{\"bar\":[{\"error_x\":{\"color\":\"#2a3f5f\"},\"error_y\":{\"color\":\"#2a3f5f\"},\"marker\":{\"line\":{\"color\":\"#E5ECF6\",\"width\":0.5},\"pattern\":{\"fillmode\":\"overlay\",\"size\":10,\"solidity\":0.2}},\"type\":\"bar\"}],\"barpolar\":[{\"marker\":{\"line\":{\"color\":\"#E5ECF6\",\"width\":0.5},\"pattern\":{\"fillmode\":\"overlay\",\"size\":10,\"solidity\":0.2}},\"type\":\"barpolar\"}],\"carpet\":[{\"aaxis\":{\"endlinecolor\":\"#2a3f5f\",\"gridcolor\":\"white\",\"linecolor\":\"white\",\"minorgridcolor\":\"white\",\"startlinecolor\":\"#2a3f5f\"},\"baxis\":{\"endlinecolor\":\"#2a3f5f\",\"gridcolor\":\"white\",\"linecolor\":\"white\",\"minorgridcolor\":\"white\",\"startlinecolor\":\"#2a3f5f\"},\"type\":\"carpet\"}],\"choropleth\":[{\"colorbar\":{\"outlinewidth\":0,\"ticks\":\"\"},\"type\":\"choropleth\"}],\"contour\":[{\"colorbar\":{\"outlinewidth\":0,\"ticks\":\"\"},\"colorscale\":[[0.0,\"#0d0887\"],[0.1111111111111111,\"#46039f\"],[0.2222222222222222,\"#7201a8\"],[0.3333333333333333,\"#9c179e\"],[0.4444444444444444,\"#bd3786\"],[0.5555555555555556,\"#d8576b\"],[0.6666666666666666,\"#ed7953\"],[0.7777777777777778,\"#fb9f3a\"],[0.8888888888888888,\"#fdca26\"],[1.0,\"#f0f921\"]],\"type\":\"contour\"}],\"contourcarpet\":[{\"colorbar\":{\"outlinewidth\":0,\"ticks\":\"\"},\"type\":\"contourcarpet\"}],\"heatmap\":[{\"colorbar\":{\"outlinewidth\":0,\"ticks\":\"\"},\"colorscale\":[[0.0,\"#0d0887\"],[0.1111111111111111,\"#46039f\"],[0.2222222222222222,\"#7201a8\"],[0.3333333333333333,\"#9c179e\"],[0.4444444444444444,\"#bd3786\"],[0.5555555555555556,\"#d8576b\"],[0.6666666666666666,\"#ed7953\"],[0.7777777777777778,\"#fb9f3a\"],[0.8888888888888888,\"#fdca26\"],[1.0,\"#f0f921\"]],\"type\":\"heatmap\"}],\"heatmapgl\":[{\"colorbar\":{\"outlinewidth\":0,\"ticks\":\"\"},\"colorscale\":[[0.0,\"#0d0887\"],[0.1111111111111111,\"#46039f\"],[0.2222222222222222,\"#7201a8\"],[0.3333333333333333,\"#9c179e\"],[0.4444444444444444,\"#bd3786\"],[0.5555555555555556,\"#d8576b\"],[0.6666666666666666,\"#ed7953\"],[0.7777777777777778,\"#fb9f3a\"],[0.8888888888888888,\"#fdca26\"],[1.0,\"#f0f921\"]],\"type\":\"heatmapgl\"}],\"histogram\":[{\"marker\":{\"pattern\":{\"fillmode\":\"overlay\",\"size\":10,\"solidity\":0.2}},\"type\":\"histogram\"}],\"histogram2d\":[{\"colorbar\":{\"outlinewidth\":0,\"ticks\":\"\"},\"colorscale\":[[0.0,\"#0d0887\"],[0.1111111111111111,\"#46039f\"],[0.2222222222222222,\"#7201a8\"],[0.3333333333333333,\"#9c179e\"],[0.4444444444444444,\"#bd3786\"],[0.5555555555555556,\"#d8576b\"],[0.6666666666666666,\"#ed7953\"],[0.7777777777777778,\"#fb9f3a\"],[0.8888888888888888,\"#fdca26\"],[1.0,\"#f0f921\"]],\"type\":\"histogram2d\"}],\"histogram2dcontour\":[{\"colorbar\":{\"outlinewidth\":0,\"ticks\":\"\"},\"colorscale\":[[0.0,\"#0d0887\"],[0.1111111111111111,\"#46039f\"],[0.2222222222222222,\"#7201a8\"],[0.3333333333333333,\"#9c179e\"],[0.4444444444444444,\"#bd3786\"],[0.5555555555555556,\"#d8576b\"],[0.6666666666666666,\"#ed7953\"],[0.7777777777777778,\"#fb9f3a\"],[0.8888888888888888,\"#fdca26\"],[1.0,\"#f0f921\"]],\"type\":\"histogram2dcontour\"}],\"mesh3d\":[{\"colorbar\":{\"outlinewidth\":0,\"ticks\":\"\"},\"type\":\"mesh3d\"}],\"parcoords\":[{\"line\":{\"colorbar\":{\"outlinewidth\":0,\"ticks\":\"\"}},\"type\":\"parcoords\"}],\"pie\":[{\"automargin\":true,\"type\":\"pie\"}],\"scatter\":[{\"marker\":{\"colorbar\":{\"outlinewidth\":0,\"ticks\":\"\"}},\"type\":\"scatter\"}],\"scatter3d\":[{\"line\":{\"colorbar\":{\"outlinewidth\":0,\"ticks\":\"\"}},\"marker\":{\"colorbar\":{\"outlinewidth\":0,\"ticks\":\"\"}},\"type\":\"scatter3d\"}],\"scattercarpet\":[{\"marker\":{\"colorbar\":{\"outlinewidth\":0,\"ticks\":\"\"}},\"type\":\"scattercarpet\"}],\"scattergeo\":[{\"marker\":{\"colorbar\":{\"outlinewidth\":0,\"ticks\":\"\"}},\"type\":\"scattergeo\"}],\"scattergl\":[{\"marker\":{\"colorbar\":{\"outlinewidth\":0,\"ticks\":\"\"}},\"type\":\"scattergl\"}],\"scattermapbox\":[{\"marker\":{\"colorbar\":{\"outlinewidth\":0,\"ticks\":\"\"}},\"type\":\"scattermapbox\"}],\"scatterpolar\":[{\"marker\":{\"colorbar\":{\"outlinewidth\":0,\"ticks\":\"\"}},\"type\":\"scatterpolar\"}],\"scatterpolargl\":[{\"marker\":{\"colorbar\":{\"outlinewidth\":0,\"ticks\":\"\"}},\"type\":\"scatterpolargl\"}],\"scatterternary\":[{\"marker\":{\"colorbar\":{\"outlinewidth\":0,\"ticks\":\"\"}},\"type\":\"scatterternary\"}],\"surface\":[{\"colorbar\":{\"outlinewidth\":0,\"ticks\":\"\"},\"colorscale\":[[0.0,\"#0d0887\"],[0.1111111111111111,\"#46039f\"],[0.2222222222222222,\"#7201a8\"],[0.3333333333333333,\"#9c179e\"],[0.4444444444444444,\"#bd3786\"],[0.5555555555555556,\"#d8576b\"],[0.6666666666666666,\"#ed7953\"],[0.7777777777777778,\"#fb9f3a\"],[0.8888888888888888,\"#fdca26\"],[1.0,\"#f0f921\"]],\"type\":\"surface\"}],\"table\":[{\"cells\":{\"fill\":{\"color\":\"#EBF0F8\"},\"line\":{\"color\":\"white\"}},\"header\":{\"fill\":{\"color\":\"#C8D4E3\"},\"line\":{\"color\":\"white\"}},\"type\":\"table\"}]},\"layout\":{\"annotationdefaults\":{\"arrowcolor\":\"#2a3f5f\",\"arrowhead\":0,\"arrowwidth\":1},\"autotypenumbers\":\"strict\",\"coloraxis\":{\"colorbar\":{\"outlinewidth\":0,\"ticks\":\"\"}},\"colorscale\":{\"diverging\":[[0,\"#8e0152\"],[0.1,\"#c51b7d\"],[0.2,\"#de77ae\"],[0.3,\"#f1b6da\"],[0.4,\"#fde0ef\"],[0.5,\"#f7f7f7\"],[0.6,\"#e6f5d0\"],[0.7,\"#b8e186\"],[0.8,\"#7fbc41\"],[0.9,\"#4d9221\"],[1,\"#276419\"]],\"sequential\":[[0.0,\"#0d0887\"],[0.1111111111111111,\"#46039f\"],[0.2222222222222222,\"#7201a8\"],[0.3333333333333333,\"#9c179e\"],[0.4444444444444444,\"#bd3786\"],[0.5555555555555556,\"#d8576b\"],[0.6666666666666666,\"#ed7953\"],[0.7777777777777778,\"#fb9f3a\"],[0.8888888888888888,\"#fdca26\"],[1.0,\"#f0f921\"]],\"sequentialminus\":[[0.0,\"#0d0887\"],[0.1111111111111111,\"#46039f\"],[0.2222222222222222,\"#7201a8\"],[0.3333333333333333,\"#9c179e\"],[0.4444444444444444,\"#bd3786\"],[0.5555555555555556,\"#d8576b\"],[0.6666666666666666,\"#ed7953\"],[0.7777777777777778,\"#fb9f3a\"],[0.8888888888888888,\"#fdca26\"],[1.0,\"#f0f921\"]]},\"colorway\":[\"#636efa\",\"#EF553B\",\"#00cc96\",\"#ab63fa\",\"#FFA15A\",\"#19d3f3\",\"#FF6692\",\"#B6E880\",\"#FF97FF\",\"#FECB52\"],\"font\":{\"color\":\"#2a3f5f\"},\"geo\":{\"bgcolor\":\"white\",\"lakecolor\":\"white\",\"landcolor\":\"#E5ECF6\",\"showlakes\":true,\"showland\":true,\"subunitcolor\":\"white\"},\"hoverlabel\":{\"align\":\"left\"},\"hovermode\":\"closest\",\"mapbox\":{\"style\":\"light\"},\"paper_bgcolor\":\"white\",\"plot_bgcolor\":\"#E5ECF6\",\"polar\":{\"angularaxis\":{\"gridcolor\":\"white\",\"linecolor\":\"white\",\"ticks\":\"\"},\"bgcolor\":\"#E5ECF6\",\"radialaxis\":{\"gridcolor\":\"white\",\"linecolor\":\"white\",\"ticks\":\"\"}},\"scene\":{\"xaxis\":{\"backgroundcolor\":\"#E5ECF6\",\"gridcolor\":\"white\",\"gridwidth\":2,\"linecolor\":\"white\",\"showbackground\":true,\"ticks\":\"\",\"zerolinecolor\":\"white\"},\"yaxis\":{\"backgroundcolor\":\"#E5ECF6\",\"gridcolor\":\"white\",\"gridwidth\":2,\"linecolor\":\"white\",\"showbackground\":true,\"ticks\":\"\",\"zerolinecolor\":\"white\"},\"zaxis\":{\"backgroundcolor\":\"#E5ECF6\",\"gridcolor\":\"white\",\"gridwidth\":2,\"linecolor\":\"white\",\"showbackground\":true,\"ticks\":\"\",\"zerolinecolor\":\"white\"}},\"shapedefaults\":{\"line\":{\"color\":\"#2a3f5f\"}},\"ternary\":{\"aaxis\":{\"gridcolor\":\"white\",\"linecolor\":\"white\",\"ticks\":\"\"},\"baxis\":{\"gridcolor\":\"white\",\"linecolor\":\"white\",\"ticks\":\"\"},\"bgcolor\":\"#E5ECF6\",\"caxis\":{\"gridcolor\":\"white\",\"linecolor\":\"white\",\"ticks\":\"\"}},\"title\":{\"x\":0.05},\"xaxis\":{\"automargin\":true,\"gridcolor\":\"white\",\"linecolor\":\"white\",\"ticks\":\"\",\"title\":{\"standoff\":15},\"zerolinecolor\":\"white\",\"zerolinewidth\":2},\"yaxis\":{\"automargin\":true,\"gridcolor\":\"white\",\"linecolor\":\"white\",\"ticks\":\"\",\"title\":{\"standoff\":15},\"zerolinecolor\":\"white\",\"zerolinewidth\":2}}},\"xaxis\":{\"anchor\":\"y\",\"domain\":[0.0,1.0],\"title\":{\"text\":\"importances\"}},\"yaxis\":{\"anchor\":\"x\",\"domain\":[0.0,1.0],\"title\":{\"text\":\"features\"}},\"legend\":{\"tracegroupgap\":0},\"margin\":{\"t\":60},\"barmode\":\"relative\"},                        {\"responsive\": true}                    ).then(function(){\n",
              "                            \n",
              "var gd = document.getElementById('f990bf6e-d5ed-47e8-9700-701cdda19bd1');\n",
              "var x = new MutationObserver(function (mutations, observer) {{\n",
              "        var display = window.getComputedStyle(gd).display;\n",
              "        if (!display || display === 'none') {{\n",
              "            console.log([gd, 'removed!']);\n",
              "            Plotly.purge(gd);\n",
              "            observer.disconnect();\n",
              "        }}\n",
              "}});\n",
              "\n",
              "// Listen for the removal of the full notebook cells\n",
              "var notebookContainer = gd.closest('#notebook-container');\n",
              "if (notebookContainer) {{\n",
              "    x.observe(notebookContainer, {childList: true});\n",
              "}}\n",
              "\n",
              "// Listen for the clearing of the current output cell\n",
              "var outputEl = gd.closest('.output');\n",
              "if (outputEl) {{\n",
              "    x.observe(outputEl, {childList: true});\n",
              "}}\n",
              "\n",
              "                        })                };                            </script>        </div>\n",
              "</body>\n",
              "</html>"
            ]
          },
          "metadata": {}
        }
      ]
    },
    {
      "cell_type": "markdown",
      "source": [
        "# **`Task 3:“Evaluate the variable importance in your built deep neural network locally for several predictions” (10 scores) `**"
      ],
      "metadata": {
        "id": "5g1l-pNl7_rh"
      }
    },
    {
      "cell_type": "markdown",
      "source": [
        "1) Use “LIME” method to calculate the variables importance of your build neural networks\n",
        "locally for several instances of the dataset. Select the instances to predict according to your\n",
        "individual variant. Present the results as a bar plot. Use\n",
        "lime.lime_tabular.LimeTabularExplainer in mode=”classificationregression”."
      ],
      "metadata": {
        "id": "rq9i8YuC8WLI"
      }
    },
    {
      "cell_type": "code",
      "source": [
        "!pip install lime"
      ],
      "metadata": {
        "id": "Q4SECbhj8L7t"
      },
      "execution_count": null,
      "outputs": []
    },
    {
      "cell_type": "code",
      "execution_count": 96,
      "metadata": {
        "id": "Ed2hG8v1D6jK",
        "colab": {
          "base_uri": "https://localhost:8080/",
          "height": 686
        },
        "outputId": "90717eac-c5ea-4cf1-96ec-c8781df2dc99"
      },
      "outputs": [
        {
          "output_type": "stream",
          "name": "stdout",
          "text": [
            "125/125 [==============================] - 0s 2ms/step\n",
            "Intercept 0.5258189955236425\n",
            "Prediction_local [0.7682201]\n",
            "Right: 1\n",
            "125/125 [==============================] - 0s 2ms/step\n",
            "Intercept 0.7153454250590012\n",
            "Prediction_local [0.1670164]\n",
            "Right: 0\n"
          ]
        },
        {
          "output_type": "display_data",
          "data": {
            "text/plain": [
              "<Figure size 432x288 with 1 Axes>"
            ],
            "image/png": "[encoded data removed]"
          },
          "metadata": {}
        },
        {
          "output_type": "display_data",
          "data": {
            "text/plain": [
              "<Figure size 432x288 with 1 Axes>"
            ],
            "image/png": "[encoded data removed]"
          },
          "metadata": {}
        }
      ],
      "source": [
        "import lime\n",
        "import lime.lime_tabular\n",
        "explainer = lime.lime_tabular.LimeTabularExplainer(X_train.values, feature_names=X_train.columns.values.tolist(),\n",
        "                                                  class_names=['Class'], verbose=True, mode='regression')\n",
        "for idx in [1,2]:\n",
        "  explanation = explainer.explain_instance(X_test.iloc[idx], model.predict)\n",
        "  with plt.style.context(\"ggplot\"):\n",
        "      explanation.as_pyplot_figure()\n"
      ]
    },
    {
      "cell_type": "markdown",
      "source": [
        "# **`Task 4: “Evaluate how independent variables influence the target variables construction Partial-Dependence Plots (PDP)” (10 scores) `**"
      ],
      "metadata": {
        "id": "Pbkbv_yC8lTa"
      }
    },
    {
      "cell_type": "markdown",
      "source": [
        "3) Construct a PDP for each of the independent variables in your dataset. Use from sklearn.inspection import PartialDependenceDisplay. "
      ],
      "metadata": {
        "id": "IudjHCog8zXx"
      }
    },
    {
      "cell_type": "code",
      "source": [
        "from sklearn.inspection import PartialDependenceDisplay\n",
        "import matplotlib.pyplot as plt\n",
        "fig, ax = plt.subplots(figsize=(15, 15),constrained_layout=True)\n",
        "ax.set_title(\"Neuronal network Keras\")\n",
        "PartialDependenceDisplay.from_estimator(model, X_minMax_scale,X_train.columns.values.tolist(),ax=ax)"
      ],
      "metadata": {
        "id": "ZcLbDl-48kXS",
        "colab": {
          "base_uri": "https://localhost:8080/",
          "height": 1000
        },
        "outputId": "bc27f73d-ab4a-43d0-ff5b-041c58b820ab"
      },
      "execution_count": 97,
      "outputs": [
        {
          "output_type": "stream",
          "name": "stdout",
          "text": [
            "35/35 [==============================] - 0s 4ms/step\n",
            "35/35 [==============================] - 0s 3ms/step\n",
            "35/35 [==============================] - 0s 5ms/step\n",
            "35/35 [==============================] - 0s 3ms/step\n",
            "35/35 [==============================] - 0s 5ms/step\n",
            "35/35 [==============================] - 0s 5ms/step\n",
            "35/35 [==============================] - 0s 4ms/step\n",
            "35/35 [==============================] - 0s 3ms/step\n",
            "35/35 [==============================] - 0s 4ms/step\n",
            "35/35 [==============================] - 0s 2ms/step\n",
            "35/35 [==============================] - 0s 3ms/step\n",
            "35/35 [==============================] - 0s 2ms/step\n",
            "35/35 [==============================] - 0s 4ms/step\n",
            "35/35 [==============================] - 0s 2ms/step\n",
            "35/35 [==============================] - 0s 2ms/step\n",
            "35/35 [==============================] - 0s 2ms/step\n",
            "35/35 [==============================] - 0s 4ms/step\n",
            "35/35 [==============================] - 0s 4ms/step\n",
            "35/35 [==============================] - 0s 2ms/step\n",
            "35/35 [==============================] - 0s 5ms/step\n",
            "35/35 [==============================] - 0s 5ms/step\n",
            "35/35 [==============================] - 0s 3ms/step\n",
            "35/35 [==============================] - 0s 4ms/step\n",
            "35/35 [==============================] - 0s 3ms/step\n",
            "35/35 [==============================] - 0s 5ms/step\n",
            "35/35 [==============================] - 0s 3ms/step\n",
            "35/35 [==============================] - 0s 3ms/step\n",
            "35/35 [==============================] - 0s 3ms/step\n",
            "35/35 [==============================] - 0s 2ms/step\n",
            "35/35 [==============================] - 0s 3ms/step\n",
            "35/35 [==============================] - 0s 5ms/step\n",
            "35/35 [==============================] - 0s 5ms/step\n",
            "35/35 [==============================] - 0s 3ms/step\n",
            "35/35 [==============================] - 0s 2ms/step\n",
            "35/35 [==============================] - 0s 2ms/step\n",
            "35/35 [==============================] - 0s 4ms/step\n",
            "35/35 [==============================] - 0s 3ms/step\n",
            "35/35 [==============================] - 0s 3ms/step\n",
            "35/35 [==============================] - 0s 4ms/step\n",
            "35/35 [==============================] - 0s 5ms/step\n",
            "35/35 [==============================] - 0s 6ms/step\n",
            "35/35 [==============================] - 0s 3ms/step\n",
            "35/35 [==============================] - 0s 2ms/step\n",
            "35/35 [==============================] - 0s 2ms/step\n",
            "35/35 [==============================] - 0s 2ms/step\n",
            "35/35 [==============================] - 0s 2ms/step\n",
            "35/35 [==============================] - 0s 3ms/step\n",
            "35/35 [==============================] - 0s 2ms/step\n",
            "35/35 [==============================] - 0s 2ms/step\n",
            "35/35 [==============================] - 0s 3ms/step\n",
            "35/35 [==============================] - 0s 4ms/step\n",
            "35/35 [==============================] - 0s 4ms/step\n",
            "35/35 [==============================] - 0s 5ms/step\n",
            "35/35 [==============================] - 0s 2ms/step\n",
            "35/35 [==============================] - 0s 3ms/step\n",
            "35/35 [==============================] - 0s 4ms/step\n",
            "35/35 [==============================] - 0s 4ms/step\n",
            "35/35 [==============================] - 0s 3ms/step\n",
            "35/35 [==============================] - 0s 3ms/step\n",
            "35/35 [==============================] - 0s 4ms/step\n",
            "35/35 [==============================] - 0s 3ms/step\n",
            "35/35 [==============================] - 0s 3ms/step\n",
            "35/35 [==============================] - 0s 4ms/step\n",
            "35/35 [==============================] - 0s 4ms/step\n",
            "35/35 [==============================] - 0s 3ms/step\n",
            "35/35 [==============================] - 0s 4ms/step\n",
            "35/35 [==============================] - 0s 3ms/step\n",
            "35/35 [==============================] - 0s 3ms/step\n",
            "35/35 [==============================] - 0s 3ms/step\n",
            "35/35 [==============================] - 0s 3ms/step\n",
            "35/35 [==============================] - 0s 4ms/step\n",
            "35/35 [==============================] - 0s 4ms/step\n",
            "35/35 [==============================] - 0s 3ms/step\n",
            "35/35 [==============================] - 0s 3ms/step\n",
            "35/35 [==============================] - 0s 3ms/step\n",
            "35/35 [==============================] - 0s 5ms/step\n",
            "35/35 [==============================] - 0s 3ms/step\n",
            "35/35 [==============================] - 0s 2ms/step\n",
            "35/35 [==============================] - 0s 1ms/step\n",
            "35/35 [==============================] - 0s 1ms/step\n",
            "35/35 [==============================] - 0s 2ms/step\n",
            "35/35 [==============================] - 0s 2ms/step\n",
            "35/35 [==============================] - 0s 2ms/step\n",
            "35/35 [==============================] - 0s 2ms/step\n",
            "35/35 [==============================] - 0s 1ms/step\n",
            "35/35 [==============================] - 0s 2ms/step\n",
            "35/35 [==============================] - 0s 1ms/step\n",
            "35/35 [==============================] - 0s 1ms/step\n",
            "35/35 [==============================] - 0s 1ms/step\n",
            "35/35 [==============================] - 0s 2ms/step\n",
            "35/35 [==============================] - 0s 2ms/step\n",
            "35/35 [==============================] - 0s 2ms/step\n",
            "35/35 [==============================] - 0s 1ms/step\n",
            "35/35 [==============================] - 0s 1ms/step\n",
            "35/35 [==============================] - 0s 1ms/step\n",
            "35/35 [==============================] - 0s 1ms/step\n",
            "35/35 [==============================] - 0s 1ms/step\n",
            "35/35 [==============================] - 0s 1ms/step\n",
            "35/35 [==============================] - 0s 2ms/step\n",
            "35/35 [==============================] - 0s 2ms/step\n",
            "35/35 [==============================] - 0s 1ms/step\n",
            "35/35 [==============================] - 0s 1ms/step\n",
            "35/35 [==============================] - 0s 1ms/step\n",
            "35/35 [==============================] - 0s 2ms/step\n",
            "35/35 [==============================] - 0s 1ms/step\n",
            "35/35 [==============================] - 0s 2ms/step\n",
            "35/35 [==============================] - 0s 1ms/step\n",
            "35/35 [==============================] - 0s 1ms/step\n",
            "35/35 [==============================] - 0s 1ms/step\n",
            "35/35 [==============================] - 0s 1ms/step\n",
            "35/35 [==============================] - 0s 1ms/step\n",
            "35/35 [==============================] - 0s 1ms/step\n",
            "35/35 [==============================] - 0s 1ms/step\n",
            "35/35 [==============================] - 0s 1ms/step\n",
            "35/35 [==============================] - 0s 1ms/step\n",
            "35/35 [==============================] - 0s 1ms/step\n",
            "35/35 [==============================] - 0s 2ms/step\n",
            "35/35 [==============================] - 0s 1ms/step\n",
            "35/35 [==============================] - 0s 3ms/step\n",
            "35/35 [==============================] - 0s 5ms/step\n",
            "35/35 [==============================] - 0s 4ms/step\n",
            "35/35 [==============================] - 0s 4ms/step\n",
            "35/35 [==============================] - 0s 2ms/step\n",
            "35/35 [==============================] - 0s 4ms/step\n",
            "35/35 [==============================] - 0s 3ms/step\n",
            "35/35 [==============================] - 0s 2ms/step\n",
            "35/35 [==============================] - 0s 3ms/step\n",
            "35/35 [==============================] - 0s 4ms/step\n",
            "35/35 [==============================] - 0s 3ms/step\n",
            "35/35 [==============================] - 0s 5ms/step\n",
            "35/35 [==============================] - 0s 3ms/step\n",
            "35/35 [==============================] - 0s 3ms/step\n",
            "35/35 [==============================] - 0s 4ms/step\n",
            "35/35 [==============================] - 0s 3ms/step\n",
            "35/35 [==============================] - 0s 4ms/step\n",
            "35/35 [==============================] - 0s 5ms/step\n",
            "35/35 [==============================] - 0s 2ms/step\n",
            "35/35 [==============================] - 0s 4ms/step\n",
            "35/35 [==============================] - 0s 3ms/step\n",
            "35/35 [==============================] - 0s 2ms/step\n",
            "35/35 [==============================] - 0s 3ms/step\n",
            "35/35 [==============================] - 0s 2ms/step\n",
            "35/35 [==============================] - 0s 3ms/step\n",
            "35/35 [==============================] - 0s 4ms/step\n",
            "35/35 [==============================] - 0s 2ms/step\n",
            "35/35 [==============================] - 0s 2ms/step\n",
            "35/35 [==============================] - 0s 3ms/step\n",
            "35/35 [==============================] - 0s 4ms/step\n",
            "35/35 [==============================] - 0s 7ms/step\n",
            "35/35 [==============================] - 0s 6ms/step\n",
            "35/35 [==============================] - 0s 3ms/step\n",
            "35/35 [==============================] - 0s 2ms/step\n",
            "35/35 [==============================] - 0s 3ms/step\n",
            "35/35 [==============================] - 0s 3ms/step\n",
            "35/35 [==============================] - 0s 3ms/step\n",
            "35/35 [==============================] - 0s 3ms/step\n",
            "35/35 [==============================] - 0s 3ms/step\n",
            "35/35 [==============================] - 0s 3ms/step\n",
            "35/35 [==============================] - 0s 5ms/step\n",
            "35/35 [==============================] - 0s 3ms/step\n",
            "35/35 [==============================] - 0s 3ms/step\n",
            "35/35 [==============================] - 0s 4ms/step\n",
            "35/35 [==============================] - 0s 6ms/step\n",
            "35/35 [==============================] - 0s 4ms/step\n",
            "35/35 [==============================] - 0s 5ms/step\n",
            "35/35 [==============================] - 0s 3ms/step\n",
            "35/35 [==============================] - 0s 4ms/step\n",
            "35/35 [==============================] - 0s 4ms/step\n",
            "35/35 [==============================] - 0s 5ms/step\n",
            "35/35 [==============================] - 0s 4ms/step\n",
            "35/35 [==============================] - 0s 4ms/step\n",
            "35/35 [==============================] - 0s 4ms/step\n",
            "35/35 [==============================] - 0s 6ms/step\n",
            "35/35 [==============================] - 0s 5ms/step\n",
            "35/35 [==============================] - 0s 4ms/step\n",
            "35/35 [==============================] - 0s 6ms/step\n",
            "35/35 [==============================] - 0s 4ms/step\n",
            "35/35 [==============================] - 0s 3ms/step\n",
            "35/35 [==============================] - 0s 1ms/step\n",
            "35/35 [==============================] - 0s 1ms/step\n",
            "35/35 [==============================] - 0s 1ms/step\n",
            "35/35 [==============================] - 0s 1ms/step\n",
            "35/35 [==============================] - 0s 2ms/step\n",
            "35/35 [==============================] - 0s 2ms/step\n",
            "35/35 [==============================] - 0s 1ms/step\n",
            "35/35 [==============================] - 0s 1ms/step\n",
            "35/35 [==============================] - 0s 1ms/step\n",
            "35/35 [==============================] - 0s 1ms/step\n",
            "35/35 [==============================] - 0s 1ms/step\n",
            "35/35 [==============================] - 0s 1ms/step\n",
            "35/35 [==============================] - 0s 1ms/step\n",
            "35/35 [==============================] - 0s 2ms/step\n",
            "35/35 [==============================] - 0s 1ms/step\n",
            "35/35 [==============================] - 0s 2ms/step\n",
            "35/35 [==============================] - 0s 1ms/step\n",
            "35/35 [==============================] - 0s 1ms/step\n",
            "35/35 [==============================] - 0s 1ms/step\n",
            "35/35 [==============================] - 0s 1ms/step\n",
            "35/35 [==============================] - 0s 2ms/step\n",
            "35/35 [==============================] - 0s 1ms/step\n",
            "35/35 [==============================] - 0s 1ms/step\n",
            "35/35 [==============================] - 0s 1ms/step\n",
            "35/35 [==============================] - 0s 1ms/step\n",
            "35/35 [==============================] - 0s 1ms/step\n",
            "35/35 [==============================] - 0s 1ms/step\n",
            "35/35 [==============================] - 0s 2ms/step\n",
            "35/35 [==============================] - 0s 2ms/step\n",
            "35/35 [==============================] - 0s 1ms/step\n",
            "35/35 [==============================] - 0s 2ms/step\n",
            "35/35 [==============================] - 0s 1ms/step\n",
            "35/35 [==============================] - 0s 2ms/step\n",
            "35/35 [==============================] - 0s 2ms/step\n",
            "35/35 [==============================] - 0s 1ms/step\n",
            "35/35 [==============================] - 0s 2ms/step\n",
            "35/35 [==============================] - 0s 1ms/step\n",
            "35/35 [==============================] - 0s 1ms/step\n",
            "35/35 [==============================] - 0s 2ms/step\n",
            "35/35 [==============================] - 0s 1ms/step\n",
            "35/35 [==============================] - 0s 2ms/step\n",
            "35/35 [==============================] - 0s 1ms/step\n",
            "35/35 [==============================] - 0s 2ms/step\n",
            "35/35 [==============================] - 0s 1ms/step\n",
            "35/35 [==============================] - 0s 1ms/step\n",
            "35/35 [==============================] - 0s 1ms/step\n",
            "35/35 [==============================] - 0s 1ms/step\n",
            "35/35 [==============================] - 0s 2ms/step\n",
            "35/35 [==============================] - 0s 2ms/step\n",
            "35/35 [==============================] - 0s 1ms/step\n",
            "35/35 [==============================] - 0s 1ms/step\n",
            "35/35 [==============================] - 0s 1ms/step\n",
            "35/35 [==============================] - 0s 2ms/step\n",
            "35/35 [==============================] - 0s 2ms/step\n",
            "35/35 [==============================] - 0s 1ms/step\n",
            "35/35 [==============================] - 0s 2ms/step\n",
            "35/35 [==============================] - 0s 2ms/step\n",
            "35/35 [==============================] - 0s 2ms/step\n",
            "35/35 [==============================] - 0s 1ms/step\n",
            "35/35 [==============================] - 0s 2ms/step\n",
            "35/35 [==============================] - 0s 1ms/step\n",
            "35/35 [==============================] - 0s 1ms/step\n",
            "35/35 [==============================] - 0s 1ms/step\n",
            "35/35 [==============================] - 0s 2ms/step\n",
            "35/35 [==============================] - 0s 1ms/step\n",
            "35/35 [==============================] - 0s 1ms/step\n",
            "35/35 [==============================] - 0s 1ms/step\n",
            "35/35 [==============================] - 0s 1ms/step\n",
            "35/35 [==============================] - 0s 2ms/step\n",
            "35/35 [==============================] - 0s 1ms/step\n",
            "35/35 [==============================] - 0s 1ms/step\n",
            "35/35 [==============================] - 0s 1ms/step\n",
            "35/35 [==============================] - 0s 1ms/step\n",
            "35/35 [==============================] - 0s 2ms/step\n",
            "35/35 [==============================] - 0s 1ms/step\n",
            "35/35 [==============================] - 0s 1ms/step\n",
            "35/35 [==============================] - 0s 1ms/step\n",
            "35/35 [==============================] - 0s 2ms/step\n",
            "35/35 [==============================] - 0s 1ms/step\n",
            "35/35 [==============================] - 0s 2ms/step\n",
            "35/35 [==============================] - 0s 1ms/step\n",
            "35/35 [==============================] - 0s 1ms/step\n",
            "35/35 [==============================] - 0s 1ms/step\n",
            "35/35 [==============================] - 0s 1ms/step\n",
            "35/35 [==============================] - 0s 1ms/step\n",
            "35/35 [==============================] - 0s 1ms/step\n",
            "35/35 [==============================] - 0s 2ms/step\n",
            "35/35 [==============================] - 0s 1ms/step\n",
            "35/35 [==============================] - 0s 1ms/step\n",
            "35/35 [==============================] - 0s 1ms/step\n",
            "35/35 [==============================] - 0s 2ms/step\n",
            "35/35 [==============================] - 0s 1ms/step\n",
            "35/35 [==============================] - 0s 2ms/step\n",
            "35/35 [==============================] - 0s 1ms/step\n",
            "35/35 [==============================] - 0s 1ms/step\n",
            "35/35 [==============================] - 0s 2ms/step\n",
            "35/35 [==============================] - 0s 1ms/step\n",
            "35/35 [==============================] - 0s 1ms/step\n",
            "35/35 [==============================] - 0s 2ms/step\n",
            "35/35 [==============================] - 0s 1ms/step\n",
            "35/35 [==============================] - 0s 1ms/step\n",
            "35/35 [==============================] - 0s 1ms/step\n",
            "35/35 [==============================] - 0s 1ms/step\n",
            "35/35 [==============================] - 0s 2ms/step\n",
            "35/35 [==============================] - 0s 2ms/step\n",
            "35/35 [==============================] - 0s 2ms/step\n",
            "35/35 [==============================] - 0s 2ms/step\n",
            "35/35 [==============================] - 0s 2ms/step\n",
            "35/35 [==============================] - 0s 1ms/step\n",
            "35/35 [==============================] - 0s 2ms/step\n",
            "35/35 [==============================] - 0s 1ms/step\n",
            "35/35 [==============================] - 0s 1ms/step\n",
            "35/35 [==============================] - 0s 2ms/step\n",
            "35/35 [==============================] - 0s 2ms/step\n",
            "35/35 [==============================] - 0s 1ms/step\n",
            "35/35 [==============================] - 0s 1ms/step\n",
            "35/35 [==============================] - 0s 1ms/step\n",
            "35/35 [==============================] - 0s 2ms/step\n",
            "35/35 [==============================] - 0s 1ms/step\n",
            "35/35 [==============================] - 0s 2ms/step\n",
            "35/35 [==============================] - 0s 2ms/step\n",
            "35/35 [==============================] - 0s 2ms/step\n",
            "35/35 [==============================] - 0s 2ms/step\n",
            "35/35 [==============================] - 0s 1ms/step\n",
            "35/35 [==============================] - 0s 1ms/step\n",
            "35/35 [==============================] - 0s 1ms/step\n",
            "35/35 [==============================] - 0s 2ms/step\n",
            "35/35 [==============================] - 0s 1ms/step\n",
            "35/35 [==============================] - 0s 1ms/step\n",
            "35/35 [==============================] - 0s 2ms/step\n",
            "35/35 [==============================] - 0s 1ms/step\n",
            "35/35 [==============================] - 0s 2ms/step\n",
            "35/35 [==============================] - 0s 2ms/step\n",
            "35/35 [==============================] - 0s 1ms/step\n",
            "35/35 [==============================] - 0s 2ms/step\n",
            "35/35 [==============================] - 0s 2ms/step\n",
            "35/35 [==============================] - 0s 1ms/step\n",
            "35/35 [==============================] - 0s 1ms/step\n",
            "35/35 [==============================] - 0s 2ms/step\n",
            "35/35 [==============================] - 0s 2ms/step\n",
            "35/35 [==============================] - 0s 2ms/step\n",
            "35/35 [==============================] - 0s 2ms/step\n",
            "35/35 [==============================] - 0s 3ms/step\n",
            "35/35 [==============================] - 0s 2ms/step\n",
            "35/35 [==============================] - 0s 3ms/step\n",
            "35/35 [==============================] - 0s 2ms/step\n",
            "35/35 [==============================] - 0s 1ms/step\n",
            "35/35 [==============================] - 0s 1ms/step\n",
            "35/35 [==============================] - 0s 1ms/step\n",
            "35/35 [==============================] - 0s 1ms/step\n",
            "35/35 [==============================] - 0s 2ms/step\n",
            "35/35 [==============================] - 0s 2ms/step\n",
            "35/35 [==============================] - 0s 1ms/step\n",
            "35/35 [==============================] - 0s 1ms/step\n",
            "35/35 [==============================] - 0s 1ms/step\n",
            "35/35 [==============================] - 0s 2ms/step\n",
            "35/35 [==============================] - 0s 1ms/step\n",
            "35/35 [==============================] - 0s 1ms/step\n",
            "35/35 [==============================] - 0s 1ms/step\n",
            "35/35 [==============================] - 0s 2ms/step\n",
            "35/35 [==============================] - 0s 1ms/step\n",
            "35/35 [==============================] - 0s 1ms/step\n",
            "35/35 [==============================] - 0s 1ms/step\n",
            "35/35 [==============================] - 0s 2ms/step\n",
            "35/35 [==============================] - 0s 1ms/step\n",
            "35/35 [==============================] - 0s 2ms/step\n",
            "35/35 [==============================] - 0s 1ms/step\n",
            "35/35 [==============================] - 0s 2ms/step\n",
            "35/35 [==============================] - 0s 2ms/step\n",
            "35/35 [==============================] - 0s 2ms/step\n",
            "35/35 [==============================] - 0s 1ms/step\n",
            "35/35 [==============================] - 0s 1ms/step\n",
            "35/35 [==============================] - 0s 2ms/step\n",
            "35/35 [==============================] - 0s 2ms/step\n",
            "35/35 [==============================] - 0s 2ms/step\n",
            "35/35 [==============================] - 0s 1ms/step\n",
            "35/35 [==============================] - 0s 2ms/step\n",
            "35/35 [==============================] - 0s 2ms/step\n",
            "35/35 [==============================] - 0s 1ms/step\n",
            "35/35 [==============================] - 0s 1ms/step\n",
            "35/35 [==============================] - 0s 2ms/step\n",
            "35/35 [==============================] - 0s 2ms/step\n",
            "35/35 [==============================] - 0s 2ms/step\n",
            "35/35 [==============================] - 0s 1ms/step\n",
            "35/35 [==============================] - 0s 1ms/step\n",
            "35/35 [==============================] - 0s 1ms/step\n",
            "35/35 [==============================] - 0s 2ms/step\n",
            "35/35 [==============================] - 0s 1ms/step\n",
            "35/35 [==============================] - 0s 2ms/step\n",
            "35/35 [==============================] - 0s 1ms/step\n",
            "35/35 [==============================] - 0s 1ms/step\n",
            "35/35 [==============================] - 0s 2ms/step\n",
            "35/35 [==============================] - 0s 2ms/step\n",
            "35/35 [==============================] - 0s 2ms/step\n",
            "35/35 [==============================] - 0s 1ms/step\n",
            "35/35 [==============================] - 0s 2ms/step\n",
            "35/35 [==============================] - 0s 1ms/step\n",
            "35/35 [==============================] - 0s 2ms/step\n",
            "35/35 [==============================] - 0s 2ms/step\n",
            "35/35 [==============================] - 0s 2ms/step\n",
            "35/35 [==============================] - 0s 1ms/step\n",
            "35/35 [==============================] - 0s 2ms/step\n",
            "35/35 [==============================] - 0s 2ms/step\n",
            "35/35 [==============================] - 0s 2ms/step\n",
            "35/35 [==============================] - 0s 1ms/step\n",
            "35/35 [==============================] - 0s 1ms/step\n",
            "35/35 [==============================] - 0s 2ms/step\n",
            "35/35 [==============================] - 0s 1ms/step\n",
            "35/35 [==============================] - 0s 2ms/step\n",
            "35/35 [==============================] - 0s 1ms/step\n",
            "35/35 [==============================] - 0s 1ms/step\n",
            "35/35 [==============================] - 0s 1ms/step\n",
            "35/35 [==============================] - 0s 2ms/step\n",
            "35/35 [==============================] - 0s 2ms/step\n",
            "35/35 [==============================] - 0s 1ms/step\n",
            "35/35 [==============================] - 0s 1ms/step\n",
            "35/35 [==============================] - 0s 1ms/step\n",
            "35/35 [==============================] - 0s 2ms/step\n",
            "35/35 [==============================] - 0s 2ms/step\n",
            "35/35 [==============================] - 0s 2ms/step\n",
            "35/35 [==============================] - 0s 2ms/step\n",
            "35/35 [==============================] - 0s 1ms/step\n"
          ]
        },
        {
          "output_type": "execute_result",
          "data": {
            "text/plain": [
              "<sklearn.inspection._plot.partial_dependence.PartialDependenceDisplay at 0x7f34e6fc1690>"
            ]
          },
          "metadata": {},
          "execution_count": 97
        },
        {
          "output_type": "display_data",
          "data": {
            "text/plain": [
              "<Figure size 1080x1080 with 7 Axes>"
            ],
            "image/png": "[encoded data removed]"
          },
          "metadata": {
            "needs_background": "light"
          }
        }
      ]
    }
  ],
  "metadata": {
    "colab": {
      "collapsed_sections": [
        "-7gSS1NBA3Hz"
      ],
      "name": "Classification_template3.ipynb",
      "provenance": []
    },
    "kernelspec": {
      "display_name": "Python 3 (ipykernel)",
      "language": "python",
      "name": "python3"
    },
    "language_info": {
      "codemirror_mode": {
        "name": "ipython",
        "version": 3
      },
      "file_extension": ".py",
      "mimetype": "text/x-python",
      "name": "python",
      "nbconvert_exporter": "python",
      "pygments_lexer": "ipython3",
      "version": "3.9.7"
    }
  },
  "nbformat": 4,
  "nbformat_minor": 0
}